{
 "cells": [
  {
   "cell_type": "markdown",
   "metadata": {},
   "source": [
    "# Centrality"
   ]
  },
  {
   "cell_type": "markdown",
   "metadata": {},
   "source": [
    "In this notebook, we will compute vertex centrality scores using the various cuGraph algorithms.  We will then compare the similarities and differences.\n",
    "\n",
    "| Author Credit |    Date    |  Update      | cuGraph Version |  Test Hardware |\n",
    "| --------------|------------|--------------|-----------------|----------------|\n",
    "| Brad Rees     | 04/16/2021 | created      | 0.19            | GV100, CUDA 11.0\n",
    "\n"
   ]
  },
  {
   "cell_type": "markdown",
   "metadata": {},
   "source": [
    "Centrality is measure of how important, or central, a node or edge is within a graph.  It is useful for identifying influencer in social networks, key routing nodes in communication/computer network infrastructures, \n",
    "\n",
    "The seminal paper on centrality is:  Freeman, L. C. (1978). Centrality in social networks conceptual clarification. Social networks, 1(3), 215-239.\n",
    "\n",
    "\n",
    "__Degree centrality – done but need new API__ <br>\n",
    "Degree centrality is based on the notion that whoever has the most connects must be important.   \n",
    "\n",
    "<center>\n",
    "    Cd(v) = degree(v)\n",
    "</center>\n",
    "\n",
    "cuGraph currently does not have a DegreeCentrality function call. However, since Degree Centrality is just the degree of a vertex, we can use _G.degree()_ function.\n",
    "Degree Centrality for a Directed graph can be further divided in _indegree centrality_ and _outdegree centrality_ and can be obtained using _G.degrees()_\n",
    "\n",
    "\n",
    "__Closeness centrality – coming soon__ <br>\n",
    "Closeness is a measure of the shortest path to every other node in the graph.  A node that is close to every other node, can reach over other node is the fewest number of hops, means that it has greater influence on the network versus a node that is not close.\n",
    "\n",
    "__Betweenness Centrality__ <br>\n",
    "Betweenness is a measure of the number of shortest paths that cross through a vertex, or over an edge.  A node with high betweenness means that it had a greater influence on the flow of information.  \n",
    "\n",
    "Betweenness centrality of a node 𝑣 is the sum of the fraction of all-pairs shortest paths that pass through 𝑣\n",
    "\n",
    "<center>\n",
    "    <img src=\"https://latex.codecogs.com/png.latex?c_B(v)&space;=\\sum_{s,t&space;\\in&space;V}&space;\\frac{\\sigma(s,&space;t|v)}{\\sigma(s,&space;t)}\" title=\"c_B(v) =\\sum_{s,t \\in V} \\frac{\\sigma(s, t|v)}{\\sigma(s, t)}\" />\n",
    "</center>\n",
    "\n",
    "To speedup runtime of betweenness centrailty, the metric can be computed for a limited number of seed and then used to estimate the other scores.  For this example, the graphs are relatively smalled (under 5,000 vertices) so betweenness on every vertice will be computed.\n",
    "\n",
    "__Eigenvector Centrality - comming soon__ <br>\n",
    "I like to think of Eigenvectors as the balancing points of a graph, or center of gravity of a 3D object.  High centrality means that more of the graph is balanced around that node.\n",
    "\n",
    "__Katz Centrality__ <br>\n",
    "Katz is a variant of degree centrality and of eigenvector centrality. \n",
    "Katz centrality is a measure of the relative importance of a vertex within the graph based on measuring the influence across the total number of walks between vertex pairs. \n",
    "\n",
    "<center>\n",
    "    <img src=\"https://latex.codecogs.com/gif.latex?C_{katz}(i)&space;=&space;\\sum_{k=1}^{\\infty}&space;\\sum_{j=1}^{n}&space;\\alpha&space;^k(A^k)_{ji}\" title=\"C_{katz}(i) = \\sum_{k=1}^{\\infty} \\sum_{j=1}^{n} \\alpha ^k(A^k)_{ji}\" />\n",
    "</center>\n",
    "\n",
    "See:\n",
    "* [Katz on Wikipedia](https://en.wikipedia.org/wiki/Katz_centrality) for more details on the algorithm.\n",
    "* https://www.sci.unich.it/~francesc/teaching/network/katz.html\n",
    "\n",
    "__PageRank Centrality__ <br>\n",
    "PageRank is classified as both a Link Analysis tool and a centrality measure.  PageRank is based on the assumption that important nodes point (directed edge) to other important nodes.  From a social network perspective, the question is who do you seek for an answer and then who does that person seek.  PageRank is good when there is implied importance in the data, for example a citation network, web page linkages, or trust networks.    \n"
   ]
  },
  {
   "cell_type": "markdown",
   "metadata": {},
   "source": [
    "### Test Data\n",
    "We will be using the Zachary Karate club dataset \n",
    "*W. W. Zachary, An information flow model for conflict and fission in small groups, Journal of\n",
    "Anthropological Research 33, 452-473 (1977).*\n",
    "\n",
    "\n",
    "![Karate Club](../img/zachary_black_lines.png)\n",
    "\n",
    "\n",
    "Because the test data has vertex IDs starting at 1, the auto-renumber feature of cuGraph (mentioned above) will be used so the starting vertex ID is zero for maximum efficiency. The resulting data will then be auto-unrenumbered, making the entire renumbering process transparent to users."
   ]
  },
  {
   "cell_type": "code",
   "execution_count": 1,
   "metadata": {},
   "outputs": [],
   "source": [
    "#  Import the modules\n",
    "import cugraph\n",
    "import cudf"
   ]
  },
  {
   "cell_type": "code",
   "execution_count": 2,
   "metadata": {},
   "outputs": [],
   "source": [
    "import numpy as np\n",
    "import pandas as pd   \n",
    "from IPython.display import display_html "
   ]
  },
  {
   "cell_type": "markdown",
   "metadata": {},
   "source": [
    "### Functions"
   ]
  },
  {
   "cell_type": "code",
   "execution_count": 3,
   "metadata": {},
   "outputs": [],
   "source": [
    "# Compute Centrality\n",
    "# the centrality calls are very straight forwards with the graph being the primary argument\n",
    "# we are using the default argument values for all centrality functions\n",
    "\n",
    "def compute_centrality(_graph) :\n",
    "    # Compute Degree Centrality\n",
    "    _d = _graph.degree()\n",
    "        \n",
    "    # Comnpute the Betweenness Centrality\n",
    "    _b = cugraph.betweenness_centrality(_graph)\n",
    "\n",
    "    # Compute Katz Centrality\n",
    "    _k = cugraph.katz_centrality(_graph)\n",
    "    \n",
    "    # Compute PageRank Centrality\n",
    "    _p = cugraph.pagerank(_graph)\n",
    "    \n",
    "    return _d, _b, _k, _p"
   ]
  },
  {
   "cell_type": "code",
   "execution_count": 4,
   "metadata": {},
   "outputs": [],
   "source": [
    "# Print function\n",
    "# being lazy and requiring that the dataframe names are not changed versus passing them in\n",
    "def print_centrality(n):\n",
    "    dc_top = dc.sort_values(by='degree', ascending=False).head(n).to_pandas()\n",
    "    bc_top = bc.sort_values(by='betweenness_centrality', ascending=False).head(n).to_pandas()\n",
    "    katz_top = katz.sort_values(by='katz_centrality', ascending=False).head(n).to_pandas()\n",
    "    pr_top = pr.sort_values(by='pagerank', ascending=False).head(n).to_pandas()\n",
    "    \n",
    "    df1_styler = dc_top.style.set_table_attributes(\"style='display:inline'\").set_caption('Degree').hide_index()\n",
    "    df2_styler = bc_top.style.set_table_attributes(\"style='display:inline'\").set_caption('Betweenness').hide_index()\n",
    "    df3_styler = katz_top.style.set_table_attributes(\"style='display:inline'\").set_caption('Katz').hide_index()\n",
    "    df4_styler = pr_top.style.set_table_attributes(\"style='display:inline'\").set_caption('PageRank').hide_index()\n",
    "\n",
    "    display_html(df1_styler._repr_html_()+df2_styler._repr_html_()+df3_styler._repr_html_()+df4_styler._repr_html_(), raw=True)"
   ]
  },
  {
   "cell_type": "code",
   "execution_count": null,
   "metadata": {},
   "outputs": [],
   "source": []
  },
  {
   "cell_type": "markdown",
   "metadata": {},
   "source": [
    "## Read the data"
   ]
  },
  {
   "cell_type": "code",
   "execution_count": 5,
   "metadata": {},
   "outputs": [],
   "source": [
    "# Define the path to the test data  \n",
    "datafile='../data/karate-data.csv'"
   ]
  },
  {
   "cell_type": "markdown",
   "metadata": {},
   "source": [
    "cuGraph does not do any data reading or writing and is dependent on other tools for that, with cuDF being the preferred solution.   \n",
    "\n",
    "The data file contains an edge list, which represents the connection of a vertex to another.  The `source` to `destination` pairs is in what is known as Coordinate Format (COO).  In this test case, the data is just two columns.  However a third, `weight`, column is also possible"
   ]
  },
  {
   "cell_type": "code",
   "execution_count": 6,
   "metadata": {},
   "outputs": [],
   "source": [
    "gdf = cudf.read_csv(datafile, delimiter='\\t', names=['src', 'dst'], dtype=['int32', 'int32'] )"
   ]
  },
  {
   "cell_type": "markdown",
   "metadata": {},
   "source": [
    "it was that easy to load data"
   ]
  },
  {
   "cell_type": "markdown",
   "metadata": {},
   "source": [
    "## Create a Graph"
   ]
  },
  {
   "cell_type": "code",
   "execution_count": 7,
   "metadata": {},
   "outputs": [],
   "source": [
    "# create a Graph using the source (src) and destination (dst) vertex pairs from the Dataframe \n",
    "G = cugraph.Graph()\n",
    "G.from_cudf_edgelist(gdf, source='src', destination='dst')"
   ]
  },
  {
   "cell_type": "markdown",
   "metadata": {},
   "source": [
    "## Compute Centrality"
   ]
  },
  {
   "cell_type": "code",
   "execution_count": 8,
   "metadata": {},
   "outputs": [],
   "source": [
    "dc, bc, katz, pr = compute_centrality(G)"
   ]
  },
  {
   "cell_type": "markdown",
   "metadata": {},
   "source": [
    "### Results\n",
    "Typically, analyst look just at the top 10% of results.  Basically just those vertices that are the most central or important.  \n",
    "The karate data has 32 vertices, so let's round a little and look at the top 5 vertices"
   ]
  },
  {
   "cell_type": "code",
   "execution_count": 9,
   "metadata": {},
   "outputs": [
    {
     "data": {
      "text/html": [
       "<style  type=\"text/css\" >\n",
       "</style><table id=\"T_1dec0_\" style='display:inline'><caption>Degree</caption><thead>    <tr>        <th class=\"col_heading level0 col0\" >degree</th>        <th class=\"col_heading level0 col1\" >vertex</th>    </tr></thead><tbody>\n",
       "                <tr>\n",
       "                                <td id=\"T_1dec0_row0_col0\" class=\"data row0 col0\" >34</td>\n",
       "                        <td id=\"T_1dec0_row0_col1\" class=\"data row0 col1\" >34</td>\n",
       "            </tr>\n",
       "            <tr>\n",
       "                                <td id=\"T_1dec0_row1_col0\" class=\"data row1 col0\" >32</td>\n",
       "                        <td id=\"T_1dec0_row1_col1\" class=\"data row1 col1\" >1</td>\n",
       "            </tr>\n",
       "            <tr>\n",
       "                                <td id=\"T_1dec0_row2_col0\" class=\"data row2 col0\" >24</td>\n",
       "                        <td id=\"T_1dec0_row2_col1\" class=\"data row2 col1\" >33</td>\n",
       "            </tr>\n",
       "            <tr>\n",
       "                                <td id=\"T_1dec0_row3_col0\" class=\"data row3 col0\" >20</td>\n",
       "                        <td id=\"T_1dec0_row3_col1\" class=\"data row3 col1\" >3</td>\n",
       "            </tr>\n",
       "            <tr>\n",
       "                                <td id=\"T_1dec0_row4_col0\" class=\"data row4 col0\" >18</td>\n",
       "                        <td id=\"T_1dec0_row4_col1\" class=\"data row4 col1\" >2</td>\n",
       "            </tr>\n",
       "    </tbody></table><style  type=\"text/css\" >\n",
       "</style><table id=\"T_8d49b_\" style='display:inline'><caption>Betweenness</caption><thead>    <tr>        <th class=\"col_heading level0 col0\" >betweenness_centrality</th>        <th class=\"col_heading level0 col1\" >vertex</th>    </tr></thead><tbody>\n",
       "                <tr>\n",
       "                                <td id=\"T_8d49b_row0_col0\" class=\"data row0 col0\" >0.437635</td>\n",
       "                        <td id=\"T_8d49b_row0_col1\" class=\"data row0 col1\" >1</td>\n",
       "            </tr>\n",
       "            <tr>\n",
       "                                <td id=\"T_8d49b_row1_col0\" class=\"data row1 col0\" >0.304075</td>\n",
       "                        <td id=\"T_8d49b_row1_col1\" class=\"data row1 col1\" >34</td>\n",
       "            </tr>\n",
       "            <tr>\n",
       "                                <td id=\"T_8d49b_row2_col0\" class=\"data row2 col0\" >0.145247</td>\n",
       "                        <td id=\"T_8d49b_row2_col1\" class=\"data row2 col1\" >33</td>\n",
       "            </tr>\n",
       "            <tr>\n",
       "                                <td id=\"T_8d49b_row3_col0\" class=\"data row3 col0\" >0.143657</td>\n",
       "                        <td id=\"T_8d49b_row3_col1\" class=\"data row3 col1\" >3</td>\n",
       "            </tr>\n",
       "            <tr>\n",
       "                                <td id=\"T_8d49b_row4_col0\" class=\"data row4 col0\" >0.138276</td>\n",
       "                        <td id=\"T_8d49b_row4_col1\" class=\"data row4 col1\" >32</td>\n",
       "            </tr>\n",
       "    </tbody></table><style  type=\"text/css\" >\n",
       "</style><table id=\"T_e811c_\" style='display:inline'><caption>Katz</caption><thead>    <tr>        <th class=\"col_heading level0 col0\" >katz_centrality</th>        <th class=\"col_heading level0 col1\" >vertex</th>    </tr></thead><tbody>\n",
       "                <tr>\n",
       "                                <td id=\"T_e811c_row0_col0\" class=\"data row0 col0\" >0.436256</td>\n",
       "                        <td id=\"T_e811c_row0_col1\" class=\"data row0 col1\" >34</td>\n",
       "            </tr>\n",
       "            <tr>\n",
       "                                <td id=\"T_e811c_row1_col0\" class=\"data row1 col0\" >0.418408</td>\n",
       "                        <td id=\"T_e811c_row1_col1\" class=\"data row1 col1\" >1</td>\n",
       "            </tr>\n",
       "            <tr>\n",
       "                                <td id=\"T_e811c_row2_col0\" class=\"data row2 col0\" >0.328650</td>\n",
       "                        <td id=\"T_e811c_row2_col1\" class=\"data row2 col1\" >33</td>\n",
       "            </tr>\n",
       "            <tr>\n",
       "                                <td id=\"T_e811c_row3_col0\" class=\"data row3 col0\" >0.296005</td>\n",
       "                        <td id=\"T_e811c_row3_col1\" class=\"data row3 col1\" >3</td>\n",
       "            </tr>\n",
       "            <tr>\n",
       "                                <td id=\"T_e811c_row4_col0\" class=\"data row4 col0\" >0.256614</td>\n",
       "                        <td id=\"T_e811c_row4_col1\" class=\"data row4 col1\" >2</td>\n",
       "            </tr>\n",
       "    </tbody></table><style  type=\"text/css\" >\n",
       "</style><table id=\"T_9b496_\" style='display:inline'><caption>PageRank</caption><thead>    <tr>        <th class=\"col_heading level0 col0\" >pagerank</th>        <th class=\"col_heading level0 col1\" >vertex</th>    </tr></thead><tbody>\n",
       "                <tr>\n",
       "                                <td id=\"T_9b496_row0_col0\" class=\"data row0 col0\" >0.100917</td>\n",
       "                        <td id=\"T_9b496_row0_col1\" class=\"data row0 col1\" >34</td>\n",
       "            </tr>\n",
       "            <tr>\n",
       "                                <td id=\"T_9b496_row1_col0\" class=\"data row1 col0\" >0.096999</td>\n",
       "                        <td id=\"T_9b496_row1_col1\" class=\"data row1 col1\" >1</td>\n",
       "            </tr>\n",
       "            <tr>\n",
       "                                <td id=\"T_9b496_row2_col0\" class=\"data row2 col0\" >0.071692</td>\n",
       "                        <td id=\"T_9b496_row2_col1\" class=\"data row2 col1\" >33</td>\n",
       "            </tr>\n",
       "            <tr>\n",
       "                                <td id=\"T_9b496_row3_col0\" class=\"data row3 col0\" >0.057078</td>\n",
       "                        <td id=\"T_9b496_row3_col1\" class=\"data row3 col1\" >3</td>\n",
       "            </tr>\n",
       "            <tr>\n",
       "                                <td id=\"T_9b496_row4_col0\" class=\"data row4 col0\" >0.052877</td>\n",
       "                        <td id=\"T_9b496_row4_col1\" class=\"data row4 col1\" >2</td>\n",
       "            </tr>\n",
       "    </tbody></table>"
      ]
     },
     "metadata": {},
     "output_type": "display_data"
    }
   ],
   "source": [
    "print_centrality(5)"
   ]
  },
  {
   "cell_type": "markdown",
   "metadata": {},
   "source": [
    "### A Different Dataset\n",
    "The Karate dataset is not that large or complex, which makes it a perfect test dataset since it is easy to visually verufy results.  Let's look at a larger dataset with a lot more edges"
   ]
  },
  {
   "cell_type": "code",
   "execution_count": 10,
   "metadata": {},
   "outputs": [],
   "source": [
    "# Define the path to the test data  \n",
    "datafile='../data/netscience.csv'\n",
    "\n",
    "gdf = cudf.read_csv(datafile, delimiter=' ', names=['src', 'dst', 'wt'], dtype=['int32', 'int32', 'float'] )"
   ]
  },
  {
   "cell_type": "code",
   "execution_count": 11,
   "metadata": {},
   "outputs": [],
   "source": [
    "# create a Graph using the source (src) and destination (dst) vertex pairs from the Dataframe \n",
    "G = cugraph.Graph()\n",
    "G.from_cudf_edgelist(gdf, source='src', destination='dst')"
   ]
  },
  {
   "cell_type": "code",
   "execution_count": 12,
   "metadata": {},
   "outputs": [
    {
     "data": {
      "text/plain": [
       "(1461, 2742)"
      ]
     },
     "execution_count": 12,
     "metadata": {},
     "output_type": "execute_result"
    }
   ],
   "source": [
    "(G.number_of_nodes(), G.number_of_edges())"
   ]
  },
  {
   "cell_type": "code",
   "execution_count": 13,
   "metadata": {},
   "outputs": [],
   "source": [
    "dc, bc, katz, pr = compute_centrality(G)"
   ]
  },
  {
   "cell_type": "code",
   "execution_count": 14,
   "metadata": {},
   "outputs": [
    {
     "data": {
      "text/html": [
       "<style  type=\"text/css\" >\n",
       "</style><table id=\"T_13685_\" style='display:inline'><caption>Degree</caption><thead>    <tr>        <th class=\"col_heading level0 col0\" >degree</th>        <th class=\"col_heading level0 col1\" >vertex</th>    </tr></thead><tbody>\n",
       "                <tr>\n",
       "                                <td id=\"T_13685_row0_col0\" class=\"data row0 col0\" >68</td>\n",
       "                        <td id=\"T_13685_row0_col1\" class=\"data row0 col1\" >33</td>\n",
       "            </tr>\n",
       "            <tr>\n",
       "                                <td id=\"T_13685_row1_col0\" class=\"data row1 col0\" >54</td>\n",
       "                        <td id=\"T_13685_row1_col1\" class=\"data row1 col1\" >34</td>\n",
       "            </tr>\n",
       "            <tr>\n",
       "                                <td id=\"T_13685_row2_col0\" class=\"data row2 col0\" >54</td>\n",
       "                        <td id=\"T_13685_row2_col1\" class=\"data row2 col1\" >78</td>\n",
       "            </tr>\n",
       "            <tr>\n",
       "                                <td id=\"T_13685_row3_col0\" class=\"data row3 col0\" >42</td>\n",
       "                        <td id=\"T_13685_row3_col1\" class=\"data row3 col1\" >54</td>\n",
       "            </tr>\n",
       "            <tr>\n",
       "                                <td id=\"T_13685_row4_col0\" class=\"data row4 col0\" >40</td>\n",
       "                        <td id=\"T_13685_row4_col1\" class=\"data row4 col1\" >294</td>\n",
       "            </tr>\n",
       "    </tbody></table><style  type=\"text/css\" >\n",
       "</style><table id=\"T_e137c_\" style='display:inline'><caption>Betweenness</caption><thead>    <tr>        <th class=\"col_heading level0 col0\" >betweenness_centrality</th>        <th class=\"col_heading level0 col1\" >vertex</th>    </tr></thead><tbody>\n",
       "                <tr>\n",
       "                                <td id=\"T_e137c_row0_col0\" class=\"data row0 col0\" >0.026572</td>\n",
       "                        <td id=\"T_e137c_row0_col1\" class=\"data row0 col1\" >78</td>\n",
       "            </tr>\n",
       "            <tr>\n",
       "                                <td id=\"T_e137c_row1_col0\" class=\"data row1 col0\" >0.023090</td>\n",
       "                        <td id=\"T_e137c_row1_col1\" class=\"data row1 col1\" >150</td>\n",
       "            </tr>\n",
       "            <tr>\n",
       "                                <td id=\"T_e137c_row2_col0\" class=\"data row2 col0\" >0.019135</td>\n",
       "                        <td id=\"T_e137c_row2_col1\" class=\"data row2 col1\" >516</td>\n",
       "            </tr>\n",
       "            <tr>\n",
       "                                <td id=\"T_e137c_row3_col0\" class=\"data row3 col0\" >0.018074</td>\n",
       "                        <td id=\"T_e137c_row3_col1\" class=\"data row3 col1\" >281</td>\n",
       "            </tr>\n",
       "            <tr>\n",
       "                                <td id=\"T_e137c_row4_col0\" class=\"data row4 col0\" >0.017088</td>\n",
       "                        <td id=\"T_e137c_row4_col1\" class=\"data row4 col1\" >216</td>\n",
       "            </tr>\n",
       "    </tbody></table><style  type=\"text/css\" >\n",
       "</style><table id=\"T_8c7df_\" style='display:inline'><caption>Katz</caption><thead>    <tr>        <th class=\"col_heading level0 col0\" >katz_centrality</th>        <th class=\"col_heading level0 col1\" >vertex</th>    </tr></thead><tbody>\n",
       "                <tr>\n",
       "                                <td id=\"T_8c7df_row0_col0\" class=\"data row0 col0\" >0.150696</td>\n",
       "                        <td id=\"T_8c7df_row0_col1\" class=\"data row0 col1\" >33</td>\n",
       "            </tr>\n",
       "            <tr>\n",
       "                                <td id=\"T_8c7df_row1_col0\" class=\"data row1 col0\" >0.148142</td>\n",
       "                        <td id=\"T_8c7df_row1_col1\" class=\"data row1 col1\" >1429</td>\n",
       "            </tr>\n",
       "            <tr>\n",
       "                                <td id=\"T_8c7df_row2_col0\" class=\"data row2 col0\" >0.148142</td>\n",
       "                        <td id=\"T_8c7df_row2_col1\" class=\"data row2 col1\" >1430</td>\n",
       "            </tr>\n",
       "            <tr>\n",
       "                                <td id=\"T_8c7df_row3_col0\" class=\"data row3 col0\" >0.148142</td>\n",
       "                        <td id=\"T_8c7df_row3_col1\" class=\"data row3 col1\" >1431</td>\n",
       "            </tr>\n",
       "            <tr>\n",
       "                                <td id=\"T_8c7df_row4_col0\" class=\"data row4 col0\" >0.144147</td>\n",
       "                        <td id=\"T_8c7df_row4_col1\" class=\"data row4 col1\" >645</td>\n",
       "            </tr>\n",
       "    </tbody></table><style  type=\"text/css\" >\n",
       "</style><table id=\"T_1587f_\" style='display:inline'><caption>PageRank</caption><thead>    <tr>        <th class=\"col_heading level0 col0\" >pagerank</th>        <th class=\"col_heading level0 col1\" >vertex</th>    </tr></thead><tbody>\n",
       "                <tr>\n",
       "                                <td id=\"T_1587f_row0_col0\" class=\"data row0 col0\" >0.004183</td>\n",
       "                        <td id=\"T_1587f_row0_col1\" class=\"data row0 col1\" >78</td>\n",
       "            </tr>\n",
       "            <tr>\n",
       "                                <td id=\"T_1587f_row1_col0\" class=\"data row1 col0\" >0.003771</td>\n",
       "                        <td id=\"T_1587f_row1_col1\" class=\"data row1 col1\" >33</td>\n",
       "            </tr>\n",
       "            <tr>\n",
       "                                <td id=\"T_1587f_row2_col0\" class=\"data row2 col0\" >0.002800</td>\n",
       "                        <td id=\"T_1587f_row2_col1\" class=\"data row2 col1\" >34</td>\n",
       "            </tr>\n",
       "            <tr>\n",
       "                                <td id=\"T_1587f_row3_col0\" class=\"data row3 col0\" >0.002387</td>\n",
       "                        <td id=\"T_1587f_row3_col1\" class=\"data row3 col1\" >281</td>\n",
       "            </tr>\n",
       "            <tr>\n",
       "                                <td id=\"T_1587f_row4_col0\" class=\"data row4 col0\" >0.002373</td>\n",
       "                        <td id=\"T_1587f_row4_col1\" class=\"data row4 col1\" >294</td>\n",
       "            </tr>\n",
       "    </tbody></table>"
      ]
     },
     "metadata": {},
     "output_type": "display_data"
    }
   ],
   "source": [
    "print_centrality(5)"
   ]
  },
  {
   "cell_type": "markdown",
   "metadata": {},
   "source": [
    "We can now see a large discrepancy in which each algorithm thinks is the most important vertex.\n",
    "Which one is really the most central is left to the analyst to decied and does require insight into the difference in the centrality algorithms."
   ]
  },
  {
   "cell_type": "code",
   "execution_count": 15,
   "metadata": {},
   "outputs": [],
   "source": [
    "### And One More Dataset\n",
    "Let's look at a Cyber dataset.  The vertex ID are IP addresses"
   ]
  },
  {
   "cell_type": "code",
   "execution_count": 39,
   "metadata": {},
   "outputs": [],
   "source": [
    "# Define the path to the test data  \n",
    "datafile='../data/cyber.csv'\n",
    "\n",
    "gdf = cudf.read_csv(datafile, delimiter=',', names=['idx', 'src', 'dst'], dtype=['int32', 'str', 'str'] )"
   ]
  },
  {
   "cell_type": "code",
   "execution_count": 42,
   "metadata": {},
   "outputs": [],
   "source": [
    "# create a Graph using the source (src) and destination (dst) vertex pairs from the Dataframe \n",
    "G = cugraph.Graph()\n",
    "G.from_cudf_edgelist(gdf, source='src', destination='dst')"
   ]
  },
  {
   "cell_type": "code",
   "execution_count": 43,
   "metadata": {},
   "outputs": [
    {
     "data": {
      "text/plain": [
       "(54, 174)"
      ]
     },
     "execution_count": 43,
     "metadata": {},
     "output_type": "execute_result"
    }
   ],
   "source": [
    "(G.number_of_nodes(), G.number_of_edges())"
   ]
  },
  {
   "cell_type": "code",
   "execution_count": 44,
   "metadata": {},
   "outputs": [],
   "source": [
    "dc, bc, katz, pr = compute_centrality(G)"
   ]
  },
  {
   "cell_type": "code",
   "execution_count": 45,
   "metadata": {},
   "outputs": [
    {
     "data": {
      "text/html": [
       "<style  type=\"text/css\" >\n",
       "</style><table id=\"T_b7eb6_\" style='display:inline'><caption>Degree</caption><thead>    <tr>        <th class=\"col_heading level0 col0\" >degree</th>        <th class=\"col_heading level0 col1\" >vertex</th>    </tr></thead><tbody>\n",
       "                <tr>\n",
       "                                <td id=\"T_b7eb6_row0_col0\" class=\"data row0 col0\" >26</td>\n",
       "                        <td id=\"T_b7eb6_row0_col1\" class=\"data row0 col1\" >175.45.176.1</td>\n",
       "            </tr>\n",
       "            <tr>\n",
       "                                <td id=\"T_b7eb6_row1_col0\" class=\"data row1 col0\" >26</td>\n",
       "                        <td id=\"T_b7eb6_row1_col1\" class=\"data row1 col1\" >175.45.176.3</td>\n",
       "            </tr>\n",
       "            <tr>\n",
       "                                <td id=\"T_b7eb6_row2_col0\" class=\"data row2 col0\" >26</td>\n",
       "                        <td id=\"T_b7eb6_row2_col1\" class=\"data row2 col1\" >175.45.176.0</td>\n",
       "            </tr>\n",
       "            <tr>\n",
       "                                <td id=\"T_b7eb6_row3_col0\" class=\"data row3 col0\" >26</td>\n",
       "                        <td id=\"T_b7eb6_row3_col1\" class=\"data row3 col1\" >175.45.176.2</td>\n",
       "            </tr>\n",
       "            <tr>\n",
       "                                <td id=\"T_b7eb6_row4_col0\" class=\"data row4 col0\" >22</td>\n",
       "                        <td id=\"T_b7eb6_row4_col1\" class=\"data row4 col1\" >149.171.126.6</td>\n",
       "            </tr>\n",
       "    </tbody></table><style  type=\"text/css\" >\n",
       "</style><table id=\"T_59d39_\" style='display:inline'><caption>Betweenness</caption><thead>    <tr>        <th class=\"col_heading level0 col0\" >betweenness_centrality</th>        <th class=\"col_heading level0 col1\" >vertex</th>    </tr></thead><tbody>\n",
       "                <tr>\n",
       "                                <td id=\"T_59d39_row0_col0\" class=\"data row0 col0\" >0.112091</td>\n",
       "                        <td id=\"T_59d39_row0_col1\" class=\"data row0 col1\" >10.40.85.1</td>\n",
       "            </tr>\n",
       "            <tr>\n",
       "                                <td id=\"T_59d39_row1_col0\" class=\"data row1 col0\" >0.052250</td>\n",
       "                        <td id=\"T_59d39_row1_col1\" class=\"data row1 col1\" >224.0.0.5</td>\n",
       "            </tr>\n",
       "            <tr>\n",
       "                                <td id=\"T_59d39_row2_col0\" class=\"data row2 col0\" >0.048621</td>\n",
       "                        <td id=\"T_59d39_row2_col1\" class=\"data row2 col1\" >10.40.182.1</td>\n",
       "            </tr>\n",
       "            <tr>\n",
       "                                <td id=\"T_59d39_row3_col0\" class=\"data row3 col0\" >0.033745</td>\n",
       "                        <td id=\"T_59d39_row3_col1\" class=\"data row3 col1\" >175.45.176.1</td>\n",
       "            </tr>\n",
       "            <tr>\n",
       "                                <td id=\"T_59d39_row4_col0\" class=\"data row4 col0\" >0.033745</td>\n",
       "                        <td id=\"T_59d39_row4_col1\" class=\"data row4 col1\" >175.45.176.3</td>\n",
       "            </tr>\n",
       "    </tbody></table><style  type=\"text/css\" >\n",
       "</style><table id=\"T_28f35_\" style='display:inline'><caption>Katz</caption><thead>    <tr>        <th class=\"col_heading level0 col0\" >katz_centrality</th>        <th class=\"col_heading level0 col1\" >vertex</th>    </tr></thead><tbody>\n",
       "                <tr>\n",
       "                                <td id=\"T_28f35_row0_col0\" class=\"data row0 col0\" >0.213361</td>\n",
       "                        <td id=\"T_28f35_row0_col1\" class=\"data row0 col1\" >149.171.126.6</td>\n",
       "            </tr>\n",
       "            <tr>\n",
       "                                <td id=\"T_28f35_row1_col0\" class=\"data row1 col0\" >0.206289</td>\n",
       "                        <td id=\"T_28f35_row1_col1\" class=\"data row1 col1\" >59.166.0.4</td>\n",
       "            </tr>\n",
       "            <tr>\n",
       "                                <td id=\"T_28f35_row2_col0\" class=\"data row2 col0\" >0.206289</td>\n",
       "                        <td id=\"T_28f35_row2_col1\" class=\"data row2 col1\" >59.166.0.1</td>\n",
       "            </tr>\n",
       "            <tr>\n",
       "                                <td id=\"T_28f35_row3_col0\" class=\"data row3 col0\" >0.206289</td>\n",
       "                        <td id=\"T_28f35_row3_col1\" class=\"data row3 col1\" >59.166.0.5</td>\n",
       "            </tr>\n",
       "            <tr>\n",
       "                                <td id=\"T_28f35_row4_col0\" class=\"data row4 col0\" >0.206289</td>\n",
       "                        <td id=\"T_28f35_row4_col1\" class=\"data row4 col1\" >59.166.0.2</td>\n",
       "            </tr>\n",
       "    </tbody></table><style  type=\"text/css\" >\n",
       "</style><table id=\"T_c21f4_\" style='display:inline'><caption>PageRank</caption><thead>    <tr>        <th class=\"col_heading level0 col0\" >pagerank</th>        <th class=\"col_heading level0 col1\" >vertex</th>    </tr></thead><tbody>\n",
       "                <tr>\n",
       "                                <td id=\"T_c21f4_row0_col0\" class=\"data row0 col0\" >0.038591</td>\n",
       "                        <td id=\"T_c21f4_row0_col1\" class=\"data row0 col1\" >175.45.176.0</td>\n",
       "            </tr>\n",
       "            <tr>\n",
       "                                <td id=\"T_c21f4_row1_col0\" class=\"data row1 col0\" >0.038591</td>\n",
       "                        <td id=\"T_c21f4_row1_col1\" class=\"data row1 col1\" >175.45.176.2</td>\n",
       "            </tr>\n",
       "            <tr>\n",
       "                                <td id=\"T_c21f4_row2_col0\" class=\"data row2 col0\" >0.038591</td>\n",
       "                        <td id=\"T_c21f4_row2_col1\" class=\"data row2 col1\" >175.45.176.1</td>\n",
       "            </tr>\n",
       "            <tr>\n",
       "                                <td id=\"T_c21f4_row3_col0\" class=\"data row3 col0\" >0.038591</td>\n",
       "                        <td id=\"T_c21f4_row3_col1\" class=\"data row3 col1\" >175.45.176.3</td>\n",
       "            </tr>\n",
       "            <tr>\n",
       "                                <td id=\"T_c21f4_row4_col0\" class=\"data row4 col0\" >0.028716</td>\n",
       "                        <td id=\"T_c21f4_row4_col1\" class=\"data row4 col1\" >10.40.85.1</td>\n",
       "            </tr>\n",
       "    </tbody></table>"
      ]
     },
     "metadata": {},
     "output_type": "display_data"
    }
   ],
   "source": [
    "print_centrality(5)"
   ]
  },
  {
   "cell_type": "code",
   "execution_count": null,
   "metadata": {},
   "outputs": [],
   "source": []
  },
  {
   "cell_type": "markdown",
   "metadata": {},
   "source": [
    "There is differences in how each centrality measure ranks the vertices.  In some cases, every algorithms returns similar results and in other cases the results are completely different.  Understand how the centrality measure is computed and understanding what edges represents is key to selecting the right centrality metric.  "
   ]
  },
  {
   "cell_type": "markdown",
   "metadata": {},
   "source": []
  },
  {
   "cell_type": "markdown",
   "metadata": {},
   "source": [
    "----\n",
    "Copyright (c) 2019-2021, NVIDIA CORPORATION.\n",
    "\n",
    "Licensed under the Apache License, Version 2.0 (the \"License\"); you may not use this file except in compliance with the License. You may obtain a copy of the License at http://www.apache.org/licenses/LICENSE-2.0\n",
    "\n",
    "Unless required by applicable law or agreed to in writing, software distributed under the License is distributed on an \"AS IS\" BASIS, WITHOUT WARRANTIES OR CONDITIONS OF ANY KIND, either express or implied. See the License for the specific language governing permissions and limitations under the License."
   ]
  },
  {
   "cell_type": "code",
   "execution_count": null,
   "metadata": {},
   "outputs": [],
   "source": []
  }
 ],
 "metadata": {
  "kernelspec": {
   "display_name": "cugraph_dev",
   "language": "python",
   "name": "cugraph_dev"
  },
  "language_info": {
   "codemirror_mode": {
    "name": "ipython",
    "version": 3
   },
   "file_extension": ".py",
   "mimetype": "text/x-python",
   "name": "python",
   "nbconvert_exporter": "python",
   "pygments_lexer": "ipython3",
   "version": "3.8.8"
  }
 },
 "nbformat": 4,
 "nbformat_minor": 4
}
