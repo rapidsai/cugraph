{
 "cells": [
  {
   "cell_type": "markdown",
   "metadata": {},
   "source": [
    "# Centrality"
   ]
  },
  {
   "cell_type": "markdown",
   "metadata": {},
   "source": [
    "In this notebook, we will compute vertex centrality scores using the various cuGraph algorithms.  We will then compare the similarities and differences.\n",
    "\n",
    "| Author Credit |    Date    |  Update          | cuGraph Version |  Test Hardware |\n",
    "| --------------|------------|------------------|-----------------|----------------|\n",
    "| Brad Rees     | 04/16/2021 | created          | 0.19            | GV100, CUDA 11.0\n",
    "|               | 08/05/2021 | tested / updated | 21.10 nightly   | RTX 3090 CUDA 11.4\n",
    "| Ralph Liu     | 06/22/2022 | test/update      | 22.08           | T100, Cuda 11.5\n",
    "\n",
    " "
   ]
  },
  {
   "cell_type": "markdown",
   "metadata": {},
   "source": [
    "Centrality is measure of how important, or central, a node or edge is within a graph.  It is useful for identifying influencer in social networks, key routing nodes in communication/computer network infrastructures, \n",
    "\n",
    "The seminal paper on centrality is:  Freeman, L. C. (1978). Centrality in social networks conceptual clarification. Social networks, 1(3), 215-239.\n",
    "\n",
    "\n",
    "__Degree centrality__ – _done but needs an API_ <br>\n",
    "Degree centrality is based on the notion that whoever has the most connections must be important.   \n",
    "\n",
    "<center>\n",
    "    Cd(v) = degree(v)\n",
    "</center>\n",
    "\n",
    "cuGraph currently does not have a Degree Centrality function call. However, since Degree Centrality is just the degree of a node, we can use _G.degree()_ function.\n",
    "Degree Centrality for a Directed graph can be further divided in _indegree centrality_ and _outdegree centrality_ and can be obtained using _G.degrees()_\n",
    "\n",
    "\n",
    "___Closeness centrality – coming soon___ <br>\n",
    "Closeness is a measure of the shortest path to every other node in the graph.  A node that is close to every other node, can reach over other node in the fewest number of hops, means that it has greater influence on the network versus a node that is not close.\n",
    "\n",
    "__Betweenness Centrality__ <br>\n",
    "Betweenness is a measure of the number of shortest paths that cross through a node, or over an edge.  A node with high betweenness means that it had a greater influence on the flow of information.  \n",
    "\n",
    "Betweenness centrality of a node 𝑣 is the sum of the fraction of all-pairs shortest paths that pass through 𝑣\n",
    "\n",
    "<center>\n",
    "    <img src=\"https://latex.codecogs.com/png.latex?c_B(v)&space;=\\sum_{s,t&space;\\in&space;V}&space;\\frac{\\sigma(s,&space;t|v)}{\\sigma(s,&space;t)}\" title=\"c_B(v) =\\sum_{s,t \\in V} \\frac{\\sigma(s, t|v)}{\\sigma(s, t)}\" />\n",
    "</center>\n",
    "\n",
    "To speedup runtime of betweenness centrailty, the metric can be computed on a limited number of nodes (randomly selected) and then used to estimate the other scores.  For this example, the graphs are relatively small (under 5,000 nodes) so betweenness on every node will be computed.\n",
    "\n",
    "___Eigenvector Centrality - coming soon___ <br>\n",
    "Eigenvectors can be thought of as the balancing points of a graph, or center of gravity of a 3D object.  High centrality means that more of the graph is balanced around that node.\n",
    "\n",
    "__Katz Centrality__ <br>\n",
    "Katz is a variant of degree centrality and of eigenvector centrality. \n",
    "Katz centrality is a measure of the relative importance of a node within the graph based on measuring the influence across the total number of walks between vertex pairs. \n",
    "\n",
    "<center>\n",
    "    <img src=\"https://latex.codecogs.com/gif.latex?C_{katz}(i)&space;=&space;\\sum_{k=1}^{\\infty}&space;\\sum_{j=1}^{n}&space;\\alpha&space;^k(A^k)_{ji}\" title=\"C_{katz}(i) = \\sum_{k=1}^{\\infty} \\sum_{j=1}^{n} \\alpha ^k(A^k)_{ji}\" />\n",
    "</center>\n",
    "\n",
    "See:\n",
    "* [Katz on Wikipedia](https://en.wikipedia.org/wiki/Katz_centrality) for more details on the algorithm.\n",
    "* https://www.sci.unich.it/~francesc/teaching/network/katz.html\n",
    "\n",
    "__PageRank__ <br>\n",
    "PageRank is classified as both a Link Analysis tool and a centrality measure.  PageRank is based on the assumption that important nodes point (directed edge) to other important nodes.  From a social network perspective, the question is who do you seek for an answer and then who does that person seek.  PageRank is good when there is implied importance in the data, for example a citation network, web page linkages, or trust networks.    \n"
   ]
  },
  {
   "cell_type": "markdown",
   "metadata": {},
   "source": [
    "### Test Data\n",
    "We will be using the Zachary Karate club dataset \n",
    "*W. W. Zachary, An information flow model for conflict and fission in small groups, Journal of\n",
    "Anthropological Research 33, 452-473 (1977).*\n",
    "\n",
    "\n",
    "![Karate Club](../img/zachary_black_lines.png)\n",
    "\n",
    "\n",
    "Because the test data has vertex IDs starting at 1, the auto-renumber feature of cuGraph (mentioned above) will be used so the starting vertex ID is zero for maximum efficiency. The resulting data will then be auto-unrenumbered, making the entire renumbering process transparent to users."
   ]
  },
  {
   "cell_type": "code",
   "execution_count": 1,
   "metadata": {},
   "outputs": [],
   "source": [
    "#  Import the modules\n",
    "import cugraph\n",
    "import cudf\n",
    "\n",
    "# Import a built-in dataset\n",
    "from cugraph.experimental.datasets import karate"
   ]
  },
  {
   "cell_type": "code",
   "execution_count": 2,
   "metadata": {},
   "outputs": [],
   "source": [
    "import numpy as np\n",
    "import pandas as pd   \n",
    "from IPython.display import display_html "
   ]
  },
  {
   "cell_type": "markdown",
   "metadata": {},
   "source": [
    "### Functions\n",
    "using underscore variable names to avoid collisions.  \n",
    "non-underscore names are expected to be global names"
   ]
  },
  {
   "cell_type": "code",
   "execution_count": 3,
   "metadata": {},
   "outputs": [],
   "source": [
    "# Compute Centrality\n",
    "# the centrality calls are very straightforward with the graph being the primary argument\n",
    "# we are using the default argument values for all centrality functions\n",
    "\n",
    "def compute_centrality(_graph) :\n",
    "    # Compute Degree Centrality\n",
    "    _d = _graph.degree()\n",
    "        \n",
    "    # Compute the Betweenness Centrality\n",
    "    _b = cugraph.betweenness_centrality(_graph)\n",
    "\n",
    "    # Compute Katz Centrality\n",
    "    _k = cugraph.katz_centrality(_graph)\n",
    "    \n",
    "    # Compute PageRank Centrality\n",
    "    _p = cugraph.pagerank(_graph)\n",
    "    \n",
    "    return _d, _b, _k, _p"
   ]
  },
  {
   "cell_type": "code",
   "execution_count": 4,
   "metadata": {},
   "outputs": [],
   "source": [
    "# Print function\n",
    "# being lazy and requiring that the dataframe names are not changed versus passing them in\n",
    "def print_centrality(_n):\n",
    "    dc_top = dc.sort_values(by='degree', ascending=False).head(_n).to_pandas()\n",
    "    bc_top = bc.sort_values(by='betweenness_centrality', ascending=False).head(_n).to_pandas()\n",
    "    katz_top = katz.sort_values(by='katz_centrality', ascending=False).head(_n).to_pandas()\n",
    "    pr_top = pr.sort_values(by='pagerank', ascending=False).head(_n).to_pandas()\n",
    "    \n",
    "    df1_styler = dc_top.style.set_table_attributes(\"style='display:inline'\").set_caption('Degree').hide_index()\n",
    "    df2_styler = bc_top.style.set_table_attributes(\"style='display:inline'\").set_caption('Betweenness').hide_index()\n",
    "    df3_styler = katz_top.style.set_table_attributes(\"style='display:inline'\").set_caption('Katz').hide_index()\n",
    "    df4_styler = pr_top.style.set_table_attributes(\"style='display:inline'\").set_caption('PageRank').hide_index()\n",
    "\n",
    "    display_html(df1_styler._repr_html_()+df2_styler._repr_html_()+df3_styler._repr_html_()+df4_styler._repr_html_(), raw=True)"
   ]
  },
  {
   "cell_type": "markdown",
   "metadata": {},
   "source": [
    "## Create a Graph"
   ]
  },
  {
   "cell_type": "code",
   "execution_count": 5,
   "metadata": {},
   "outputs": [],
   "source": [
    "# Create a graph using the imported Dataset object\n",
    "G = karate.get_graph()"
   ]
  },
  {
   "cell_type": "markdown",
   "metadata": {},
   "source": [
    "## Compute Centrality"
   ]
  },
  {
   "cell_type": "code",
   "execution_count": 6,
   "metadata": {},
   "outputs": [],
   "source": [
    "dc, bc, katz, pr = compute_centrality(G)"
   ]
  },
  {
   "cell_type": "markdown",
   "metadata": {},
   "source": [
    "### Results\n",
    "Typically, analysts just look at the top 10% of results.  Basically just those vertices that are the most central or important.  \n",
    "The karate data has 32 vertices, so let's round a little and look at the top 5 vertices"
   ]
  },
  {
   "cell_type": "code",
   "execution_count": 7,
   "metadata": {},
   "outputs": [
    {
     "name": "stderr",
     "output_type": "stream",
     "text": [
      "/tmp/ipykernel_55914/3577371622.py:9: FutureWarning: this method is deprecated in favour of `Styler.hide(axis='index')`\n",
      "  df1_styler = dc_top.style.set_table_attributes(\"style='display:inline'\").set_caption('Degree').hide_index()\n",
      "/tmp/ipykernel_55914/3577371622.py:10: FutureWarning: this method is deprecated in favour of `Styler.hide(axis='index')`\n",
      "  df2_styler = bc_top.style.set_table_attributes(\"style='display:inline'\").set_caption('Betweenness').hide_index()\n",
      "/tmp/ipykernel_55914/3577371622.py:11: FutureWarning: this method is deprecated in favour of `Styler.hide(axis='index')`\n",
      "  df3_styler = katz_top.style.set_table_attributes(\"style='display:inline'\").set_caption('Katz').hide_index()\n",
      "/tmp/ipykernel_55914/3577371622.py:12: FutureWarning: this method is deprecated in favour of `Styler.hide(axis='index')`\n",
      "  df4_styler = pr_top.style.set_table_attributes(\"style='display:inline'\").set_caption('PageRank').hide_index()\n"
     ]
    },
    {
     "data": {
      "text/html": [
       "<style type=\"text/css\">\n",
       "</style>\n",
       "<table id=\"T_70cc2\" style='display:inline'>\n",
       "  <caption>Degree</caption>\n",
       "  <thead>\n",
       "    <tr>\n",
       "      <th id=\"T_70cc2_level0_col0\" class=\"col_heading level0 col0\" >degree</th>\n",
       "      <th id=\"T_70cc2_level0_col1\" class=\"col_heading level0 col1\" >vertex</th>\n",
       "    </tr>\n",
       "  </thead>\n",
       "  <tbody>\n",
       "    <tr>\n",
       "      <td id=\"T_70cc2_row0_col0\" class=\"data row0 col0\" >34</td>\n",
       "      <td id=\"T_70cc2_row0_col1\" class=\"data row0 col1\" >34</td>\n",
       "    </tr>\n",
       "    <tr>\n",
       "      <td id=\"T_70cc2_row1_col0\" class=\"data row1 col0\" >32</td>\n",
       "      <td id=\"T_70cc2_row1_col1\" class=\"data row1 col1\" >1</td>\n",
       "    </tr>\n",
       "    <tr>\n",
       "      <td id=\"T_70cc2_row2_col0\" class=\"data row2 col0\" >24</td>\n",
       "      <td id=\"T_70cc2_row2_col1\" class=\"data row2 col1\" >33</td>\n",
       "    </tr>\n",
       "    <tr>\n",
       "      <td id=\"T_70cc2_row3_col0\" class=\"data row3 col0\" >20</td>\n",
       "      <td id=\"T_70cc2_row3_col1\" class=\"data row3 col1\" >3</td>\n",
       "    </tr>\n",
       "    <tr>\n",
       "      <td id=\"T_70cc2_row4_col0\" class=\"data row4 col0\" >18</td>\n",
       "      <td id=\"T_70cc2_row4_col1\" class=\"data row4 col1\" >2</td>\n",
       "    </tr>\n",
       "  </tbody>\n",
       "</table>\n",
       "<style type=\"text/css\">\n",
       "</style>\n",
       "<table id=\"T_6b6ca\" style='display:inline'>\n",
       "  <caption>Betweenness</caption>\n",
       "  <thead>\n",
       "    <tr>\n",
       "      <th id=\"T_6b6ca_level0_col0\" class=\"col_heading level0 col0\" >betweenness_centrality</th>\n",
       "      <th id=\"T_6b6ca_level0_col1\" class=\"col_heading level0 col1\" >vertex</th>\n",
       "    </tr>\n",
       "  </thead>\n",
       "  <tbody>\n",
       "    <tr>\n",
       "      <td id=\"T_6b6ca_row0_col0\" class=\"data row0 col0\" >0.437635</td>\n",
       "      <td id=\"T_6b6ca_row0_col1\" class=\"data row0 col1\" >1</td>\n",
       "    </tr>\n",
       "    <tr>\n",
       "      <td id=\"T_6b6ca_row1_col0\" class=\"data row1 col0\" >0.304075</td>\n",
       "      <td id=\"T_6b6ca_row1_col1\" class=\"data row1 col1\" >34</td>\n",
       "    </tr>\n",
       "    <tr>\n",
       "      <td id=\"T_6b6ca_row2_col0\" class=\"data row2 col0\" >0.145247</td>\n",
       "      <td id=\"T_6b6ca_row2_col1\" class=\"data row2 col1\" >33</td>\n",
       "    </tr>\n",
       "    <tr>\n",
       "      <td id=\"T_6b6ca_row3_col0\" class=\"data row3 col0\" >0.143657</td>\n",
       "      <td id=\"T_6b6ca_row3_col1\" class=\"data row3 col1\" >3</td>\n",
       "    </tr>\n",
       "    <tr>\n",
       "      <td id=\"T_6b6ca_row4_col0\" class=\"data row4 col0\" >0.138276</td>\n",
       "      <td id=\"T_6b6ca_row4_col1\" class=\"data row4 col1\" >32</td>\n",
       "    </tr>\n",
       "  </tbody>\n",
       "</table>\n",
       "<style type=\"text/css\">\n",
       "</style>\n",
       "<table id=\"T_48b3c\" style='display:inline'>\n",
       "  <caption>Katz</caption>\n",
       "  <thead>\n",
       "    <tr>\n",
       "      <th id=\"T_48b3c_level0_col0\" class=\"col_heading level0 col0\" >katz_centrality</th>\n",
       "      <th id=\"T_48b3c_level0_col1\" class=\"col_heading level0 col1\" >vertex</th>\n",
       "    </tr>\n",
       "  </thead>\n",
       "  <tbody>\n",
       "    <tr>\n",
       "      <td id=\"T_48b3c_row0_col0\" class=\"data row0 col0\" >0.229138</td>\n",
       "      <td id=\"T_48b3c_row0_col1\" class=\"data row0 col1\" >34</td>\n",
       "    </tr>\n",
       "    <tr>\n",
       "      <td id=\"T_48b3c_row1_col0\" class=\"data row1 col0\" >0.225163</td>\n",
       "      <td id=\"T_48b3c_row1_col1\" class=\"data row1 col1\" >1</td>\n",
       "    </tr>\n",
       "    <tr>\n",
       "      <td id=\"T_48b3c_row2_col0\" class=\"data row2 col0\" >0.206646</td>\n",
       "      <td id=\"T_48b3c_row2_col1\" class=\"data row2 col1\" >33</td>\n",
       "    </tr>\n",
       "    <tr>\n",
       "      <td id=\"T_48b3c_row3_col0\" class=\"data row3 col0\" >0.198646</td>\n",
       "      <td id=\"T_48b3c_row3_col1\" class=\"data row3 col1\" >3</td>\n",
       "    </tr>\n",
       "    <tr>\n",
       "      <td id=\"T_48b3c_row4_col0\" class=\"data row4 col0\" >0.192289</td>\n",
       "      <td id=\"T_48b3c_row4_col1\" class=\"data row4 col1\" >2</td>\n",
       "    </tr>\n",
       "  </tbody>\n",
       "</table>\n",
       "<style type=\"text/css\">\n",
       "</style>\n",
       "<table id=\"T_89fe7\" style='display:inline'>\n",
       "  <caption>PageRank</caption>\n",
       "  <thead>\n",
       "    <tr>\n",
       "      <th id=\"T_89fe7_level0_col0\" class=\"col_heading level0 col0\" >pagerank</th>\n",
       "      <th id=\"T_89fe7_level0_col1\" class=\"col_heading level0 col1\" >vertex</th>\n",
       "    </tr>\n",
       "  </thead>\n",
       "  <tbody>\n",
       "    <tr>\n",
       "      <td id=\"T_89fe7_row0_col0\" class=\"data row0 col0\" >0.100917</td>\n",
       "      <td id=\"T_89fe7_row0_col1\" class=\"data row0 col1\" >34</td>\n",
       "    </tr>\n",
       "    <tr>\n",
       "      <td id=\"T_89fe7_row1_col0\" class=\"data row1 col0\" >0.096999</td>\n",
       "      <td id=\"T_89fe7_row1_col1\" class=\"data row1 col1\" >1</td>\n",
       "    </tr>\n",
       "    <tr>\n",
       "      <td id=\"T_89fe7_row2_col0\" class=\"data row2 col0\" >0.071692</td>\n",
       "      <td id=\"T_89fe7_row2_col1\" class=\"data row2 col1\" >33</td>\n",
       "    </tr>\n",
       "    <tr>\n",
       "      <td id=\"T_89fe7_row3_col0\" class=\"data row3 col0\" >0.057078</td>\n",
       "      <td id=\"T_89fe7_row3_col1\" class=\"data row3 col1\" >3</td>\n",
       "    </tr>\n",
       "    <tr>\n",
       "      <td id=\"T_89fe7_row4_col0\" class=\"data row4 col0\" >0.052877</td>\n",
       "      <td id=\"T_89fe7_row4_col1\" class=\"data row4 col1\" >2</td>\n",
       "    </tr>\n",
       "  </tbody>\n",
       "</table>\n"
      ]
     },
     "metadata": {},
     "output_type": "display_data"
    }
   ],
   "source": [
    "print_centrality(5)"
   ]
  },
  {
   "cell_type": "markdown",
   "metadata": {},
   "source": [
    "### A Different Dataset\n",
    "The Karate dataset is not that large or complex, which makes it a perfect test dataset since it is easy to visually verify results.  Let's look at a larger dataset with a lot more edges"
   ]
  },
  {
   "cell_type": "code",
   "execution_count": 8,
   "metadata": {},
   "outputs": [],
   "source": [
    "# Import a different dataset object\n",
    "from cugraph.experimental.datasets import netscience"
   ]
  },
  {
   "cell_type": "code",
   "execution_count": 9,
   "metadata": {},
   "outputs": [
    {
     "data": {
      "text/plain": [
       "(1461, 2742)"
      ]
     },
     "execution_count": 9,
     "metadata": {},
     "output_type": "execute_result"
    }
   ],
   "source": [
    "G = netscience.get_graph()\n",
    "(G.number_of_nodes(), G.number_of_edges())"
   ]
  },
  {
   "cell_type": "code",
   "execution_count": 10,
   "metadata": {},
   "outputs": [],
   "source": [
    "dc, bc, katz, pr = compute_centrality(G)"
   ]
  },
  {
   "cell_type": "code",
   "execution_count": 11,
   "metadata": {},
   "outputs": [
    {
     "name": "stderr",
     "output_type": "stream",
     "text": [
      "/tmp/ipykernel_55914/3577371622.py:9: FutureWarning: this method is deprecated in favour of `Styler.hide(axis='index')`\n",
      "  df1_styler = dc_top.style.set_table_attributes(\"style='display:inline'\").set_caption('Degree').hide_index()\n",
      "/tmp/ipykernel_55914/3577371622.py:10: FutureWarning: this method is deprecated in favour of `Styler.hide(axis='index')`\n",
      "  df2_styler = bc_top.style.set_table_attributes(\"style='display:inline'\").set_caption('Betweenness').hide_index()\n",
      "/tmp/ipykernel_55914/3577371622.py:11: FutureWarning: this method is deprecated in favour of `Styler.hide(axis='index')`\n",
      "  df3_styler = katz_top.style.set_table_attributes(\"style='display:inline'\").set_caption('Katz').hide_index()\n",
      "/tmp/ipykernel_55914/3577371622.py:12: FutureWarning: this method is deprecated in favour of `Styler.hide(axis='index')`\n",
      "  df4_styler = pr_top.style.set_table_attributes(\"style='display:inline'\").set_caption('PageRank').hide_index()\n"
     ]
    },
    {
     "data": {
      "text/html": [
       "<style type=\"text/css\">\n",
       "</style>\n",
       "<table id=\"T_6be37\" style='display:inline'>\n",
       "  <caption>Degree</caption>\n",
       "  <thead>\n",
       "    <tr>\n",
       "      <th id=\"T_6be37_level0_col0\" class=\"col_heading level0 col0\" >degree</th>\n",
       "      <th id=\"T_6be37_level0_col1\" class=\"col_heading level0 col1\" >vertex</th>\n",
       "    </tr>\n",
       "  </thead>\n",
       "  <tbody>\n",
       "    <tr>\n",
       "      <td id=\"T_6be37_row0_col0\" class=\"data row0 col0\" >68</td>\n",
       "      <td id=\"T_6be37_row0_col1\" class=\"data row0 col1\" >33</td>\n",
       "    </tr>\n",
       "    <tr>\n",
       "      <td id=\"T_6be37_row1_col0\" class=\"data row1 col0\" >54</td>\n",
       "      <td id=\"T_6be37_row1_col1\" class=\"data row1 col1\" >34</td>\n",
       "    </tr>\n",
       "    <tr>\n",
       "      <td id=\"T_6be37_row2_col0\" class=\"data row2 col0\" >54</td>\n",
       "      <td id=\"T_6be37_row2_col1\" class=\"data row2 col1\" >78</td>\n",
       "    </tr>\n",
       "    <tr>\n",
       "      <td id=\"T_6be37_row3_col0\" class=\"data row3 col0\" >42</td>\n",
       "      <td id=\"T_6be37_row3_col1\" class=\"data row3 col1\" >54</td>\n",
       "    </tr>\n",
       "    <tr>\n",
       "      <td id=\"T_6be37_row4_col0\" class=\"data row4 col0\" >40</td>\n",
       "      <td id=\"T_6be37_row4_col1\" class=\"data row4 col1\" >294</td>\n",
       "    </tr>\n",
       "  </tbody>\n",
       "</table>\n",
       "<style type=\"text/css\">\n",
       "</style>\n",
       "<table id=\"T_73786\" style='display:inline'>\n",
       "  <caption>Betweenness</caption>\n",
       "  <thead>\n",
       "    <tr>\n",
       "      <th id=\"T_73786_level0_col0\" class=\"col_heading level0 col0\" >betweenness_centrality</th>\n",
       "      <th id=\"T_73786_level0_col1\" class=\"col_heading level0 col1\" >vertex</th>\n",
       "    </tr>\n",
       "  </thead>\n",
       "  <tbody>\n",
       "    <tr>\n",
       "      <td id=\"T_73786_row0_col0\" class=\"data row0 col0\" >0.026572</td>\n",
       "      <td id=\"T_73786_row0_col1\" class=\"data row0 col1\" >78</td>\n",
       "    </tr>\n",
       "    <tr>\n",
       "      <td id=\"T_73786_row1_col0\" class=\"data row1 col0\" >0.023090</td>\n",
       "      <td id=\"T_73786_row1_col1\" class=\"data row1 col1\" >150</td>\n",
       "    </tr>\n",
       "    <tr>\n",
       "      <td id=\"T_73786_row2_col0\" class=\"data row2 col0\" >0.019135</td>\n",
       "      <td id=\"T_73786_row2_col1\" class=\"data row2 col1\" >516</td>\n",
       "    </tr>\n",
       "    <tr>\n",
       "      <td id=\"T_73786_row3_col0\" class=\"data row3 col0\" >0.018074</td>\n",
       "      <td id=\"T_73786_row3_col1\" class=\"data row3 col1\" >281</td>\n",
       "    </tr>\n",
       "    <tr>\n",
       "      <td id=\"T_73786_row4_col0\" class=\"data row4 col0\" >0.017088</td>\n",
       "      <td id=\"T_73786_row4_col1\" class=\"data row4 col1\" >216</td>\n",
       "    </tr>\n",
       "  </tbody>\n",
       "</table>\n",
       "<style type=\"text/css\">\n",
       "</style>\n",
       "<table id=\"T_8bc1a\" style='display:inline'>\n",
       "  <caption>Katz</caption>\n",
       "  <thead>\n",
       "    <tr>\n",
       "      <th id=\"T_8bc1a_level0_col0\" class=\"col_heading level0 col0\" >katz_centrality</th>\n",
       "      <th id=\"T_8bc1a_level0_col1\" class=\"col_heading level0 col1\" >vertex</th>\n",
       "    </tr>\n",
       "  </thead>\n",
       "  <tbody>\n",
       "    <tr>\n",
       "      <td id=\"T_8bc1a_row0_col0\" class=\"data row0 col0\" >0.038342</td>\n",
       "      <td id=\"T_8bc1a_row0_col1\" class=\"data row0 col1\" >33</td>\n",
       "    </tr>\n",
       "    <tr>\n",
       "      <td id=\"T_8bc1a_row1_col0\" class=\"data row1 col0\" >0.035817</td>\n",
       "      <td id=\"T_8bc1a_row1_col1\" class=\"data row1 col1\" >34</td>\n",
       "    </tr>\n",
       "    <tr>\n",
       "      <td id=\"T_8bc1a_row2_col0\" class=\"data row2 col0\" >0.035174</td>\n",
       "      <td id=\"T_8bc1a_row2_col1\" class=\"data row2 col1\" >78</td>\n",
       "    </tr>\n",
       "    <tr>\n",
       "      <td id=\"T_8bc1a_row3_col0\" class=\"data row3 col0\" >0.034537</td>\n",
       "      <td id=\"T_8bc1a_row3_col1\" class=\"data row3 col1\" >1430</td>\n",
       "    </tr>\n",
       "    <tr>\n",
       "      <td id=\"T_8bc1a_row4_col0\" class=\"data row4 col0\" >0.034537</td>\n",
       "      <td id=\"T_8bc1a_row4_col1\" class=\"data row4 col1\" >1431</td>\n",
       "    </tr>\n",
       "  </tbody>\n",
       "</table>\n",
       "<style type=\"text/css\">\n",
       "</style>\n",
       "<table id=\"T_adabf\" style='display:inline'>\n",
       "  <caption>PageRank</caption>\n",
       "  <thead>\n",
       "    <tr>\n",
       "      <th id=\"T_adabf_level0_col0\" class=\"col_heading level0 col0\" >pagerank</th>\n",
       "      <th id=\"T_adabf_level0_col1\" class=\"col_heading level0 col1\" >vertex</th>\n",
       "    </tr>\n",
       "  </thead>\n",
       "  <tbody>\n",
       "    <tr>\n",
       "      <td id=\"T_adabf_row0_col0\" class=\"data row0 col0\" >0.004183</td>\n",
       "      <td id=\"T_adabf_row0_col1\" class=\"data row0 col1\" >78</td>\n",
       "    </tr>\n",
       "    <tr>\n",
       "      <td id=\"T_adabf_row1_col0\" class=\"data row1 col0\" >0.003771</td>\n",
       "      <td id=\"T_adabf_row1_col1\" class=\"data row1 col1\" >33</td>\n",
       "    </tr>\n",
       "    <tr>\n",
       "      <td id=\"T_adabf_row2_col0\" class=\"data row2 col0\" >0.002800</td>\n",
       "      <td id=\"T_adabf_row2_col1\" class=\"data row2 col1\" >34</td>\n",
       "    </tr>\n",
       "    <tr>\n",
       "      <td id=\"T_adabf_row3_col0\" class=\"data row3 col0\" >0.002387</td>\n",
       "      <td id=\"T_adabf_row3_col1\" class=\"data row3 col1\" >281</td>\n",
       "    </tr>\n",
       "    <tr>\n",
       "      <td id=\"T_adabf_row4_col0\" class=\"data row4 col0\" >0.002373</td>\n",
       "      <td id=\"T_adabf_row4_col1\" class=\"data row4 col1\" >294</td>\n",
       "    </tr>\n",
       "  </tbody>\n",
       "</table>\n"
      ]
     },
     "metadata": {},
     "output_type": "display_data"
    }
   ],
   "source": [
    "print_centrality(5)"
   ]
  },
  {
   "cell_type": "markdown",
   "metadata": {},
   "source": [
    "We can now see a larger discrepancy between the centrality scores and which nodes rank highest.\n",
    "Which centrality measure to use is left to the analyst to decide and does require insight into the difference algorithms and graph structure."
   ]
  },
  {
   "cell_type": "markdown",
   "metadata": {},
   "source": [
    "### And One More Dataset\n",
    "Let's look at a Cyber dataset.  The vertex ID are IP addresses"
   ]
  },
  {
   "cell_type": "code",
   "execution_count": 12,
   "metadata": {},
   "outputs": [],
   "source": [
    "# Import a different dataset object\n",
    "from cugraph.experimental.datasets import cyber"
   ]
  },
  {
   "cell_type": "code",
   "execution_count": 13,
   "metadata": {},
   "outputs": [
    {
     "data": {
      "text/plain": [
       "(54, 314)"
      ]
     },
     "execution_count": 13,
     "metadata": {},
     "output_type": "execute_result"
    }
   ],
   "source": [
    "# Create a graph\n",
    "G = cyber.get_graph()\n",
    "(G.number_of_nodes(), G.number_of_edges())"
   ]
  },
  {
   "cell_type": "code",
   "execution_count": 14,
   "metadata": {},
   "outputs": [],
   "source": [
    "dc, bc, katz, pr = compute_centrality(G)"
   ]
  },
  {
   "cell_type": "code",
   "execution_count": 15,
   "metadata": {},
   "outputs": [
    {
     "name": "stderr",
     "output_type": "stream",
     "text": [
      "/tmp/ipykernel_55914/3577371622.py:9: FutureWarning: this method is deprecated in favour of `Styler.hide(axis='index')`\n",
      "  df1_styler = dc_top.style.set_table_attributes(\"style='display:inline'\").set_caption('Degree').hide_index()\n",
      "/tmp/ipykernel_55914/3577371622.py:10: FutureWarning: this method is deprecated in favour of `Styler.hide(axis='index')`\n",
      "  df2_styler = bc_top.style.set_table_attributes(\"style='display:inline'\").set_caption('Betweenness').hide_index()\n",
      "/tmp/ipykernel_55914/3577371622.py:11: FutureWarning: this method is deprecated in favour of `Styler.hide(axis='index')`\n",
      "  df3_styler = katz_top.style.set_table_attributes(\"style='display:inline'\").set_caption('Katz').hide_index()\n",
      "/tmp/ipykernel_55914/3577371622.py:12: FutureWarning: this method is deprecated in favour of `Styler.hide(axis='index')`\n",
      "  df4_styler = pr_top.style.set_table_attributes(\"style='display:inline'\").set_caption('PageRank').hide_index()\n"
     ]
    },
    {
     "data": {
      "text/html": [
       "<style type=\"text/css\">\n",
       "</style>\n",
       "<table id=\"T_9e586\" style='display:inline'>\n",
       "  <caption>Degree</caption>\n",
       "  <thead>\n",
       "    <tr>\n",
       "      <th id=\"T_9e586_level0_col0\" class=\"col_heading level0 col0\" >degree</th>\n",
       "      <th id=\"T_9e586_level0_col1\" class=\"col_heading level0 col1\" >vertex</th>\n",
       "    </tr>\n",
       "  </thead>\n",
       "  <tbody>\n",
       "    <tr>\n",
       "      <td id=\"T_9e586_row0_col0\" class=\"data row0 col0\" >23</td>\n",
       "      <td id=\"T_9e586_row0_col1\" class=\"data row0 col1\" >175.45.176.1</td>\n",
       "    </tr>\n",
       "    <tr>\n",
       "      <td id=\"T_9e586_row1_col0\" class=\"data row1 col0\" >23</td>\n",
       "      <td id=\"T_9e586_row1_col1\" class=\"data row1 col1\" >175.45.176.3</td>\n",
       "    </tr>\n",
       "    <tr>\n",
       "      <td id=\"T_9e586_row2_col0\" class=\"data row2 col0\" >22</td>\n",
       "      <td id=\"T_9e586_row2_col1\" class=\"data row2 col1\" >175.45.176.0</td>\n",
       "    </tr>\n",
       "    <tr>\n",
       "      <td id=\"T_9e586_row3_col0\" class=\"data row3 col0\" >22</td>\n",
       "      <td id=\"T_9e586_row3_col1\" class=\"data row3 col1\" >175.45.176.2</td>\n",
       "    </tr>\n",
       "    <tr>\n",
       "      <td id=\"T_9e586_row4_col0\" class=\"data row4 col0\" >21</td>\n",
       "      <td id=\"T_9e586_row4_col1\" class=\"data row4 col1\" >149.171.126.6</td>\n",
       "    </tr>\n",
       "  </tbody>\n",
       "</table>\n",
       "<style type=\"text/css\">\n",
       "</style>\n",
       "<table id=\"T_9711b\" style='display:inline'>\n",
       "  <caption>Betweenness</caption>\n",
       "  <thead>\n",
       "    <tr>\n",
       "      <th id=\"T_9711b_level0_col0\" class=\"col_heading level0 col0\" >betweenness_centrality</th>\n",
       "      <th id=\"T_9711b_level0_col1\" class=\"col_heading level0 col1\" >vertex</th>\n",
       "    </tr>\n",
       "  </thead>\n",
       "  <tbody>\n",
       "    <tr>\n",
       "      <td id=\"T_9711b_row0_col0\" class=\"data row0 col0\" >0.014604</td>\n",
       "      <td id=\"T_9711b_row0_col1\" class=\"data row0 col1\" >175.45.176.1</td>\n",
       "    </tr>\n",
       "    <tr>\n",
       "      <td id=\"T_9711b_row1_col0\" class=\"data row1 col0\" >0.014604</td>\n",
       "      <td id=\"T_9711b_row1_col1\" class=\"data row1 col1\" >175.45.176.3</td>\n",
       "    </tr>\n",
       "    <tr>\n",
       "      <td id=\"T_9711b_row2_col0\" class=\"data row2 col0\" >0.012700</td>\n",
       "      <td id=\"T_9711b_row2_col1\" class=\"data row2 col1\" >10.40.85.1</td>\n",
       "    </tr>\n",
       "    <tr>\n",
       "      <td id=\"T_9711b_row3_col0\" class=\"data row3 col0\" >0.012246</td>\n",
       "      <td id=\"T_9711b_row3_col1\" class=\"data row3 col1\" >175.45.176.0</td>\n",
       "    </tr>\n",
       "    <tr>\n",
       "      <td id=\"T_9711b_row4_col0\" class=\"data row4 col0\" >0.012246</td>\n",
       "      <td id=\"T_9711b_row4_col1\" class=\"data row4 col1\" >175.45.176.2</td>\n",
       "    </tr>\n",
       "  </tbody>\n",
       "</table>\n",
       "<style type=\"text/css\">\n",
       "</style>\n",
       "<table id=\"T_c9a6b\" style='display:inline'>\n",
       "  <caption>Katz</caption>\n",
       "  <thead>\n",
       "    <tr>\n",
       "      <th id=\"T_c9a6b_level0_col0\" class=\"col_heading level0 col0\" >katz_centrality</th>\n",
       "      <th id=\"T_c9a6b_level0_col1\" class=\"col_heading level0 col1\" >vertex</th>\n",
       "    </tr>\n",
       "  </thead>\n",
       "  <tbody>\n",
       "    <tr>\n",
       "      <td id=\"T_c9a6b_row0_col0\" class=\"data row0 col0\" >0.170665</td>\n",
       "      <td id=\"T_c9a6b_row0_col1\" class=\"data row0 col1\" >149.171.126.6</td>\n",
       "    </tr>\n",
       "    <tr>\n",
       "      <td id=\"T_c9a6b_row1_col0\" class=\"data row1 col0\" >0.166698</td>\n",
       "      <td id=\"T_c9a6b_row1_col1\" class=\"data row1 col1\" >59.166.0.4</td>\n",
       "    </tr>\n",
       "    <tr>\n",
       "      <td id=\"T_c9a6b_row2_col0\" class=\"data row2 col0\" >0.166698</td>\n",
       "      <td id=\"T_c9a6b_row2_col1\" class=\"data row2 col1\" >59.166.0.1</td>\n",
       "    </tr>\n",
       "    <tr>\n",
       "      <td id=\"T_c9a6b_row3_col0\" class=\"data row3 col0\" >0.166698</td>\n",
       "      <td id=\"T_c9a6b_row3_col1\" class=\"data row3 col1\" >59.166.0.5</td>\n",
       "    </tr>\n",
       "    <tr>\n",
       "      <td id=\"T_c9a6b_row4_col0\" class=\"data row4 col0\" >0.166698</td>\n",
       "      <td id=\"T_c9a6b_row4_col1\" class=\"data row4 col1\" >59.166.0.2</td>\n",
       "    </tr>\n",
       "  </tbody>\n",
       "</table>\n",
       "<style type=\"text/css\">\n",
       "</style>\n",
       "<table id=\"T_5c46a\" style='display:inline'>\n",
       "  <caption>PageRank</caption>\n",
       "  <thead>\n",
       "    <tr>\n",
       "      <th id=\"T_5c46a_level0_col0\" class=\"col_heading level0 col0\" >pagerank</th>\n",
       "      <th id=\"T_5c46a_level0_col1\" class=\"col_heading level0 col1\" >vertex</th>\n",
       "    </tr>\n",
       "  </thead>\n",
       "  <tbody>\n",
       "    <tr>\n",
       "      <td id=\"T_5c46a_row0_col0\" class=\"data row0 col0\" >0.034650</td>\n",
       "      <td id=\"T_5c46a_row0_col1\" class=\"data row0 col1\" >175.45.176.1</td>\n",
       "    </tr>\n",
       "    <tr>\n",
       "      <td id=\"T_5c46a_row1_col0\" class=\"data row1 col0\" >0.034650</td>\n",
       "      <td id=\"T_5c46a_row1_col1\" class=\"data row1 col1\" >175.45.176.3</td>\n",
       "    </tr>\n",
       "    <tr>\n",
       "      <td id=\"T_5c46a_row2_col0\" class=\"data row2 col0\" >0.029436</td>\n",
       "      <td id=\"T_5c46a_row2_col1\" class=\"data row2 col1\" >149.171.126.6</td>\n",
       "    </tr>\n",
       "    <tr>\n",
       "      <td id=\"T_5c46a_row3_col0\" class=\"data row3 col0\" >0.029190</td>\n",
       "      <td id=\"T_5c46a_row3_col1\" class=\"data row3 col1\" >175.45.176.0</td>\n",
       "    </tr>\n",
       "    <tr>\n",
       "      <td id=\"T_5c46a_row4_col0\" class=\"data row4 col0\" >0.029190</td>\n",
       "      <td id=\"T_5c46a_row4_col1\" class=\"data row4 col1\" >175.45.176.2</td>\n",
       "    </tr>\n",
       "  </tbody>\n",
       "</table>\n"
      ]
     },
     "metadata": {},
     "output_type": "display_data"
    }
   ],
   "source": [
    "print_centrality(5)"
   ]
  },
  {
   "cell_type": "markdown",
   "metadata": {},
   "source": [
    "There are differences in how each centrality measure ranks the nodes. In some cases, every algorithm returns similar results, and in others, the results are different. Understanding how the centrality measure is computed and what edge represent is key to selecting the right centrality metric."
   ]
  },
  {
   "cell_type": "markdown",
   "metadata": {},
   "source": [
    "----\n",
    "Copyright (c) 2019-2021, NVIDIA CORPORATION.\n",
    "\n",
    "Licensed under the Apache License, Version 2.0 (the \"License\"); you may not use this file except in compliance with the License. You may obtain a copy of the License at http://www.apache.org/licenses/LICENSE-2.0\n",
    "\n",
    "Unless required by applicable law or agreed to in writing, software distributed under the License is distributed on an \"AS IS\" BASIS, WITHOUT WARRANTIES OR CONDITIONS OF ANY KIND, either express or implied. See the License for the specific language governing permissions and limitations under the License."
   ]
  }
 ],
 "metadata": {
  "kernelspec": {
   "display_name": "Python 3.9.7 ('base')",
   "language": "python",
   "name": "python3"
  },
  "language_info": {
   "codemirror_mode": {
    "name": "ipython",
    "version": 3
   },
   "file_extension": ".py",
   "mimetype": "text/x-python",
   "name": "python",
   "nbconvert_exporter": "python",
   "pygments_lexer": "ipython3",
   "version": "3.9.7"
  },
  "vscode": {
   "interpreter": {
    "hash": "f708a36acfaef0acf74ccd43dfb58100269bf08fb79032a1e0a6f35bd9856f51"
   }
  }
 },
 "nbformat": 4,
 "nbformat_minor": 4
}
