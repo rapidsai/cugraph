{
 "cells": [
  {
   "cell_type": "markdown",
   "metadata": {},
   "source": [
    "# Benchmarking NetworkX compatibility\n",
    "# Skip notebook test\n",
    "This notebook benchmark the use of a NetworkX Graph object as input into algorithms.  <p>\n",
    "The intention of the feature is to be able to drop cuGraph into existing NetworkX code in spot where performance is not optimal.\n",
    "\n",
    "\n",
    "### Betweenness Centrality\n",
    "Both NetworkX and cuGraph allow for estimating the betweenness centrality score by using a subset of vertices rather than all the vertices.  WHile that does produce a less accurate answer, it dramatically improves performance when the sample is small.  For this test, the algorithms will use only 10% of the vertices to compute the estimate \n"
   ]
  },
  {
   "cell_type": "markdown",
   "metadata": {},
   "source": [
    "__Notebook Credits__\n",
    "\n",
    "* Original Authors: Bradley Rees\n",
    "* Last Edit: 09/27/2020\n",
    "\n",
    "RAPIDS Versions: 0.16\n",
    "\n",
    "Test Hardware\n",
    "```\n",
    "    GV100 32G, CUDA 10,0\n",
    "    Intel(R) Core(TM) CPU i7-7800X @ 3.50GHz\n",
    "    32GB system memory\n",
    "```"
   ]
  },
  {
   "cell_type": "code",
   "execution_count": null,
   "metadata": {},
   "outputs": [],
   "source": [
    "import networkx as nx\n",
    "import cugraph as cnx\n",
    "import time\n",
    "import operator"
   ]
  },
  {
   "cell_type": "code",
   "execution_count": null,
   "metadata": {},
   "outputs": [],
   "source": [
    "# starting number of Nodes\n",
    "N = 100"
   ]
  },
  {
   "cell_type": "code",
   "execution_count": null,
   "metadata": {},
   "outputs": [],
   "source": [
    "# average degree\n",
    "M = 16"
   ]
  },
  {
   "cell_type": "code",
   "execution_count": null,
   "metadata": {},
   "outputs": [],
   "source": [
    "def run_nx(G, k=None):\n",
    "    t1 = time.time()\n",
    "    bc = nx.betweenness_centrality(G, k)\n",
    "    t2 = time.time() - t1\n",
    "    return t2, bc"
   ]
  },
  {
   "cell_type": "code",
   "execution_count": null,
   "metadata": {},
   "outputs": [],
   "source": [
    "def run_cu(G, k=None):\n",
    "    t1 = time.time()\n",
    "    bc = cnx.betweenness_centrality(G, k)\n",
    "    t2 = time.time() - t1\n",
    "    return t2, bc"
   ]
  },
  {
   "cell_type": "code",
   "execution_count": null,
   "metadata": {},
   "outputs": [],
   "source": [
    "print(\"Betweenness Cenytrality - use all nodes - limit scale to 3,200 nodes so that executing time is not days\")\n",
    "print(f\"Node \\tEdges  \\tSpeedup  \\t\\tcreate time  \\t\\tnx time  \\t\\tcu time \")\n",
    "\n",
    "for x in range(6):\n",
    "    if x == 0:\n",
    "        n = N\n",
    "    else:\n",
    "        n = n * 2\n",
    "\n",
    "    \n",
    "    t1 = time.time()    \n",
    "    # create a random graph\n",
    "    G = nx.barabasi_albert_graph(n, M)\n",
    "    g_time = time.time() - t1\n",
    "    \n",
    "    num_edges = G.number_of_edges()\n",
    "    num_nodes = G.number_of_nodes()\n",
    "    \n",
    "    time_nx, bc = run_nx(G)\n",
    "    time_cu, bcc = run_cu(G)\n",
    "\n",
    "    speedup = time_nx / time_cu\n",
    "    print(f\"{num_nodes}\\t{num_edges}\\t{speedup}\\t{g_time}\\t{time_nx}\\t{time_cu}\")\n",
    "    "
   ]
  },
  {
   "cell_type": "code",
   "execution_count": null,
   "metadata": {},
   "outputs": [],
   "source": [
    "print(\"PageRank - run larger graph since algorithm is fast\")\n",
    "print(f\"Node \\tEdges  \\tSpeedup \\t\\tnx time  \\t\\tcu time \")\n",
    "\n",
    "pr_speedup = []\n",
    "\n",
    "for x in range(15):\n",
    "    if x == 0:\n",
    "        n = N\n",
    "    else:\n",
    "        n = n * 2\n",
    "\n",
    "    # create a random graph\n",
    "    G = nx.barabasi_albert_graph(n, M)\n",
    "    num_edges = G.number_of_edges()\n",
    "    num_nodes = G.number_of_nodes()\n",
    "    \n",
    "    t1 = time.time()    \n",
    "    nx_pr = nx.pagerank(G)\n",
    "    time_nx = time.time() - t1\n",
    "    \n",
    "    t1 = time.time()    \n",
    "    cp_pr = cnx.pagerank(G)\n",
    "    time_cu = time.time() - t1\n",
    "\n",
    "    speedup = time_nx / time_cu\n",
    "    print(f\"{num_nodes}\\t{num_edges}  \\t{speedup}\\t{time_nx}\\t{time_cu}\")\n",
    "    "
   ]
  },
  {
   "cell_type": "markdown",
   "metadata": {},
   "source": [
    "___\n",
    "Copyright (c) 2020, NVIDIA CORPORATION.\n",
    "\n",
    "Licensed under the Apache License, Version 2.0 (the \"License\");  you may not use this file except in compliance with the License. You may obtain a copy of the License at http://www.apache.org/licenses/LICENSE-2.0\n",
    "\n",
    "Unless required by applicable law or agreed to in writing, software distributed under the License is distributed on an \"AS IS\" BASIS, WITHOUT WARRANTIES OR CONDITIONS OF ANY KIND, either express or implied. See the License for the specific language governing permissions and limitations under the License.\n",
    "___"
   ]
  },
  {
   "cell_type": "code",
   "execution_count": null,
   "metadata": {},
   "outputs": [],
   "source": []
  }
 ],
 "metadata": {
  "kernelspec": {
   "display_name": "cugraph_dev",
   "language": "python",
   "name": "cugraph_dev"
  },
  "language_info": {
   "codemirror_mode": {
    "name": "ipython",
    "version": 3
   },
   "file_extension": ".py",
   "mimetype": "text/x-python",
   "name": "python",
   "nbconvert_exporter": "python",
   "pygments_lexer": "ipython3",
   "version": "3.8.5"
  }
 },
 "nbformat": 4,
 "nbformat_minor": 4
}
