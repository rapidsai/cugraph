{
 "cells": [
  {
   "cell_type": "markdown",
   "metadata": {},
   "source": [
    "# Benchmarking NetworkX compatibility\n",
    "This notebook benchmark the use of a NetworkX Graph object as input into algorithms.  <p>\n",
    "The intention of the feature is to be able to drop cuGraph into existing NetworkX code in spot where performance is not optimal.\n",
    "\n",
    "\n",
    "### Betweenness Centrality\n",
    "Both NetworkX and cuGraph allow for estimating the betweenness centrality score by using a subset of vertices rather than all the vertices.  WHile that does produce a less accurate answer, it dramatically improves performance when the sample is small.  For this test, the algorithms will use only 10% of the vertices to compute the estimate \n"
   ]
  },
  {
   "cell_type": "markdown",
   "metadata": {},
   "source": [
    "__Notebook Credits__\n",
    "\n",
    "* Original Authors: Bradley Rees\n",
    "* Last Edit: 09/27/2020\n",
    "\n",
    "RAPIDS Versions: 0.16\n",
    "\n",
    "Test Hardware\n",
    "```\n",
    "    GV100 32G, CUDA 10,0\n",
    "    Intel(R) Core(TM) CPU i7-7800X @ 3.50GHz\n",
    "    32GB system memory\n",
    "```"
   ]
  },
  {
   "cell_type": "code",
   "execution_count": 1,
   "metadata": {},
   "outputs": [],
   "source": [
    "import networkx as nx\n",
    "import cugraph as cudanx\n",
    "import time\n",
    "import operator"
   ]
  },
  {
   "cell_type": "code",
   "execution_count": 2,
   "metadata": {},
   "outputs": [],
   "source": [
    "# starting number of Nodes\n",
    "N = 100"
   ]
  },
  {
   "cell_type": "code",
   "execution_count": 3,
   "metadata": {},
   "outputs": [],
   "source": [
    "# average degree\n",
    "M = 16"
   ]
  },
  {
   "cell_type": "code",
   "execution_count": 4,
   "metadata": {},
   "outputs": [],
   "source": [
    "def run_nx(G, k=None):\n",
    "    t1 = time.time()\n",
    "    bc = nx.betweenness_centrality(G, k)\n",
    "    t2 = time.time() - t1\n",
    "    return t2, bc"
   ]
  },
  {
   "cell_type": "code",
   "execution_count": 5,
   "metadata": {},
   "outputs": [],
   "source": [
    "def run_cu(G, k=None):\n",
    "    t1 = time.time()\n",
    "    bc = cudanx.betweenness_centrality(G, k)\n",
    "    t2 = time.time() - t1\n",
    "    return t2, bc"
   ]
  },
  {
   "cell_type": "code",
   "execution_count": 7,
   "metadata": {},
   "outputs": [
    {
     "name": "stdout",
     "output_type": "stream",
     "text": [
      "use all nodes\n",
      "Node \tEdges  \tSpeedup  \t\tcreate time  \t\tnx time  \t\tcu time   \t\tmax NX \tmax Cu\n",
      "100\t1344\t0.44623723212497496\t0.12005257606506348\t0.05099630355834961\t0.11428070068359375\t17\t17\n",
      "200\t2944\t1.1391240166050252\t0.0049457550048828125\t0.20274639129638672\t0.17798447608947754\t18\t18\n",
      "400\t6144\t2.640587078495305\t0.010426521301269531\t0.836834192276001\t0.3169121742248535\t19\t19\n",
      "800\t12544\t5.2610751870538826\t0.021261930465698242\t3.8402199745178223\t0.7299306392669678\t17\t17\n",
      "1600\t25344\t12.991305370727268\t0.04396557807922363\t17.509873628616333\t1.3478147983551025\t19\t19\n",
      "3200\t50944\t26.49811966652707\t0.08774495124816895\t78.09810280799866\t2.9473073482513428\t16\t16\n",
      "6400\t102144\t48.61890556849022\t0.17733025550842285\t338.7272083759308\t6.966985464096069\t17\t17\n",
      "12800\t204544\t89.80946825026868\t0.4636502265930176\t1539.7254755496979\t17.14435577392578\t18\t18\n",
      "25600\t409344\t180.42019041320523\t0.8656513690948486\t7804.056516170502\t43.25489568710327\t18\t18\n",
      "51200\t818944\t328.0516295018564\t1.861088514328003\t47763.087628126144\t145.5962517261505\t17\t17\n"
     ]
    }
   ],
   "source": [
    "print(\"use all nodes\")\n",
    "print(f\"Node \\tEdges  \\tSpeedup  \\t\\tcreate time  \\t\\tnx time  \\t\\tcu time \")\n",
    "\n",
    "for x in range(10):\n",
    "    if x == 0:\n",
    "        n = N\n",
    "    else:\n",
    "        n = n * 2\n",
    "\n",
    "    \n",
    "    t1 = time.time()    \n",
    "    # create a random graph\n",
    "    G = nx.barabasi_albert_graph(n, M)\n",
    "    g_time = time.time() - t1\n",
    "    \n",
    "    num_edges = G.number_of_edges()\n",
    "    num_nodes = G.number_of_nodes()\n",
    "    \n",
    "    time_nx, bc = run_nx(G)\n",
    "    time_cu, bcc = run_cu(G)\n",
    "\n",
    "    speedup = time_nx / time_cu\n",
    "    print(f\"{num_nodes}\\t{num_edges}\\t{speedup}\\t{g_time}\\t{time_nx}\\t{time_cu}\")\n",
    "    "
   ]
  },
  {
   "cell_type": "code",
   "execution_count": null,
   "metadata": {},
   "outputs": [],
   "source": [
    "print(\"use all nodes\")\n",
    "print(f\"Node \\tEdges  \\tSpeedup \\t\\tnx time  \\t\\tcu time \")\n",
    "\n",
    "pr_speedup = []\n",
    "\n",
    "for x in range(10):\n",
    "    if x == 0:\n",
    "        n = N\n",
    "    else:\n",
    "        n = n * 2\n",
    "\n",
    "    # create a random graph\n",
    "    G = nx.barabasi_albert_graph(n, M)\n",
    "    num_edges = G.number_of_edges()\n",
    "    num_nodes = G.number_of_nodes()\n",
    "    \n",
    "    t1 = time.time()    \n",
    "    nx_pr = nx.pagerank(G)\n",
    "    time_nx = time.time() - t1\n",
    "    \n",
    "    t1 = time.time()    \n",
    "    cp_pr = cugraph.pagerank(G)\n",
    "    time_cu = time.time() - t1\n",
    "\n",
    "    speedup = time_nx / time_cu\n",
    "    print(f\"{num_nodes}\\t{num_edges}\\t{speedup}\\t{time_nx}\\t{time_cu}\")\n",
    "    "
   ]
  },
  {
   "cell_type": "markdown",
   "metadata": {},
   "source": [
    "___\n",
    "Copyright (c) 2020, NVIDIA CORPORATION.\n",
    "\n",
    "Licensed under the Apache License, Version 2.0 (the \"License\");  you may not use this file except in compliance with the License. You may obtain a copy of the License at http://www.apache.org/licenses/LICENSE-2.0\n",
    "\n",
    "Unless required by applicable law or agreed to in writing, software distributed under the License is distributed on an \"AS IS\" BASIS, WITHOUT WARRANTIES OR CONDITIONS OF ANY KIND, either express or implied. See the License for the specific language governing permissions and limitations under the License.\n",
    "___"
   ]
  },
  {
   "cell_type": "code",
   "execution_count": null,
   "metadata": {},
   "outputs": [],
   "source": []
  }
 ],
 "metadata": {
  "kernelspec": {
   "display_name": "cugraph_dev",
   "language": "python",
   "name": "cugraph_dev"
  },
  "language_info": {
   "codemirror_mode": {
    "name": "ipython",
    "version": 3
   },
   "file_extension": ".py",
   "mimetype": "text/x-python",
   "name": "python",
   "nbconvert_exporter": "python",
   "pygments_lexer": "ipython3",
   "version": "3.8.5"
  }
 },
 "nbformat": 4,
 "nbformat_minor": 4
}
