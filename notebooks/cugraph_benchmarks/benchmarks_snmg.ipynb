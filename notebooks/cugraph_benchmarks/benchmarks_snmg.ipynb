{
 "cells": [
  {
   "attachments": {},
   "cell_type": "markdown",
   "metadata": {
    "tags": []
   },
   "source": [
    "# Skip notebook test\n",
    "-----"
   ]
  },
  {
   "cell_type": "markdown",
   "metadata": {
    "tags": []
   },
   "source": [
    "# Running cuGraph using synthetic and benchmarking data on various algorithms on single node multi GPU (SNMG) cluster\n",
    "\n",
    "\n",
    "This notebook compares the execution times of many of the cuGraph and NetworkX algorithms when run against identical synthetic data at multiple scales.\n",
    "\n",
    "This notebook uses the RMAT data generator which allows the creation of graphs at various scales.  The notebook, by default, runs on a set of selected sizes but users are free to change or add to that list."
   ]
  },
  {
   "cell_type": "markdown",
   "metadata": {
    "tags": []
   },
   "source": [
    "### Timing "
   ]
  },
  {
   "attachments": {},
   "cell_type": "markdown",
   "metadata": {},
   "source": [
    " \n",
    "\n",
    "This benchmark produces two performance metrics:\n",
    " - (1)\tJust each algorithm run time \n",
    " - (2)\tA separate graph creation time for each data set\n",
    "\n",
    "Since GPU memory is a precious resource, having a lot of temporary data laying around is avoided.  So once a graph is created, the raw data is dropped.  \n",
    " \n",
    "__What is not timed__:  Generating the data with R-MAT</p>\n",
    "__What is timed__:     (1) creating a Graph, (2) running the algorithm\n"
   ]
  },
  {
   "cell_type": "markdown",
   "metadata": {},
   "source": [
    "### Algorithms"
   ]
  },
  {
   "cell_type": "markdown",
   "metadata": {
    "tags": []
   },
   "source": [
    "|        Algorithm        |  Type         | Undirected Graph | Directed Graph |   Notes\n",
    "| ------------------------|---------------|------ | ------- |-------------\n",
    "| WCC                     | Components    |   X   |         |\n",
    "| Katz                    | Centrality    |   X   |         |\n",
    "| Betweenness Centrality  | Centrality    |   X   |         | Estimated, k = 100\n",
    "| K Truss                 | Community     |   X   |         |\n",
    "| Louvain                 | Community     |   X   |         | Uses python-louvain for comparison\n",
    "| Triangle Counting       | Community     |   X   |         |\n",
    "| Core Number             | Core          |   X   |         |\n",
    "| PageRank                | Link Analysis |       |    X    |\n",
    "| Jaccard                 | Similarity    |   X   |         |one-hop over all connected nodes instead of 2-hop default\n",
    "| BFS                     | Traversal     |   X   |         | No depth limit\n",
    "| SSSP                    | Traversal     |   X   |         |\n",
    "\n",
    "\n",
    "### Test Data\n",
    "Data is generated using a Recursive MATrix (R-MAT) graph generation algorithm. \n",
    "The generator specifics are documented [here](https://docs.rapids.ai/api/cugraph/stable/api_docs/generator.html)\n",
    "\n"
   ]
  },
  {
   "cell_type": "markdown",
   "metadata": {},
   "source": [
    "This must be the first code cell in the notebook for Papermill to overwrite the variables."
   ]
  },
  {
   "cell_type": "code",
   "execution_count": 1,
   "metadata": {
    "tags": [
     "parameters"
    ]
   },
   "outputs": [],
   "source": [
    "# parameters\n",
    "# these will overwrite set parameters if run from papermill\n",
    "mg=True\n",
    "data_to_use = \"Data Sets\""
   ]
  },
  {
   "cell_type": "code",
   "execution_count": 2,
   "metadata": {},
   "outputs": [],
   "source": [
    "# Test Data Sizes\n",
    "# Here you can create an array of test data sizes.   Then set the \"data\" variable to the array you want\n",
    "# the dictionary format is 'name' : scale\n",
    "\n",
    "\n",
    "# These scales are used by R-MAT to determine the number of vertices/edges in the synthetic data graph.\n",
    "data_full = {\n",
    "    'RMAT Scale 12'   :  12,\n",
    "    'RMAT Scale 14'  :   14,\n",
    "    'RMAT Scale 16'  :   16,\n",
    "    'RMAT Scale 18'  :   18,\n",
    "    'RMAT Scale 20'  :   20,\n",
    "    'RMAT Scale 22'  :   22,\n",
    "}\n",
    "\n",
    "# for quick testing\n",
    "data_quick = {\n",
    "   'RMAT Scale 9' : 9,\n",
    "   'RMAT Scale 10' : 10,\n",
    "   'RMAT Scale 11' : 11,\n",
    "}\n",
    "\n",
    "# for existing benchmark datasets\n",
    "data_sets = {\n",
    "    'netscience' : -1,\n",
    "    'hollywood' : -1,\n",
    "    'cit_patents' : -1,\n",
    "    'email_Eu_core' : -1,\n",
    "}\n"
   ]
  },
  {
   "cell_type": "code",
   "execution_count": 3,
   "metadata": {},
   "outputs": [],
   "source": [
    "# Which dataset is to be used\n",
    "\n",
    "data = None\n",
    "\n",
    "if data_to_use == \"Data Sets\":\n",
    "    data = data_sets\n",
    "if data_to_use == \"Small Scale RMAT\":\n",
    "    data = data_quick\n",
    "if data_to_use == \"Large Scale RMAT\":\n",
    "    data = data_full\n",
    "if data == None:\n",
    "    raise Exception(\"Invalid data specification\")"
   ]
  },
  {
   "cell_type": "markdown",
   "metadata": {
    "tags": []
   },
   "source": [
    "## Import Modules"
   ]
  },
  {
   "cell_type": "code",
   "execution_count": 4,
   "metadata": {},
   "outputs": [],
   "source": [
    "# system and other\n",
    "import gc\n",
    "import os\n",
    "import importlib\n",
    "import sys\n",
    "from time import perf_counter\n",
    "import pandas as pd\n",
    "from collections import defaultdict\n",
    "\n",
    "# rapids\n",
    "import cugraph\n",
    "import cugraph.datasets as ds\n",
    "\n",
    "# liblibraries to setup dask cluster and client\n",
    "from dask.distributed import Client\n",
    "from dask_cuda import LocalCUDACluster\n",
    "from cugraph.dask.comms import comms as Comms\n",
    "\n",
    "\n",
    "# RMAT data generator\n",
    "from cugraph.generators import rmat\n",
    "from cugraph.structure import NumberMap"
   ]
  },
  {
   "cell_type": "markdown",
   "metadata": {},
   "source": [
    "### Determine the scale of the test data\n",
    "RMAT generates graph where the number of vertices is a power of 2 and the number of edges is based on an edge factor times the number vertices.\n",
    "\n",
    "Since RMAT tends to generate about 50% isolated vertices, those vertices are dropped from the graph data.  Hence the number of vertices is closer to (2 ** scale) / 2\n",
    "\n",
    "\n",
    "| Scale | Vertices (est) | Edges  |\n",
    "| ------|----------------|--------|\n",
    "| 10 | 512 | 16,384 | \n",
    "| 11 | 1,024 | 32,768| \n",
    "| 12 | 2,048 | 65,536| \n",
    "| 13 | 4,096 | 131,072| \n",
    "| 14 | 8,192 | 262,144| \n",
    "| 15 | 16,384 | 524,288 | \n",
    "| 16 | 32,768 | 1,048,576 | \n",
    "| 17 | 65,536 | 2,097,152 | \n",
    "| 18 | 131,072 | 4,194,304 | \n",
    "| 19 | 262,144 | 8,388,608 | \n",
    "| 20 | 524,288 | 16,777,216 | \n",
    "| 21 | 1,048,576 | 33,554,432 | \n",
    "| 22 | 2,097,152 | 67,108,864 | \n",
    "| 23 | 4,194,304 | 134,217,728 | \n",
    "| 24 | 8,388,608 | 268,435,456 | \n",
    "| 25 | 16,777,216 | 536,870,912 | \n"
   ]
  },
  {
   "cell_type": "code",
   "execution_count": 5,
   "metadata": {},
   "outputs": [],
   "source": [
    "# Test Data Sizes\n",
    "# Here you can create an array of test data sizes.   Then set the \"data\" variable to the array you want\n",
    "# the dictionary format is 'name' : scale\n",
    "\n",
    "\n",
    "# These scales are used by R-MAT to determine the number of vertices/edges in the synthetic data graph.\n",
    "data_full = {\n",
    "    'RMAT Scale 12'   :  12,\n",
    "    'RMAT Scale 14'  :   14,\n",
    "    'RMAT Scale 16'  :   16,\n",
    "    'RMAT Scale 18'  :   18,\n",
    "    'RMAT Scale 20'  :   20,\n",
    "    'RMAT Scale 22'  :   22,\n",
    "}\n",
    "\n",
    "# for quick testing\n",
    "data_quick = {\n",
    "   'RMAT Scale 9' : 9,\n",
    "   'RMAT Scale 10' : 10,\n",
    "   'RMAT Scale 11' : 11,\n",
    "}\n",
    "\n",
    "# for existing benchmark datasets\n",
    "data_sets = {\n",
    "    'netscience' : -1,\n",
    "    'hollywood' : -1,\n",
    "    'cit_patents' : -1,\n",
    "    'email_Eu_core' : -1,\n",
    "}\n"
   ]
  },
  {
   "cell_type": "markdown",
   "metadata": {},
   "source": [
    "### Generate data\n",
    "The data is generated once for each graph only when doing random data."
   ]
  },
  {
   "cell_type": "code",
   "execution_count": 6,
   "metadata": {},
   "outputs": [],
   "source": [
    "# Data generator \n",
    "#  The result is an edgelist of the size determined by the scale and edge factor\n",
    "def generate_data(scale, edgefactor=16, mg=False):\n",
    "    _gdf = rmat(\n",
    "        scale,\n",
    "        (2 ** scale) * edgefactor,\n",
    "        0.57,\n",
    "        0.19,\n",
    "        0.19,\n",
    "        42,\n",
    "        clip_and_flip=False,\n",
    "        scramble_vertex_ids=True,\n",
    "        create_using=None,  # return edgelist instead of Graph instance\n",
    "        mg=mg # determines whether generated data will be used on one or multiple GPUs\n",
    "        )\n",
    "\n",
    "    clean_coo = NumberMap.renumber(_gdf, src_col_names=\"src\", dst_col_names=\"dst\")[0]\n",
    "    if mg:\n",
    "        clean_coo.rename(columns={\"renumbered_src\": \"src\", \"renumbered_dst\": \"dst\"})\n",
    "    else:\n",
    "        clean_coo.rename(columns={\"renumbered_src\": \"src\", \"renumbered_dst\": \"dst\"}, inplace=True)\n",
    "\n",
    "    print(f'Generated a dataframe of type {type(clean_coo)}, with {len(clean_coo)} edges')\n",
    "    \n",
    "    return clean_coo"
   ]
  },
  {
   "cell_type": "code",
   "execution_count": 7,
   "metadata": {},
   "outputs": [],
   "source": [
    "def format_times(run_time):\n",
    "    if isinstance(run_time, (int, float)):\n",
    "        if run_time > 0:\n",
    "            return f\"{run_time:.4g}\"\n",
    "        return 0.0\n",
    "    return run_time"
   ]
  },
  {
   "cell_type": "code",
   "execution_count": 8,
   "metadata": {},
   "outputs": [],
   "source": [
    "import subprocess\n",
    "\n",
    "def get_gpus():\n",
    "    try:\n",
    "        gpu_info = subprocess.check_output(\n",
    "        ['nvidia-smi', '--query-gpu=name', '--format=csv,noheader'],\n",
    "        encoding='utf-8'\n",
    "        )\n",
    "        gpus = [line.strip() for line in gpu_info.strip().split('\\n') if line.strip()]\n",
    "        gpu_count = len(gpus)\n",
    "        return ''.join(set(gpus)), gpu_count\n",
    "    except Exception as e:\n",
    "        return \"no_gpus\", 0\n"
   ]
  },
  {
   "cell_type": "code",
   "execution_count": 9,
   "metadata": {},
   "outputs": [
    {
     "data": {
      "text/plain": [
       "('NVIDIA RTX A6000', 2)"
      ]
     },
     "execution_count": 9,
     "metadata": {},
     "output_type": "execute_result"
    }
   ],
   "source": [
    "get_gpus()"
   ]
  },
  {
   "cell_type": "markdown",
   "metadata": {},
   "source": [
    "## Create Graph functions\n",
    "There are two types of graphs created:\n",
    "* Directed Graphs - create_cu_directed_graph.\n",
    "* Undirected Graphs - calls to create_cu_ugraph <- fully symmeterized"
   ]
  },
  {
   "cell_type": "code",
   "execution_count": 10,
   "metadata": {},
   "outputs": [],
   "source": [
    "# cuGraph\n",
    "def create_cu_graph(_df, transpose=True, directed=False, mg=False):\n",
    "    t1 = perf_counter()\n",
    "    _g = cugraph.Graph(directed=directed)\n",
    "\n",
    "    if mg:\n",
    "        _g.from_dask_cudf_edgelist(_df, source=\"src\", destination=\"dst\", edge_attr=None)\n",
    "    else:\n",
    "        _g.from_cudf_edgelist(_df,\n",
    "                            source='src',\n",
    "                            destination='dst',\n",
    "                            edge_attr=None,\n",
    "                            renumber=False,\n",
    "                            store_transposed=transpose)\n",
    "    t2 = perf_counter() - t1\n",
    "\n",
    "    return _g, t2"
   ]
  },
  {
   "cell_type": "markdown",
   "metadata": {},
   "source": [
    "## Algorithm Execution"
   ]
  },
  {
   "cell_type": "markdown",
   "metadata": {},
   "source": [
    "### \tWeakly Connected Components (WCC)"
   ]
  },
  {
   "cell_type": "code",
   "execution_count": 11,
   "metadata": {},
   "outputs": [],
   "source": [
    "\n",
    "def cu_wcc(_G, mg=False):\n",
    "    t1 = perf_counter()\n",
    "    if mg:\n",
    "        _ = cugraph.dask.weakly_connected_components(_G)\n",
    "    else:\n",
    "        _ = cugraph.weakly_connected_components(_G)\n",
    "    t2 = perf_counter() - t1\n",
    "    return t2"
   ]
  },
  {
   "cell_type": "markdown",
   "metadata": {},
   "source": [
    "### Katz"
   ]
  },
  {
   "cell_type": "code",
   "execution_count": 12,
   "metadata": {},
   "outputs": [],
   "source": [
    "\n",
    "def cu_katz(_G, alpha, mg=False):\n",
    "    t1 = perf_counter()\n",
    "    if mg:\n",
    "        _ = cugraph.dask.katz_centrality(_G, alpha)\n",
    "    else:\n",
    "        _ = cugraph.katz_centrality(_G, alpha)\n",
    "    t2 = perf_counter() - t1\n",
    "    return t2\n"
   ]
  },
  {
   "cell_type": "markdown",
   "metadata": {},
   "source": [
    "### Betweenness Centrality (BC)"
   ]
  },
  {
   "cell_type": "code",
   "execution_count": 13,
   "metadata": {},
   "outputs": [],
   "source": [
    "\n",
    "def cu_bc(_G, _k, mg=False):\n",
    "    t1 = perf_counter()\n",
    "    if mg:\n",
    "        _ = cugraph.dask.betweenness_centrality(_G, k=_k)\n",
    "    else:   \n",
    "        _ = cugraph.betweenness_centrality(_G, k=_k)\n",
    "    t2 = perf_counter() - t1\n",
    "    return t2"
   ]
  },
  {
   "cell_type": "markdown",
   "metadata": {},
   "source": [
    "### Louvain"
   ]
  },
  {
   "cell_type": "code",
   "execution_count": 14,
   "metadata": {},
   "outputs": [],
   "source": [
    "def cu_louvain(_G, mg=False):\n",
    "    t1 = perf_counter()\n",
    "    if mg:\n",
    "        _, modularity = cugraph.dask.louvain(_G)\n",
    "        print (f'modularity: {modularity}')\n",
    "    else:\n",
    "        _,_ = cugraph.louvain(_G)\n",
    "    t2 = perf_counter() - t1\n",
    "    return t2\n",
    "\n"
   ]
  },
  {
   "cell_type": "markdown",
   "metadata": {},
   "source": [
    "### K-Truss"
   ]
  },
  {
   "cell_type": "code",
   "execution_count": 15,
   "metadata": {},
   "outputs": [],
   "source": [
    "def cu_ktruss(_G, k, mg=False):\n",
    "    try:\n",
    "        t1 = perf_counter()\n",
    "        if mg:\n",
    "            _ = cugraph.dask.ktruss_subgraph(_G,k)\n",
    "        else:\n",
    "            _ = cugraph.ktruss_subgraph(_G,k)\n",
    "        t2 = perf_counter() - t1\n",
    "    except:\n",
    "        print(f\"K_Truss failed to run\"),\n",
    "        return -1.0\n",
    "    return t2"
   ]
  },
  {
   "cell_type": "markdown",
   "metadata": {},
   "source": [
    "### Triangle Counting"
   ]
  },
  {
   "cell_type": "code",
   "execution_count": 16,
   "metadata": {},
   "outputs": [],
   "source": [
    "def cu_tc(_G, mg=False):\n",
    "    t1 = perf_counter()\n",
    "    if mg:\n",
    "        _ = cugraph.dask.triangle_count(_G)\n",
    "    else:\n",
    "        _ = cugraph.triangle_count(_G)\n",
    "    t2 = perf_counter() - t1\n",
    "    return t2\n"
   ]
  },
  {
   "cell_type": "markdown",
   "metadata": {},
   "source": [
    "### Core Number"
   ]
  },
  {
   "cell_type": "code",
   "execution_count": 17,
   "metadata": {},
   "outputs": [],
   "source": [
    "def cu_core_num(_G, mg=False):\n",
    "    t1 = perf_counter()\n",
    "    if mg:\n",
    "        _ = cugraph.dask.core_number(_G)\n",
    "    else:\n",
    "        _ = cugraph.core_number(_G)\n",
    "    t2 = perf_counter() - t1\n",
    "    return t2\n"
   ]
  },
  {
   "cell_type": "markdown",
   "metadata": {},
   "source": [
    "### PageRank"
   ]
  },
  {
   "cell_type": "code",
   "execution_count": 18,
   "metadata": {},
   "outputs": [],
   "source": [
    "def cu_pagerank(_G, mg=False):\n",
    "    t1 = perf_counter()\n",
    "    if mg:\n",
    "        _ = cugraph.dask.pagerank(_G)\n",
    "    else:\n",
    "        _ = cugraph.pagerank(_G)\n",
    "    t2 = perf_counter() - t1\n",
    "    return t2\n"
   ]
  },
  {
   "cell_type": "markdown",
   "metadata": {},
   "source": [
    "### Jaccard"
   ]
  },
  {
   "cell_type": "code",
   "execution_count": 19,
   "metadata": {},
   "outputs": [],
   "source": [
    "def cu_jaccard(_G, mg=False):\n",
    "    edge_list = _G.view_edge_list()\n",
    "    t1 = perf_counter()\n",
    "    if mg:\n",
    "        _ = cugraph.dask.jaccard(_G, vertex_pair = edge_list )\n",
    "    else:\n",
    "        _ = cugraph.jaccard(_G, vertex_pair = edge_list)\n",
    "    t2 = perf_counter() - t1\n",
    "    return t2\n"
   ]
  },
  {
   "cell_type": "markdown",
   "metadata": {},
   "source": [
    "### Breadth First Search (BFS)"
   ]
  },
  {
   "cell_type": "code",
   "execution_count": 20,
   "metadata": {},
   "outputs": [],
   "source": [
    "def cu_bfs(_G, seed=0, mg=False):\n",
    "    t1 = perf_counter()\n",
    "    if mg:\n",
    "        _ = cugraph.dask.bfs(_G, seed)\n",
    "    else:\n",
    "        _ = cugraph.bfs(_G, seed)\n",
    "    t2 = perf_counter() - t1\n",
    "    return t2\n"
   ]
  },
  {
   "cell_type": "markdown",
   "metadata": {},
   "source": [
    "### Single Source Shortest Path (SSSP)"
   ]
  },
  {
   "cell_type": "code",
   "execution_count": 21,
   "metadata": {},
   "outputs": [],
   "source": [
    "def cu_sssp(_G, seed = 0, mg=False):\n",
    "    \n",
    "    t1 = perf_counter()\n",
    "    # SSSP requires weighted graph\n",
    "    if mg:\n",
    "        if _G.weighted: \n",
    "            _ = cugraph.dask.sssp(_G, seed)\n",
    "        else:\n",
    "            _ = cugraph.dask.bfs(_G, seed)\n",
    "\n",
    "    else:\n",
    "        if _G.weighted:\n",
    "            _ = cugraph.ssp(_G, seed)\n",
    "        else:\n",
    "            _ = cugraph.bfs(_G, seed)\n",
    "\n",
    "    t2 = perf_counter() - t1\n",
    "    return t2\n"
   ]
  },
  {
   "cell_type": "markdown",
   "metadata": {},
   "source": [
    "## SG/MG Benchmark"
   ]
  },
  {
   "cell_type": "markdown",
   "metadata": {},
   "source": [
    "### Initialize multi-GPU environment\n",
    "Before we get started, we need to set up a dask (local) cluster of workers to execute our work, and a client to coordinate and schedule work for that cluster.\n"
   ]
  },
  {
   "cell_type": "code",
   "execution_count": 22,
   "metadata": {},
   "outputs": [
    {
     "name": "stdout",
     "output_type": "stream",
     "text": [
      "[1754397604.139804] [9d3acc4-lcedt:644484:0]          parser.c:2326 UCX  WARN  unused environment variable: UCX_MEMTYPE_CACHE (maybe: UCX_MEMTYPE_CACHE?)\n",
      "[1754397604.139804] [9d3acc4-lcedt:644484:0]          parser.c:2326 UCX  WARN  (set UCX_WARN_UNUSED_ENV_VARS=n to suppress this warning)\n",
      "[1754397604.144719] [9d3acc4-lcedt:644481:0]          parser.c:2326 UCX  WARN  unused environment variable: UCX_MEMTYPE_CACHE (maybe: UCX_MEMTYPE_CACHE?)\n",
      "[1754397604.144719] [9d3acc4-lcedt:644481:0]          parser.c:2326 UCX  WARN  (set UCX_WARN_UNUSED_ENV_VARS=n to suppress this warning)\n"
     ]
    }
   ],
   "source": [
    "# Setup a local dask cluster of workers, and a client\n",
    "cluster = LocalCUDACluster()\n",
    "client = Client(cluster)\n",
    "Comms.initialize(p2p=True)"
   ]
  },
  {
   "cell_type": "markdown",
   "metadata": {},
   "source": [
    "### Run cuGraph algorithms for datasets\n",
    "Takes in a mg parameter to determine if multiple GPU are used when available."
   ]
  },
  {
   "cell_type": "code",
   "execution_count": 23,
   "metadata": {},
   "outputs": [],
   "source": [
    "def run_algorithms( dataset, scale, mg):\n",
    "\n",
    "    cugraph_algo_run_times = defaultdict()\n",
    "\n",
    "    # generate data\n",
    "    print(\"------------------------------\")\n",
    "    if (scale != -1):\n",
    "        gdf = generate_data(scale, edgefactor=16, mg=mg)\n",
    "    # gdf = gdf.repartition(gdf.npartitions * 3)\n",
    "    else:\n",
    "        current_set = getattr (ds, dataset)\n",
    "        gdf = current_set.get_dask_edgelist(download=True)\n",
    "        print(type(gdf))\n",
    "    # create cuGraph\n",
    "    g_cu, tcu = create_cu_graph(gdf, mg=mg, transpose =True)\n",
    "    cugraph_graph_creation_time = [tcu]\n",
    "    del gdf\n",
    "\n",
    "    # prep\n",
    "    deg = g_cu.degree()\n",
    "    if mg == True:\n",
    "        deg_max = deg['degree'].max().compute()\n",
    "    else:\n",
    "        deg_max = deg['degree'].max()\n",
    "    alpha = 1 / deg_max\n",
    "    num_nodes = g_cu.number_of_vertices()\n",
    "    del deg\n",
    "    gc.collect()\n",
    "\n",
    "    #-- WCC\n",
    "    algorithm = \"WCC\"\n",
    "    print(f\"\\t{algorithm}  \", end = '')\n",
    "    tc = cu_wcc(g_cu, mg=mg)\n",
    "    print(\"\")\n",
    "    \n",
    "    cugraph_algo_run_times[algorithm] = tc\n",
    "\n",
    "    #-- Katz\n",
    "    algorithm = \"Katz\"\n",
    "    print(f\"\\t{algorithm}  \", end = '')\n",
    "    tc = cu_katz(g_cu, alpha, mg=mg)\n",
    "    print(\"\")\n",
    "    \n",
    "    cugraph_algo_run_times[algorithm] = tc\n",
    "\n",
    "    #-- K Truss\n",
    "    algorithm = \"K_Truss\"\n",
    "    print(f\"\\t{algorithm}  \", end = '')\n",
    "    k = 5\n",
    "    tc = cu_ktruss(g_cu, k=k, mg=mg)\n",
    "    print(\"\")\n",
    "    \n",
    "    cugraph_algo_run_times[algorithm] = tc\n",
    "\n",
    "    #-- BC\n",
    "    algorithm = \"BC\"\n",
    "    print(f\"\\t{algorithm}  \", end = '')\n",
    "    k = 100\n",
    "    if k > num_nodes:\n",
    "        k = int(num_nodes)\n",
    "    tc = cu_bc(g_cu, k, mg=mg)\n",
    "    print(\" \")\n",
    "    cugraph_algo_run_times[algorithm] = tc\n",
    "\n",
    "\n",
    "    #-- Louvain\n",
    "    algorithm = \"Louvain\"\n",
    "    print(f\"\\t{algorithm}  \", end = '')\n",
    "    tc = cu_louvain(g_cu, mg=mg)\n",
    "    print(\" \")\n",
    "\n",
    "    cugraph_algo_run_times[algorithm] = tc\n",
    "\n",
    "    #-- TC\n",
    "    algorithm = \"TC\"\n",
    "    print(f\"\\t{algorithm}  \", end = '')\n",
    "    tc = cu_tc(g_cu, mg=mg)\n",
    "    print(\" \")\n",
    "    \n",
    "    cugraph_algo_run_times[algorithm] = tc\n",
    "\n",
    "    #-- Core Number\n",
    "    algorithm = \"Core Number\"\n",
    "    print(f\"\\t{algorithm}  \", end = '')\n",
    "    tc = cu_core_num(g_cu, mg=mg)\n",
    "    print(\" \")\n",
    "\n",
    "    cugraph_algo_run_times[algorithm] = tc\n",
    "\n",
    "    #-- PageRank\n",
    "    algorithm = \"PageRank\"\n",
    "    print(f\"\\t{algorithm}  \", end = '')\n",
    "    tc = cu_pagerank(g_cu, mg=mg)\n",
    "    print(\" \")\n",
    "\n",
    "    cugraph_algo_run_times[algorithm] = tc\n",
    "\n",
    "    #-- Jaccard\n",
    "    algorithm = \"Jaccard\"\n",
    "    print(f\"\\t{algorithm}  \", end = '')\n",
    "    tc = cu_jaccard(g_cu, mg=mg)\n",
    "    print(\" \")\n",
    "\n",
    "    cugraph_algo_run_times[algorithm] = tc\n",
    "\n",
    "    # Seed for BFS and SSSP\n",
    "    if mg == True:\n",
    "        cu_seed = g_cu.nodes().compute().to_pandas().iloc[0]\n",
    "    else:\n",
    "        cu_seed = g_cu.nodes().to_pandas().iloc[0]\n",
    "\n",
    "    #-- BFS\n",
    "    algorithm = \"BFS\"\n",
    "    print(f\"\\t{algorithm}  \", end = '')\n",
    "    tc = cu_bfs(g_cu, seed=cu_seed, mg=mg)\n",
    "    print(\" \")\n",
    "\n",
    "    cugraph_algo_run_times[algorithm] = tc\n",
    "\n",
    "    #-- SSSP\n",
    "    algorithm = \"SSSP\"\n",
    "    print(f\"\\t{algorithm}  \", end = '')\n",
    "    tc = cu_sssp(g_cu, seed=cu_seed, mg=mg)\n",
    "    print(\" \")\n",
    "\n",
    "    cugraph_algo_run_times[algorithm] = tc\n",
    "\n",
    "    del g_cu\n",
    "    gc.collect()\n",
    "\n",
    "    return cugraph_algo_run_times, cugraph_graph_creation_time\n"
   ]
  },
  {
   "cell_type": "markdown",
   "metadata": {},
   "source": [
    "### cuGraph execution times for different algorithms\n",
    "Run this with mg=True to use multiple GPUs"
   ]
  },
  {
   "cell_type": "markdown",
   "metadata": {},
   "source": []
  },
  {
   "cell_type": "code",
   "execution_count": 24,
   "metadata": {},
   "outputs": [
    {
     "name": "stdout",
     "output_type": "stream",
     "text": [
      "------------------------------\n",
      "<class 'dask_cudf._expr.collection.DataFrame'>\n"
     ]
    },
    {
     "name": "stderr",
     "output_type": "stream",
     "text": [
      "[644453][08:40:05:176386][warning] Auto detection of compression type is supported only for file type buffers. For other buffer types, AUTO compression type assumes uncompressed input.\n",
      "[644453][08:40:05:338325][warning] Auto detection of compression type is supported only for file type buffers. For other buffer types, AUTO compression type assumes uncompressed input.\n",
      "/home/dacosta/miniforge3/envs/nb_2510_0731/lib/python3.13/site-packages/cudf/core/reshape.py:399: FutureWarning: The behavior of array concatenation with empty entries is deprecated. In a future version, this will no longer exclude empty items when determining the result dtype. To retain the old behavior, exclude the empty entries before the concat operation.\n",
      "  warnings.warn(\n",
      "/home/dacosta/miniforge3/envs/nb_2510_0731/lib/python3.13/site-packages/cudf/core/reshape.py:399: FutureWarning: The behavior of array concatenation with empty entries is deprecated. In a future version, this will no longer exclude empty items when determining the result dtype. To retain the old behavior, exclude the empty entries before the concat operation.\n",
      "  warnings.warn(\n"
     ]
    },
    {
     "name": "stdout",
     "output_type": "stream",
     "text": [
      "\tWCC  \n",
      "\tKatz  "
     ]
    },
    {
     "name": "stderr",
     "output_type": "stream",
     "text": [
      "/home/dacosta/miniforge3/envs/nb_2510_0731/lib/python3.13/site-packages/cugraph/dask/centrality/katz_centrality.py:152: UserWarning: Katz centrality expects the 'store_transposed' flag to be set to 'True' for optimal performance during the graph creation\n",
      "  warnings.warn(warning_msg, UserWarning)\n"
     ]
    },
    {
     "name": "stdout",
     "output_type": "stream",
     "text": [
      "\n",
      "\tK_Truss  \n",
      "\tBC   \n",
      "\tLouvain  modularity: 0.9588928818702698\n",
      " \n",
      "\tTC   \n",
      "\tCore Number   \n",
      "\tPageRank  "
     ]
    },
    {
     "name": "stderr",
     "output_type": "stream",
     "text": [
      "/home/dacosta/miniforge3/envs/nb_2510_0731/lib/python3.13/site-packages/cugraph/dask/link_analysis/pagerank.py:316: UserWarning: Pagerank expects the 'store_transposed' flag to be set to 'True' for optimal performance during the graph creation\n",
      "  warnings.warn(warning_msg, UserWarning)\n"
     ]
    },
    {
     "name": "stdout",
     "output_type": "stream",
     "text": [
      " \n",
      "\tJaccard  "
     ]
    },
    {
     "name": "stderr",
     "output_type": "stream",
     "text": [
      "/home/dacosta/miniforge3/envs/nb_2510_0731/lib/python3.13/site-packages/cudf/core/reshape.py:399: FutureWarning: The behavior of array concatenation with empty entries is deprecated. In a future version, this will no longer exclude empty items when determining the result dtype. To retain the old behavior, exclude the empty entries before the concat operation.\n",
      "  warnings.warn(\n",
      "/home/dacosta/miniforge3/envs/nb_2510_0731/lib/python3.13/site-packages/cudf/core/reshape.py:399: FutureWarning: The behavior of array concatenation with empty entries is deprecated. In a future version, this will no longer exclude empty items when determining the result dtype. To retain the old behavior, exclude the empty entries before the concat operation.\n",
      "  warnings.warn(\n",
      "/home/dacosta/miniforge3/envs/nb_2510_0731/lib/python3.13/site-packages/cudf/core/reshape.py:399: FutureWarning: The behavior of array concatenation with empty entries is deprecated. In a future version, this will no longer exclude empty items when determining the result dtype. To retain the old behavior, exclude the empty entries before the concat operation.\n",
      "  warnings.warn(\n"
     ]
    },
    {
     "name": "stdout",
     "output_type": "stream",
     "text": [
      " \n"
     ]
    },
    {
     "name": "stderr",
     "output_type": "stream",
     "text": [
      "/home/dacosta/miniforge3/envs/nb_2510_0731/lib/python3.13/site-packages/cudf/core/reshape.py:399: FutureWarning: The behavior of array concatenation with empty entries is deprecated. In a future version, this will no longer exclude empty items when determining the result dtype. To retain the old behavior, exclude the empty entries before the concat operation.\n",
      "  warnings.warn(\n"
     ]
    },
    {
     "name": "stdout",
     "output_type": "stream",
     "text": [
      "\tBFS   \n",
      "\tSSSP   \n",
      "------------------------------\n",
      "<class 'dask_cudf._expr.collection.DataFrame'>\n"
     ]
    },
    {
     "name": "stderr",
     "output_type": "stream",
     "text": [
      "[644453][08:40:20:636114][warning] Auto detection of compression type is supported only for file type buffers. For other buffer types, AUTO compression type assumes uncompressed input.\n",
      "[644453][08:40:20:642598][warning] Auto detection of compression type is supported only for file type buffers. For other buffer types, AUTO compression type assumes uncompressed input.\n",
      "/home/dacosta/miniforge3/envs/nb_2510_0731/lib/python3.13/site-packages/cudf/core/reshape.py:399: FutureWarning: The behavior of array concatenation with empty entries is deprecated. In a future version, this will no longer exclude empty items when determining the result dtype. To retain the old behavior, exclude the empty entries before the concat operation.\n",
      "  warnings.warn(\n",
      "/home/dacosta/miniforge3/envs/nb_2510_0731/lib/python3.13/site-packages/cudf/core/reshape.py:399: FutureWarning: The behavior of array concatenation with empty entries is deprecated. In a future version, this will no longer exclude empty items when determining the result dtype. To retain the old behavior, exclude the empty entries before the concat operation.\n",
      "  warnings.warn(\n"
     ]
    },
    {
     "name": "stdout",
     "output_type": "stream",
     "text": [
      "\tWCC  \n",
      "\tKatz  "
     ]
    },
    {
     "name": "stderr",
     "output_type": "stream",
     "text": [
      "/home/dacosta/miniforge3/envs/nb_2510_0731/lib/python3.13/site-packages/cugraph/dask/centrality/katz_centrality.py:152: UserWarning: Katz centrality expects the 'store_transposed' flag to be set to 'True' for optimal performance during the graph creation\n",
      "  warnings.warn(warning_msg, UserWarning)\n"
     ]
    },
    {
     "name": "stdout",
     "output_type": "stream",
     "text": [
      "\n",
      "\tK_Truss  \n",
      "\tBC   \n",
      "\tLouvain  modularity: 0.7549844980239868\n",
      " \n",
      "\tTC   \n",
      "\tCore Number   \n",
      "\tPageRank  "
     ]
    },
    {
     "name": "stderr",
     "output_type": "stream",
     "text": [
      "/home/dacosta/miniforge3/envs/nb_2510_0731/lib/python3.13/site-packages/cugraph/dask/link_analysis/pagerank.py:316: UserWarning: Pagerank expects the 'store_transposed' flag to be set to 'True' for optimal performance during the graph creation\n",
      "  warnings.warn(warning_msg, UserWarning)\n"
     ]
    },
    {
     "name": "stdout",
     "output_type": "stream",
     "text": [
      " \n",
      "\tJaccard  "
     ]
    },
    {
     "name": "stderr",
     "output_type": "stream",
     "text": [
      "/home/dacosta/miniforge3/envs/nb_2510_0731/lib/python3.13/site-packages/cudf/core/reshape.py:399: FutureWarning: The behavior of array concatenation with empty entries is deprecated. In a future version, this will no longer exclude empty items when determining the result dtype. To retain the old behavior, exclude the empty entries before the concat operation.\n",
      "  warnings.warn(\n",
      "/home/dacosta/miniforge3/envs/nb_2510_0731/lib/python3.13/site-packages/cudf/core/reshape.py:399: FutureWarning: The behavior of array concatenation with empty entries is deprecated. In a future version, this will no longer exclude empty items when determining the result dtype. To retain the old behavior, exclude the empty entries before the concat operation.\n",
      "  warnings.warn(\n",
      "/home/dacosta/miniforge3/envs/nb_2510_0731/lib/python3.13/site-packages/cudf/core/reshape.py:399: FutureWarning: The behavior of array concatenation with empty entries is deprecated. In a future version, this will no longer exclude empty items when determining the result dtype. To retain the old behavior, exclude the empty entries before the concat operation.\n",
      "  warnings.warn(\n"
     ]
    },
    {
     "name": "stdout",
     "output_type": "stream",
     "text": [
      " \n"
     ]
    },
    {
     "name": "stderr",
     "output_type": "stream",
     "text": [
      "/home/dacosta/miniforge3/envs/nb_2510_0731/lib/python3.13/site-packages/cudf/core/reshape.py:399: FutureWarning: The behavior of array concatenation with empty entries is deprecated. In a future version, this will no longer exclude empty items when determining the result dtype. To retain the old behavior, exclude the empty entries before the concat operation.\n",
      "  warnings.warn(\n"
     ]
    },
    {
     "name": "stdout",
     "output_type": "stream",
     "text": [
      "\tBFS   \n",
      "\tSSSP   \n",
      "------------------------------\n",
      "<class 'dask_cudf._expr.collection.DataFrame'>\n"
     ]
    },
    {
     "name": "stderr",
     "output_type": "stream",
     "text": [
      "[644453][08:41:06:207644][warning] Auto detection of compression type is supported only for file type buffers. For other buffer types, AUTO compression type assumes uncompressed input.\n",
      "[644453][08:41:06:211994][warning] Auto detection of compression type is supported only for file type buffers. For other buffer types, AUTO compression type assumes uncompressed input.\n",
      "/home/dacosta/miniforge3/envs/nb_2510_0731/lib/python3.13/site-packages/cudf/core/reshape.py:399: FutureWarning: The behavior of array concatenation with empty entries is deprecated. In a future version, this will no longer exclude empty items when determining the result dtype. To retain the old behavior, exclude the empty entries before the concat operation.\n",
      "  warnings.warn(\n",
      "/home/dacosta/miniforge3/envs/nb_2510_0731/lib/python3.13/site-packages/cudf/core/reshape.py:399: FutureWarning: The behavior of array concatenation with empty entries is deprecated. In a future version, this will no longer exclude empty items when determining the result dtype. To retain the old behavior, exclude the empty entries before the concat operation.\n",
      "  warnings.warn(\n"
     ]
    },
    {
     "name": "stdout",
     "output_type": "stream",
     "text": [
      "\tWCC  \n",
      "\tKatz  \n",
      "\tK_Truss  "
     ]
    },
    {
     "name": "stderr",
     "output_type": "stream",
     "text": [
      "/home/dacosta/miniforge3/envs/nb_2510_0731/lib/python3.13/site-packages/cugraph/dask/centrality/katz_centrality.py:152: UserWarning: Katz centrality expects the 'store_transposed' flag to be set to 'True' for optimal performance during the graph creation\n",
      "  warnings.warn(warning_msg, UserWarning)\n"
     ]
    },
    {
     "name": "stdout",
     "output_type": "stream",
     "text": [
      "\n",
      "\tBC   \n",
      "\tLouvain  modularity: 0.8121808171272278\n",
      " \n",
      "\tTC   \n",
      "\tCore Number   \n",
      "\tPageRank  "
     ]
    },
    {
     "name": "stderr",
     "output_type": "stream",
     "text": [
      "/home/dacosta/miniforge3/envs/nb_2510_0731/lib/python3.13/site-packages/cugraph/dask/link_analysis/pagerank.py:316: UserWarning: Pagerank expects the 'store_transposed' flag to be set to 'True' for optimal performance during the graph creation\n",
      "  warnings.warn(warning_msg, UserWarning)\n"
     ]
    },
    {
     "name": "stdout",
     "output_type": "stream",
     "text": [
      " \n",
      "\tJaccard  "
     ]
    },
    {
     "name": "stderr",
     "output_type": "stream",
     "text": [
      "/home/dacosta/miniforge3/envs/nb_2510_0731/lib/python3.13/site-packages/cudf/core/reshape.py:399: FutureWarning: The behavior of array concatenation with empty entries is deprecated. In a future version, this will no longer exclude empty items when determining the result dtype. To retain the old behavior, exclude the empty entries before the concat operation.\n",
      "  warnings.warn(\n",
      "/home/dacosta/miniforge3/envs/nb_2510_0731/lib/python3.13/site-packages/cudf/core/reshape.py:399: FutureWarning: The behavior of array concatenation with empty entries is deprecated. In a future version, this will no longer exclude empty items when determining the result dtype. To retain the old behavior, exclude the empty entries before the concat operation.\n",
      "  warnings.warn(\n",
      "/home/dacosta/miniforge3/envs/nb_2510_0731/lib/python3.13/site-packages/cudf/core/reshape.py:399: FutureWarning: The behavior of array concatenation with empty entries is deprecated. In a future version, this will no longer exclude empty items when determining the result dtype. To retain the old behavior, exclude the empty entries before the concat operation.\n",
      "  warnings.warn(\n"
     ]
    },
    {
     "name": "stdout",
     "output_type": "stream",
     "text": [
      " \n"
     ]
    },
    {
     "name": "stderr",
     "output_type": "stream",
     "text": [
      "/home/dacosta/miniforge3/envs/nb_2510_0731/lib/python3.13/site-packages/cudf/core/reshape.py:399: FutureWarning: The behavior of array concatenation with empty entries is deprecated. In a future version, this will no longer exclude empty items when determining the result dtype. To retain the old behavior, exclude the empty entries before the concat operation.\n",
      "  warnings.warn(\n"
     ]
    },
    {
     "name": "stdout",
     "output_type": "stream",
     "text": [
      "\tBFS   \n",
      "\tSSSP   \n",
      "------------------------------\n",
      "<class 'dask_cudf._expr.collection.DataFrame'>\n"
     ]
    },
    {
     "name": "stderr",
     "output_type": "stream",
     "text": [
      "[644453][08:41:40:939056][warning] Auto detection of compression type is supported only for file type buffers. For other buffer types, AUTO compression type assumes uncompressed input.\n",
      "[644453][08:41:40:943468][warning] Auto detection of compression type is supported only for file type buffers. For other buffer types, AUTO compression type assumes uncompressed input.\n",
      "/home/dacosta/miniforge3/envs/nb_2510_0731/lib/python3.13/site-packages/cudf/core/reshape.py:399: FutureWarning: The behavior of array concatenation with empty entries is deprecated. In a future version, this will no longer exclude empty items when determining the result dtype. To retain the old behavior, exclude the empty entries before the concat operation.\n",
      "  warnings.warn(\n",
      "/home/dacosta/miniforge3/envs/nb_2510_0731/lib/python3.13/site-packages/cudf/core/reshape.py:399: FutureWarning: The behavior of array concatenation with empty entries is deprecated. In a future version, this will no longer exclude empty items when determining the result dtype. To retain the old behavior, exclude the empty entries before the concat operation.\n",
      "  warnings.warn(\n"
     ]
    },
    {
     "name": "stdout",
     "output_type": "stream",
     "text": [
      "\tWCC  \n",
      "\tKatz  \n",
      "\tK_Truss  "
     ]
    },
    {
     "name": "stderr",
     "output_type": "stream",
     "text": [
      "/home/dacosta/miniforge3/envs/nb_2510_0731/lib/python3.13/site-packages/cugraph/dask/centrality/katz_centrality.py:152: UserWarning: Katz centrality expects the 'store_transposed' flag to be set to 'True' for optimal performance during the graph creation\n",
      "  warnings.warn(warning_msg, UserWarning)\n"
     ]
    },
    {
     "name": "stdout",
     "output_type": "stream",
     "text": [
      "\n",
      "\tBC   \n",
      "\tLouvain  modularity: 0.42363953590393066\n",
      " \n",
      "\tTC   \n",
      "\tCore Number   \n",
      "\tPageRank  "
     ]
    },
    {
     "name": "stderr",
     "output_type": "stream",
     "text": [
      "/home/dacosta/miniforge3/envs/nb_2510_0731/lib/python3.13/site-packages/cugraph/dask/link_analysis/pagerank.py:316: UserWarning: Pagerank expects the 'store_transposed' flag to be set to 'True' for optimal performance during the graph creation\n",
      "  warnings.warn(warning_msg, UserWarning)\n",
      "/home/dacosta/miniforge3/envs/nb_2510_0731/lib/python3.13/site-packages/cudf/core/reshape.py:399: FutureWarning: The behavior of array concatenation with empty entries is deprecated. In a future version, this will no longer exclude empty items when determining the result dtype. To retain the old behavior, exclude the empty entries before the concat operation.\n",
      "  warnings.warn(\n"
     ]
    },
    {
     "name": "stdout",
     "output_type": "stream",
     "text": [
      " \n",
      "\tJaccard  "
     ]
    },
    {
     "name": "stderr",
     "output_type": "stream",
     "text": [
      "/home/dacosta/miniforge3/envs/nb_2510_0731/lib/python3.13/site-packages/cudf/core/reshape.py:399: FutureWarning: The behavior of array concatenation with empty entries is deprecated. In a future version, this will no longer exclude empty items when determining the result dtype. To retain the old behavior, exclude the empty entries before the concat operation.\n",
      "  warnings.warn(\n",
      "/home/dacosta/miniforge3/envs/nb_2510_0731/lib/python3.13/site-packages/cudf/core/reshape.py:399: FutureWarning: The behavior of array concatenation with empty entries is deprecated. In a future version, this will no longer exclude empty items when determining the result dtype. To retain the old behavior, exclude the empty entries before the concat operation.\n",
      "  warnings.warn(\n"
     ]
    },
    {
     "name": "stdout",
     "output_type": "stream",
     "text": [
      " \n"
     ]
    },
    {
     "name": "stderr",
     "output_type": "stream",
     "text": [
      "/home/dacosta/miniforge3/envs/nb_2510_0731/lib/python3.13/site-packages/cudf/core/reshape.py:399: FutureWarning: The behavior of array concatenation with empty entries is deprecated. In a future version, this will no longer exclude empty items when determining the result dtype. To retain the old behavior, exclude the empty entries before the concat operation.\n",
      "  warnings.warn(\n"
     ]
    },
    {
     "name": "stdout",
     "output_type": "stream",
     "text": [
      "\tBFS   \n",
      "\tSSSP   \n"
     ]
    }
   ],
   "source": [
    "cugraph_algo_run_times = defaultdict(defaultdict)\n",
    "cugraph_graph_creation_time = defaultdict()\n",
    "for dataset, scale in data.items():\n",
    "    cugraph_algo_run_times[dataset], cugraph_graph_creation_time[dataset] = run_algorithms(dataset, scale, mg=mg )\n",
    "gpu,count = get_gpus()"
   ]
  },
  {
   "cell_type": "code",
   "execution_count": 25,
   "metadata": {},
   "outputs": [
    {
     "data": {
      "text/plain": [
       "defaultdict(collections.defaultdict,\n",
       "            {'netscience': defaultdict(None,\n",
       "                         {'WCC': 0.1487941579980543,\n",
       "                          'Katz': 0.16362326300441055,\n",
       "                          'K_Truss': 0.22635209700092673,\n",
       "                          'BC': 0.5649143990012817,\n",
       "                          'Louvain': 0.22199980900040828,\n",
       "                          'TC': 0.10752569000032963,\n",
       "                          'Core Number': 0.08492955499968957,\n",
       "                          'PageRank': 0.10383302300033392,\n",
       "                          'Jaccard': 0.5002001949978876,\n",
       "                          'BFS': 0.1560347679987899,\n",
       "                          'SSSP': 0.09587146699777804}),\n",
       "             'hollywood': defaultdict(None,\n",
       "                         {'WCC': 0.1961426109992317,\n",
       "                          'Katz': 0.2478383319976274,\n",
       "                          'K_Truss': 8.087235485996644,\n",
       "                          'BC': 3.814511680000578,\n",
       "                          'Louvain': 9.613037590999738,\n",
       "                          'TC': 3.6408679239975754,\n",
       "                          'Core Number': 3.449564538001141,\n",
       "                          'PageRank': 0.2749856589944102,\n",
       "                          'Jaccard': 10.065409066999564,\n",
       "                          'BFS': 0.1252024870045716,\n",
       "                          'SSSP': 0.11625975099741481}),\n",
       "             'cit_patents': defaultdict(None,\n",
       "                         {'WCC': 0.22169885099719977,\n",
       "                          'Katz': 0.16101656099635875,\n",
       "                          'K_Truss': 0.5954480919972411,\n",
       "                          'BC': 6.089105450002535,\n",
       "                          'Louvain': 22.21202697999979,\n",
       "                          'TC': 0.25521377199765993,\n",
       "                          'Core Number': 0.7163361689963494,\n",
       "                          'PageRank': 0.20498200000292854,\n",
       "                          'Jaccard': 0.9642868289956823,\n",
       "                          'BFS': 0.1281028299999889,\n",
       "                          'SSSP': 0.12887870199483586}),\n",
       "             'email_Eu_core': defaultdict(None,\n",
       "                         {'WCC': 0.08876705299917376,\n",
       "                          'Katz': 0.07728935100021772,\n",
       "                          'K_Truss': 0.11993259999871952,\n",
       "                          'BC': 0.4973256329976721,\n",
       "                          'Louvain': 0.19608768499892903,\n",
       "                          'TC': 0.06831856300414074,\n",
       "                          'Core Number': 0.16116506999969715,\n",
       "                          'PageRank': 0.06939872699877014,\n",
       "                          'Jaccard': 0.41879541399976006,\n",
       "                          'BFS': 0.08779967000009492,\n",
       "                          'SSSP': 0.08910914700391004})})"
      ]
     },
     "execution_count": 25,
     "metadata": {},
     "output_type": "execute_result"
    }
   ],
   "source": [
    "cugraph_algo_run_times"
   ]
  },
  {
   "cell_type": "code",
   "execution_count": 26,
   "metadata": {},
   "outputs": [
    {
     "data": {
      "text/plain": [
       "defaultdict(None,\n",
       "            {'netscience': [6.048330163001083],\n",
       "             'hollywood': [2.225697353002033],\n",
       "             'cit_patents': [0.8663282260022243],\n",
       "             'email_Eu_core': [0.6026267010020092]})"
      ]
     },
     "execution_count": 26,
     "metadata": {},
     "output_type": "execute_result"
    }
   ],
   "source": [
    "cugraph_graph_creation_time"
   ]
  },
  {
   "cell_type": "code",
   "execution_count": 27,
   "metadata": {},
   "outputs": [
    {
     "name": "stdout",
     "output_type": "stream",
     "text": [
      "\n",
      "\t------cuGraph execution times for different algorithms-----mg=True\n",
      "\n",
      "              email_Eu_core cit_patents  hollywood netscience\n",
      "                                                             \n",
      "WCC                0.088767    0.221699   0.196143   0.148794\n",
      "Katz               0.077289    0.161017   0.247838   0.163623\n",
      "K_Truss            0.119933    0.595448   8.087235   0.226352\n",
      "BC                 0.497326    6.089105   3.814512   0.564914\n",
      "Louvain            0.196088   22.212027   9.613038   0.222000\n",
      "TC                 0.068319    0.255214   3.640868   0.107526\n",
      "Core Number        0.161165    0.716336   3.449565   0.084930\n",
      "PageRank           0.069399    0.204982   0.274986   0.103833\n",
      "Jaccard            0.418795    0.964287  10.065409   0.500200\n",
      "BFS                0.087800    0.128103   0.125202   0.156035\n",
      "SSSP               0.089109    0.128879   0.116260   0.095871\n",
      "Creation Time      0.602627    0.866328   2.225697   6.048330\n"
     ]
    }
   ],
   "source": [
    "# cuGraph execution times for different algorithms\n",
    "cugraph_run_times = pd.DataFrame()\n",
    "for dataset in cugraph_algo_run_times.keys():\n",
    "    temp_df = pd.DataFrame({'cuGraph': cugraph_algo_run_times[dataset]})\n",
    "    temp_df.loc['Creation Time'] = cugraph_graph_creation_time[dataset]\n",
    "    columns = [(dataset, '')]\n",
    "    temp_df.columns = pd.MultiIndex.from_tuples(columns)\n",
    "    cugraph_run_times = pd.concat([temp_df, cugraph_run_times], axis=1)\n",
    "\n",
    "print(f'\\n\\t------cuGraph execution times for different algorithms-----mg={mg}\\n')\n",
    "print(cugraph_run_times)"
   ]
  },
  {
   "cell_type": "markdown",
   "metadata": {},
   "source": [
    "Function to Capture the GPU info"
   ]
  },
  {
   "cell_type": "code",
   "execution_count": 28,
   "metadata": {},
   "outputs": [],
   "source": [
    "import subprocess\n",
    "\n",
    "def get_gpus():\n",
    "    try:\n",
    "        gpu_info = subprocess.check_output(\n",
    "        ['nvidia-smi', '--query-gpu=name', '--format-csv,noheader'],\n",
    "        encoding='utf-8'\n",
    "        )\n",
    "        gpus = [line.strip() for line in output.strip().split('\\n') if line.strip()]\n",
    "        gpu_count = len(gpus)\n",
    "        return gpus, gpu_count\n",
    "    except Exception as e:\n",
    "        return \"no_gpus\", 0"
   ]
  },
  {
   "cell_type": "markdown",
   "metadata": {},
   "source": [
    "Save the benchmarks"
   ]
  },
  {
   "cell_type": "code",
   "execution_count": 29,
   "metadata": {},
   "outputs": [],
   "source": [
    "from datetime import datetime\n",
    "time_now = datetime.now()\n",
    "formatted_time = time_now.strftime(\"%Y-%m-%d_%H-%M-%S\")\n",
    "filename = f\"algo-run-{count}-{gpu}-{formatted_time}.csv\"\n",
    "\n",
    "# cugraph_run_times.to_csv(filename, index=True)"
   ]
  },
  {
   "cell_type": "code",
   "execution_count": 30,
   "metadata": {},
   "outputs": [
    {
     "name": "stdout",
     "output_type": "stream",
     "text": [
      "Requirement already satisfied: tabulate in /home/dacosta/miniforge3/envs/nb_2510_0731/lib/python3.13/site-packages (0.9.0)\n",
      "Note: you may need to restart the kernel to use updated packages.\n"
     ]
    }
   ],
   "source": [
    "%pip install tabulate"
   ]
  },
  {
   "cell_type": "code",
   "execution_count": 31,
   "metadata": {},
   "outputs": [],
   "source": [
    "def convert_to_md(dataframe, gpu, count):\n",
    "    cugraph_version = cugraph.__version__\n",
    "    filename = f\"algo-run-{formatted_time}.md\"\n",
    "    data_md = dataframe.to_markdown(index=True)\n",
    "    gpu_count = count\n",
    "    if mg == False:\n",
    "        print(\"Use Multiple GPU is False. Using only 1\")\n",
    "        gpu_count = 1\n",
    "    md_header = f\"\\n# {gpu_count} {gpu} { 'GPU.' if gpu_count == 1 else 'GPU\\'s.\\n'}\"\n",
    "    cugraph_header = f\"\\n## cuGraph version {cugraph_version}\\n\"\n",
    "    time_header = f\"\\nRun times in seconds\\n\"\n",
    "    data_md = md_header + cugraph_header + time_header + data_md\n",
    "    return filename,data_md"
   ]
  },
  {
   "cell_type": "code",
   "execution_count": 32,
   "metadata": {},
   "outputs": [],
   "source": [
    "cugraph_run_times = cugraph_run_times.map(format_times)\n",
    "md_filename, run_md = convert_to_md(cugraph_run_times, gpu, count)\n",
    "with open(md_filename,\"w\") as md_file:\n",
    "    md_file.write(run_md)"
   ]
  },
  {
   "cell_type": "markdown",
   "metadata": {},
   "source": [
    "### Clean up multi-GPU environment"
   ]
  },
  {
   "cell_type": "code",
   "execution_count": 33,
   "metadata": {},
   "outputs": [],
   "source": [
    "Comms.destroy()\n",
    "client.close()\n",
    "cluster.close()"
   ]
  },
  {
   "cell_type": "markdown",
   "metadata": {},
   "source": [
    "___\n",
    "Copyright (c) 2020-2025, NVIDIA CORPORATION.\n",
    "\n",
    "Licensed under the Apache License, Version 2.0 (the \"License\");  you may not use this file except in compliance with the License. You may obtain a copy of the License at http://www.apache.org/licenses/LICENSE-2.0\n",
    "\n",
    "Unless required by applicable law or agreed to in writing, software distributed under the License is distributed on an \"AS IS\" BASIS, WITHOUT WARRANTIES OR CONDITIONS OF ANY KIND, either express or implied. See the License for the specific language governing permissions and limitations under the License.\n",
    "___"
   ]
  }
 ],
 "metadata": {
  "kernelspec": {
   "display_name": "nb_2510_0731",
   "language": "python",
   "name": "python3"
  },
  "language_info": {
   "codemirror_mode": {
    "name": "ipython",
    "version": 3
   },
   "file_extension": ".py",
   "mimetype": "text/x-python",
   "name": "python",
   "nbconvert_exporter": "python",
   "pygments_lexer": "ipython3",
   "version": "3.13.5"
  }
 },
 "nbformat": 4,
 "nbformat_minor": 4
}
