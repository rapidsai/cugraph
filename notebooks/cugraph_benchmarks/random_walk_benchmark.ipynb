{
 "cells": [
  {
   "cell_type": "markdown",
   "metadata": {},
   "source": [
    "# Random Walk Performance\n",
    "# Skip notebook test¶ \n",
    "\n",
    "Random walk performance is governed by the length of the paths to find, the number of seeds, and the size or structure of the graph.\n",
    "This benchmark will use several test graphs of increasingly larger sizes.  While not even multiples in scale, the four test graphs should give an indication of how well Random Walk performs as data size increases.  \n",
    "\n",
    "### Test Data\n",
    "Users must run the _dataPrep.sh_ script before running this notebook so that the test files are downloaded\n",
    "\n",
    "| File Name              | Num of Vertices | Num of Edges |\n",
    "| ---------------------- | --------------: | -----------: |\n",
    "| preferentialAttachment |         100,000 |      999,970 |\n",
    "| dblp-2010              |         326,186 |    1,615,400 |\n",
    "| coPapersCiteseer       |         434,102 |   32,073,440 |\n",
    "| as-Skitter             |       1,696,415 |   22,190,596 |"
   ]
  },
  {
   "cell_type": "code",
   "execution_count": 1,
   "metadata": {},
   "outputs": [],
   "source": [
    "#  Import the modules\n",
    "import cugraph\n",
    "import cudf"
   ]
  },
  {
   "cell_type": "code",
   "execution_count": 2,
   "metadata": {},
   "outputs": [],
   "source": [
    "# system and other\n",
    "import gc\n",
    "import os\n",
    "import time\n",
    "import random\n",
    "\n",
    "# MTX file reader\n",
    "from scipy.io import mmread"
   ]
  },
  {
   "cell_type": "code",
   "execution_count": 3,
   "metadata": {},
   "outputs": [],
   "source": [
    "try: \n",
    "    import matplotlib\n",
    "except ModuleNotFoundError:\n",
    "    os.system('pip install matplotlib')\n",
    "\n",
    "import matplotlib.pyplot as plt; plt.rcdefaults()\n"
   ]
  },
  {
   "cell_type": "code",
   "execution_count": 4,
   "metadata": {},
   "outputs": [],
   "source": [
    "# Test File\n",
    "data = {\n",
    "    'preferentialAttachment' : './data/preferentialAttachment.mtx',\n",
    "    'dblp'                   : './data/dblp-2010.mtx',\n",
    "    'coPapersCiteseer'       : './data/coPapersCiteseer.mtx',\n",
    "    'as-Skitter'             : './data/as-Skitter.mtx'\n",
    "}"
   ]
  },
  {
   "cell_type": "markdown",
   "metadata": {},
   "source": [
    "## Read the data and create a graph"
   ]
  },
  {
   "cell_type": "code",
   "execution_count": 5,
   "metadata": {},
   "outputs": [],
   "source": [
    "# Data reader - the file format is MTX, so we will use the reader from SciPy\n",
    "def read_and_create(datafile):\n",
    "    print('Reading ' + str(datafile) + '...')\n",
    "    M = mmread(datafile).asfptype()\n",
    "\n",
    "    _gdf = cudf.DataFrame()\n",
    "    _gdf['src'] = M.row\n",
    "    _gdf['dst'] = M.col\n",
    "    _gdf['wt'] = 1.0\n",
    "    \n",
    "    _g = cugraph.Graph()\n",
    "    _g.from_cudf_edgelist(_gdf, source='src', destination='dst', edge_attr='wt', renumber=False)\n",
    "    \n",
    "    print(\"\\t{:,} nodes, {:,} edges\".format(_g.number_of_nodes(), _g.number_of_edges() ))\n",
    "    \n",
    "    return _g"
   ]
  },
  {
   "cell_type": "markdown",
   "metadata": {},
   "source": [
    "### Define the call to RandomWalk\n",
    "We are only interested in the runtime, so throw away the results"
   ]
  },
  {
   "cell_type": "code",
   "execution_count": 6,
   "metadata": {},
   "outputs": [],
   "source": [
    "def run_rw(_G, _seeds, _depth):\n",
    "    t1 = time.time()\n",
    "    # cugraph.random_walks() returns a 3-tuple, which is being ignored here.\n",
    "    cugraph.random_walks(_G, _seeds, _depth)\n",
    "    t2 = time.time() - t1\n",
    "    return t2"
   ]
  },
  {
   "cell_type": "markdown",
   "metadata": {},
   "source": [
    "## Test 1: Runtime versus path depth"
   ]
  },
  {
   "cell_type": "code",
   "execution_count": 8,
   "metadata": {},
   "outputs": [
    {
     "name": "stdout",
     "output_type": "stream",
     "text": [
      "Reading ./data/preferentialAttachment.mtx...\n",
      "\t100,000 nodes, 499,985 edges\n",
      "update i\n",
      "Reading ./data/dblp-2010.mtx...\n",
      "\t326,183 nodes, 807,700 edges\n",
      "update i\n",
      "Reading ./data/coPapersCiteseer.mtx...\n",
      "\t434,102 nodes, 16,036,720 edges\n",
      "update i\n",
      "Reading ./data/as-Skitter.mtx...\n",
      "\t1,696,415 nodes, 11,095,298 edges\n",
      "update i\n"
     ]
    }
   ],
   "source": [
    "# some parameters\n",
    "max_depth = 6\n",
    "num_seeds = 500\n",
    "\n",
    "# arrays to capture performance gains\n",
    "names = []\n",
    "\n",
    "# Two dimension data\n",
    "time_algo_cu = []       # will be two dimensional\n",
    "\n",
    "i = 0\n",
    "for k,v in data.items():\n",
    "    time_algo_cu.append([])\n",
    "    \n",
    "    # Saved the file Name\n",
    "    names.append(k)\n",
    "\n",
    "    # read data\n",
    "    G = read_and_create(v)\n",
    "        \n",
    "    num_nodes = G.number_of_nodes()\n",
    "    nodes = G.nodes().to_numpy().tolist()\n",
    "\n",
    "    seeds = random.sample(nodes, num_seeds)\n",
    "\n",
    "    for j in range (2, max_depth+1) :\n",
    "        t = run_rw(G, seeds, j)\n",
    "        time_algo_cu[i].append(t)\n",
    "\n",
    "    # update i\n",
    "    i = i + 1\n",
    "    print(\"update i\")\n",
    "    \n",
    "    del G\n"
   ]
  },
  {
   "cell_type": "code",
   "execution_count": 9,
   "metadata": {},
   "outputs": [
    {
     "data": {
      "text/plain": [
       "list"
      ]
     },
     "execution_count": 9,
     "metadata": {},
     "output_type": "execute_result"
    }
   ],
   "source": [
    "type(nodes)"
   ]
  },
  {
   "cell_type": "code",
   "execution_count": 10,
   "metadata": {},
   "outputs": [
    {
     "data": {
      "image/png": "[encoded data removed]",
      "text/plain": [
       "<Figure size 720x360 with 1 Axes>"
      ]
     },
     "metadata": {
      "needs_background": "light"
     },
     "output_type": "display_data"
    }
   ],
   "source": [
    "%matplotlib inline\n",
    "seed_idx = list(range(2,max_depth +1))\n",
    "\n",
    "plt.figure(figsize=(10,5))\n",
    "\n",
    "for i in range(len(data)):\n",
    "    plt.plot(seed_idx, time_algo_cu[i], label = names[i])\n",
    "\n",
    "\n",
    "plt.title(f'Runtime vs. Path Length ({num_seeds} Seeds)')\n",
    "plt.xlabel('Path length')\n",
    "plt.ylabel('Runtime')\n",
    "plt.legend()\n",
    "plt.show()"
   ]
  },
  {
   "cell_type": "code",
   "execution_count": 11,
   "metadata": {},
   "outputs": [
    {
     "data": {
      "text/plain": [
       "4156"
      ]
     },
     "execution_count": 11,
     "metadata": {},
     "output_type": "execute_result"
    }
   ],
   "source": [
    "del time_algo_cu\n",
    "gc.collect()"
   ]
  },
  {
   "cell_type": "markdown",
   "metadata": {},
   "source": []
  },
  {
   "cell_type": "markdown",
   "metadata": {},
   "source": [
    "## Test 2: Runtime versus number of seeds\n",
    "The number of seeds will be increased over a range in increments of 10.  \n",
    "The runtime will be the sum of runtime per increment.  Increaing number of seeds by 1 would make for very long execution times "
   ]
  },
  {
   "cell_type": "code",
   "execution_count": 13,
   "metadata": {},
   "outputs": [
    {
     "name": "stdout",
     "output_type": "stream",
     "text": [
      "Reading ./data/preferentialAttachment.mtx...\n",
      "\t100,000 nodes, 499,985 edges\n",
      "\t.................................................................................................... \n",
      "Reading ./data/dblp-2010.mtx...\n",
      "\t326,183 nodes, 807,700 edges\n",
      "\t.................................................................................................... \n",
      "Reading ./data/coPapersCiteseer.mtx...\n",
      "\t434,102 nodes, 16,036,720 edges\n",
      "\t.................................................................................................... \n",
      "Reading ./data/as-Skitter.mtx...\n",
      "\t1,696,415 nodes, 11,095,298 edges\n",
      "\t.................................................................................................... \n"
     ]
    }
   ],
   "source": [
    "# some parameters\n",
    "rw_depth = 4\n",
    "max_seeds = 1000\n",
    "\n",
    "# arrays to capture performance gains\n",
    "names = []\n",
    "\n",
    "# Two dimension data\n",
    "time_algo_cu = []       # will be two dimensional\n",
    "\n",
    "i = 0\n",
    "for k,v in data.items():\n",
    "    time_algo_cu.append([])\n",
    "    \n",
    "    # Saved the file Name\n",
    "    names.append(k)\n",
    "\n",
    "    # read data\n",
    "    G = read_and_create(v)\n",
    "        \n",
    "    num_nodes = G.number_of_nodes()\n",
    "    nodes = G.nodes().to_numpy().tolist()\n",
    "    \n",
    "    print('\\t', end='')\n",
    "    for j in range (10, max_seeds +1, 10) :\n",
    "        print('.', end='')\n",
    "        seeds = random.sample(nodes, j+1)\n",
    "        t = run_rw(G, seeds, rw_depth)\n",
    "        time_algo_cu[i].append(t)\n",
    "\n",
    "    # update i\n",
    "    i = i + 1\n",
    "    print(\" \")\n",
    "    \n",
    "    del G\n"
   ]
  },
  {
   "cell_type": "code",
   "execution_count": 14,
   "metadata": {},
   "outputs": [
    {
     "data": {
      "image/png": "[encoded data removed]",
      "text/plain": [
       "<Figure size 720x360 with 1 Axes>"
      ]
     },
     "metadata": {
      "needs_background": "light"
     },
     "output_type": "display_data"
    }
   ],
   "source": [
    "%matplotlib inline\n",
    "seed_idx = list(range (10, max_seeds +1, 10))\n",
    "\n",
    "plt.figure(figsize=(10,5))\n",
    "\n",
    "for i in range(len(data)):\n",
    "    plt.plot(seed_idx, time_algo_cu[i], label = names[i])\n",
    "\n",
    "\n",
    "plt.title('Runtime vs. Number of Seeds')\n",
    "plt.xlabel('Number of Seeds')\n",
    "plt.ylabel('Runtime')\n",
    "plt.legend()\n",
    "plt.show()"
   ]
  },
  {
   "cell_type": "code",
   "execution_count": 15,
   "metadata": {},
   "outputs": [
    {
     "data": {
      "text/plain": [
       "3711"
      ]
     },
     "execution_count": 15,
     "metadata": {},
     "output_type": "execute_result"
    }
   ],
   "source": [
    "del time_algo_cu\n",
    "gc.collect()"
   ]
  },
  {
   "cell_type": "markdown",
   "metadata": {},
   "source": [
    "## Test 3: Multi-seed versus Sequential\n",
    "This test uses a single files since sequential execution is slow"
   ]
  },
  {
   "cell_type": "code",
   "execution_count": 16,
   "metadata": {},
   "outputs": [
    {
     "name": "stdout",
     "output_type": "stream",
     "text": [
      "Reading ./data/coPapersCiteseer.mtx...\n",
      "\t434,102 nodes, 16,036,720 edges\n"
     ]
    }
   ],
   "source": [
    "G = read_and_create('./data/coPapersCiteseer.mtx')\n",
    "nodes = G.nodes().to_numpy().tolist()\n"
   ]
  },
  {
   "cell_type": "code",
   "execution_count": 17,
   "metadata": {},
   "outputs": [],
   "source": [
    "rw_depth = 4\n",
    "max_seeds = 100\n",
    "num_nodes = G.number_of_nodes()\n",
    "runtime_seq = [0] * max_seeds"
   ]
  },
  {
   "cell_type": "code",
   "execution_count": 18,
   "metadata": {},
   "outputs": [],
   "source": [
    "# sequential = so also get a single random seed\n",
    "for i in range (max_seeds) :\n",
    "    for j in range(i):\n",
    "        seeds = random.sample(nodes, 1)\n",
    "        t = run_rw(G, seeds, rw_depth)\n",
    "        runtime_seq[i] = runtime_seq[i] + t"
   ]
  },
  {
   "cell_type": "code",
   "execution_count": 19,
   "metadata": {},
   "outputs": [],
   "source": [
    "runtime = [None] * max_seeds\n",
    "\n",
    "for i in range (max_seeds) :\n",
    "    seeds = random.sample(nodes, i+1)\n",
    "    t = run_rw(G, seeds, rw_depth)\n",
    "    runtime[i] = t"
   ]
  },
  {
   "cell_type": "code",
   "execution_count": 20,
   "metadata": {},
   "outputs": [
    {
     "data": {
      "image/png": "[encoded data removed]",
      "text/plain": [
       "<Figure size 504x288 with 1 Axes>"
      ]
     },
     "metadata": {
      "needs_background": "light"
     },
     "output_type": "display_data"
    }
   ],
   "source": [
    "%matplotlib inline\n",
    "seed_idx = list(range(1,max_seeds +1))\n",
    "\n",
    "\n",
    "plt.figure(figsize=(7,4))\n",
    "plt.plot(seed_idx, runtime, label = \"multiple seeds\")\n",
    "plt.plot(seed_idx, runtime_seq, label = \"sequential\")\n",
    "\n",
    "\n",
    "plt.title('Runtime vs. Number of Seeds')\n",
    "plt.xlabel('Number of Seeds')\n",
    "plt.ylabel('Runtime')\n",
    "plt.legend()\n",
    "plt.show()"
   ]
  },
  {
   "cell_type": "markdown",
   "metadata": {},
   "source": [
    "-----\n",
    "Copyright (c) 2021, NVIDIA CORPORATION.\n",
    "\n",
    "Licensed under the Apache License, Version 2.0 (the \"License\"); you may not use this file except in compliance with the License. You may obtain a copy of the License at http://www.apache.org/licenses/LICENSE-2.0\n",
    "\n",
    "Unless required by applicable law or agreed to in writing, software distributed under the License is distributed on an \"AS IS\" BASIS, WITHOUT WARRANTIES OR CONDITIONS OF ANY KIND, either express or implied. See the License for the specific language governing permissions and limitations under the License."
   ]
  }
 ],
 "metadata": {
  "kernelspec": {
   "display_name": "Python 3 (ipykernel)",
   "language": "python",
   "name": "python3"
  },
  "language_info": {
   "codemirror_mode": {
    "name": "ipython",
    "version": 3
   },
   "file_extension": ".py",
   "mimetype": "text/x-python",
   "name": "python",
   "nbconvert_exporter": "python",
   "pygments_lexer": "ipython3",
   "version": "3.8.13"
  }
 },
 "nbformat": 4,
 "nbformat_minor": 4
}
