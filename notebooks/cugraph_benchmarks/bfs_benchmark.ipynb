{
 "cells": [
  {
   "attachments": {},
   "cell_type": "markdown",
   "metadata": {},
   "source": [
    "# BFS Performance Benchmarking\n",
    "# Skip notebook test\n",
    "\n",
    "This notebook benchmarks performance of running BFS within cuGraph against NetworkX. \n",
    "\n",
    "\n",
    "| Author Credit |    Date    |  Update          | cuGraph Version |  Test Hardware |\n",
    "| --------------|------------|------------------|-----------------|----------------|\n",
    "| Brad Rees     | 08/16/2020 | created          | 0.15            | GV100 32G, CUDA 10.2\n",
    "| Don Acosta    | 05/15/2023 | update and test  | 23.06           | A6000 32G, CUDA 11.7"
   ]
  },
  {
   "attachments": {},
   "cell_type": "markdown",
   "metadata": {},
   "source": [
    "### Test Data\n",
    "\n",
    "| File Name              | Num of Vertices | Num of Edges |\n",
    "|:---------------------- | --------------: | -----------: |\n",
    "| preferentialAttachment |         100,000 |      999,970 |\n",
    "| caidaRouterLevel       |         192,244 |    1,218,132 |\n",
    "| coAuthorsDBLP          |         299,067 |    1,955,352 |\n",
    "| dblp-2010              |         326,186 |    1,615,400 |\n",
    "| citationCiteseer       |         268,495 |    2,313,294 |\n",
    "| coPapersDBLP           |         540,486 |   30,491,458 |\n",
    "| coPapersCiteseer       |         434,102 |   32,073,440 |\n",
    "| as-Skitter             |       1,696,415 |   22,190,596 |\n",
    "\n",
    "\n"
   ]
  },
  {
   "attachments": {},
   "cell_type": "markdown",
   "metadata": {},
   "source": [
    "### Timing \n",
    "What is not timed:  Reading the data</p>\n",
    "What is timmed: (1) creating a Graph, (2) running BSF\n"
   ]
  },
  {
   "attachments": {},
   "cell_type": "markdown",
   "metadata": {},
   "source": [
    "## NOTICE:\n",
    "You must have run the dataPrep script prior to running this notebook so that the data is downloaded\n",
    "\n",
    "See the README file in this folder for a discription of how to get the data"
   ]
  },
  {
   "attachments": {},
   "cell_type": "markdown",
   "metadata": {},
   "source": [
    "## Now load the required libraries"
   ]
  },
  {
   "cell_type": "code",
   "execution_count": 1,
   "metadata": {},
   "outputs": [],
   "source": [
    "# Import needed libraries\n",
    "import gc\n",
    "import time\n",
    "import rmm\n",
    "import cugraph\n",
    "import cudf\n",
    "import os"
   ]
  },
  {
   "cell_type": "code",
   "execution_count": 2,
   "metadata": {},
   "outputs": [],
   "source": [
    "# NetworkX libraries\n",
    "import networkx as nx\n",
    "from scipy.io import mmread"
   ]
  },
  {
   "cell_type": "code",
   "execution_count": 3,
   "metadata": {},
   "outputs": [],
   "source": [
    "try: \n",
    "    import matplotlib\n",
    "except ModuleNotFoundError:\n",
    "    os.system('pip install matplotlib')"
   ]
  },
  {
   "cell_type": "code",
   "execution_count": 4,
   "metadata": {},
   "outputs": [],
   "source": [
    "import matplotlib.pyplot as plt; plt.rcdefaults()\n",
    "import numpy as np"
   ]
  },
  {
   "attachments": {},
   "cell_type": "markdown",
   "metadata": {},
   "source": [
    "### Define the test data"
   ]
  },
  {
   "cell_type": "code",
   "execution_count": 5,
   "metadata": {},
   "outputs": [],
   "source": [
    "# Test File\n",
    "data = {\n",
    "    'preferentialAttachment' : './data/preferentialAttachment.mtx',\n",
    "    'caidaRouterLevel'       : './data/caidaRouterLevel.mtx',\n",
    "    'coAuthorsDBLP'          : './data/coAuthorsDBLP.mtx',\n",
    "    'dblp'                   : './data/dblp-2010.mtx',\n",
    "    'citationCiteseer'       : './data/citationCiteseer.mtx',\n",
    "    'coPapersDBLP'           : './data/coPapersDBLP.mtx',\n",
    "    'coPapersCiteseer'       : './data/coPapersCiteseer.mtx',\n",
    "    'as-Skitter'             : './data/as-Skitter.mtx'\n",
    "}"
   ]
  },
  {
   "attachments": {},
   "cell_type": "markdown",
   "metadata": {},
   "source": [
    "### Define the testing functions"
   ]
  },
  {
   "cell_type": "code",
   "execution_count": 6,
   "metadata": {},
   "outputs": [],
   "source": [
    "# Data reader - the file format is MTX, so we will use the reader from SciPy\n",
    "def read_mtx_file(mm_file):\n",
    "    print('Reading ' + str(mm_file) + '...')\n",
    "    M = mmread(mm_file).asfptype()\n",
    "     \n",
    "    return M"
   ]
  },
  {
   "cell_type": "code",
   "execution_count": 7,
   "metadata": {},
   "outputs": [],
   "source": [
    "# CuGraph BFS\n",
    "\n",
    "def cugraph_call(M):\n",
    "\n",
    "    gdf = cudf.DataFrame()\n",
    "    gdf['src'] = M.row\n",
    "    gdf['dst'] = M.col\n",
    "    \n",
    "    print('\\tcuGraph Solving... ')\n",
    "    \n",
    "    t1 = time.time()\n",
    "        \n",
    "    # cugraph Pagerank Call\n",
    "    G = cugraph.Graph(directed=True)\n",
    "    G.from_cudf_edgelist(gdf, source='src', destination='dst', renumber=False)\n",
    "    \n",
    "    df = cugraph.bfs(G, 1)\n",
    "    t2 = time.time() - t1\n",
    "    \n",
    "    return t2\n",
    "    "
   ]
  },
  {
   "cell_type": "code",
   "execution_count": 8,
   "metadata": {},
   "outputs": [],
   "source": [
    "# Basic NetworkX BFS\n",
    "\n",
    "def networkx_call(M):\n",
    "    nnz_per_row = {r: 0 for r in range(M.get_shape()[0])}\n",
    "    for nnz in range(M.getnnz()):\n",
    "        nnz_per_row[M.row[nnz]] = 1 + nnz_per_row[M.row[nnz]]\n",
    "    for nnz in range(M.getnnz()):\n",
    "        M.data[nnz] = 1.0/float(nnz_per_row[M.row[nnz]])\n",
    "\n",
    "    M = M.tocsr()\n",
    "    if M is None:\n",
    "        raise TypeError('Could not read the input graph')\n",
    "    if M.shape[0] != M.shape[1]:\n",
    "        raise TypeError('Shape is not square')\n",
    "\n",
    "    # should be autosorted, but check just to make sure\n",
    "    if not M.has_sorted_indices:\n",
    "        print('sort_indices ... ')\n",
    "        M.sort_indices()\n",
    "\n",
    "    z = {k: 1.0/M.shape[0] for k in range(M.shape[0])}\n",
    "        \n",
    "    print('\\tNetworkX Solving... ')\n",
    "        \n",
    "    # start timer\n",
    "    t1 = time.time()\n",
    "    \n",
    "    Gnx = nx.DiGraph(M)\n",
    "\n",
    "    pr = nx.bfs_edges(Gnx, 1)\n",
    "    \n",
    "    t2 = time.time() - t1\n",
    "\n",
    "    return t2"
   ]
  },
  {
   "attachments": {},
   "cell_type": "markdown",
   "metadata": {},
   "source": [
    "### Run the benchmarks"
   ]
  },
  {
   "cell_type": "code",
   "execution_count": 9,
   "metadata": {},
   "outputs": [
    {
     "name": "stdout",
     "output_type": "stream",
     "text": [
      "Reading ./data/preferentialAttachment.mtx...\n",
      "\tcuGraph Solving... \n",
      "Reading ./data/preferentialAttachment.mtx...\n",
      "\tcuGraph Solving... \n",
      "\tNetworkX Solving... \n",
      "\tcuGraph (0.020940780639648438)  Nx (4.338929653167725)\n",
      "Reading ./data/caidaRouterLevel.mtx...\n",
      "\tcuGraph Solving... \n",
      "\tNetworkX Solving... \n",
      "\tcuGraph (0.024698734283447266)  Nx (5.54830265045166)\n",
      "Reading ./data/coAuthorsDBLP.mtx...\n",
      "\tcuGraph Solving... \n",
      "\tNetworkX Solving... \n",
      "\tcuGraph (0.029554128646850586)  Nx (8.57802963256836)\n",
      "Reading ./data/dblp-2010.mtx...\n",
      "\tcuGraph Solving... \n",
      "\tNetworkX Solving... \n",
      "\tcuGraph (0.026847124099731445)  Nx (6.8994972705841064)\n",
      "Reading ./data/citationCiteseer.mtx...\n",
      "\tcuGraph Solving... \n",
      "\tNetworkX Solving... \n",
      "\tcuGraph (0.0343780517578125)  Nx (10.67018461227417)\n",
      "Reading ./data/coPapersDBLP.mtx...\n",
      "\tcuGraph Solving... \n",
      "\tNetworkX Solving... \n",
      "\tcuGraph (0.3869767189025879)  Nx (113.43171763420105)\n",
      "Reading ./data/coPapersCiteseer.mtx...\n",
      "\tcuGraph Solving... \n",
      "\tNetworkX Solving... \n",
      "\tcuGraph (0.5291621685028076)  Nx (118.79223370552063)\n",
      "Reading ./data/as-Skitter.mtx...\n",
      "\tcuGraph Solving... \n",
      "\tNetworkX Solving... \n",
      "\tcuGraph (1.3857977390289307)  Nx (94.12068247795105)\n"
     ]
    }
   ],
   "source": [
    "# arrays to capture performance gains\n",
    "perf_nx = []\n",
    "names = []\n",
    "time_cu = []\n",
    "time_nx = []\n",
    "\n",
    "# do a simple pass just to get all the libraries initiallized\n",
    "v = './data/preferentialAttachment.mtx'\n",
    "M = read_mtx_file(v)\n",
    "trapids = cugraph_call(M)\n",
    "del M\n",
    "\n",
    "for k,v in data.items():\n",
    "    gc.collect()\n",
    "\n",
    "    # Saved the file Name\n",
    "    names.append(k)\n",
    "    \n",
    "    # read the data\n",
    "    M = read_mtx_file(v)\n",
    "    \n",
    "    \n",
    "    # call cuGraph - this will be the baseline\n",
    "    trapids = cugraph_call(M)\n",
    "    \n",
    "    # Now call NetworkX\n",
    "    tn = networkx_call(M)\n",
    "    speedUp = (tn / trapids)\n",
    "    perf_nx.append(speedUp)\n",
    "    time_cu.append(trapids)\n",
    "    time_nx.append(tn)\n",
    "    del M\n",
    "    \n",
    "    print(\"\\tcuGraph (\" + str(trapids) + \")  Nx (\" + str(tn) + \")\" )"
   ]
  },
  {
   "cell_type": "code",
   "execution_count": 10,
   "metadata": {},
   "outputs": [
    {
     "data": {
      "image/png": "[encoded data removed]",
      "text/plain": [
       "<Figure size 1100x900 with 1 Axes>"
      ]
     },
     "metadata": {},
     "output_type": "display_data"
    }
   ],
   "source": [
    "%matplotlib inline\n",
    "\n",
    "plt.figure(figsize=(11,9))\n",
    "\n",
    "bar_width = 0.5\n",
    "index = np.arange(len(names))\n",
    "\n",
    "_ = plt.bar(index, perf_nx, bar_width, color='g', label='vs NetworkX')\n",
    "\n",
    "\n",
    "\n",
    "plt.xlabel('Datasets')\n",
    "plt.ylabel('Speedup')\n",
    "plt.title('BFS Performance Speedup')\n",
    "plt.xticks(index + (bar_width/4), names)\n",
    "plt.xticks(rotation=90) \n",
    "\n",
    "# Text on the top of each barplot\n",
    "for i in range(len(perf_nx)):\n",
    "    plt.text(x = (i - .5) + bar_width, y = perf_nx[i] + 25, s = round(perf_nx[i], 1), size = 12)\n",
    "\n",
    "plt.legend()\n",
    "plt.show()"
   ]
  },
  {
   "attachments": {},
   "cell_type": "markdown",
   "metadata": {},
   "source": [
    "# Dump the raw data"
   ]
  },
  {
   "cell_type": "code",
   "execution_count": 11,
   "metadata": {},
   "outputs": [
    {
     "data": {
      "text/plain": [
       "[207.19999544585116,\n",
       " 224.63914898546247,\n",
       " 290.2480981614889,\n",
       " 256.9920429821056,\n",
       " 310.37781569019086,\n",
       " 293.1228471725059,\n",
       " 224.4911688256685,\n",
       " 67.91805169483405]"
      ]
     },
     "execution_count": 11,
     "metadata": {},
     "output_type": "execute_result"
    }
   ],
   "source": [
    "# print the speed-up numbers\n",
    "perf_nx"
   ]
  },
  {
   "cell_type": "code",
   "execution_count": 12,
   "metadata": {},
   "outputs": [
    {
     "data": {
      "text/plain": [
       "[0.020940780639648438,\n",
       " 0.024698734283447266,\n",
       " 0.029554128646850586,\n",
       " 0.026847124099731445,\n",
       " 0.0343780517578125,\n",
       " 0.3869767189025879,\n",
       " 0.5291621685028076,\n",
       " 1.3857977390289307]"
      ]
     },
     "execution_count": 12,
     "metadata": {},
     "output_type": "execute_result"
    }
   ],
   "source": [
    "# print the cuGraph runtimes\n",
    "time_cu"
   ]
  },
  {
   "cell_type": "code",
   "execution_count": 13,
   "metadata": {},
   "outputs": [
    {
     "data": {
      "text/plain": [
       "[4.338929653167725,\n",
       " 5.54830265045166,\n",
       " 8.57802963256836,\n",
       " 6.8994972705841064,\n",
       " 10.67018461227417,\n",
       " 113.43171763420105,\n",
       " 118.79223370552063,\n",
       " 94.12068247795105]"
      ]
     },
     "execution_count": 13,
     "metadata": {},
     "output_type": "execute_result"
    }
   ],
   "source": [
    "# print the NetworkX runtimes\n",
    "time_nx"
   ]
  },
  {
   "attachments": {},
   "cell_type": "markdown",
   "metadata": {},
   "source": [
    "___\n",
    "Copyright (c) 2020-2023, NVIDIA CORPORATION.\n",
    "\n",
    "Licensed under the Apache License, Version 2.0 (the \"License\");  you may not use this file except in compliance with the License. You may obtain a copy of the License at http://www.apache.org/licenses/LICENSE-2.0\n",
    "\n",
    "Unless required by applicable law or agreed to in writing, software distributed under the License is distributed on an \"AS IS\" BASIS, WITHOUT WARRANTIES OR CONDITIONS OF ANY KIND, either express or implied. See the License for the specific language governing permissions and limitations under the License.\n",
    "___"
   ]
  }
 ],
 "metadata": {
  "kernelspec": {
   "display_name": "cugraph_0510",
   "language": "python",
   "name": "python3"
  },
  "language_info": {
   "codemirror_mode": {
    "name": "ipython",
    "version": 3
   },
   "file_extension": ".py",
   "mimetype": "text/x-python",
   "name": "python",
   "nbconvert_exporter": "python",
   "pygments_lexer": "ipython3",
   "version": "3.10.10"
  }
 },
 "nbformat": 4,
 "nbformat_minor": 4
}
