{
 "cells": [
  {
   "cell_type": "markdown",
   "metadata": {},
   "source": [
    "# BFS Performance Benchmarking\n",
    "# Skip notebook test\n",
    "\n",
    "This notebook benchmarks performance of running BFS within cuGraph against NetworkX. \n",
    "\n",
    "Notebook Credits\n",
    "\n",
    "    Original Authors: Bradley Rees\n",
    "    Last Edit: 08/16/2020\n",
    "    \n",
    "RAPIDS Versions: 0.15\n",
    "\n",
    "Test Hardware\n",
    "\n",
    "    GV100 32G, CUDA 10.2\n",
    "    Intel(R) Core(TM) CPU i7-7800X @ 3.50GHz\n",
    "    32GB system memory\n",
    "    \n"
   ]
  },
  {
   "cell_type": "markdown",
   "metadata": {},
   "source": [
    "### Test Data\n",
    "\n",
    "| File Name              | Num of Vertices | Num of Edges |\n",
    "|:---------------------- | --------------: | -----------: |\n",
    "| preferentialAttachment |         100,000 |      999,970 |\n",
    "| caidaRouterLevel       |         192,244 |    1,218,132 |\n",
    "| coAuthorsDBLP          |         299,067 |    1,955,352 |\n",
    "| dblp-2010              |         326,186 |    1,615,400 |\n",
    "| citationCiteseer       |         268,495 |    2,313,294 |\n",
    "| coPapersDBLP           |         540,486 |   30,491,458 |\n",
    "| coPapersCiteseer       |         434,102 |   32,073,440 |\n",
    "| as-Skitter             |       1,696,415 |   22,190,596 |\n",
    "\n",
    "\n"
   ]
  },
  {
   "cell_type": "markdown",
   "metadata": {},
   "source": [
    "### Timing \n",
    "What is not timed:  Reading the data</p>\n",
    "What is timmed: (1) creating a Graph, (2) running BSF\n"
   ]
  },
  {
   "cell_type": "markdown",
   "metadata": {},
   "source": [
    "## NOTICE:\n",
    "You must have run the dataPrep script prior to running this notebook so that the data is downloaded\n",
    "\n",
    "See the README file in this folder for a discription of how to get the data"
   ]
  },
  {
   "cell_type": "markdown",
   "metadata": {},
   "source": [
    "## Now load the required libraries"
   ]
  },
  {
   "cell_type": "code",
   "execution_count": null,
   "metadata": {},
   "outputs": [],
   "source": [
    "# Import needed libraries\n",
    "import gc\n",
    "import time\n",
    "import rmm\n",
    "import cugraph\n",
    "import cudf"
   ]
  },
  {
   "cell_type": "code",
   "execution_count": null,
   "metadata": {},
   "outputs": [],
   "source": [
    "# NetworkX libraries\n",
    "import networkx as nx\n",
    "from scipy.io import mmread"
   ]
  },
  {
   "cell_type": "code",
   "execution_count": null,
   "metadata": {},
   "outputs": [],
   "source": [
    "try: \n",
    "    import matplotlib\n",
    "except ModuleNotFoundError:\n",
    "    os.system('pip install matplotlib')"
   ]
  },
  {
   "cell_type": "code",
   "execution_count": null,
   "metadata": {},
   "outputs": [],
   "source": [
    "import matplotlib.pyplot as plt; plt.rcdefaults()\n",
    "import numpy as np"
   ]
  },
  {
   "cell_type": "markdown",
   "metadata": {},
   "source": [
    "### Define the test data"
   ]
  },
  {
   "cell_type": "code",
   "execution_count": null,
   "metadata": {},
   "outputs": [],
   "source": [
    "# Test File\n",
    "data = {\n",
    "    'preferentialAttachment' : './data/preferentialAttachment.mtx',\n",
    "    'caidaRouterLevel'       : './data/caidaRouterLevel.mtx',\n",
    "    'coAuthorsDBLP'          : './data/coAuthorsDBLP.mtx',\n",
    "    'dblp'                   : './data/dblp-2010.mtx',\n",
    "    'citationCiteseer'       : './data/citationCiteseer.mtx',\n",
    "    'coPapersDBLP'           : './data/coPapersDBLP.mtx',\n",
    "    'coPapersCiteseer'       : './data/coPapersCiteseer.mtx',\n",
    "    'as-Skitter'             : './data/as-Skitter.mtx'\n",
    "}"
   ]
  },
  {
   "cell_type": "markdown",
   "metadata": {},
   "source": [
    "### Define the testing functions"
   ]
  },
  {
   "cell_type": "code",
   "execution_count": null,
   "metadata": {},
   "outputs": [],
   "source": [
    "# Data reader - the file format is MTX, so we will use the reader from SciPy\n",
    "def read_mtx_file(mm_file):\n",
    "    print('Reading ' + str(mm_file) + '...')\n",
    "    M = mmread(mm_file).asfptype()\n",
    "     \n",
    "    return M"
   ]
  },
  {
   "cell_type": "code",
   "execution_count": null,
   "metadata": {},
   "outputs": [],
   "source": [
    "# CuGraph BFS\n",
    "\n",
    "def cugraph_call(M):\n",
    "\n",
    "    gdf = cudf.DataFrame()\n",
    "    gdf['src'] = M.row\n",
    "    gdf['dst'] = M.col\n",
    "    \n",
    "    print('\\tcuGraph Solving... ')\n",
    "    \n",
    "    t1 = time.time()\n",
    "        \n",
    "    # cugraph Pagerank Call\n",
    "    G = cugraph.DiGraph()\n",
    "    G.from_cudf_edgelist(gdf, source='src', destination='dst', renumber=False)\n",
    "    \n",
    "    df = cugraph.bfs(G, 1)\n",
    "    t2 = time.time() - t1\n",
    "    \n",
    "    return t2\n",
    "    "
   ]
  },
  {
   "cell_type": "code",
   "execution_count": null,
   "metadata": {},
   "outputs": [],
   "source": [
    "# Basic NetworkX BFS\n",
    "\n",
    "def networkx_call(M):\n",
    "    nnz_per_row = {r: 0 for r in range(M.get_shape()[0])}\n",
    "    for nnz in range(M.getnnz()):\n",
    "        nnz_per_row[M.row[nnz]] = 1 + nnz_per_row[M.row[nnz]]\n",
    "    for nnz in range(M.getnnz()):\n",
    "        M.data[nnz] = 1.0/float(nnz_per_row[M.row[nnz]])\n",
    "\n",
    "    M = M.tocsr()\n",
    "    if M is None:\n",
    "        raise TypeError('Could not read the input graph')\n",
    "    if M.shape[0] != M.shape[1]:\n",
    "        raise TypeError('Shape is not square')\n",
    "\n",
    "    # should be autosorted, but check just to make sure\n",
    "    if not M.has_sorted_indices:\n",
    "        print('sort_indices ... ')\n",
    "        M.sort_indices()\n",
    "\n",
    "    z = {k: 1.0/M.shape[0] for k in range(M.shape[0])}\n",
    "        \n",
    "    print('\\tNetworkX Solving... ')\n",
    "        \n",
    "    # start timer\n",
    "    t1 = time.time()\n",
    "    \n",
    "    Gnx = nx.DiGraph(M)\n",
    "\n",
    "    pr = nx.bfs_edges(Gnx, 1)\n",
    "    \n",
    "    t2 = time.time() - t1\n",
    "\n",
    "    return t2"
   ]
  },
  {
   "cell_type": "markdown",
   "metadata": {},
   "source": [
    "### Run the benchmarks"
   ]
  },
  {
   "cell_type": "code",
   "execution_count": null,
   "metadata": {},
   "outputs": [],
   "source": [
    "# arrays to capture performance gains\n",
    "perf_nx = []\n",
    "names = []\n",
    "time_cu = []\n",
    "time_nx = []\n",
    "\n",
    "# do a simple pass just to get all the libraries initiallized\n",
    "v = './data/preferentialAttachment.mtx'\n",
    "M = read_mtx_file(v)\n",
    "trapids = cugraph_call(M)\n",
    "del M\n",
    "\n",
    "for k,v in data.items():\n",
    "    gc.collect()\n",
    "\n",
    "    # Saved the file Name\n",
    "    names.append(k)\n",
    "    \n",
    "    # read the data\n",
    "    M = read_mtx_file(v)\n",
    "    \n",
    "    \n",
    "    # call cuGraph - this will be the baseline\n",
    "    trapids = cugraph_call(M)\n",
    "    \n",
    "    # Now call NetworkX\n",
    "    tn = networkx_call(M)\n",
    "    speedUp = (tn / trapids)\n",
    "    perf_nx.append(speedUp)\n",
    "    time_cu.append(trapids)\n",
    "    time_nx.append(tn)\n",
    "    del M\n",
    "    \n",
    "    print(\"\\tcuGraph (\" + str(trapids) + \")  Nx (\" + str(tn) + \")\" )"
   ]
  },
  {
   "cell_type": "code",
   "execution_count": null,
   "metadata": {},
   "outputs": [],
   "source": [
    "%matplotlib inline\n",
    "\n",
    "plt.figure(figsize=(11,9))\n",
    "\n",
    "bar_width = 0.5\n",
    "index = np.arange(len(names))\n",
    "\n",
    "_ = plt.bar(index, perf_nx, bar_width, color='g', label='vs NetworkX')\n",
    "\n",
    "\n",
    "\n",
    "plt.xlabel('Datasets')\n",
    "plt.ylabel('Speedup')\n",
    "plt.title('BFS Performance Speedup')\n",
    "plt.xticks(index + (bar_width/4), names)\n",
    "plt.xticks(rotation=90) \n",
    "\n",
    "# Text on the top of each barplot\n",
    "for i in range(len(perf_nx)):\n",
    "    plt.text(x = (i - .5) + bar_width, y = perf_nx[i] + 25, s = round(perf_nx[i], 1), size = 12)\n",
    "\n",
    "plt.legend()\n",
    "plt.show()"
   ]
  },
  {
   "cell_type": "markdown",
   "metadata": {},
   "source": [
    "# Dump the raw data"
   ]
  },
  {
   "cell_type": "code",
   "execution_count": null,
   "metadata": {},
   "outputs": [],
   "source": [
    "# print the speed-up numbers\n",
    "perf_nx"
   ]
  },
  {
   "cell_type": "code",
   "execution_count": null,
   "metadata": {},
   "outputs": [],
   "source": [
    "# print the cuGraph runtimes\n",
    "time_cu"
   ]
  },
  {
   "cell_type": "code",
   "execution_count": null,
   "metadata": {},
   "outputs": [],
   "source": [
    "# print the NetworkX runtimes\n",
    "time_nx"
   ]
  },
  {
   "cell_type": "markdown",
   "metadata": {},
   "source": [
    "___\n",
    "Copyright (c) 2020, NVIDIA CORPORATION.\n",
    "\n",
    "Licensed under the Apache License, Version 2.0 (the \"License\");  you may not use this file except in compliance with the License. You may obtain a copy of the License at http://www.apache.org/licenses/LICENSE-2.0\n",
    "\n",
    "Unless required by applicable law or agreed to in writing, software distributed under the License is distributed on an \"AS IS\" BASIS, WITHOUT WARRANTIES OR CONDITIONS OF ANY KIND, either express or implied. See the License for the specific language governing permissions and limitations under the License.\n",
    "___"
   ]
  }
 ],
 "metadata": {
  "kernelspec": {
   "display_name": "cugraph_dev",
   "language": "python",
   "name": "cugraph_dev"
  },
  "language_info": {
   "codemirror_mode": {
    "name": "ipython",
    "version": 3
   },
   "file_extension": ".py",
   "mimetype": "text/x-python",
   "name": "python",
   "nbconvert_exporter": "python",
   "pygments_lexer": "ipython3",
   "version": "3.8.5"
  }
 },
 "nbformat": 4,
 "nbformat_minor": 4
}
