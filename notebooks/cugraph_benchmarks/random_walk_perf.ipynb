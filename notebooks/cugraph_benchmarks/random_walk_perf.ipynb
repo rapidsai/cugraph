{
 "cells": [
  {
   "cell_type": "markdown",
   "metadata": {},
   "source": [
    "# Random Walk Performance\n",
    "# Skip notebook test¶ \n",
    "\n",
    "Random walk performance is governed by the length of the paths to find, the number of seeds, and the size or structure of the graph.\n",
    "This benchmark will use several test graphs of increasingly larger sizes.  While not even multiples in scale, the four test graphs should give an indication of how well Random Walk performs as data size increases.  \n",
    "\n",
    "### Test Data\n",
    "Users must run the _dataPrep.sh_ script before running this notebook so that the test files are downloaded\n",
    "\n",
    "| File Name              | Num of Vertices | Num of Edges |\n",
    "| ---------------------- | --------------: | -----------: |\n",
    "| preferentialAttachment |         100,000 |      999,970 |\n",
    "| dblp-2010              |         326,186 |    1,615,400 |\n",
    "| coPapersCiteseer       |         434,102 |   32,073,440 |\n",
    "| as-Skitter             |       1,696,415 |   22,190,596 |"
   ]
  },
  {
   "cell_type": "code",
   "execution_count": 1,
   "metadata": {},
   "outputs": [],
   "source": [
    "#  Import the modules\n",
    "import cugraph\n",
    "import cudf"
   ]
  },
  {
   "cell_type": "code",
   "execution_count": 2,
   "metadata": {},
   "outputs": [],
   "source": [
    "# system and other\n",
    "import gc\n",
    "import os\n",
    "import time\n",
    "import random\n",
    "\n",
    "# MTX file reader\n",
    "from scipy.io import mmread\n",
    "\n",
    "import networkx as nx"
   ]
  },
  {
   "cell_type": "code",
   "execution_count": 3,
   "metadata": {},
   "outputs": [],
   "source": [
    "try: \n",
    "    import matplotlib\n",
    "except ModuleNotFoundError:\n",
    "    os.system('pip install matplotlib')\n",
    "\n",
    "import matplotlib.pyplot as plt; plt.rcdefaults()"
   ]
  },
  {
   "cell_type": "code",
   "execution_count": 4,
   "metadata": {},
   "outputs": [],
   "source": [
    "try: \n",
    "    import pybind11\n",
    "except ModuleNotFoundError:\n",
    "    os.system('pip install pybind11')\n",
    "    \n",
    "import pybind11"
   ]
  },
  {
   "cell_type": "code",
   "execution_count": 5,
   "metadata": {},
   "outputs": [],
   "source": [
    "try: \n",
    "    import walker\n",
    "except ModuleNotFoundError:\n",
    "    os.system('pip install graph-walker')\n",
    "\n",
    "import walker"
   ]
  },
  {
   "cell_type": "code",
   "execution_count": 6,
   "metadata": {},
   "outputs": [],
   "source": [
    "# Test File\n",
    "data = {\n",
    "    'preferentialAttachment' : './data/preferentialAttachment.mtx',\n",
    "    'dblp'                   : './data/dblp-2010.mtx',\n",
    "    'coPapersCiteseer'       : './data/coPapersCiteseer.mtx',\n",
    "    'as-Skitter'             : './data/as-Skitter.mtx'\n",
    "}"
   ]
  },
  {
   "cell_type": "markdown",
   "metadata": {},
   "source": [
    "## Read the data and create a graph"
   ]
  },
  {
   "cell_type": "code",
   "execution_count": 7,
   "metadata": {},
   "outputs": [],
   "source": [
    "# Data reader - the file format is MTX, so we will use the reader from SciPy\n",
    "def read_data(datafile):\n",
    "    print('Reading ' + str(datafile) + '...')\n",
    "    M = mmread(datafile).asfptype()\n",
    "\n",
    "    _gdf = cudf.DataFrame()\n",
    "    _gdf['src'] = M.row\n",
    "    _gdf['dst'] = M.col\n",
    "    _gdf['wt'] = 1.0\n",
    "    \n",
    "    return _gdf"
   ]
  },
  {
   "cell_type": "code",
   "execution_count": 8,
   "metadata": {},
   "outputs": [],
   "source": [
    "def create_cu_ugraph(_df):\n",
    "    _g = cugraph.Graph()\n",
    "    _g.from_cudf_edgelist(_df, source='src', destination='dst', edge_attr='wt', renumber=False)\n",
    "    return _g"
   ]
  },
  {
   "cell_type": "code",
   "execution_count": 9,
   "metadata": {},
   "outputs": [],
   "source": [
    "def create_nx_ugraph(_df):\n",
    "    _gnx = nx.from_pandas_edgelist(_df, source='src', target='dst', edge_attr='wt', create_using=nx.Graph)\n",
    "    return _gnx"
   ]
  },
  {
   "cell_type": "markdown",
   "metadata": {},
   "source": [
    "### Define the call to RandomWalk\n",
    "We are only interested in the runtime, so throw away the results"
   ]
  },
  {
   "cell_type": "code",
   "execution_count": 10,
   "metadata": {},
   "outputs": [],
   "source": [
    "def run_cu_rw(_G, _seeds, _depth):\n",
    "    t1 = time.time()\n",
    "    _, _ = cugraph.random_walks(_G, _seeds, _depth)\n",
    "    t2 = time.time() - t1\n",
    "    return t2"
   ]
  },
  {
   "cell_type": "code",
   "execution_count": 11,
   "metadata": {},
   "outputs": [],
   "source": [
    "def run_wk_rw(_G, _seeds, _depth):\n",
    "    t1 = time.time()\n",
    "    _ = walker.random_walks(_G, n_walks=1, walk_len=_depth, start_nodes=_seeds)\n",
    "    t2 = time.time() - t1\n",
    "    return t2   \n",
    "    "
   ]
  },
  {
   "cell_type": "markdown",
   "metadata": {},
   "source": [
    "## Test 1: Runtime versus path depth"
   ]
  },
  {
   "cell_type": "code",
   "execution_count": 12,
   "metadata": {},
   "outputs": [
    {
     "name": "stdout",
     "output_type": "stream",
     "text": [
      "Reading ./data/preferentialAttachment.mtx...\n",
      "\tcuGraph\n",
      "\tWalkerRandom walks - T=2.23s\n",
      "\tcuGraph\n",
      "\tWalkerRandom walks - T=2.48s\n",
      "\tcuGraph\n",
      "\tWalkerRandom walks - T=2.02s\n",
      "\tcuGraph\n",
      "\tWalkerRandom walks - T=2.31s\n",
      "\tcuGraph\n",
      "\tWalkerRandom walks - T=2.01s\n",
      "update i\n",
      "Reading ./data/dblp-2010.mtx...\n",
      "\tcuGraph\n",
      "\tWalkerRandom walks - T=4.21s\n",
      "\tcuGraph\n",
      "\tWalkerRandom walks - T=4.03s\n",
      "\tcuGraph\n",
      "\tWalkerRandom walks - T=3.59s\n",
      "\tcuGraph\n",
      "\tWalkerRandom walks - T=3.95s\n",
      "\tcuGraph\n",
      "\tWalkerRandom walks - T=3.68s\n",
      "update i\n",
      "Reading ./data/coPapersCiteseer.mtx...\n",
      "\tcuGraph\n",
      "\tWalkerRandom walks - T=59.64s\n",
      "\tcuGraph\n",
      "\tWalkerRandom walks - T=49.43s\n",
      "\tcuGraph\n",
      "\tWalkerRandom walks - T=47.45s\n",
      "\tcuGraph\n",
      "\tWalkerRandom walks - T=54.66s\n",
      "\tcuGraph\n",
      "\tWalkerRandom walks - T=46.96s\n",
      "update i\n",
      "Reading ./data/as-Skitter.mtx...\n",
      "\tcuGraph\n",
      "\tWalkerRandom walks - T=53.14s\n",
      "\tcuGraph\n",
      "\tWalkerRandom walks - T=44.36s\n",
      "\tcuGraph\n",
      "\tWalkerRandom walks - T=46.38s\n",
      "\tcuGraph\n",
      "\tWalkerRandom walks - T=41.96s\n",
      "\tcuGraph\n",
      "\tWalkerRandom walks - T=53.18s\n",
      "update i\n"
     ]
    }
   ],
   "source": [
    "# some parameters\n",
    "max_depth = 6\n",
    "num_seeds = 100\n",
    "\n",
    "# arrays to capture performance gains\n",
    "names = []\n",
    "\n",
    "# Two dimension data\n",
    "time_algo_cu = []       # will be two dimensional\n",
    "time_algo_wk = []       # will be two dimensional\n",
    "\n",
    "i = 0\n",
    "for k,v in data.items():\n",
    "    time_algo_cu.append([])\n",
    "    time_algo_wk.append([])\n",
    "    \n",
    "    # Saved the file Name\n",
    "    names.append(k)\n",
    "\n",
    "    # read data\n",
    "    gdf = read_data(v)\n",
    "    pdf = gdf.to_pandas()\n",
    "    \n",
    "    # Create the Graphs\n",
    "    Gcg = create_cu_ugraph(gdf)\n",
    "    Gnx = create_nx_ugraph(pdf)\n",
    "        \n",
    "    num_nodes = Gcg.number_of_nodes()\n",
    "    nodes = Gcg.nodes().to_array().tolist()\n",
    "\n",
    "    seeds = random.sample(nodes, num_seeds)\n",
    "\n",
    "    for j in range (2, max_depth+1) :\n",
    "        print(\"\\tcuGraph\")\n",
    "        tc = run_cu_rw(Gcg, seeds, j)\n",
    "        time_algo_cu[i].append(tc)\n",
    "        \n",
    "        print(\"\\tWalker\", end='')\n",
    "        tw = run_wk_rw(Gnx, seeds, j)\n",
    "        time_algo_wk[i].append(tw)\n",
    "\n",
    "    # update i\n",
    "    i = i + 1\n",
    "    print(\"update i\")\n",
    "    \n",
    "    del Gcg\n",
    "    del Gnx\n"
   ]
  },
  {
   "cell_type": "code",
   "execution_count": 13,
   "metadata": {},
   "outputs": [
    {
     "data": {
      "image/png": "[encoded data removed]",
      "text/plain": [
       "<Figure size 720x360 with 1 Axes>"
      ]
     },
     "metadata": {
      "needs_background": "light"
     },
     "output_type": "display_data"
    }
   ],
   "source": [
    "%matplotlib inline\n",
    "seed_idx = list(range(2,max_depth +1))\n",
    "\n",
    "plt.figure(figsize=(10,5))\n",
    "\n",
    "for i in range(len(data)):\n",
    "    plt.plot(seed_idx, time_algo_cu[i], label = (str(names[i] + \"-cuGraph\")))\n",
    "\n",
    "    plt.plot(seed_idx, time_algo_wk[i], label = (str(names[i] + \"-walker\")),  linestyle='-.')\n",
    "\n",
    "\n",
    "plt.title(f'Runtime vs. Path Length ({num_seeds} Seeds)')\n",
    "plt.xlabel('Path length')\n",
    "plt.ylabel('Runtime')\n",
    "plt.legend()\n",
    "plt.show()"
   ]
  },
  {
   "cell_type": "code",
   "execution_count": 14,
   "metadata": {},
   "outputs": [
    {
     "data": {
      "text/plain": [
       "5164"
      ]
     },
     "execution_count": 14,
     "metadata": {},
     "output_type": "execute_result"
    }
   ],
   "source": [
    "del time_algo_cu\n",
    "del time_algo_wk\n",
    "gc.collect()"
   ]
  },
  {
   "cell_type": "markdown",
   "metadata": {},
   "source": [
    "## Test 2: Runtime Speedup versus number of seeds\n",
    "The number of seeds will be increased over a range in increments of 50.  \n",
    "The runtime will be the sum of runtime per increment.  Increaing number of seeds by 1 would make for very long execution times "
   ]
  },
  {
   "cell_type": "code",
   "execution_count": 15,
   "metadata": {},
   "outputs": [
    {
     "name": "stdout",
     "output_type": "stream",
     "text": [
      "Reading ./data/preferentialAttachment.mtx...\n",
      "\t.Random walks - T=2.28s\n",
      ".Random walks - T=2.29s\n",
      ".Random walks - T=2.28s\n",
      ".Random walks - T=2.21s\n",
      ".Random walks - T=1.95s\n",
      ".Random walks - T=2.38s\n",
      ".Random walks - T=2.00s\n",
      ".Random walks - T=2.19s\n",
      ".Random walks - T=1.99s\n",
      ".Random walks - T=2.40s\n",
      ".Random walks - T=1.95s\n",
      ".Random walks - T=2.17s\n",
      ".Random walks - T=1.95s\n",
      ".Random walks - T=2.39s\n",
      ".Random walks - T=1.97s\n",
      ".Random walks - T=2.23s\n",
      ".Random walks - T=2.63s\n",
      ".Random walks - T=4.08s\n",
      ".Random walks - T=3.44s\n",
      ".Random walks - T=3.77s\n",
      " \n",
      "Reading ./data/dblp-2010.mtx...\n",
      "\t.Random walks - T=6.61s\n",
      ".Random walks - T=6.57s\n",
      ".Random walks - T=6.48s\n",
      ".Random walks - T=6.69s\n",
      ".Random walks - T=6.11s\n",
      ".Random walks - T=6.18s\n",
      ".Random walks - T=4.98s\n",
      ".Random walks - T=5.64s\n",
      ".Random walks - T=3.83s\n",
      ".Random walks - T=4.28s\n",
      ".Random walks - T=4.34s\n",
      ".Random walks - T=4.14s\n",
      ".Random walks - T=3.79s\n",
      ".Random walks - T=4.37s\n",
      ".Random walks - T=4.00s\n",
      ".Random walks - T=3.66s\n",
      ".Random walks - T=4.01s\n",
      ".Random walks - T=3.67s\n",
      ".Random walks - T=4.32s\n",
      ".Random walks - T=3.70s\n",
      " \n",
      "Reading ./data/coPapersCiteseer.mtx...\n",
      "\t.Random walks - T=56.64s\n",
      ".Random walks - T=52.26s\n",
      ".Random walks - T=45.66s\n",
      ".Random walks - T=48.81s\n",
      ".Random walks - T=56.16s\n",
      ".Random walks - T=56.73s\n",
      ".Random walks - T=45.43s\n",
      ".Random walks - T=44.96s\n",
      ".Random walks - T=51.77s\n",
      ".Random walks - T=58.39s\n",
      ".Random walks - T=43.35s\n",
      ".Random walks - T=42.89s\n",
      ".Random walks - T=57.96s\n",
      ".Random walks - T=45.03s\n",
      ".Random walks - T=64.27s\n",
      ".Random walks - T=52.57s\n",
      ".Random walks - T=46.91s\n",
      ".Random walks - T=55.62s\n",
      ".Random walks - T=46.85s\n",
      ".Random walks - T=44.84s\n",
      " \n",
      "Reading ./data/as-Skitter.mtx...\n",
      "\t.Random walks - T=51.36s\n",
      ".Random walks - T=52.06s\n",
      ".Random walks - T=44.91s\n",
      ".Random walks - T=49.73s\n",
      ".Random walks - T=47.45s\n",
      ".Random walks - T=52.21s\n",
      ".Random walks - T=47.65s\n",
      ".Random walks - T=45.49s\n",
      ".Random walks - T=47.84s\n",
      ".Random walks - T=43.48s\n",
      ".Random walks - T=45.67s\n",
      ".Random walks - T=45.75s\n",
      ".Random walks - T=55.03s\n",
      ".Random walks - T=46.39s\n",
      ".Random walks - T=50.64s\n",
      ".Random walks - T=43.87s\n",
      ".Random walks - T=40.98s\n",
      ".Random walks - T=49.42s\n",
      ".Random walks - T=51.94s\n",
      ".Random walks - T=49.28s\n",
      " \n"
     ]
    }
   ],
   "source": [
    "# some parameters\n",
    "rw_depth = 4\n",
    "max_seeds = 1000\n",
    "\n",
    "# arrays to capture performance gains\n",
    "names = []\n",
    "\n",
    "# Two dimension data\n",
    "time_algo_cu = []       # will be two dimensional\n",
    "time_algo_wk = []       # will be two dimensional\n",
    "perf = []               # will be two dimensional\n",
    "\n",
    "i = 0\n",
    "for k,v in data.items():\n",
    "    time_algo_cu.append([])\n",
    "    time_algo_wk.append([])\n",
    "    perf.append([])\n",
    "    \n",
    "    # Saved the file Name\n",
    "    names.append(k)\n",
    "\n",
    "    # read data\n",
    "    gdf = read_data(v)\n",
    "    pdf = gdf.to_pandas()\n",
    "    \n",
    "    # Create the Graphs\n",
    "    Gcg = create_cu_ugraph(gdf)\n",
    "    Gnx = create_nx_ugraph(pdf)\n",
    "        \n",
    "    num_nodes = Gcg.number_of_nodes()\n",
    "    nodes = Gcg.nodes().to_array().tolist()\n",
    "    \n",
    "    print('\\t', end='')\n",
    "    for j in range (50, max_seeds +1, 50) :\n",
    "        print('.', end='')\n",
    "        seeds = random.sample(nodes, j)\n",
    "        tc = run_cu_rw(Gcg, seeds, rw_depth)\n",
    "        tw = run_wk_rw(Gnx, seeds, rw_depth)\n",
    "        \n",
    "        time_algo_cu[i].append(tc)\n",
    "        time_algo_wk[i].append(tw)        \n",
    "        perf[i].append(tw/tc)\n",
    "        \n",
    "\n",
    "    # update i\n",
    "    i = i + 1\n",
    "    print(\" \")\n",
    "    \n",
    "    del Gcg\n",
    "    del Gnx\n"
   ]
  },
  {
   "cell_type": "code",
   "execution_count": 16,
   "metadata": {},
   "outputs": [
    {
     "data": {
      "image/png": "[encoded data removed]",
      "text/plain": [
       "<Figure size 720x360 with 1 Axes>"
      ]
     },
     "metadata": {
      "needs_background": "light"
     },
     "output_type": "display_data"
    }
   ],
   "source": [
    "%matplotlib inline\n",
    "seed_idx = list(range (50, max_seeds +1, 50))\n",
    "\n",
    "plt.figure(figsize=(10,5))\n",
    "\n",
    "for i in range(len(data)):\n",
    "    plt.plot(seed_idx, perf[i], label = names[i] )\n",
    "\n",
    "plt.title('Speedup vs. Number of Seeds')\n",
    "plt.xlabel('Number of Seeds')\n",
    "plt.ylabel('Speedup')\n",
    "plt.legend()\n",
    "plt.show()"
   ]
  },
  {
   "cell_type": "code",
   "execution_count": 17,
   "metadata": {},
   "outputs": [
    {
     "data": {
      "text/plain": [
       "3786"
      ]
     },
     "execution_count": 17,
     "metadata": {},
     "output_type": "execute_result"
    }
   ],
   "source": [
    "del time_algo_cu\n",
    "gc.collect()"
   ]
  },
  {
   "cell_type": "markdown",
   "metadata": {},
   "source": [
    "-----\n",
    "Copyright (c) 2021, NVIDIA CORPORATION.\n",
    "\n",
    "Licensed under the Apache License, Version 2.0 (the \"License\"); you may not use this file except in compliance with the License. You may obtain a copy of the License at http://www.apache.org/licenses/LICENSE-2.0\n",
    "\n",
    "Unless required by applicable law or agreed to in writing, software distributed under the License is distributed on an \"AS IS\" BASIS, WITHOUT WARRANTIES OR CONDITIONS OF ANY KIND, either express or implied. See the License for the specific language governing permissions and limitations under the License."
   ]
  }
 ],
 "metadata": {
  "kernelspec": {
   "display_name": "cugraph_dev",
   "language": "python",
   "name": "cugraph_dev"
  },
  "language_info": {
   "codemirror_mode": {
    "name": "ipython",
    "version": 3
   },
   "file_extension": ".py",
   "mimetype": "text/x-python",
   "name": "python",
   "nbconvert_exporter": "python",
   "pygments_lexer": "ipython3",
   "version": "3.8.8"
  }
 },
 "nbformat": 4,
 "nbformat_minor": 4
}
