{
 "cells": [
  {
   "cell_type": "markdown",
   "metadata": {},
   "source": [
    "# Force Atlas 2\n",
    "# Skip notebook test"
   ]
  },
  {
   "cell_type": "markdown",
   "metadata": {},
   "source": [
    "**Author: Hugo Linsenmaier**\n",
    "    \n",
    "In this notebook, we will see how large graph visualization can be achieved with cuGraph. \n",
    "\n",
    "For those that are interested, there is some sample code for compared results against a CPU based implementation targeting Networkx users. THat work is left to the user since the requierd package is unmainated.  \n",
    "    \n",
    "RAPIDS Versions: 0.17\n",
    "    \n",
    "Test Hardware\n",
    "\n",
    "GV100 32G, CUDA 11.0"
   ]
  },
  {
   "cell_type": "markdown",
   "metadata": {},
   "source": [
    "# Introduction:\n",
    "\n",
    "\n",
    "Force Atlas 2 is a force directed layout algorithm where nodes behave as particules and edges as springs. An iterative process will compute attractive and repulsive forces between these entities to converge in an equilibrium state where the drawing is visually interpretable by the user.\n",
    "\n",
    "\n",
    "See https://journals.plos.org/plosone/article?id=10.1371/journal.pone.0098679 for more details.\n",
    "\n",
    "\n",
    "Please refer to the documentation https://docs.rapids.ai/api/cugraph/stable/api.html#module-cugraph.layout.force_atlas2 on how to use the different parameters."
   ]
  },
  {
   "cell_type": "code",
   "execution_count": 1,
   "metadata": {},
   "outputs": [
    {
     "ename": "ModuleNotFoundError",
     "evalue": "No module named 'cugraph'",
     "output_type": "error",
     "traceback": [
      "\u001b[0;31m---------------------------------------------------------------------------\u001b[0m",
      "\u001b[0;31mModuleNotFoundError\u001b[0m                       Traceback (most recent call last)",
      "\u001b[0;32m/tmp/ipykernel_4777/2973059967.py\u001b[0m in \u001b[0;36m<module>\u001b[0;34m\u001b[0m\n\u001b[1;32m      2\u001b[0m \u001b[0;34m\u001b[0m\u001b[0m\n\u001b[1;32m      3\u001b[0m \u001b[0;32mimport\u001b[0m \u001b[0mcudf\u001b[0m\u001b[0;34m\u001b[0m\u001b[0;34m\u001b[0m\u001b[0m\n\u001b[0;32m----> 4\u001b[0;31m \u001b[0;32mimport\u001b[0m \u001b[0mcugraph\u001b[0m\u001b[0;34m\u001b[0m\u001b[0;34m\u001b[0m\u001b[0m\n\u001b[0m",
      "\u001b[0;31mModuleNotFoundError\u001b[0m: No module named 'cugraph'"
     ]
    }
   ],
   "source": [
    "# Import RAPIDS libraries\n",
    "\n",
    "import cudf\n",
    "import cugraph"
   ]
  },
  {
   "cell_type": "code",
   "execution_count": null,
   "metadata": {},
   "outputs": [],
   "source": [
    "# Viz libraries\n",
    "\n",
    "from cuxfilter.charts.datashader.custom_extensions.graph_assets import calc_connected_edges\n",
    "\n",
    "import holoviews as hv\n",
    "\n",
    "from colorcet import fire\n",
    "from datashader.bundling import directly_connect_edges, hammer_bundle\n",
    "\n",
    "from holoviews.operation.datashader import datashade, dynspread\n",
    "from holoviews.operation import decimate\n",
    "\n",
    "from dask.distributed import Client"
   ]
  },
  {
   "cell_type": "code",
   "execution_count": null,
   "metadata": {},
   "outputs": [],
   "source": [
    "# Define the parameters \n",
    "ITERATIONS=500\n",
    "THETA=1.0\n",
    "OPTIMIZE=True"
   ]
  },
  {
   "cell_type": "code",
   "execution_count": null,
   "metadata": {},
   "outputs": [],
   "source": [
    "# Define the path to the test data  \n",
    "datafile = '../data/netscience.csv'"
   ]
  },
  {
   "cell_type": "code",
   "execution_count": null,
   "metadata": {},
   "outputs": [],
   "source": [
    "# Setup Viz\n",
    "client = Client()\n",
    "hv.notebook_extension('bokeh','matplotlib')\n",
    "decimate.max_samples=20000\n",
    "dynspread.threshold=0.01\n",
    "datashade.cmap=fire[40:]\n",
    "sz = dict(width=150,height=150)\n",
    "%opts RGB [xaxis=None yaxis=None show_grid=False bgcolor=\"black\"]"
   ]
  },
  {
   "cell_type": "markdown",
   "metadata": {},
   "source": [
    "# cuGraph"
   ]
  },
  {
   "cell_type": "code",
   "execution_count": null,
   "metadata": {},
   "outputs": [],
   "source": [
    "edges_gdf = cudf.read_csv(datafile, names=[\"source\", \"destination\", \"weights\"],\n",
    "                          delimiter=' ', dtype=[\"int32\", \"int32\", \"float32\"])"
   ]
  },
  {
   "cell_type": "code",
   "execution_count": null,
   "metadata": {},
   "outputs": [],
   "source": [
    "G = cugraph.Graph()\n",
    "G.from_cudf_edgelist(edges_gdf, renumber=False)\n",
    "G.number_of_nodes(), G.number_of_edges()"
   ]
  },
  {
   "cell_type": "markdown",
   "metadata": {},
   "source": [
    "### Force Atlas 2 call"
   ]
  },
  {
   "cell_type": "code",
   "execution_count": null,
   "metadata": {},
   "outputs": [],
   "source": [
    "start = time.time()\n",
    "pos_gdf = cugraph.layout.force_atlas2(G,\n",
    "                                  max_iter=ITERATIONS,\n",
    "                                  pos_list=None,\n",
    "                                  outbound_attraction_distribution=True,\n",
    "                                  lin_log_mode=False,\n",
    "                                  edge_weight_influence=1.0,\n",
    "                                  jitter_tolerance=1.0,\n",
    "                                  barnes_hut_optimize=OPTIMIZE,\n",
    "                                  barnes_hut_theta=THETA,\n",
    "                                  scaling_ratio=2.0,\n",
    "                                  strong_gravity_mode=False,\n",
    "                                  gravity=1.0,\n",
    "                                  verbose=False,\n",
    "                                  callback=None)\n",
    "elapsed = time.time() - start\n",
    "print(\"Cugraph time : \" + str(elapsed))"
   ]
  },
  {
   "cell_type": "markdown",
   "metadata": {},
   "source": [
    "###  Convert a graph into paths suitable for datashading"
   ]
  },
  {
   "cell_type": "code",
   "execution_count": null,
   "metadata": {},
   "outputs": [],
   "source": [
    "connected = calc_connected_edges(pos_gdf,\n",
    "                                 edges_gdf,\n",
    "                                 node_x=\"x\",\n",
    "                                 node_y=\"y\",\n",
    "                                 node_x_dtype=\"float32\",\n",
    "                                 node_y_dtype=\"float32\",\n",
    "                                 node_id=\"vertex\",\n",
    "                                 edge_source=\"source\",\n",
    "                                 edge_target=\"destination\",\n",
    "                                 edge_aggregate_col=None,\n",
    "                                 edge_render_type=\"direct\",\n",
    "                                )"
   ]
  },
  {
   "cell_type": "markdown",
   "metadata": {},
   "source": [
    "### Output"
   ]
  },
  {
   "cell_type": "code",
   "execution_count": null,
   "metadata": {},
   "outputs": [],
   "source": [
    "%%opts RGB [tools=[\"hover\"] width=800 height=800]\n",
    "\n",
    "r_direct = hv.Curve(connected, label=\"Direct\")\n",
    "datashade(r_direct)"
   ]
  },
  {
   "cell_type": "markdown",
   "metadata": {},
   "source": [
    "Copyright (c) 2020 - 2022, NVIDIA CORPORATION.\n",
    "\n",
    "Licensed under the Apache License, Version 2.0 (the \"License\"); you may not use this file except in compliance with the License. You may obtain a copy of the License at http://www.apache.org/licenses/LICENSE-2.0\n",
    "\n",
    "Unless required by applicable law or agreed to in writing, software distributed under the License is distributed on an \"AS IS\" BASIS, WITHOUT WARRANTIES OR CONDITIONS OF ANY KIND, either express or implied. See the License for the specific language governing permissions and limitations under the License."
   ]
  }
 ],
 "metadata": {
  "kernelspec": {
   "display_name": "cugraph_dev",
   "language": "python",
   "name": "cugraph_dev"
  },
  "language_info": {
   "codemirror_mode": {
    "name": "ipython",
    "version": 3
   },
   "file_extension": ".py",
   "mimetype": "text/x-python",
   "name": "python",
   "nbconvert_exporter": "python",
   "pygments_lexer": "ipython3",
   "version": "3.8.12"
  }
 },
 "nbformat": 4,
 "nbformat_minor": 4
}
