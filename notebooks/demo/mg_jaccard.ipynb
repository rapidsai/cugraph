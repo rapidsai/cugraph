{
 "cells": [
  {
   "attachments": {},
   "cell_type": "markdown",
   "metadata": {
    "tags": []
   },
   "source": [
    "# Running Jaccard, Sorensen, and Overlap on Multiple GPUs\n",
    "\n",
    "This is a Multi-GPU notebook that loads data into a dask_cudf dataframe, creates a Graph, and then runs Jaccard, Sorensen, and Overlap.\n",
    "\n",
    "\n",
    "\n",
    "| Author Credit |    Date    |  Update          | cuGraph Version |  Test Hardware        |\n",
    "|---------------|------------|------------------|-----------------|-----------------------|\n",
    "| Don Acosta    | 04/21/2023 | created          | 23.06 nightly   |  2xA6000 CUDA 11.7    |\n",
    "| Brad Rees     | 04/24/2023 | Added RMAT       | 23.06 nightly   |  2xA6000 CUDA 11.7    |\n",
    "\n",
    "\n",
    "CuGraph's multi-GPU features leverage Dask. RAPIDS has other projects based on Dask such as dask-cudf and dask-cuda. These products will also be used in this example. Check out [RAPIDS.ai](https://rapids.ai/) to learn more about these technologies."
   ]
  },
  {
   "cell_type": "markdown",
   "metadata": {
    "tags": []
   },
   "source": [
    "## Basic setup"
   ]
  },
  {
   "attachments": {},
   "cell_type": "markdown",
   "metadata": {},
   "source": [
    " Refer to https://docs.rapids.ai/install to learn how to create an environment for running cuGraph notebooks."
   ]
  },
  {
   "cell_type": "code",
   "execution_count": null,
   "metadata": {},
   "outputs": [],
   "source": [
    "# Import needed libraries. We recommend using a [conda environment](https://github.com/rapidsai/cugraph/tree/HEAD/conda/environments) provided in the cugraph repo.\n",
    "from dask.distributed import Client, wait\n",
    "from dask_cuda import LocalCUDACluster\n",
    "from cugraph.dask.comms import comms as Comms\n",
    "\n",
    "import cugraph.dask as dask_cugraph\n",
    "import cugraph\n",
    "from cugraph.generators import rmat\n",
    "\n",
    "import dask_cudf\n",
    "import time\n",
    "import urllib.request\n",
    "import os"
   ]
  },
  {
   "cell_type": "markdown",
   "metadata": {},
   "source": [
    "### Initialize multi-GPU environment\n",
    "Before we get started, we need to set up a Dask local cluster of workers to execute our work, and a client to coordinate and schedule work for that cluster. As we see below, we can initiate a cluster and client using only 3 lines of code.\n",
    "\n",
    "The enable_spilling feature allows the graph stored in GPU memory to spill to host memory if necessary."
   ]
  },
  {
   "cell_type": "code",
   "execution_count": null,
   "metadata": {},
   "outputs": [],
   "source": [
    "def enable_spilling():\n",
    "    import cudf\n",
    "    cudf.set_option(\"spill\", True)"
   ]
  },
  {
   "cell_type": "code",
   "execution_count": null,
   "metadata": {},
   "outputs": [],
   "source": [
    "enable_spilling()\n",
    "cluster = LocalCUDACluster()\n",
    "client = Client(cluster)\n",
    "client.run(enable_spilling)\n",
    "Comms.initialize(p2p=True)"
   ]
  },
  {
   "cell_type": "markdown",
   "metadata": {},
   "source": [
    "## Data\n",
    "This notebook will use RMAT to generate a synthetic dataset.  The size of the dataset will be determined by the number of GPUs present.\n",
    "This appraoch removes the need to find test data of various sizes.\n",
    "\n",
    "The notebook will call the cugraph.rmat function and have a dask_cudf DataFrame returned.  The rmat function could simply return a Graph object, which is more memory effecient, but the goal is to show the process starting with a dataframe\n",
    "\n",
    "| Number of GPUs | Scale | Edge Factor | Est Number of Nodes | Est Number of Edges |\n",
    "|----------------|-------|-------------|---------------------|---------------------|\n",
    "| 1              |  24   |     16      |      16,000,000     |      256,000,000    |\n",
    "| 2              |  25   |     16      |      32,000,000     |      512,000,000    |\n",
    "| 3              |  25   |     24      |      32,000,000     |      768,000,000    |\n",
    "| 4              |  26   |     16      |      64,000,000     |    1,024,000,000    |\n",
    "| 5              |  26   |     20      |      64,000,000     |    1,280,000,000    |\n",
    "| 6              |  26   |     24      |      64,000,000     |    1,536,000,000    |\n",
    "| 7              |  26   |     28      |      64,000,000     |    1,792,000,000    |\n",
    "| 8              |  27   |     16      |     128,000,000     |    2,048,000,000    |"
   ]
  },
  {
   "cell_type": "code",
   "execution_count": null,
   "metadata": {},
   "outputs": [],
   "source": [
    "rmat_settings = (\n",
    "    [24 , 16],\n",
    "    [25 , 16],\n",
    "    [25 , 24],\n",
    "    [26 , 16],\n",
    "    [26 , 20],\n",
    "    [26 , 24],\n",
    "    [26 , 28],\n",
    "    [27 , 16],\n",
    ")"
   ]
  },
  {
   "cell_type": "code",
   "execution_count": null,
   "metadata": {},
   "outputs": [],
   "source": [
    "import subprocess\n",
    "def get_gpu_memory_size():\n",
    "    result = subprocess.check_output(\n",
    "        [\n",
    "            'nvidia-smi', '--query-gpu=memory.total'\n",
    "            , '--format=csv,nounits,noheader'\n",
    "        ]\n",
    "    )    \n",
    "    return result.decode('utf-8').strip().split('\\n')#).strip().split('\\n')\n",
    "\n",
    "gpu_info = get_gpu_memory_size()\n",
    "number_of_gpus = len(gpu_info)\n",
    "gpu_memory = int(gpu_info[0])\n",
    "print(f\"the cluster has {number_of_gpus} GPUs where each GPU has {gpu_memory} GB of memory\")"
   ]
  },
  {
   "cell_type": "code",
   "execution_count": null,
   "metadata": {},
   "outputs": [],
   "source": [
    "scale, factor = rmat_settings[number_of_gpus - 1]"
   ]
  },
  {
   "cell_type": "code",
   "execution_count": null,
   "metadata": {},
   "outputs": [],
   "source": [
    "if gpu_memory < 3600:\n",
    "    factor = (int)(factor * 0.75)"
   ]
  },
  {
   "cell_type": "markdown",
   "metadata": {},
   "source": [
    "### Create the RMAT dataset"
   ]
  },
  {
   "cell_type": "code",
   "execution_count": null,
   "metadata": {},
   "outputs": [],
   "source": [
    "numedges = (2**scale)* factor\n",
    "ddf = rmat(\n",
    "    scale=scale,\n",
    "    num_edges=numedges,\n",
    "    a=0.57,\n",
    "    b=0.19,\n",
    "    c=0.19,\n",
    "    seed=42,\n",
    "    clip_and_flip=False,\n",
    "    scramble_vertex_ids=True,\n",
    "    create_using=None,\n",
    "    mg=True)"
   ]
  },
  {
   "cell_type": "markdown",
   "metadata": {},
   "source": [
    "## Let's see how many edges were created"
   ]
  },
  {
   "cell_type": "code",
   "execution_count": null,
   "metadata": {},
   "outputs": [],
   "source": [
    "len(ddf)"
   ]
  },
  {
   "cell_type": "code",
   "execution_count": null,
   "metadata": {},
   "outputs": [],
   "source": [
    "ddf.head()"
   ]
  },
  {
   "cell_type": "markdown",
   "metadata": {},
   "source": [
    "## Create a Graph\n",
    "yes, the rmat generator could have returned a Graph, but the goal for for this code to also be used as if data was loaded into cuDF via \n",
    "read_csv, read_parquet, or similar data loading process. "
   ]
  },
  {
   "cell_type": "code",
   "execution_count": null,
   "metadata": {},
   "outputs": [],
   "source": [
    "G = cugraph.Graph(directed=False)\n",
    "G.from_dask_cudf_edgelist(ddf, renumber=False, source='src', destination='dst')"
   ]
  },
  {
   "cell_type": "code",
   "execution_count": null,
   "metadata": {},
   "outputs": [],
   "source": [
    "# we are using 1-hop pairs for demonstration\n",
    "vertex_pairs = ddf.loc[0:1000]"
   ]
  },
  {
   "cell_type": "code",
   "execution_count": null,
   "metadata": {},
   "outputs": [],
   "source": [
    "vertex_pairs.head()"
   ]
  },
  {
   "cell_type": "markdown",
   "metadata": {},
   "source": [
    "### Run Multi-GPU jaccard\n",
    "\n",
    "Additional Reading\n",
    "- [Wikipedia: Jaccard](https://en.wikipedia.org/wiki/Jaccard_index)"
   ]
  },
  {
   "cell_type": "code",
   "execution_count": null,
   "metadata": {},
   "outputs": [],
   "source": [
    "jdf = dask_cugraph.jaccard(G,vertex_pairs)\n",
    "jdf.head(20)"
   ]
  },
  {
   "cell_type": "markdown",
   "metadata": {},
   "source": [
    "### Run Multi-GPU Sorensen\n",
    "\n",
    "Additional Reading\n",
    "- [Wikipedia: Sorensen Coefficient](https://en.wikipedia.org/wiki/S%C3%B8rensen%E2%80%93Dice_coefficient)"
   ]
  },
  {
   "cell_type": "code",
   "execution_count": null,
   "metadata": {},
   "outputs": [],
   "source": [
    "sdf = jdf = dask_cugraph.sorensen(G,vertex_pairs)\n",
    "sdf.head(20)"
   ]
  },
  {
   "cell_type": "markdown",
   "metadata": {},
   "source": [
    "### Run Multi-GPU overlap\n",
    "\n",
    "Additional Reading\n",
    "- [Wikipedia: Sorensen Coefficient](https://en.wikipedia.org/wiki/Overlap_coefficient)"
   ]
  },
  {
   "cell_type": "code",
   "execution_count": null,
   "metadata": {},
   "outputs": [],
   "source": [
    "odf = jdf = dask_cugraph.overlap(G,vertex_pairs)\n",
    "odf.head(20)"
   ]
  },
  {
   "cell_type": "markdown",
   "metadata": {},
   "source": [
    "### Clean up and Shut down the multi-GPU Environment"
   ]
  },
  {
   "cell_type": "code",
   "execution_count": null,
   "metadata": {},
   "outputs": [],
   "source": [
    "del(ddf)\n",
    "del(G)\n",
    "\n",
    "Comms.destroy()\n",
    "client.close()\n",
    "cluster.close()"
   ]
  },
  {
   "cell_type": "markdown",
   "metadata": {},
   "source": [
    "___\n",
    "Copyright (c) 2023, NVIDIA CORPORATION.\n",
    "\n",
    "Licensed under the Apache License, Version 2.0 (the \"License\");  you may not use this file except in compliance with the License. You may obtain a copy of the License at http://www.apache.org/licenses/LICENSE-2.0\n",
    "\n",
    "Unless required by applicable law or agreed to in writing, software distributed under the License is distributed on an \"AS IS\" BASIS, WITHOUT WARRANTIES OR CONDITIONS OF ANY KIND, either express or implied. See the License for the specific language governing permissions and limitations under the License.\n",
    "___"
   ]
  }
 ],
 "metadata": {
  "kernelspec": {
   "display_name": "cugraph_0411",
   "language": "python",
   "name": "python3"
  },
  "language_info": {
   "codemirror_mode": {
    "name": "ipython",
    "version": 3
   },
   "file_extension": ".py",
   "mimetype": "text/x-python",
   "name": "python",
   "nbconvert_exporter": "python",
   "pygments_lexer": "ipython3",
   "version": "3.10.10"
  }
 },
 "nbformat": 4,
 "nbformat_minor": 4
}
