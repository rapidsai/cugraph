{
 "cells": [
  {
   "cell_type": "markdown",
   "metadata": {},
   "source": [
    "# Renumbering Test\n",
    "\n",
    "In this notebook, we will use the _renumber_ function to compute new vertex IDs.\n",
    "\n",
    "Under the covers, cuGraph represents a graph as a matrix in Compressed Sparse Row format (see https://en.wikipedia.org/wiki/Sparse_matrix).  The problem with a matrix representation is that there is a column and row for every possible vertex ID.  Therefore, if the data contains vertex IDs that are non-contiguous, or which start at a large initial value, then there is a lot of empty space that uses up memory.      \n",
    "\n",
    "An alternative case is using renumbering to convert from one data type down to a contiguous sequence of integer IDs.  This is useful when the dataset contain vertex IDs that are not integers.  \n",
    "\n",
    "\n",
    "Notebook Credits\n",
    "* Original Authors: Chuck Hastings and Bradley Rees\n",
    "* Created:   08/13/2019\n",
    "* Updated:   06/22/2022\n",
    "\n",
    "RAPIDS Versions: 22.08 \n",
    "\n",
    "Test Hardware\n",
    "\n",
    "* Tesla V100 32G, CUDA 11.5\n",
    "\n",
    "## Introduction\n",
    "\n",
    "Demonstrate creating a graph with renumbering.\n",
    "\n",
    "Most cuGraph algorithms operate on a CSR representation of a graph.  A CSR representation requires an indices array that is as long as the number of edges and an offsets array that is as 1 more than the largest vertex id.  This makes the memory utilization entirely dependent on the size of the largest vertex id.  For data sets that have a sparse range of vertex ids, the size of the CSR can be unnecessarily large.  It is easy to construct an example where the amount of memory required for the offsets array will exceed the amount of memory in the GPU (not to mention the performance cost of having a large number of offsets that are empty but still have to be read to be skipped).\n",
    "\n",
    "The renumbering feature allows us to generate unique identifiers for every vertex identified in the input data frame.\n",
    "\n",
    "Renumbering can happen automatically as part of graph generation.  It can also be done explicitly by the caller, this notebook will provide examples using both techniques.\n",
    "\n",
    "The fundamental requirement for the user of the renumbering software is to specify how to identify a vertex.  We will refer to this as the *external* vertex identifier.  This will typically be done by specifying a cuDF DataFrame, and then identifying which columns within the DataFrame constitute source vertices and which columns specify destination columns.\n",
    "\n",
    "Let us consider that a vertex is uniquely defined as a tuple of elements from the rows of a cuDF DataFrame.  The primary restriction is that the number of elements in the tuple must be the same for both source vertices and destination vertices, and that the types of each element in the source tuple must be the same as the corresponding element in the destination tuple.  This restriction is a natural restriction and should be obvious why this is required.\n",
    "\n",
    "Renumbering takes the collection of tuples that uniquely identify vertices in the graph, eliminates duplicates, and assigns integer identifiers to the unique tuples.  These integer identifiers are used as *internal* vertex identifiers within the cuGraph software.\n",
    "\n",
    "One of the features of the renumbering function is that it maps vertex ids of any size and structure down into a range that fits into 32-bit integers.  The current cuGraph algorithms are limited to 32-bit signed integers as vertex ids. and the renumbering feature will allow the caller to translate ids that are 64-bit (or strings, or complex data types) into a densely packed 32-bit array of ids that can be used in cuGraph algorithms.  Note that if there are more than 2^31 - 1 unique vertex ids then the renumber method will fail with an error indicating that there are too many vertices to renumber into a 32-bit signed integer."
   ]
  },
  {
   "cell_type": "markdown",
   "metadata": {},
   "source": [
    "First step is to import the needed libraries"
   ]
  },
  {
   "cell_type": "code",
   "execution_count": 1,
   "metadata": {},
   "outputs": [],
   "source": [
    "import cugraph\n",
    "import cudf\n",
    "import socket\n",
    "import struct\n",
    "import pandas as pd\n",
    "import numpy as np\n",
    "import networkx as nx\n",
    "from cugraph.structure import NumberMap"
   ]
  },
  {
   "cell_type": "markdown",
   "metadata": {},
   "source": [
    "# Create some test data\n",
    "\n",
    "This creates a small circle using some ipv4 addresses, storing the columns in a GPU data frame.\n",
    "\n",
    "The current version of renumbering operates only on integer types, so we translate the ipv4 strings into 64 bit integers."
   ]
  },
  {
   "cell_type": "code",
   "execution_count": 2,
   "metadata": {},
   "outputs": [
    {
     "name": "stdout",
     "output_type": "stream",
     "text": [
      "sources came from: ['192.168.1.1', '172.217.5.238', '216.228.121.209', '192.16.31.23']\n",
      "  sources as int = [3232235777, 2899903982, 3638852049, 3222282007]\n",
      "destinations came from: ['172.217.5.238', '216.228.121.209', '192.16.31.23', '192.168.1.1']\n",
      "  destinations as int = [2899903982, 3638852049, 3222282007, 3232235777]\n"
     ]
    }
   ],
   "source": [
    "source_list = [ '192.168.1.1', '172.217.5.238', '216.228.121.209', '192.16.31.23' ]\n",
    "dest_list = [ '172.217.5.238', '216.228.121.209', '192.16.31.23', '192.168.1.1' ]\n",
    "source_as_int = [ struct.unpack('!L', socket.inet_aton(x))[0] for x in source_list ]\n",
    "dest_as_int = [ struct.unpack('!L', socket.inet_aton(x))[0] for x in dest_list ]\n",
    "\n",
    "\n",
    "print(\"sources came from: \" + str([ socket.inet_ntoa(struct.pack('!L', x)) for x in source_as_int ]))\n",
    "print(\"  sources as int = \" + str(source_as_int))\n",
    "print(\"destinations came from: \" + str([ socket.inet_ntoa(struct.pack('!L', x)) for x in dest_as_int ]))\n",
    "print(\"  destinations as int = \" + str(dest_as_int))\n"
   ]
  },
  {
   "cell_type": "markdown",
   "metadata": {},
   "source": [
    "# Create our GPU Dataframe"
   ]
  },
  {
   "cell_type": "code",
   "execution_count": 3,
   "metadata": {},
   "outputs": [
    {
     "data": {
      "text/html": [
       "<div>\n",
       "<style scoped>\n",
       "    .dataframe tbody tr th:only-of-type {\n",
       "        vertical-align: middle;\n",
       "    }\n",
       "\n",
       "    .dataframe tbody tr th {\n",
       "        vertical-align: top;\n",
       "    }\n",
       "\n",
       "    .dataframe thead th {\n",
       "        text-align: right;\n",
       "    }\n",
       "</style>\n",
       "<table border=\"1\" class=\"dataframe\">\n",
       "  <thead>\n",
       "    <tr style=\"text-align: right;\">\n",
       "      <th></th>\n",
       "      <th>source_as_int</th>\n",
       "      <th>dest_as_int</th>\n",
       "    </tr>\n",
       "  </thead>\n",
       "  <tbody>\n",
       "    <tr>\n",
       "      <th>0</th>\n",
       "      <td>3232235777</td>\n",
       "      <td>2899903982</td>\n",
       "    </tr>\n",
       "    <tr>\n",
       "      <th>1</th>\n",
       "      <td>2899903982</td>\n",
       "      <td>3638852049</td>\n",
       "    </tr>\n",
       "    <tr>\n",
       "      <th>2</th>\n",
       "      <td>3638852049</td>\n",
       "      <td>3222282007</td>\n",
       "    </tr>\n",
       "    <tr>\n",
       "      <th>3</th>\n",
       "      <td>3222282007</td>\n",
       "      <td>3232235777</td>\n",
       "    </tr>\n",
       "  </tbody>\n",
       "</table>\n",
       "</div>"
      ],
      "text/plain": [
       "   source_as_int  dest_as_int\n",
       "0     3232235777   2899903982\n",
       "1     2899903982   3638852049\n",
       "2     3638852049   3222282007\n",
       "3     3222282007   3232235777"
      ]
     },
     "execution_count": 3,
     "metadata": {},
     "output_type": "execute_result"
    }
   ],
   "source": [
    "df = pd.DataFrame({\n",
    "        'source_list': source_list,\n",
    "        'dest_list': dest_list,\n",
    "        'source_as_int': source_as_int,\n",
    "        'dest_as_int': dest_as_int\n",
    "        })\n",
    "\n",
    "gdf = cudf.DataFrame.from_pandas(df[['source_as_int', 'dest_as_int']])\n",
    "\n",
    "gdf.to_pandas()"
   ]
  },
  {
   "cell_type": "markdown",
   "metadata": {},
   "source": [
    "# Run renumbering\n",
    "\n",
    "Output from renumbering is a data frame and a NumberMap object.  The data frame contains the renumbered sources and destinations.  The NumberMap will allow you to translate from external to internal vertex identifiers.  The renumbering call will rename the specified source and destination columns to indicate they were renumbered and no longer contain the original data, and the new names are guaranteed to be unique and not collide with other column names.\n",
    "\n",
    "Note that renumbering does not guarantee that the output data frame is in the same order as the input data frame (although in our simple example it will match).  To address this we will add the index as a column of gdf before renumbering.\n"
   ]
  },
  {
   "cell_type": "code",
   "execution_count": 4,
   "metadata": {},
   "outputs": [
    {
     "data": {
      "text/html": [
       "<div>\n",
       "<style scoped>\n",
       "    .dataframe tbody tr th:only-of-type {\n",
       "        vertical-align: middle;\n",
       "    }\n",
       "\n",
       "    .dataframe tbody tr th {\n",
       "        vertical-align: top;\n",
       "    }\n",
       "\n",
       "    .dataframe thead th {\n",
       "        text-align: right;\n",
       "    }\n",
       "</style>\n",
       "<table border=\"1\" class=\"dataframe\">\n",
       "  <thead>\n",
       "    <tr style=\"text-align: right;\">\n",
       "      <th></th>\n",
       "      <th>order</th>\n",
       "      <th>renumbered_src</th>\n",
       "      <th>renumbered_dst</th>\n",
       "    </tr>\n",
       "  </thead>\n",
       "  <tbody>\n",
       "    <tr>\n",
       "      <th>0</th>\n",
       "      <td>0</td>\n",
       "      <td>0</td>\n",
       "      <td>2</td>\n",
       "    </tr>\n",
       "    <tr>\n",
       "      <th>1</th>\n",
       "      <td>1</td>\n",
       "      <td>2</td>\n",
       "      <td>3</td>\n",
       "    </tr>\n",
       "    <tr>\n",
       "      <th>2</th>\n",
       "      <td>2</td>\n",
       "      <td>3</td>\n",
       "      <td>1</td>\n",
       "    </tr>\n",
       "    <tr>\n",
       "      <th>3</th>\n",
       "      <td>3</td>\n",
       "      <td>1</td>\n",
       "      <td>0</td>\n",
       "    </tr>\n",
       "  </tbody>\n",
       "</table>\n",
       "</div>"
      ],
      "text/plain": [
       "   order  renumbered_src  renumbered_dst\n",
       "0      0               0               2\n",
       "1      1               2               3\n",
       "2      2               3               1\n",
       "3      3               1               0"
      ]
     },
     "execution_count": 4,
     "metadata": {},
     "output_type": "execute_result"
    }
   ],
   "source": [
    "gdf['order'] = gdf.index\n",
    "\n",
    "renumbered_df, numbering = NumberMap.renumber(gdf, ['source_as_int'], ['dest_as_int'])\n",
    "new_src_col_name = numbering.renumbered_src_col_name\n",
    "new_dst_col_name = numbering.renumbered_dst_col_name\n",
    "\n",
    "renumbered_df"
   ]
  },
  {
   "cell_type": "markdown",
   "metadata": {},
   "source": [
    "# Now combine renumbered df with original df\n",
    "\n",
    "We can use the order column to merge the data frames together."
   ]
  },
  {
   "cell_type": "code",
   "execution_count": 5,
   "metadata": {},
   "outputs": [
    {
     "data": {
      "text/html": [
       "<div>\n",
       "<style scoped>\n",
       "    .dataframe tbody tr th:only-of-type {\n",
       "        vertical-align: middle;\n",
       "    }\n",
       "\n",
       "    .dataframe tbody tr th {\n",
       "        vertical-align: top;\n",
       "    }\n",
       "\n",
       "    .dataframe thead th {\n",
       "        text-align: right;\n",
       "    }\n",
       "</style>\n",
       "<table border=\"1\" class=\"dataframe\">\n",
       "  <thead>\n",
       "    <tr style=\"text-align: right;\">\n",
       "      <th></th>\n",
       "      <th>order</th>\n",
       "      <th>renumbered_src</th>\n",
       "      <th>renumbered_dst</th>\n",
       "      <th>source_as_int</th>\n",
       "      <th>dest_as_int</th>\n",
       "    </tr>\n",
       "  </thead>\n",
       "  <tbody>\n",
       "    <tr>\n",
       "      <th>0</th>\n",
       "      <td>0</td>\n",
       "      <td>0</td>\n",
       "      <td>2</td>\n",
       "      <td>3232235777</td>\n",
       "      <td>2899903982</td>\n",
       "    </tr>\n",
       "    <tr>\n",
       "      <th>1</th>\n",
       "      <td>1</td>\n",
       "      <td>2</td>\n",
       "      <td>3</td>\n",
       "      <td>2899903982</td>\n",
       "      <td>3638852049</td>\n",
       "    </tr>\n",
       "    <tr>\n",
       "      <th>2</th>\n",
       "      <td>2</td>\n",
       "      <td>3</td>\n",
       "      <td>1</td>\n",
       "      <td>3638852049</td>\n",
       "      <td>3222282007</td>\n",
       "    </tr>\n",
       "    <tr>\n",
       "      <th>3</th>\n",
       "      <td>3</td>\n",
       "      <td>1</td>\n",
       "      <td>0</td>\n",
       "      <td>3222282007</td>\n",
       "      <td>3232235777</td>\n",
       "    </tr>\n",
       "  </tbody>\n",
       "</table>\n",
       "</div>"
      ],
      "text/plain": [
       "   order  renumbered_src  renumbered_dst  source_as_int  dest_as_int\n",
       "0      0               0               2     3232235777   2899903982\n",
       "1      1               2               3     2899903982   3638852049\n",
       "2      2               3               1     3638852049   3222282007\n",
       "3      3               1               0     3222282007   3232235777"
      ]
     },
     "execution_count": 5,
     "metadata": {},
     "output_type": "execute_result"
    }
   ],
   "source": [
    "renumbered_df = renumbered_df.merge(gdf, on='order').sort_values('order').reset_index(drop=True)\n",
    "\n",
    "renumbered_df"
   ]
  },
  {
   "cell_type": "markdown",
   "metadata": {},
   "source": [
    "# Data types\n",
    "\n",
    "Just to confirm, the data types of the renumbered columns should be int32, the original data should be int64, the numbering map needs to be int64 since the values it contains map to the original int64 types."
   ]
  },
  {
   "cell_type": "code",
   "execution_count": 6,
   "metadata": {},
   "outputs": [
    {
     "data": {
      "text/plain": [
       "order             int64\n",
       "renumbered_src    int32\n",
       "renumbered_dst    int32\n",
       "source_as_int     int64\n",
       "dest_as_int       int64\n",
       "dtype: object"
      ]
     },
     "execution_count": 6,
     "metadata": {},
     "output_type": "execute_result"
    }
   ],
   "source": [
    "renumbered_df.dtypes"
   ]
  },
  {
   "cell_type": "markdown",
   "metadata": {},
   "source": [
    "# Quick verification\n",
    "\n",
    "The NumberMap object allows us to translate back and forth between *external* vertex identifiers and *internal* vertex identifiers.\n",
    "\n",
    "To understand the renumbering, here's an ugly block of verification logic."
   ]
  },
  {
   "cell_type": "code",
   "execution_count": 7,
   "metadata": {},
   "outputs": [
    {
     "name": "stdout",
     "output_type": "stream",
     "text": [
      "  0 : ( 3232235777 , 2899903982 ), renumbered: ( 0 , 2 ), translate back: ( 3232235777 , 2899903982 )\n",
      "  1 : ( 2899903982 , 3638852049 ), renumbered: ( 2 , 3 ), translate back: ( 2899903982 , 3638852049 )\n",
      "  2 : ( 3638852049 , 3222282007 ), renumbered: ( 3 , 1 ), translate back: ( 3638852049 , 3222282007 )\n",
      "  3 : ( 3222282007 , 3232235777 ), renumbered: ( 1 , 0 ), translate back: ( 3222282007 , 3232235777 )\n"
     ]
    }
   ],
   "source": [
    "numbering.from_internal_vertex_id(cudf.Series([0]))['0'][0]\n",
    "\n",
    "for i in range(len(renumbered_df)):\n",
    "    print(\" \", i,\n",
    "          \": (\",  source_as_int[i], \",\", dest_as_int[i],\n",
    "          \"), renumbered: (\", renumbered_df[new_src_col_name][i], \",\", renumbered_df[new_dst_col_name][i], \n",
    "          \"), translate back: (\",\n",
    "          numbering.from_internal_vertex_id(cudf.Series([renumbered_df[new_src_col_name][i]]))['0'][0], \",\",\n",
    "          numbering.from_internal_vertex_id(cudf.Series([renumbered_df[new_dst_col_name][i]]))['0'][0], \")\"\n",
    "         )\n"
   ]
  },
  {
   "cell_type": "markdown",
   "metadata": {},
   "source": [
    "# Now let's do some graph things...\n",
    "\n",
    "To start, let's run page rank.  Not particularly interesting on our circle, since everything should have an equal rank.\n",
    "\n",
    "Note, we passed in the renumbered columns as our input, so the output is based upon the internal vertex ids."
   ]
  },
  {
   "cell_type": "code",
   "execution_count": 8,
   "metadata": {},
   "outputs": [
    {
     "data": {
      "text/html": [
       "<div>\n",
       "<style scoped>\n",
       "    .dataframe tbody tr th:only-of-type {\n",
       "        vertical-align: middle;\n",
       "    }\n",
       "\n",
       "    .dataframe tbody tr th {\n",
       "        vertical-align: top;\n",
       "    }\n",
       "\n",
       "    .dataframe thead th {\n",
       "        text-align: right;\n",
       "    }\n",
       "</style>\n",
       "<table border=\"1\" class=\"dataframe\">\n",
       "  <thead>\n",
       "    <tr style=\"text-align: right;\">\n",
       "      <th></th>\n",
       "      <th>vertex</th>\n",
       "      <th>pagerank</th>\n",
       "    </tr>\n",
       "  </thead>\n",
       "  <tbody>\n",
       "    <tr>\n",
       "      <th>0</th>\n",
       "      <td>0</td>\n",
       "      <td>0.25</td>\n",
       "    </tr>\n",
       "    <tr>\n",
       "      <th>1</th>\n",
       "      <td>1</td>\n",
       "      <td>0.25</td>\n",
       "    </tr>\n",
       "    <tr>\n",
       "      <th>2</th>\n",
       "      <td>2</td>\n",
       "      <td>0.25</td>\n",
       "    </tr>\n",
       "    <tr>\n",
       "      <th>3</th>\n",
       "      <td>3</td>\n",
       "      <td>0.25</td>\n",
       "    </tr>\n",
       "  </tbody>\n",
       "</table>\n",
       "</div>"
      ],
      "text/plain": [
       "   vertex  pagerank\n",
       "0       0      0.25\n",
       "1       1      0.25\n",
       "2       2      0.25\n",
       "3       3      0.25"
      ]
     },
     "execution_count": 8,
     "metadata": {},
     "output_type": "execute_result"
    }
   ],
   "source": [
    "G = cugraph.Graph()\n",
    "gdf_r = cudf.DataFrame()\n",
    "gdf_r[\"src\"] = renumbered_df[new_src_col_name]\n",
    "gdf_r[\"dst\"] = renumbered_df[new_dst_col_name]\n",
    "\n",
    "G.from_cudf_edgelist(gdf_r, source='src', destination='dst', renumber=False)\n",
    "\n",
    "pr = cugraph.pagerank(G)\n",
    "\n",
    "pr.to_pandas()"
   ]
  },
  {
   "cell_type": "markdown",
   "metadata": {},
   "source": [
    "# Convert vertex IDs back\n",
    "\n",
    "To be relevant, we probably want the vertex ids converted back into the original ids.  This can be done by the NumberMap object.\n",
    "\n",
    "Note again, the un-renumber call does not guarantee order.  If order matters you would need to do something to regenerate the desired order."
   ]
  },
  {
   "cell_type": "code",
   "execution_count": 9,
   "metadata": {
    "scrolled": true
   },
   "outputs": [
    {
     "data": {
      "text/html": [
       "<div>\n",
       "<style scoped>\n",
       "    .dataframe tbody tr th:only-of-type {\n",
       "        vertical-align: middle;\n",
       "    }\n",
       "\n",
       "    .dataframe tbody tr th {\n",
       "        vertical-align: top;\n",
       "    }\n",
       "\n",
       "    .dataframe thead th {\n",
       "        text-align: right;\n",
       "    }\n",
       "</style>\n",
       "<table border=\"1\" class=\"dataframe\">\n",
       "  <thead>\n",
       "    <tr style=\"text-align: right;\">\n",
       "      <th></th>\n",
       "      <th>pagerank</th>\n",
       "      <th>vertex</th>\n",
       "    </tr>\n",
       "  </thead>\n",
       "  <tbody>\n",
       "    <tr>\n",
       "      <th>0</th>\n",
       "      <td>0.25</td>\n",
       "      <td>3232235777</td>\n",
       "    </tr>\n",
       "    <tr>\n",
       "      <th>1</th>\n",
       "      <td>0.25</td>\n",
       "      <td>3222282007</td>\n",
       "    </tr>\n",
       "    <tr>\n",
       "      <th>2</th>\n",
       "      <td>0.25</td>\n",
       "      <td>2899903982</td>\n",
       "    </tr>\n",
       "    <tr>\n",
       "      <th>3</th>\n",
       "      <td>0.25</td>\n",
       "      <td>3638852049</td>\n",
       "    </tr>\n",
       "  </tbody>\n",
       "</table>\n",
       "</div>"
      ],
      "text/plain": [
       "   pagerank      vertex\n",
       "0      0.25  3232235777\n",
       "1      0.25  3222282007\n",
       "2      0.25  2899903982\n",
       "3      0.25  3638852049"
      ]
     },
     "execution_count": 9,
     "metadata": {},
     "output_type": "execute_result"
    }
   ],
   "source": [
    "numbering.unrenumber(pr, 'vertex')"
   ]
  },
  {
   "cell_type": "markdown",
   "metadata": {},
   "source": [
    "# Try to run Jaccard\n",
    "\n",
    "Not at all an interesting result, but it demonstrates a more complicated case.  Jaccard returns a coefficient for each edge.  In order to show the original ids we need to add columns to the data frame for each column that contains one of renumbered vertices.  In this case, the columns source and destination contain renumbered vertex ids."
   ]
  },
  {
   "cell_type": "code",
   "execution_count": 10,
   "metadata": {},
   "outputs": [
    {
     "data": {
      "text/html": [
       "<div>\n",
       "<style scoped>\n",
       "    .dataframe tbody tr th:only-of-type {\n",
       "        vertical-align: middle;\n",
       "    }\n",
       "\n",
       "    .dataframe tbody tr th {\n",
       "        vertical-align: top;\n",
       "    }\n",
       "\n",
       "    .dataframe thead th {\n",
       "        text-align: right;\n",
       "    }\n",
       "</style>\n",
       "<table border=\"1\" class=\"dataframe\">\n",
       "  <thead>\n",
       "    <tr style=\"text-align: right;\">\n",
       "      <th></th>\n",
       "      <th>jaccard_coeff</th>\n",
       "      <th>source</th>\n",
       "      <th>destination</th>\n",
       "      <th>original_source</th>\n",
       "      <th>original_destination</th>\n",
       "    </tr>\n",
       "  </thead>\n",
       "  <tbody>\n",
       "    <tr>\n",
       "      <th>0</th>\n",
       "      <td>0.0</td>\n",
       "      <td>3232235777</td>\n",
       "      <td>3222282007</td>\n",
       "      <td>192.168.1.1</td>\n",
       "      <td>192.16.31.23</td>\n",
       "    </tr>\n",
       "    <tr>\n",
       "      <th>1</th>\n",
       "      <td>0.0</td>\n",
       "      <td>3232235777</td>\n",
       "      <td>2899903982</td>\n",
       "      <td>192.168.1.1</td>\n",
       "      <td>172.217.5.238</td>\n",
       "    </tr>\n",
       "    <tr>\n",
       "      <th>2</th>\n",
       "      <td>0.0</td>\n",
       "      <td>3222282007</td>\n",
       "      <td>3232235777</td>\n",
       "      <td>192.16.31.23</td>\n",
       "      <td>192.168.1.1</td>\n",
       "    </tr>\n",
       "    <tr>\n",
       "      <th>3</th>\n",
       "      <td>0.0</td>\n",
       "      <td>3222282007</td>\n",
       "      <td>3638852049</td>\n",
       "      <td>192.16.31.23</td>\n",
       "      <td>216.228.121.209</td>\n",
       "    </tr>\n",
       "    <tr>\n",
       "      <th>4</th>\n",
       "      <td>0.0</td>\n",
       "      <td>2899903982</td>\n",
       "      <td>3232235777</td>\n",
       "      <td>172.217.5.238</td>\n",
       "      <td>192.168.1.1</td>\n",
       "    </tr>\n",
       "    <tr>\n",
       "      <th>5</th>\n",
       "      <td>0.0</td>\n",
       "      <td>2899903982</td>\n",
       "      <td>3638852049</td>\n",
       "      <td>172.217.5.238</td>\n",
       "      <td>216.228.121.209</td>\n",
       "    </tr>\n",
       "    <tr>\n",
       "      <th>6</th>\n",
       "      <td>0.0</td>\n",
       "      <td>3638852049</td>\n",
       "      <td>3222282007</td>\n",
       "      <td>216.228.121.209</td>\n",
       "      <td>192.16.31.23</td>\n",
       "    </tr>\n",
       "    <tr>\n",
       "      <th>7</th>\n",
       "      <td>0.0</td>\n",
       "      <td>3638852049</td>\n",
       "      <td>2899903982</td>\n",
       "      <td>216.228.121.209</td>\n",
       "      <td>172.217.5.238</td>\n",
       "    </tr>\n",
       "  </tbody>\n",
       "</table>\n",
       "</div>"
      ],
      "text/plain": [
       "   jaccard_coeff      source  destination  original_source  \\\n",
       "0            0.0  3232235777   3222282007      192.168.1.1   \n",
       "1            0.0  3232235777   2899903982      192.168.1.1   \n",
       "2            0.0  3222282007   3232235777     192.16.31.23   \n",
       "3            0.0  3222282007   3638852049     192.16.31.23   \n",
       "4            0.0  2899903982   3232235777    172.217.5.238   \n",
       "5            0.0  2899903982   3638852049    172.217.5.238   \n",
       "6            0.0  3638852049   3222282007  216.228.121.209   \n",
       "7            0.0  3638852049   2899903982  216.228.121.209   \n",
       "\n",
       "  original_destination  \n",
       "0         192.16.31.23  \n",
       "1        172.217.5.238  \n",
       "2          192.168.1.1  \n",
       "3      216.228.121.209  \n",
       "4          192.168.1.1  \n",
       "5      216.228.121.209  \n",
       "6         192.16.31.23  \n",
       "7        172.217.5.238  "
      ]
     },
     "execution_count": 10,
     "metadata": {},
     "output_type": "execute_result"
    }
   ],
   "source": [
    "jac = cugraph.jaccard(G)\n",
    "\n",
    "jac = numbering.unrenumber(jac, 'source')\n",
    "jac = numbering.unrenumber(jac, 'destination')\n",
    "\n",
    "jac.insert(len(jac.columns),\n",
    "           \"original_source\",\n",
    "           [ socket.inet_ntoa(struct.pack('!L', x)) for x in jac['source'].values_host ])\n",
    "\n",
    "jac.insert(len(jac.columns),\n",
    "           \"original_destination\",\n",
    "           [ socket.inet_ntoa(struct.pack('!L', x)) for x in jac['destination'].values_host ])\n",
    "\n",
    "jac.to_pandas()\n"
   ]
  },
  {
   "cell_type": "markdown",
   "metadata": {},
   "source": [
    "# Working from the strings\n",
    "\n",
    "Starting with version 0.15, the base renumbering feature contains support for any arbitrary columns.  So we can now directly support strings.\n",
    "\n",
    "Renumbering also happens automatically in the graph.  So let's combine all of this to a simpler example with the same data."
   ]
  },
  {
   "cell_type": "code",
   "execution_count": 11,
   "metadata": {},
   "outputs": [
    {
     "name": "stdout",
     "output_type": "stream",
     "text": [
      "pagerank output:\n",
      "    pagerank           vertex\n",
      "0      0.25  216.228.121.209\n",
      "1      0.25    172.217.5.238\n",
      "2      0.25      192.168.1.1\n",
      "3      0.25     192.16.31.23\n",
      "jaccard output:\n",
      "    jaccard_coeff           source      destination\n",
      "0            0.0  216.228.121.209    172.217.5.238\n",
      "1            0.0  216.228.121.209     192.16.31.23\n",
      "2            0.0    172.217.5.238  216.228.121.209\n",
      "3            0.0    172.217.5.238      192.168.1.1\n",
      "4            0.0      192.168.1.1    172.217.5.238\n",
      "5            0.0      192.168.1.1     192.16.31.23\n",
      "6            0.0     192.16.31.23  216.228.121.209\n",
      "7            0.0     192.16.31.23      192.168.1.1\n"
     ]
    }
   ],
   "source": [
    "gdf = cudf.DataFrame.from_pandas(df[['source_list', 'dest_list']])\n",
    "\n",
    "G = cugraph.Graph()\n",
    "G.from_cudf_edgelist(gdf, source='source_list', destination='dest_list', renumber=True)\n",
    "\n",
    "pr = cugraph.pagerank(G)\n",
    "\n",
    "print('pagerank output:\\n', pr)\n",
    "\n",
    "jac = cugraph.jaccard(G)\n",
    "\n",
    "print('jaccard output:\\n', jac)\n"
   ]
  },
  {
   "cell_type": "markdown",
   "metadata": {},
   "source": [
    "___\n",
    "Copyright (c) 2019-2022, NVIDIA CORPORATION.\n",
    "\n",
    "Licensed under the Apache License, Version 2.0 (the \"License\");  you may not use this file except in compliance with the License. You may obtain a copy of the License at http://www.apache.org/licenses/LICENSE-2.0\n",
    "\n",
    "Unless required by applicable law or agreed to in writing, software distributed under the License is distributed on an \"AS IS\" BASIS, WITHOUT WARRANTIES OR CONDITIONS OF ANY KIND, either express or implied. See the License for the specific language governing permissions and limitations under the License.\n",
    "___"
   ]
  }
 ],
 "metadata": {
  "kernelspec": {
   "display_name": "Python 3.9.7 ('base')",
   "language": "python",
   "name": "python3"
  },
  "language_info": {
   "codemirror_mode": {
    "name": "ipython",
    "version": 3
   },
   "file_extension": ".py",
   "mimetype": "text/x-python",
   "name": "python",
   "nbconvert_exporter": "python",
   "pygments_lexer": "ipython3",
   "version": "3.9.7"
  },
  "vscode": {
   "interpreter": {
    "hash": "f708a36acfaef0acf74ccd43dfb58100269bf08fb79032a1e0a6f35bd9856f51"
   }
  }
 },
 "nbformat": 4,
 "nbformat_minor": 4
}
