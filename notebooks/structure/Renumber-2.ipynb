{
 "cells": [
  {
   "cell_type": "markdown",
   "metadata": {},
   "source": [
    "# Renumber\n",
    "\n",
    "In this notebook, we will use the _renumber_ function to compute new vertex IDs.\n",
    "\n",
    "Under the covers, cuGraph represents a graph as a matrix in Compressed Sparse Row format (see https://en.wikipedia.org/wiki/Sparse_matrix).  The problem with a matrix representation is that there is a column and row for every possible vertex ID.  Therefore, if the data contains vertex IDs that are non-contiguious, or which start at a large initial value, then there is a lot of empty space that uses up memory.      \n",
    "\n",
    "An alternative case is using renumbering to convert from one data type down to a contiguious sequence of integer IDs.  This is useful when the dataset contain vertex IDs that are not integers.  \n",
    "\n",
    "\n",
    "Notebook Credits\n",
    "\n",
    "| Author        |    Date    |  Update             |\n",
    "| --------------|------------|---------------------|\n",
    "| Brad Rees     | 08/13/2019 | created             |\n",
    "| Brad Rees     | 07/08/2020 | updated             |\n",
    "| Ralph Liu     | 06/01/2022 | docs & code change  |\n",
    "|               | 06/22/2022 | update              |\n",
    "\n",
    "RAPIDS Versions: 22.08  \n",
    "\n",
    "Test Hardware\n",
    "\n",
    "* Tesla V100 32G, CUDA 11.5\n",
    "\n",
    "\n",
    "## Introduction\n",
    "The renumber function takes an edge list (source, destination) and renumbers the vertices so that the index start at 0 and are contiguious.  The function also converts the data type to return int32\n",
    "\n",
    "To renumber an edge list (COO data) use:<br>\n",
    "\n",
    "**cugraph.renumber(source, destination)**\n",
    "* __source__: cudf.Series\n",
    "* __destination__: cudf.Series\n",
    "\n",
    "\n",
    "Returns:\n",
    "* __triplet__: three variables are returned:\n",
    "    * 'src': the new source vertex IDs\n",
    "    * 'dst': the new destination IDs\n",
    "    * 'mapping': a mapping of new IDs to original IDs.  Since the new IDs are sequencial from 0, the index value represents the new vertex ID\n",
    "\n",
    "\n"
   ]
  },
  {
   "cell_type": "markdown",
   "metadata": {},
   "source": [
    "### Test Data\n",
    "A cyber data set from the University of New South Wales is used, where just the IP edge pairs from been extracted"
   ]
  },
  {
   "cell_type": "markdown",
   "metadata": {},
   "source": [
    "### Prep"
   ]
  },
  {
   "cell_type": "code",
   "execution_count": 1,
   "metadata": {},
   "outputs": [],
   "source": [
    "# Import needed libraries\n",
    "import cugraph\n",
    "import cudf\n",
    "import cupy as cp\n",
    "\n",
    "from cugraph.structure import NumberMap"
   ]
  },
  {
   "cell_type": "code",
   "execution_count": 2,
   "metadata": {},
   "outputs": [],
   "source": [
    "# Import a built-in dataset\n",
    "from cugraph.experimental.datasets import cyber\n",
    "gdf = cyber.get_edgelist()"
   ]
  },
  {
   "cell_type": "markdown",
   "metadata": {},
   "source": [
    "### Look at the data"
   ]
  },
  {
   "cell_type": "code",
   "execution_count": 7,
   "metadata": {},
   "outputs": [
    {
     "data": {
      "text/html": [
       "<div>\n",
       "<style scoped>\n",
       "    .dataframe tbody tr th:only-of-type {\n",
       "        vertical-align: middle;\n",
       "    }\n",
       "\n",
       "    .dataframe tbody tr th {\n",
       "        vertical-align: top;\n",
       "    }\n",
       "\n",
       "    .dataframe thead th {\n",
       "        text-align: right;\n",
       "    }\n",
       "</style>\n",
       "<table border=\"1\" class=\"dataframe\">\n",
       "  <thead>\n",
       "    <tr style=\"text-align: right;\">\n",
       "      <th></th>\n",
       "      <th>idx</th>\n",
       "      <th>src</th>\n",
       "      <th>dst</th>\n",
       "    </tr>\n",
       "  </thead>\n",
       "  <tbody>\n",
       "    <tr>\n",
       "      <th>1</th>\n",
       "      <td>0</td>\n",
       "      <td>﻿59.166.0.0</td>\n",
       "      <td>149.171.126.6</td>\n",
       "    </tr>\n",
       "    <tr>\n",
       "      <th>2</th>\n",
       "      <td>1</td>\n",
       "      <td>59.166.0.0</td>\n",
       "      <td>149.171.126.9</td>\n",
       "    </tr>\n",
       "    <tr>\n",
       "      <th>3</th>\n",
       "      <td>2</td>\n",
       "      <td>59.166.0.6</td>\n",
       "      <td>149.171.126.7</td>\n",
       "    </tr>\n",
       "    <tr>\n",
       "      <th>4</th>\n",
       "      <td>3</td>\n",
       "      <td>59.166.0.5</td>\n",
       "      <td>149.171.126.5</td>\n",
       "    </tr>\n",
       "    <tr>\n",
       "      <th>5</th>\n",
       "      <td>4</td>\n",
       "      <td>59.166.0.3</td>\n",
       "      <td>149.171.126.0</td>\n",
       "    </tr>\n",
       "  </tbody>\n",
       "</table>\n",
       "</div>"
      ],
      "text/plain": [
       "   idx          src            dst\n",
       "1    0  ﻿59.166.0.0  149.171.126.6\n",
       "2    1   59.166.0.0  149.171.126.9\n",
       "3    2   59.166.0.6  149.171.126.7\n",
       "4    3   59.166.0.5  149.171.126.5\n",
       "5    4   59.166.0.3  149.171.126.0"
      ]
     },
     "execution_count": 7,
     "metadata": {},
     "output_type": "execute_result"
    }
   ],
   "source": [
    "# trim\n",
    "gdf = gdf[1:]\n",
    "\n",
    "# take a peek at the data\n",
    "gdf.head()"
   ]
  },
  {
   "cell_type": "code",
   "execution_count": 9,
   "metadata": {},
   "outputs": [],
   "source": [
    "# Since IP columns are strings, we first need to convert them to integers\n",
    "gdf['src_ip'] = gdf['src'].str.ip2int()\n",
    "gdf['dst_ip'] = gdf['dst'].str.ip2int()"
   ]
  },
  {
   "cell_type": "code",
   "execution_count": 10,
   "metadata": {},
   "outputs": [
    {
     "name": "stdout",
     "output_type": "stream",
     "text": [
      "edges: 2546575\n",
      "max: 3758096389 min: 59 range: 3758096331\n"
     ]
    }
   ],
   "source": [
    "# look at that data and the range of values\n",
    "maxT = max(gdf['src_ip'].max(), gdf['dst_ip'].max())\n",
    "minT = min(gdf['src_ip'].min(), gdf['dst_ip'].min())\n",
    "\n",
    "r = maxT - minT +1\n",
    "print(\"edges: \" + str(len(gdf)))\n",
    "print(\"max: \" + str(maxT) + \" min: \" + str(minT) + \" range: \" + str(r))"
   ]
  },
  {
   "cell_type": "markdown",
   "metadata": {},
   "source": [
    "The data has 2.5 million edges that span a range of 3,758,096,389.\n",
    "Even if every vertex ID was unique per edge, that would only be 5 million values versus the 3.7 billion that is currently there.  \n",
    "In the current state, the produced matrix would 3.7 billion by 3.7 billion - that is a lot of wasted space."
   ]
  },
  {
   "cell_type": "markdown",
   "metadata": {},
   "source": [
    "### Time to Renumber\n",
    "One good best practice is to have the returned edge pairs appended to the original Dataframe. That will help merge results back into the datasets"
   ]
  },
  {
   "cell_type": "code",
   "execution_count": 11,
   "metadata": {},
   "outputs": [],
   "source": [
    "gdf['order'] = gdf.index\n",
    "\n",
    "tmp_df, numbering = NumberMap.renumber(gdf, ['src_ip'], ['dst_ip'])\n",
    "new_src_col_name = numbering.renumbered_src_col_name\n",
    "new_dst_col_name = numbering.renumbered_dst_col_name\n",
    "\n",
    "gdf = gdf.merge(tmp_df, on='order').sort_values('order').set_index(keys='order', drop=True)\n",
    "gdf = gdf.rename(columns={new_src_col_name: 'src_r', new_dst_col_name: 'dst_r'})"
   ]
  },
  {
   "cell_type": "code",
   "execution_count": 12,
   "metadata": {},
   "outputs": [
    {
     "data": {
      "text/html": [
       "<div>\n",
       "<style scoped>\n",
       "    .dataframe tbody tr th:only-of-type {\n",
       "        vertical-align: middle;\n",
       "    }\n",
       "\n",
       "    .dataframe tbody tr th {\n",
       "        vertical-align: top;\n",
       "    }\n",
       "\n",
       "    .dataframe thead th {\n",
       "        text-align: right;\n",
       "    }\n",
       "</style>\n",
       "<table border=\"1\" class=\"dataframe\">\n",
       "  <thead>\n",
       "    <tr style=\"text-align: right;\">\n",
       "      <th></th>\n",
       "      <th>idx_x</th>\n",
       "      <th>src_x</th>\n",
       "      <th>dst_x</th>\n",
       "      <th>src_ip</th>\n",
       "      <th>dst_ip</th>\n",
       "      <th>idx_y</th>\n",
       "      <th>src_y</th>\n",
       "      <th>dst_y</th>\n",
       "      <th>src_r</th>\n",
       "      <th>dst_r</th>\n",
       "    </tr>\n",
       "    <tr>\n",
       "      <th>order</th>\n",
       "      <th></th>\n",
       "      <th></th>\n",
       "      <th></th>\n",
       "      <th></th>\n",
       "      <th></th>\n",
       "      <th></th>\n",
       "      <th></th>\n",
       "      <th></th>\n",
       "      <th></th>\n",
       "      <th></th>\n",
       "    </tr>\n",
       "  </thead>\n",
       "  <tbody>\n",
       "    <tr>\n",
       "      <th>1</th>\n",
       "      <td>0</td>\n",
       "      <td>﻿59.166.0.0</td>\n",
       "      <td>149.171.126.6</td>\n",
       "      <td>59</td>\n",
       "      <td>2511044102</td>\n",
       "      <td>0</td>\n",
       "      <td>﻿59.166.0.0</td>\n",
       "      <td>149.171.126.6</td>\n",
       "      <td>43</td>\n",
       "      <td>30</td>\n",
       "    </tr>\n",
       "    <tr>\n",
       "      <th>2</th>\n",
       "      <td>1</td>\n",
       "      <td>59.166.0.0</td>\n",
       "      <td>149.171.126.9</td>\n",
       "      <td>1000734720</td>\n",
       "      <td>2511044105</td>\n",
       "      <td>1</td>\n",
       "      <td>59.166.0.0</td>\n",
       "      <td>149.171.126.9</td>\n",
       "      <td>4</td>\n",
       "      <td>33</td>\n",
       "    </tr>\n",
       "    <tr>\n",
       "      <th>3</th>\n",
       "      <td>2</td>\n",
       "      <td>59.166.0.6</td>\n",
       "      <td>149.171.126.7</td>\n",
       "      <td>1000734726</td>\n",
       "      <td>2511044103</td>\n",
       "      <td>2</td>\n",
       "      <td>59.166.0.6</td>\n",
       "      <td>149.171.126.7</td>\n",
       "      <td>7</td>\n",
       "      <td>34</td>\n",
       "    </tr>\n",
       "    <tr>\n",
       "      <th>4</th>\n",
       "      <td>3</td>\n",
       "      <td>59.166.0.5</td>\n",
       "      <td>149.171.126.5</td>\n",
       "      <td>1000734725</td>\n",
       "      <td>2511044101</td>\n",
       "      <td>3</td>\n",
       "      <td>59.166.0.5</td>\n",
       "      <td>149.171.126.5</td>\n",
       "      <td>2</td>\n",
       "      <td>26</td>\n",
       "    </tr>\n",
       "    <tr>\n",
       "      <th>5</th>\n",
       "      <td>4</td>\n",
       "      <td>59.166.0.3</td>\n",
       "      <td>149.171.126.0</td>\n",
       "      <td>1000734723</td>\n",
       "      <td>2511044096</td>\n",
       "      <td>4</td>\n",
       "      <td>59.166.0.3</td>\n",
       "      <td>149.171.126.0</td>\n",
       "      <td>5</td>\n",
       "      <td>35</td>\n",
       "    </tr>\n",
       "  </tbody>\n",
       "</table>\n",
       "</div>"
      ],
      "text/plain": [
       "       idx_x        src_x          dst_x      src_ip      dst_ip  idx_y  \\\n",
       "order                                                                     \n",
       "1          0  ﻿59.166.0.0  149.171.126.6          59  2511044102      0   \n",
       "2          1   59.166.0.0  149.171.126.9  1000734720  2511044105      1   \n",
       "3          2   59.166.0.6  149.171.126.7  1000734726  2511044103      2   \n",
       "4          3   59.166.0.5  149.171.126.5  1000734725  2511044101      3   \n",
       "5          4   59.166.0.3  149.171.126.0  1000734723  2511044096      4   \n",
       "\n",
       "             src_y          dst_y  src_r  dst_r  \n",
       "order                                            \n",
       "1      ﻿59.166.0.0  149.171.126.6     43     30  \n",
       "2       59.166.0.0  149.171.126.9      4     33  \n",
       "3       59.166.0.6  149.171.126.7      7     34  \n",
       "4       59.166.0.5  149.171.126.5      2     26  \n",
       "5       59.166.0.3  149.171.126.0      5     35  "
      ]
     },
     "execution_count": 12,
     "metadata": {},
     "output_type": "execute_result"
    }
   ],
   "source": [
    "gdf.head()"
   ]
  },
  {
   "cell_type": "markdown",
   "metadata": {},
   "source": [
    "Let's now look at the renumbered range of values"
   ]
  },
  {
   "cell_type": "code",
   "execution_count": 13,
   "metadata": {},
   "outputs": [
    {
     "name": "stdout",
     "output_type": "stream",
     "text": [
      "edges: 2546575\n",
      "max: 51 min: 0 range: 52\n"
     ]
    }
   ],
   "source": [
    "# look at that data and the range of values\n",
    "maxT = max(gdf['src_r'].max(), gdf['dst_r'].max())\n",
    "minT = min(gdf['src_r'].min(), gdf['dst_r'].min())\n",
    "\n",
    "r = maxT - minT + 1\n",
    "print(\"edges: \" + str(len(gdf)))\n",
    "print(\"max: \" + str(maxT) + \" min: \" + str(minT) + \" range: \" + str(r))"
   ]
  },
  {
   "cell_type": "markdown",
   "metadata": {},
   "source": [
    "Just saved 3.7 billion unneeded spaces in the matrix!<br>\n",
    "And we can now see that there are only 52 unique IP addresses in the dataset.<br>\n",
    "Let's confirm the number of unique values."
   ]
  },
  {
   "cell_type": "code",
   "execution_count": 14,
   "metadata": {},
   "outputs": [
    {
     "name": "stdout",
     "output_type": "stream",
     "text": [
      "Unique IPs: 52\n"
     ]
    }
   ],
   "source": [
    "# Merge the renumbered columns\n",
    "src, dst = gdf['src_r'].to_cupy(), gdf['dst_r'].to_cupy()\n",
    "merged = cp.concatenate((src, dst))\n",
    "\n",
    "print(\"Unique IPs: \" + str(len(cp.unique(merged))))"
   ]
  },
  {
   "cell_type": "markdown",
   "metadata": {},
   "source": [
    "___\n",
    "Copyright (c) 2019-2022, NVIDIA CORPORATION.\n",
    "\n",
    "Licensed under the Apache License, Version 2.0 (the \"License\");  you may not use this file except in compliance with the License. You may obtain a copy of the License at http://www.apache.org/licenses/LICENSE-2.0\n",
    "\n",
    "Unless required by applicable law or agreed to in writing, software distributed under the License is distributed on an \"AS IS\" BASIS, WITHOUT WARRANTIES OR CONDITIONS OF ANY KIND, either express or implied. See the License for the specific language governing permissions and limitations under the License.\n",
    "___"
   ]
  }
 ],
 "metadata": {
  "kernelspec": {
   "display_name": "Python 3.9.7 ('base')",
   "language": "python",
   "name": "python3"
  },
  "language_info": {
   "codemirror_mode": {
    "name": "ipython",
    "version": 3
   },
   "file_extension": ".py",
   "mimetype": "text/x-python",
   "name": "python",
   "nbconvert_exporter": "python",
   "pygments_lexer": "ipython3",
   "version": "3.9.7"
  },
  "vscode": {
   "interpreter": {
    "hash": "f708a36acfaef0acf74ccd43dfb58100269bf08fb79032a1e0a6f35bd9856f51"
   }
  }
 },
 "nbformat": 4,
 "nbformat_minor": 4
}
