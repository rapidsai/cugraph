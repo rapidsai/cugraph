{
 "cells": [
  {
   "cell_type": "markdown",
   "metadata": {},
   "source": [
    "# Symmetrize\n",
    "\n",
    "In this notebook, we will use the _symmetrize_ function to create bi-directional edges in an undirected graph\n",
    "\n",
    "\n",
    "| Author Credit                   |    Date         |  Update            | cuGraph Version |  Test Hardware |\n",
    "| --------------------------------|-----------------|--------------------|-----------------|----------------|\n",
    "| Brad Rees and James Wyles       | 08/13/2019      | created            | 0.10            | GV100, CUDA 11.0\n",
    "| Brad Rees                       | 06/22/2020      | updated            | 0.15            | GV100, CUDA 11.0\n",
    "| Don Acosta                      | 08/28/2022      | updated/tested     | 22.10           | TV100, CUDA 11.5\n",
    "\n",
    "\n",
    "## Introduction\n",
    "In many cases, an Undirected graph is saved as a single edge between vertex pairs.  That saves a lot of space in the data file.  However, in order to process that data in cuGraph, there needs to be an edge in each direction for undirected.  Converting from a single edge to two edges, one in each direction, is called symmetrization.  \n",
    "\n",
    "To symmetrize an edge list (COO data) use:<br>\n",
    "\n",
    "**cugraph.symmetrize(source, destination, value)**\n",
    "* __source__: cudf.Series\n",
    "* __destination__: cudf.Series\n",
    "* __value__: cudf.Series\n",
    "\n",
    "\n",
    "Returns:\n",
    "* __triplet__: three variables are returned:\n",
    "    * __source__: cudf.Series\n",
    "    * __destination__: cudf.Series\n",
    "    * __value__: cudf.Series\n"
   ]
  },
  {
   "cell_type": "markdown",
   "metadata": {},
   "source": [
    "### Test Data\n",
    "We will be using an undirected unsymmetrized version of the Zachary Karate club dataset.  The result of symmetrization should be a dataset equal to to the version used in the PageRank notebook.\n",
    "\n",
    "*W. W. Zachary, An information flow model for conflict and fission in small groups, Journal of\n",
    "Anthropological Research 33, 452-473 (1977).*\n",
    "\n",
    "\n",
    "<img src=\"../../img/zachary_black_lines.png\" width=\"35%\"/>\n"
   ]
  },
  {
   "cell_type": "code",
   "execution_count": null,
   "metadata": {},
   "outputs": [],
   "source": [
    "# Import needed libraries\n",
    "import cugraph\n",
    "import cudf"
   ]
  },
  {
   "cell_type": "code",
   "execution_count": null,
   "metadata": {},
   "outputs": [],
   "source": [
    "# Read the unsymmetrized data  \n",
    "unsym_data ='../../data/karate_undirected.csv'\n",
    "gdf = cudf.read_csv(unsym_data, names=[\"src\", \"dst\"], delimiter='\\t', dtype=[\"int32\", \"int32\"] )"
   ]
  },
  {
   "cell_type": "code",
   "execution_count": null,
   "metadata": {},
   "outputs": [],
   "source": [
    "# Import a built-in dataset\n",
    "from cugraph.experimental.datasets import karate\n",
    "\n",
    "# This is the symmetrized dataset\n",
    "test_gdf = karate.get_edgelist(fetch=True)"
   ]
  },
  {
   "cell_type": "code",
   "execution_count": null,
   "metadata": {},
   "outputs": [],
   "source": [
    "print(\"Unsymmetrized Graph\")\n",
    "print(\"\\tNumber of Edges: \" + str(len(gdf)))\n",
    "print(\"Baseline Graph\")\n",
    "print(\"\\tNumber of Edges: \" + str(len(test_gdf)))"
   ]
  },
  {
   "cell_type": "markdown",
   "metadata": {},
   "source": [
    "_Since the unsymmetrized graph only has one edge between vertices, that underlying code treats that as a directed graph_"
   ]
  },
  {
   "cell_type": "code",
   "execution_count": null,
   "metadata": {},
   "outputs": [],
   "source": [
    "G = cugraph.Graph()\n",
    "G.from_cudf_edgelist(gdf, source='src', destination='dst')\n",
    "gdf_page = cugraph.pagerank(G)"
   ]
  },
  {
   "cell_type": "code",
   "execution_count": null,
   "metadata": {},
   "outputs": [],
   "source": [
    "# best PR score is\n",
    "m = gdf_page['pagerank'].max()\n",
    "df = gdf_page.query('pagerank == @m')\n",
    "df"
   ]
  },
  {
   "cell_type": "markdown",
   "metadata": {},
   "source": [
    "### Now Symmetrize the dataset"
   ]
  },
  {
   "cell_type": "code",
   "execution_count": null,
   "metadata": {},
   "outputs": [],
   "source": [
    "sdf = cugraph.symmetrize_df(gdf, 'src', 'dst')"
   ]
  },
  {
   "cell_type": "code",
   "execution_count": null,
   "metadata": {},
   "outputs": [],
   "source": [
    "print(\"Unsymmetrized Graph\")\n",
    "print(\"\\tNumber of Edges: \" + str(len(gdf)))\n",
    "print(\"Symmetrized Graph\")\n",
    "print(\"\\tNumber of Edges: \" + str(len(sdf)))\n",
    "print(\"Baseline Graph\")\n",
    "print(\"\\tNumber of Edges: \" + str(len(test_gdf)))"
   ]
  },
  {
   "cell_type": "markdown",
   "metadata": {},
   "source": [
    "---\n",
    "Copyright (c) 2019-2022, NVIDIA CORPORATION.\n",
    "\n",
    "Licensed under the Apache License, Version 2.0 (the \"License\");  you may not use this file except in compliance with the License. You may obtain a copy of the License at http://www.apache.org/licenses/LICENSE-2.0\n",
    "\n",
    "Unless required by applicable law or agreed to in writing, software distributed under the License is distributed on an \"AS IS\" BASIS, WITHOUT WARRANTIES OR CONDITIONS OF ANY KIND, either express or implied. See the License for the specific language governing permissions and limitations under the License.\n",
    "___"
   ]
  }
 ],
 "metadata": {
  "kernelspec": {
   "display_name": "Python 3.9.13 ('cugraph_dev')",
   "language": "python",
   "name": "python3"
  },
  "language_info": {
   "codemirror_mode": {
    "name": "ipython",
    "version": 3
   },
   "file_extension": ".py",
   "mimetype": "text/x-python",
   "name": "python",
   "nbconvert_exporter": "python",
   "pygments_lexer": "ipython3",
   "version": "3.9.13"
  },
  "vscode": {
   "interpreter": {
    "hash": "cee8a395f2f0c5a5bcf513ae8b620111f4346eff6dc64e1ea99c951b2ec68604"
   }
  }
 },
 "nbformat": 4,
 "nbformat_minor": 4
}
