{
 "cells": [
  {
   "cell_type": "markdown",
   "metadata": {},
   "source": [
    "# Triangle Counting\n",
    "\n",
    "In this notebook, we will count the number of trianges in our test dataset.  The NetworkX and cuGraph processes will be interleaved so that each step can be compared.\n",
    "\n",
    "\n",
    "| Author Credit     |    Date    |  Update          | cuGraph Version |  Test Hardware              |\n",
    "| ------------------|------------|------------------|-----------------|-----------------------------|\n",
    "| Brad Rees         | 08/01/2019 | created          | 0.13            | GV100 32G, CUDA 10.2        |\n",
    "|                   | 08/16/2020 | updated          | 0.15   | GV100 32G, CUDA 10.2        |\n",
    "| Don Acosta        | 07/11/2022 | tested / updated | 22.08 nightly   | DGX Tesla V100 CUDA 11.5    |\n",
    "| Ralph Liu         | 07/27/2022 | updated          | 22.08 nightly   | DGX Tesla V100 CUDA 11.5    |\n",
    "\n",
    "## Introduction\n",
    "Triangle Counting, as the name implies, finds the number of triangles in a graph.  Triangles are important in computing the clustering Coefficient and can be used for clustering.  \n",
    "\n",
    "\n",
    "To compute the Triangle count in cuGraph use: <br>\n",
    "   __df = cugraph.triangle_count(G)__\n",
    "\n",
    "* __G__: cugraph.Graph object\n",
    "\n",
    "\n",
    "   Compute the triangle (number of cycles of length three) count of the input graph.\n",
    "\n",
    "    Parameters\n",
    "    ----------\n",
    "    G : cugraph.graph\n",
    "        cuGraph graph descriptor, should contain the connectivity information,\n",
    "        (edge weights are not used in this algorithm)\n",
    "\n",
    "    Returns\n",
    "    -------\n",
    "    result : cudf.DataFrame\n",
    "        GPU data frame containing 2 cudf.Series\n",
    "\n",
    "        result['vertex']: cudf.Series\n",
    "            Contains the triangle counting vertices\n",
    "            \n",
    "        result['counts']: cudf.Series\n",
    "            Contains the triangle counting counts for that vertex\n",
    "\n",
    "__Reference__:\n",
    "    O. Green, P. Yalamanchili, L.M. Munguia,\n",
    "    “Fast Triangle Counting on GPU”\n",
    "    Irregular Applications: Architectures and Algorithms (IA3), 2014"
   ]
  },
  {
   "cell_type": "markdown",
   "metadata": {},
   "source": [
    "#### Some notes about vertex IDs...\n",
    "\n",
    "* cuGraph will automatically renumber graphs to an internal format consisting of a contiguous series of integers starting from 0, and convert back to the original IDs when returning data to the caller. If the vertex IDs of the data are already a contiguous series of integers starting from 0, the auto-renumbering step can be skipped for faster graph creation times.\n",
    "  * To skip auto-renumbering, set the `renumber` boolean arg to `False` when calling the appropriate graph creation API (eg. `G.from_cudf_edgelist(gdf_r, source='src', destination='dst', renumber=False)`).\n",
    "  * For more advanced renumbering support, see the examples in `structure/renumber.ipynb` and `structure/renumber-2.ipynb`\n"
   ]
  },
  {
   "cell_type": "markdown",
   "metadata": {},
   "source": [
    "### Test Data\n",
    "We will be using the Zachary Karate club dataset \n",
    "*W. W. Zachary, An information flow model for conflict and fission in small groups, Journal of\n",
    "Anthropological Research 33, 452-473 (1977).*\n",
    "\n",
    "\n",
    "<img src=\"../../img/zachary_black_lines.png\" width=\"35%\"/>"
   ]
  },
  {
   "cell_type": "markdown",
   "metadata": {},
   "source": [
    "### Prep"
   ]
  },
  {
   "cell_type": "code",
   "execution_count": 3,
   "metadata": {},
   "outputs": [],
   "source": [
    "# Import needed libraries\n",
    "import cugraph\n",
    "import cudf\n",
    "from collections import OrderedDict\n",
    "\n",
    "# Import a built-in dataset\n",
    "from cugraph.experimental.datasets import karate"
   ]
  },
  {
   "cell_type": "code",
   "execution_count": 4,
   "metadata": {},
   "outputs": [],
   "source": [
    "# NetworkX libraries\n",
    "import networkx as nx\n",
    "import pandas as pd\n",
    "from scipy.io import mmread"
   ]
  },
  {
   "cell_type": "markdown",
   "metadata": {},
   "source": [
    "---\n",
    "# NetworkX"
   ]
  },
  {
   "cell_type": "code",
   "execution_count": 5,
   "metadata": {},
   "outputs": [],
   "source": [
    "datafile= '../../data/karate.csv'\n",
    "# Read the data, this also created a NetworkX Graph \n",
    "file = open(datafile, 'rb')\n",
    "df = pd.read_csv(\n",
    "                file,\n",
    "                delimiter=\" \",\n",
    "                header=None,\n",
    "                names=[\"0\", \"1\", \"weight\"],\n",
    "                dtype={\"0\": \"int32\", \"1\": \"int32\", \"weight\": \"float32\"})\n",
    "#Gnx = nx.read_edgelist(file)\n",
    "Gnx = nx.from_pandas_edgelist(\n",
    "        df,\n",
    "        create_using=(nx.Graph()),\n",
    "        source=\"0\",\n",
    "        target=\"1\",\n",
    "        edge_attr=\"weight\",\n",
    "    )\n"
   ]
  },
  {
   "cell_type": "code",
   "execution_count": 6,
   "metadata": {},
   "outputs": [],
   "source": [
    "nx_count = nx.triangles(Gnx)"
   ]
  },
  {
   "cell_type": "code",
   "execution_count": 7,
   "metadata": {},
   "outputs": [
    {
     "output_type": "execute_result",
     "data": {
      "text/plain": [
       "{1: 12,\n",
       " 0: 18,\n",
       " 2: 11,\n",
       " 3: 10,\n",
       " 4: 2,\n",
       " 5: 3,\n",
       " 6: 3,\n",
       " 7: 6,\n",
       " 8: 5,\n",
       " 10: 2,\n",
       " 11: 0,\n",
       " 12: 1,\n",
       " 13: 6,\n",
       " 17: 1,\n",
       " 19: 1,\n",
       " 21: 1,\n",
       " 31: 3,\n",
       " 30: 3,\n",
       " 9: 0,\n",
       " 27: 1,\n",
       " 28: 1,\n",
       " 32: 13,\n",
       " 16: 1,\n",
       " 33: 15,\n",
       " 14: 1,\n",
       " 15: 1,\n",
       " 18: 1,\n",
       " 20: 1,\n",
       " 22: 1,\n",
       " 25: 1,\n",
       " 23: 4,\n",
       " 29: 4,\n",
       " 24: 1,\n",
       " 26: 1}"
      ]
     },
     "metadata": {},
     "execution_count": 7
    }
   ],
   "source": [
    "# NetworkX does not give a single count, but list how many triangles each vertex is associated with\n",
    "nx_count"
   ]
  },
  {
   "cell_type": "code",
   "execution_count": 8,
   "metadata": {},
   "outputs": [],
   "source": [
    "# To get the number of triangles, we would need to loop through the array and add up each count\n",
    "count = 0\n",
    "for key, value in nx_count.items():\n",
    "    count = count + value"
   ]
  },
  {
   "cell_type": "code",
   "execution_count": 9,
   "metadata": {},
   "outputs": [
    {
     "output_type": "execute_result",
     "data": {
      "text/plain": [
       "135"
      ]
     },
     "metadata": {},
     "execution_count": 9
    }
   ],
   "source": [
    "count"
   ]
  },
  {
   "cell_type": "markdown",
   "metadata": {},
   "source": [
    "Let's see how that compares to cuGraph\n",
    "\n",
    "----"
   ]
  },
  {
   "cell_type": "markdown",
   "metadata": {},
   "source": [
    "# cuGraph"
   ]
  },
  {
   "cell_type": "markdown",
   "metadata": {},
   "source": [
    "### Create a Graph "
   ]
  },
  {
   "cell_type": "code",
   "execution_count": 10,
   "metadata": {},
   "outputs": [
    {
     "output_type": "error",
     "ename": "RuntimeError",
     "evalue": "The datafile /home/nfs/jnke/.cugraph/datasets/karate.csv does not exist. Try get_edgelist(fetch=True) to download the datafile",
     "traceback": [
      "\u001b[0;31m---------------------------------------------------------------------------\u001b[0m",
      "\u001b[0;31mRuntimeError\u001b[0m                              Traceback (most recent call last)",
      "Input \u001b[0;32mIn [10]\u001b[0m, in \u001b[0;36m<cell line: 1>\u001b[0;34m()\u001b[0m\n\u001b[0;32m----> 1\u001b[0m G \u001b[38;5;241m=\u001b[39m \u001b[43mkarate\u001b[49m\u001b[38;5;241;43m.\u001b[39;49m\u001b[43mget_graph\u001b[49m\u001b[43m(\u001b[49m\u001b[43m)\u001b[49m\n\u001b[1;32m      2\u001b[0m G \u001b[38;5;241m=\u001b[39m G\u001b[38;5;241m.\u001b[39mto_undirected()\n",
      "File \u001b[0;32m~/miniconda3/envs/coverage-plc/lib/python3.9/site-packages/cugraph-22.10.0a0+66.g85342b0b.dirty-py3.9-linux-x86_64.egg/cugraph/experimental/datasets/dataset.py:142\u001b[0m, in \u001b[0;36mDataset.get_graph\u001b[0;34m(self, fetch, create_using, ignore_weights)\u001b[0m\n\u001b[1;32m    121\u001b[0m \u001b[38;5;124;03m\"\"\"\u001b[39;00m\n\u001b[1;32m    122\u001b[0m \u001b[38;5;124;03mReturn a Graph object.\u001b[39;00m\n\u001b[1;32m    123\u001b[0m \n\u001b[0;32m   (...)\u001b[0m\n\u001b[1;32m    139\u001b[0m \u001b[38;5;124;03m    be unweighted regardless of ignore_weights.\u001b[39;00m\n\u001b[1;32m    140\u001b[0m \u001b[38;5;124;03m\"\"\"\u001b[39;00m\n\u001b[1;32m    141\u001b[0m \u001b[38;5;28;01mif\u001b[39;00m \u001b[38;5;28mself\u001b[39m\u001b[38;5;241m.\u001b[39m_edgelist \u001b[38;5;129;01mis\u001b[39;00m \u001b[38;5;28;01mNone\u001b[39;00m:\n\u001b[0;32m--> 142\u001b[0m     \u001b[38;5;28;43mself\u001b[39;49m\u001b[38;5;241;43m.\u001b[39;49m\u001b[43mget_edgelist\u001b[49m\u001b[43m(\u001b[49m\u001b[43mfetch\u001b[49m\u001b[43m)\u001b[49m\n\u001b[1;32m    144\u001b[0m \u001b[38;5;28;01mif\u001b[39;00m create_using \u001b[38;5;129;01mis\u001b[39;00m \u001b[38;5;28;01mNone\u001b[39;00m:\n\u001b[1;32m    145\u001b[0m     \u001b[38;5;28mself\u001b[39m\u001b[38;5;241m.\u001b[39m_graph \u001b[38;5;241m=\u001b[39m Graph()\n",
      "File \u001b[0;32m~/miniconda3/envs/coverage-plc/lib/python3.9/site-packages/cugraph-22.10.0a0+66.g85342b0b.dirty-py3.9-linux-x86_64.egg/cugraph/experimental/datasets/dataset.py:108\u001b[0m, in \u001b[0;36mDataset.get_edgelist\u001b[0;34m(self, fetch)\u001b[0m\n\u001b[1;32m    106\u001b[0m         \u001b[38;5;28mself\u001b[39m\u001b[38;5;241m.\u001b[39m__download_csv(\u001b[38;5;28mself\u001b[39m\u001b[38;5;241m.\u001b[39mmetadata[\u001b[38;5;124m'\u001b[39m\u001b[38;5;124murl\u001b[39m\u001b[38;5;124m'\u001b[39m])\n\u001b[1;32m    107\u001b[0m     \u001b[38;5;28;01melse\u001b[39;00m:\n\u001b[0;32m--> 108\u001b[0m         \u001b[38;5;28;01mraise\u001b[39;00m \u001b[38;5;167;01mRuntimeError\u001b[39;00m(\u001b[38;5;124mf\u001b[39m\u001b[38;5;124m\"\u001b[39m\u001b[38;5;124mThe datafile \u001b[39m\u001b[38;5;132;01m{\u001b[39;00mfull_path\u001b[38;5;132;01m}\u001b[39;00m\u001b[38;5;124m does not\u001b[39m\u001b[38;5;124m\"\u001b[39m\n\u001b[1;32m    109\u001b[0m                            \u001b[38;5;124m\"\u001b[39m\u001b[38;5;124m exist. Try get_edgelist(fetch=True)\u001b[39m\u001b[38;5;124m\"\u001b[39m\n\u001b[1;32m    110\u001b[0m                            \u001b[38;5;124m\"\u001b[39m\u001b[38;5;124m to download the datafile\u001b[39m\u001b[38;5;124m\"\u001b[39m)\n\u001b[1;32m    112\u001b[0m \u001b[38;5;28mself\u001b[39m\u001b[38;5;241m.\u001b[39m_edgelist \u001b[38;5;241m=\u001b[39m cudf\u001b[38;5;241m.\u001b[39mread_csv(full_path,\n\u001b[1;32m    113\u001b[0m                                delimiter\u001b[38;5;241m=\u001b[39m\u001b[38;5;28mself\u001b[39m\u001b[38;5;241m.\u001b[39mmetadata[\u001b[38;5;124m'\u001b[39m\u001b[38;5;124mdelim\u001b[39m\u001b[38;5;124m'\u001b[39m],\n\u001b[1;32m    114\u001b[0m                                names\u001b[38;5;241m=\u001b[39m\u001b[38;5;28mself\u001b[39m\u001b[38;5;241m.\u001b[39mmetadata[\u001b[38;5;124m'\u001b[39m\u001b[38;5;124mcol_names\u001b[39m\u001b[38;5;124m'\u001b[39m],\n\u001b[1;32m    115\u001b[0m                                dtype\u001b[38;5;241m=\u001b[39m\u001b[38;5;28mself\u001b[39m\u001b[38;5;241m.\u001b[39mmetadata[\u001b[38;5;124m'\u001b[39m\u001b[38;5;124mcol_types\u001b[39m\u001b[38;5;124m'\u001b[39m])\n\u001b[1;32m    116\u001b[0m \u001b[38;5;28mself\u001b[39m\u001b[38;5;241m.\u001b[39m_path \u001b[38;5;241m=\u001b[39m full_path\n",
      "\u001b[0;31mRuntimeError\u001b[0m: The datafile /home/nfs/jnke/.cugraph/datasets/karate.csv does not exist. Try get_edgelist(fetch=True) to download the datafile"
     ]
    }
   ],
   "source": [
    "G = karate.get_graph()\n",
    "G = G.to_undirected()"
   ]
  },
  {
   "cell_type": "markdown",
   "metadata": {},
   "source": [
    "### Call the Triangle Counting "
   ]
  },
  {
   "cell_type": "code",
   "execution_count": 11,
   "metadata": {},
   "outputs": [
    {
     "output_type": "error",
     "ename": "AttributeError",
     "evalue": "module 'cugraph' has no attribute 'triangle_count'",
     "traceback": [
      "\u001b[0;31m---------------------------------------------------------------------------\u001b[0m",
      "\u001b[0;31mAttributeError\u001b[0m                            Traceback (most recent call last)",
      "Input \u001b[0;32mIn [11]\u001b[0m, in \u001b[0;36m<cell line: 2>\u001b[0;34m()\u001b[0m\n\u001b[1;32m      1\u001b[0m \u001b[38;5;66;03m# Call cugraph triangles to get the triangles that each vertex is included in.\u001b[39;00m\n\u001b[0;32m----> 2\u001b[0m triangles_per_vertex \u001b[38;5;241m=\u001b[39m \u001b[43mcugraph\u001b[49m\u001b[38;5;241;43m.\u001b[39;49m\u001b[43mtriangle_count\u001b[49m(G)\n",
      "\u001b[0;31mAttributeError\u001b[0m: module 'cugraph' has no attribute 'triangle_count'"
     ]
    }
   ],
   "source": [
    "# Call cugraph triangles to get the triangles that each vertex is included in.\n",
    "triangles_per_vertex = cugraph.triangle_count(G)"
   ]
  },
  {
   "cell_type": "code",
   "execution_count": null,
   "metadata": {},
   "outputs": [],
   "source": [
    "triangles_per_vertex.sort_values(\n",
    "                \"vertex\").reset_index(drop=True).rename(columns={\n",
    "                    \"counts\": \"cugraph_counts\"})"
   ]
  },
  {
   "cell_type": "markdown",
   "metadata": {},
   "source": [
    "Now combine them to get a count for comparison with the nx calculation"
   ]
  },
  {
   "cell_type": "code",
   "execution_count": 1,
   "metadata": {},
   "outputs": [
    {
     "output_type": "error",
     "ename": "NameError",
     "evalue": "name 'triangles_per_vertex' is not defined",
     "traceback": [
      "\u001b[0;31m---------------------------------------------------------------------------\u001b[0m",
      "\u001b[0;31mNameError\u001b[0m                                 Traceback (most recent call last)",
      "Input \u001b[0;32mIn [1]\u001b[0m, in \u001b[0;36m<cell line: 2>\u001b[0;34m()\u001b[0m\n\u001b[1;32m      1\u001b[0m cugraph_triangle_results \u001b[38;5;241m=\u001b[39m \\\n\u001b[0;32m----> 2\u001b[0m                 \u001b[43mtriangles_per_vertex\u001b[49m[\u001b[38;5;124m\"\u001b[39m\u001b[38;5;124mcugraph_counts\u001b[39m\u001b[38;5;124m\"\u001b[39m]\u001b[38;5;241m.\u001b[39msum()\n\u001b[1;32m      3\u001b[0m cugraph_triangle_results\n",
      "\u001b[0;31mNameError\u001b[0m: name 'triangles_per_vertex' is not defined"
     ]
    }
   ],
   "source": [
    "cugraph_triangle_results = \\\n",
    "                triangles_per_vertex[\"cugraph_counts\"].sum()\n",
    "cugraph_triangle_results\n"
   ]
  },
  {
   "cell_type": "markdown",
   "metadata": {},
   "source": [
    "_It was that easy!_  \n",
    "\n",
    "----\n"
   ]
  },
  {
   "cell_type": "markdown",
   "metadata": {},
   "source": [
    "___\n",
    "Copyright (c) 2019-2022, NVIDIA CORPORATION.\n",
    "\n",
    "Licensed under the Apache License, Version 2.0 (the \"License\");  you may not use this file except in compliance with the License. You may obtain a copy of the License at http://www.apache.org/licenses/LICENSE-2.0\n",
    "\n",
    "Unless required by applicable law or agreed to in writing, software distributed under the License is distributed on an \"AS IS\" BASIS, WITHOUT WARRANTIES OR CONDITIONS OF ANY KIND, either express or implied. See the License for the specific language governing permissions and limitations under the License.\n",
    "___"
   ]
  }
 ],
 "metadata": {
  "kernelspec": {
   "display_name": "Python 3 (ipykernel)",
   "language": "python",
   "name": "python3"
  },
  "language_info": {
   "codemirror_mode": {
    "name": "ipython",
    "version": 3
   },
   "file_extension": ".py",
   "mimetype": "text/x-python",
   "name": "python",
   "nbconvert_exporter": "python",
   "pygments_lexer": "ipython3",
   "version": "3.9.13-final"
  },
  "vscode": {
   "interpreter": {
    "hash": "31f2aee4e71d21fbe5cf8b01ff0e069b9275f58929596ceb00d14d90e3e16cd6"
   }
  }
 },
 "nbformat": 4,
 "nbformat_minor": 4
}