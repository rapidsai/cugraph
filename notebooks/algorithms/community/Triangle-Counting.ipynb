{
 "cells": [
  {
   "cell_type": "markdown",
   "metadata": {},
   "source": [
    "# Triangle Counting\n",
    "\n",
    "In this notebook, we will count the number of trianges in our test dataset.  The NetworkX and cuGraph processes will be interleaved so that each step can be compared.\n",
    "\n",
    "\n",
    "| Author Credit     |    Date    |  Update          | cuGraph Version |  Test Hardware              |\n",
    "| ------------------|------------|------------------|-----------------|-----------------------------|\n",
    "| Brad Rees         | 08/01/2019 | created          | 0.13            | GV100 32G, CUDA 10.2        |\n",
    "|                   | 08/16/2020 | updated          | 0.15   | GV100 32G, CUDA 10.2        |\n",
    "| Don Acosta        | 07/11/2022 | tested / updated | 22.08 nightly   | DGX Tesla V100 CUDA 11.5    |\n",
    "\n",
    "## Introduction\n",
    "Triangle Counting, as the name implies, finds the number of triangles in a graph.  Triangles are important in computing the clustering Coefficient and can be used for clustering.  \n",
    "\n",
    "\n",
    "To compute the Triangle count in cuGraph use: <br>\n",
    "   __df = cugraph.triangle_count(G)__\n",
    "\n",
    "* __G__: cugraph.Graph object\n",
    "\n",
    "\n",
    "   Compute the triangle (number of cycles of length three) count of the input graph.\n",
    "\n",
    "    Parameters\n",
    "    ----------\n",
    "    G : cugraph.graph\n",
    "        cuGraph graph descriptor, should contain the connectivity information,\n",
    "        (edge weights are not used in this algorithm)\n",
    "\n",
    "    Returns\n",
    "    -------\n",
    "    result : cudf.DataFrame\n",
    "        GPU data frame containing 2 cudf.Series\n",
    "\n",
    "        result['vertex']: cudf.Series\n",
    "            Contains the triangle counting vertices\n",
    "            \n",
    "        result['counts']: cudf.Series\n",
    "            Contains the triangle counting counts for that vertex\n",
    "\n",
    "__Reference__:\n",
    "    O. Green, P. Yalamanchili, L.M. Munguia,\n",
    "    “Fast Triangle Counting on GPU”\n",
    "    Irregular Applications: Architectures and Algorithms (IA3), 2014"
   ]
  },
  {
   "cell_type": "markdown",
   "metadata": {},
   "source": [
    "#### Some notes about vertex IDs...\n",
    "\n",
    "* cuGraph will automatically renumber graphs to an internal format consisting of a contiguous series of integers starting from 0, and convert back to the original IDs when returning data to the caller. If the vertex IDs of the data are already a contiguous series of integers starting from 0, the auto-renumbering step can be skipped for faster graph creation times.\n",
    "  * To skip auto-renumbering, set the `renumber` boolean arg to `False` when calling the appropriate graph creation API (eg. `G.from_cudf_edgelist(gdf_r, source='src', destination='dst', renumber=False)`).\n",
    "  * For more advanced renumbering support, see the examples in `structure/renumber.ipynb` and `structure/renumber-2.ipynb`\n"
   ]
  },
  {
   "cell_type": "markdown",
   "metadata": {},
   "source": [
    "### Test Data\n",
    "We will be using the Zachary Karate club dataset \n",
    "*W. W. Zachary, An information flow model for conflict and fission in small groups, Journal of\n",
    "Anthropological Research 33, 452-473 (1977).*\n",
    "\n",
    "\n",
    "<img src=\"../../img/zachary_black_lines.png\" width=\"35%\"/>"
   ]
  },
  {
   "cell_type": "markdown",
   "metadata": {},
   "source": [
    "### Prep"
   ]
  },
  {
   "cell_type": "code",
   "execution_count": null,
   "metadata": {},
   "outputs": [],
   "source": [
    "# Import needed libraries\n",
    "import cugraph\n",
    "import cudf\n",
    "from cugraph.experimental import triangle_count as experimental_triangles\n",
    "from collections import OrderedDict"
   ]
  },
  {
   "cell_type": "code",
   "execution_count": null,
   "metadata": {},
   "outputs": [],
   "source": [
    "# NetworkX libraries\n",
    "import networkx as nx\n",
    "import pandas as pd\n",
    "from scipy.io import mmread"
   ]
  },
  {
   "cell_type": "markdown",
   "metadata": {},
   "source": [
    "### Some Prep"
   ]
  },
  {
   "cell_type": "code",
   "execution_count": null,
   "metadata": {},
   "outputs": [],
   "source": [
    "# Define the path to the test data  \n",
    "datafile='../../data/karate.csv'"
   ]
  },
  {
   "cell_type": "markdown",
   "metadata": {},
   "source": [
    "---\n",
    "# NetworkX"
   ]
  },
  {
   "cell_type": "code",
   "execution_count": null,
   "metadata": {},
   "outputs": [],
   "source": [
    "# Read the data, this also created a NetworkX Graph \n",
    "file = open(datafile, 'rb')\n",
    "df = pd.read_csv(\n",
    "                file,\n",
    "                delimiter=\" \",\n",
    "                header=None,\n",
    "                names=[\"0\", \"1\", \"weight\"],\n",
    "                dtype={\"0\": \"int32\", \"1\": \"int32\", \"weight\": \"float32\"})\n",
    "#Gnx = nx.read_edgelist(file)\n",
    "Gnx = nx.from_pandas_edgelist(\n",
    "        df,\n",
    "        create_using=(nx.Graph()),\n",
    "        source=\"0\",\n",
    "        target=\"1\",\n",
    "        edge_attr=\"weight\",\n",
    "    )\n"
   ]
  },
  {
   "cell_type": "code",
   "execution_count": null,
   "metadata": {},
   "outputs": [],
   "source": [
    "nx_count = nx.triangles(Gnx)"
   ]
  },
  {
   "cell_type": "code",
   "execution_count": null,
   "metadata": {},
   "outputs": [],
   "source": [
    "# NetworkX does not give a single count, but list how many triangles each vertex is associated with\n",
    "nx_count"
   ]
  },
  {
   "cell_type": "code",
   "execution_count": null,
   "metadata": {},
   "outputs": [],
   "source": [
    "# To get the number of triangles, we would need to loop through the array and add up each count\n",
    "count = 0\n",
    "for key, value in nx_count.items():\n",
    "    count = count + value"
   ]
  },
  {
   "cell_type": "code",
   "execution_count": null,
   "metadata": {},
   "outputs": [],
   "source": [
    "count"
   ]
  },
  {
   "cell_type": "markdown",
   "metadata": {},
   "source": [
    "Let's see how that compares to cuGraph\n",
    "\n",
    "----"
   ]
  },
  {
   "cell_type": "markdown",
   "metadata": {},
   "source": [
    "# cuGraph"
   ]
  },
  {
   "cell_type": "markdown",
   "metadata": {},
   "source": [
    "### Read in the data - GPU\n",
    "cuGraph depends on cuDF for data loading and the initial Dataframe creation\n",
    "\n",
    "The data file contains an edge list, which represents the connection of a vertex to another.  The `source` to `destination` pairs is in what is known as Coordinate Format (COO). A third, `weight`, column is also used in this example."
   ]
  },
  {
   "cell_type": "code",
   "execution_count": null,
   "metadata": {},
   "outputs": [],
   "source": [
    "# Test file    \n",
    "gdf = cudf.read_csv(\n",
    "                datafile,\n",
    "                delimiter=\" \",\n",
    "                header=None,\n",
    "                names=[\"0\", \"1\", \"weight\"],\n",
    "                dtype={\"0\": \"int32\", \"1\": \"int32\", \"weight\": \"float32\"})"
   ]
  },
  {
   "cell_type": "markdown",
   "metadata": {},
   "source": []
  },
  {
   "cell_type": "markdown",
   "metadata": {},
   "source": [
    "### Create a Graph "
   ]
  },
  {
   "cell_type": "code",
   "execution_count": null,
   "metadata": {},
   "outputs": [],
   "source": [
    "# create a Graph using the source (src) and destination (dst) vertex pairs from the Dataframe \n",
    "G = cugraph.Graph()\n",
    "G.from_cudf_edgelist(gdf, source=\"0\", destination=\"1\",edge_attr=\"weight\")"
   ]
  },
  {
   "cell_type": "markdown",
   "metadata": {},
   "source": [
    "### Call the Triangle Counting "
   ]
  },
  {
   "cell_type": "code",
   "execution_count": null,
   "metadata": {},
   "outputs": [],
   "source": [
    "# Call cugraph triangles to get the triangles that each vertex is included in.\n",
    "triangles_per_vertex = experimental_triangles(G)"
   ]
  },
  {
   "cell_type": "code",
   "execution_count": null,
   "metadata": {},
   "outputs": [],
   "source": [
    "triangles_per_vertex.sort_values(\n",
    "                \"vertex\").reset_index(drop=True).rename(columns={\n",
    "                    \"counts\": \"exp_cugraph_counts\"})"
   ]
  },
  {
   "cell_type": "markdown",
   "metadata": {},
   "source": [
    "Now combine them to get a count for comparison with the nx calculation"
   ]
  },
  {
   "cell_type": "code",
   "execution_count": null,
   "metadata": {},
   "outputs": [],
   "source": [
    "cugraph_exp_triangle_results = \\\n",
    "                triangles_per_vertex[\"counts\"].sum()\n",
    "cugraph_exp_triangle_results\n"
   ]
  },
  {
   "cell_type": "markdown",
   "metadata": {},
   "source": [
    "_It was that easy!_  \n",
    "\n",
    "----\n"
   ]
  },
  {
   "cell_type": "markdown",
   "metadata": {},
   "source": [
    "___\n",
    "Copyright (c) 2019-2022, NVIDIA CORPORATION.\n",
    "\n",
    "Licensed under the Apache License, Version 2.0 (the \"License\");  you may not use this file except in compliance with the License. You may obtain a copy of the License at http://www.apache.org/licenses/LICENSE-2.0\n",
    "\n",
    "Unless required by applicable law or agreed to in writing, software distributed under the License is distributed on an \"AS IS\" BASIS, WITHOUT WARRANTIES OR CONDITIONS OF ANY KIND, either express or implied. See the License for the specific language governing permissions and limitations under the License.\n",
    "___"
   ]
  }
 ],
 "metadata": {
  "kernelspec": {
   "display_name": "Python 3.8.13 ('cugraph_dev')",
   "language": "python",
   "name": "python3"
  },
  "language_info": {
   "codemirror_mode": {
    "name": "ipython",
    "version": 3
   },
   "file_extension": ".py",
   "mimetype": "text/x-python",
   "name": "python",
   "nbconvert_exporter": "python",
   "pygments_lexer": "ipython3",
   "version": "3.8.13"
  },
  "vscode": {
   "interpreter": {
    "hash": "cee8a395f2f0c5a5bcf513ae8b620111f4346eff6dc64e1ea99c951b2ec68604"
   }
  }
 },
 "nbformat": 4,
 "nbformat_minor": 4
}
