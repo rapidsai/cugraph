{
 "cells": [
  {
   "cell_type": "markdown",
   "metadata": {},
   "source": [
    "# K-Truss\n",
    "\n",
    "In this notebook, we will use cuGraph to identify the K-Truss clusters in a test graph  \n",
    "\n",
    "| Author Credit |    Date    |  Update          | cuGraph Version |  Test Hardware        |\n",
    "| --------------|------------|------------------|-----------------|-----------------------|\n",
    "| Brad Rees     | 10/28/2019 | created          | 0.6             |                       |\n",
    "|               | 08/16/2020 | updated          | 0.15            | GV100, CUDA 10.2      |\n",
    "|               | 08/05/2021 | tested/updated   | 21.10 nightly   | RTX 3090 CUDA 11.4    |\n",
    "| Don Acosta    | 07/08/2022 | tested/updated   | 22.08 nightly   | DGX Tesla V100 CUDA 11.5   |\n",
    "| Ralph Liu     | 07/26/2022 | updated          | 22.08 nightly   | DGX Tesla V100 CUDA 11.5   |\n",
    "## Introduction\n",
    "\n",
    "Compute the k-truss of the graph G.  A K-Truss is a relaxed cliques where every vertex is supported by at least k-2 triangle.\n",
    "\n",
    "Ref:\n",
    "\n",
    "[1] Cohen, J.,\n",
    "    \"Trusses: Cohesive subgraphs for social network analysis\"\n",
    "    National security agency technical report, 2008\n",
    "\n",
    "[2] O. Green, J. Fox, E. Kim, F. Busato, et al.\n",
    "    “Quickly Finding a Truss in a Haystack”\n",
    "    IEEE High Performance Extreme Computing Conference (HPEC), 2017\n",
    "    https://doi.org/10.1109/HPEC.2017.8091038\n",
    "\n",
    "[3] O. Green, P. Yalamanchili, L.M. Munguia,\n",
    "    “Fast Triangle Counting on GPU”\n",
    "    Irregular Applications: Architectures and Algorithms (IA3), 2014\n",
    "    "
   ]
  },
  {
   "cell_type": "markdown",
   "metadata": {},
   "source": [
    "To compute the K-Truss cluster in cuGraph use: <br>\n",
    "* __gc = cugraph.ktruss_subgraph(G,k=None, use_weights=True)__\n",
    "    G : cuGraph.Graph\n",
    "        cuGraph graph descriptor with connectivity information. k-Trusses are\n",
    "        defined for only undirected graphs as they are defined for\n",
    "        undirected triangle in a graph.\n",
    "\n",
    "    k : int\n",
    "        The desired k to be used for extracting the k-truss subgraph.\n",
    "\n",
    "    use_weights : Bool\n",
    "        whether the output should contain the edge weights if G has them\n",
    "    \n",
    "Returns:\n",
    "    G_truss : cuGraph.Graph\n",
    "        A cugraph graph descriptor with the k-truss subgraph for the given k.\n"
   ]
  },
  {
   "cell_type": "markdown",
   "metadata": {},
   "source": [
    "### Some notes about vertex IDs...\n",
    "\n",
    "* cuGraph will automatically renumber graphs to an internal format consisting of a contiguous series of integers starting from 0, and convert back to the original IDs when returning data to the caller. If the vertex IDs of the data are already a contiguous series of integers starting from 0, the auto-renumbering step can be skipped for faster graph creation times.\n",
    "  * To skip auto-renumbering, set the `renumber` boolean arg to `False` when calling the appropriate graph creation API (eg. `G.from_cudf_edgelist(gdf_r, source='src', destination='dst', renumber=False)`).\n",
    "  * For more advanced renumbering support, see the examples in `structure/renumber.ipynb` and `structure/renumber-2.ipynb`\n"
   ]
  },
  {
   "cell_type": "markdown",
   "metadata": {},
   "source": [
    "### Test Data\n",
    "We will be using the Zachary Karate club dataset \n",
    "*W. W. Zachary, An information flow model for conflict and fission in small groups, Journal of\n",
    "Anthropological Research 33, 452-473 (1977).*\n",
    "\n",
    "\n",
    "<img src=\"../../img/zachary_black_lines.png\" width=\"35%\"/>\n"
   ]
  },
  {
   "cell_type": "markdown",
   "metadata": {},
   "source": [
    "### Prep"
   ]
  },
  {
   "cell_type": "code",
   "execution_count": null,
   "metadata": {},
   "outputs": [],
   "source": [
    "# Import needed libraries\n",
    "import cugraph\n",
    "import cudf\n",
    "\n",
    "# Import a built-in dataset\n",
    "from cugraph.experimental.datasets import karate"
   ]
  },
  {
   "cell_type": "markdown",
   "metadata": {},
   "source": [
    "### Create a Graph"
   ]
  },
  {
   "cell_type": "code",
   "execution_count": null,
   "metadata": {},
   "outputs": [],
   "source": [
    "# Create a graph using the imported Dataset object\n",
    "G = karate.get_graph(fetch=True)\n",
    "G = G.to_undirected()"
   ]
  },
  {
   "cell_type": "code",
   "execution_count": null,
   "metadata": {},
   "outputs": [],
   "source": [
    "print(\"Main Graph\")\n",
    "print(\"\\tNumber of Vertices: \" + str(G.number_of_vertices()))\n",
    "print(\"\\tNumber of Edges:    \" + str(G.number_of_edges()))"
   ]
  },
  {
   "cell_type": "markdown",
   "metadata": {},
   "source": [
    "### Now run K-Truss"
   ]
  },
  {
   "cell_type": "code",
   "execution_count": null,
   "metadata": {},
   "outputs": [],
   "source": [
    "# Call k-cores on the graph\n",
    "kcg = cugraph.ktruss_subgraph(G, 3) "
   ]
  },
  {
   "cell_type": "code",
   "execution_count": null,
   "metadata": {},
   "outputs": [],
   "source": [
    "print(\"K-Truss Graph\")\n",
    "print(\"\\tNumber of Vertices: \" + str(kcg.number_of_vertices()))\n",
    "print(\"\\tNumber of Edges:    \" + str(kcg.number_of_edges()))"
   ]
  },
  {
   "cell_type": "markdown",
   "metadata": {},
   "source": [
    "### Let's looks at the results\n",
    "The results show that the roughly 2/3s of the edges have been removed.  \n",
    "Let's look at the degrees of the vertices"
   ]
  },
  {
   "cell_type": "code",
   "execution_count": null,
   "metadata": {},
   "outputs": [],
   "source": [
    "d = kcg.degrees()\n",
    "d.sort_values(by='out_degree', ascending=False)"
   ]
  },
  {
   "cell_type": "code",
   "execution_count": null,
   "metadata": {},
   "outputs": [],
   "source": [
    "# We can also just get a list of all the remaining edges as COO\n",
    "coo = kcg.view_edge_list()"
   ]
  },
  {
   "cell_type": "code",
   "execution_count": null,
   "metadata": {},
   "outputs": [],
   "source": [
    "# print out edge list\n",
    "coo"
   ]
  },
  {
   "cell_type": "markdown",
   "metadata": {},
   "source": [
    "### Just for fun\n",
    "Let's try specifying a larger K value.  "
   ]
  },
  {
   "cell_type": "code",
   "execution_count": null,
   "metadata": {},
   "outputs": [],
   "source": [
    "# Call k-cores on the graph\n",
    "kcg2 = cugraph.ktruss_subgraph(G, k=5) "
   ]
  },
  {
   "cell_type": "code",
   "execution_count": null,
   "metadata": {},
   "outputs": [],
   "source": [
    "print(\"K-Truss Graph\")\n",
    "print(\"\\tNumber of Vertices: \" + str(kcg2.number_of_vertices()))\n",
    "print(\"\\tNumber of Edges:    \" + str(kcg2.number_of_edges()))"
   ]
  },
  {
   "cell_type": "markdown",
   "metadata": {},
   "source": [
    "___\n",
    "Copyright (c) 2019-2022, NVIDIA CORPORATION.\n",
    "\n",
    "Licensed under the Apache License, Version 2.0 (the \"License\");  you may not use this file except in compliance with the License. You may obtain a copy of the License at http://www.apache.org/licenses/LICENSE-2.0\n",
    "\n",
    "Unless required by applicable law or agreed to in writing, software distributed under the License is distributed on an \"AS IS\" BASIS, WITHOUT WARRANTIES OR CONDITIONS OF ANY KIND, either express or implied. See the License for the specific language governing permissions and limitations under the License.\n",
    "___"
   ]
  }
 ],
 "metadata": {
  "kernelspec": {
   "display_name": "Python 3.9.7 ('base')",
   "language": "python",
   "name": "python3"
  },
  "language_info": {
   "codemirror_mode": {
    "name": "ipython",
    "version": 3
   },
   "file_extension": ".py",
   "mimetype": "text/x-python",
   "name": "python",
   "nbconvert_exporter": "python",
   "pygments_lexer": "ipython3",
   "version": "3.9.7"
  },
  "vscode": {
   "interpreter": {
    "hash": "f708a36acfaef0acf74ccd43dfb58100269bf08fb79032a1e0a6f35bd9856f51"
   }
  }
 },
 "nbformat": 4,
 "nbformat_minor": 4
}
