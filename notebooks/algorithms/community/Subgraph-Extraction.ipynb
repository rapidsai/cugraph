{
 "cells": [
  {
   "cell_type": "markdown",
   "metadata": {},
   "source": [
    "# Subgraph Extraction\n",
    "# Does not run on Pascal\n",
    "\n",
    "In this notebook, we will use cuGraph to extract a subgraph from the test graph.  \n",
    "\n",
    "| Author Credit |    Date    |  Update          | cuGraph Version |  Test Hardware              |\n",
    "| --------------|------------|------------------|-----------------|-----------------------------|\n",
    "| Brad Rees     | 10/16/2019 | created          | 0.13            | GV100 32G, CUDA 10.2        |\n",
    "|               | 08/16/2020 | updated          | 0.15   | GV100 32G, CUDA 10.2        |\n",
    "| Don Acosta    | 07/11/2022 | tested / updated | 22.08 nightly   | DGX Tesla V100 CUDA 11.5    |\n",
    "| Ralph Liu    | 07/26/2022 | updated | 22.08 nightly   | DGX Tesla V100 CUDA 11.5    |"
   ]
  },
  {
   "cell_type": "markdown",
   "metadata": {},
   "source": [
    "## Introduction\n",
    "\n",
    "Subgraph Extraction allows the extraction of a portion of a graph and returned as a Graph object that follow-on analytics can be applied against.  For example, many of the community detection analytics simply return a list of vertices in a cluster.  In order to run follow-on processing against a cluster, all the edges within that cluster are also needed.  \n",
    "\n",
    "For this notebook, we will run Louvain to determine the clusters and then extract one of the clusters using Subgraph Extraction.  We will then explore that extracted subgraph.  \n",
    "\n",
    "\n",
    "\n",
    "To compute the Louvain cluster in cuGraph use: <br>\n",
    "* __G', df = cugraph.subgraph(G, v)__\n",
    "    * G: A cugraph.Graph object\n",
    "    * v: cudf.Series - list of vertex IDs to be extracted\n",
    "\n",
    "Returns:<br>\n",
    "* G': A cugraph.Graph object\n",
    "* df: cudf.DataFrame\n",
    "    * old - the original vertex ID\n",
    "    * new - the new renumbered vertex ID\n",
    "\n"
   ]
  },
  {
   "cell_type": "markdown",
   "metadata": {},
   "source": [
    "#### Some notes about vertex IDs...\n",
    "\n",
    "* cuGraph will automatically renumber graphs to an internal format consisting of a contiguous series of integers starting from 0, and convert back to the original IDs when returning data to the caller. If the vertex IDs of the data are already a contiguous series of integers starting from 0, the auto-renumbering step can be skipped for faster graph creation times.\n",
    "  * To skip auto-renumbering, set the `renumber` boolean arg to `False` when calling the appropriate graph creation API (eg. `G.from_cudf_edgelist(gdf_r, source='src', destination='dst', renumber=False)`).\n",
    "  * For more advanced renumbering support, see the examples in `structure/renumber.ipynb` and `structure/renumber-2.ipynb`\n"
   ]
  },
  {
   "cell_type": "markdown",
   "metadata": {},
   "source": [
    "### Test Data\n",
    "We will be using the Zachary Karate club dataset \n",
    "*W. W. Zachary, An information flow model for conflict and fission in small groups, Journal of\n",
    "Anthropological Research 33, 452-473 (1977).*\n",
    "\n",
    "<img src=\"../../img/zachary_graph_clusters.png\" width=\"35%\"/>\n"
   ]
  },
  {
   "cell_type": "markdown",
   "metadata": {},
   "source": [
    "### Prep"
   ]
  },
  {
   "cell_type": "code",
   "execution_count": null,
   "metadata": {},
   "outputs": [],
   "source": [
    "# Import needed libraries\n",
    "import cugraph\n",
    "import cudf\n",
    "\n",
    "# Import a built-in dataset\n",
    "from cugraph.experimental.datasets import karate"
   ]
  },
  {
   "cell_type": "markdown",
   "metadata": {},
   "source": [
    "## Read data using cuDF"
   ]
  },
  {
   "cell_type": "markdown",
   "metadata": {},
   "source": [
    "#### Run Louvain to find a cluster to extract\n",
    "Since the focus is on the subgraph extraction portion, we are going to leave the vertex IDs are they are and just accept that there is an extract cluster in the reults with vertex 0"
   ]
  },
  {
   "cell_type": "code",
   "execution_count": null,
   "metadata": {},
   "outputs": [],
   "source": [
    "# You can also just get the edgelist\n",
    "gdf = karate.get_edgelist(fetch=True)\n",
    "\n",
    "# The louvain algorithm requires that there are vertex weights.  Just use 1.0 \n",
    "gdf[\"data\"] = 1.0\n",
    "\n",
    "# Create a graph\n",
    "G = cugraph.from_cudf_edgelist(gdf, source='src', destination='dst', edge_attr='data')"
   ]
  },
  {
   "cell_type": "code",
   "execution_count": null,
   "metadata": {},
   "outputs": [],
   "source": [
    "# Call Louvain on the graph\n",
    "df, mod = cugraph.louvain(G) "
   ]
  },
  {
   "cell_type": "code",
   "execution_count": null,
   "metadata": {},
   "outputs": [],
   "source": [
    "# How many partitions where found\n",
    "part_ids = df[\"partition\"].unique()"
   ]
  },
  {
   "cell_type": "code",
   "execution_count": null,
   "metadata": {},
   "outputs": [],
   "source": [
    "print(str(len(part_ids)) + \" partition detected\")"
   ]
  },
  {
   "cell_type": "code",
   "execution_count": null,
   "metadata": {},
   "outputs": [],
   "source": [
    "for p in range(len(part_ids)):\n",
    "    part = []\n",
    "    for i in range(len(df)):\n",
    "        if (df['partition'].iloc[i] == p):\n",
    "            part.append(df['vertex'].iloc[i])\n",
    "    print(\"Partition \" + str(p) + \":\")\n",
    "    print(part)\n"
   ]
  },
  {
   "cell_type": "markdown",
   "metadata": {},
   "source": [
    "### Run Subgraph Extraction\n",
    "Let's extract cluster 1"
   ]
  },
  {
   "cell_type": "code",
   "execution_count": null,
   "metadata": {},
   "outputs": [],
   "source": [
    "vids = df.query(\"partition == 1\")"
   ]
  },
  {
   "cell_type": "code",
   "execution_count": null,
   "metadata": {},
   "outputs": [],
   "source": [
    "v = cudf.Series(vids['vertex'])\n",
    "len(v)"
   ]
  },
  {
   "cell_type": "code",
   "execution_count": null,
   "metadata": {},
   "outputs": [],
   "source": [
    "subG = cugraph.subgraph(G, v)"
   ]
  },
  {
   "cell_type": "code",
   "execution_count": null,
   "metadata": {},
   "outputs": [],
   "source": [
    "print(\"Main Graph\")\n",
    "print(\"\\tNumber of Vertices: \" + str(G.number_of_vertices()))\n",
    "print(\"\\tNumber of Edges:    \" + str(G.number_of_edges()))"
   ]
  },
  {
   "cell_type": "code",
   "execution_count": null,
   "metadata": {},
   "outputs": [],
   "source": [
    "print(\"Subgraph\")\n",
    "print(\"\\tNumber of Vertices: \" + str(subG.number_of_vertices()))\n",
    "print(\"\\tNumber of Edges:    \" + str(subG.number_of_edges()))"
   ]
  },
  {
   "cell_type": "code",
   "execution_count": null,
   "metadata": {},
   "outputs": [],
   "source": [
    "coo = cudf.DataFrame()\n",
    "subDF = subG.view_edge_list()"
   ]
  },
  {
   "cell_type": "code",
   "execution_count": null,
   "metadata": {},
   "outputs": [],
   "source": [
    "len(subDF)"
   ]
  },
  {
   "cell_type": "markdown",
   "metadata": {},
   "source": [
    "___\n",
    "Copyright (c) 2019-2022, NVIDIA CORPORATION.\n",
    "\n",
    "Licensed under the Apache License, Version 2.0 (the \"License\");  you may not use this file except in compliance with the License. You may obtain a copy of the License at http://www.apache.org/licenses/LICENSE-2.0\n",
    "\n",
    "Unless required by applicable law or agreed to in writing, software distributed under the License is distributed on an \"AS IS\" BASIS, WITHOUT WARRANTIES OR CONDITIONS OF ANY KIND, either express or implied. See the License for the specific language governing permissions and limitations under the License.\n",
    "___"
   ]
  }
 ],
 "metadata": {
  "kernelspec": {
   "display_name": "Python 3.9.7 ('base')",
   "language": "python",
   "name": "python3"
  },
  "language_info": {
   "codemirror_mode": {
    "name": "ipython",
    "version": 3
   },
   "file_extension": ".py",
   "mimetype": "text/x-python",
   "name": "python",
   "nbconvert_exporter": "python",
   "pygments_lexer": "ipython3",
   "version": "3.9.7"
  },
  "vscode": {
   "interpreter": {
    "hash": "f708a36acfaef0acf74ccd43dfb58100269bf08fb79032a1e0a6f35bd9856f51"
   }
  }
 },
 "nbformat": 4,
 "nbformat_minor": 4
}