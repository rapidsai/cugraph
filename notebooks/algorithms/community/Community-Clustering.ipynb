{
 "cells": [
  {
   "cell_type": "markdown",
   "metadata": {},
   "source": [
    "# Community Clustering"
   ]
  },
  {
   "cell_type": "markdown",
   "metadata": {},
   "source": [
    "In this notebook, we will cluster the graph using various algorithms implemented in cuGraph.  We will then compare the clusters resulting from each algorithm.\n",
    "\n",
    "| Author Credit |    Date    |  Update          | cuGraph Version |  Test Hardware |\n",
    "| --------------|------------|------------------|-----------------|----------------|\n",
    "| Don Acosta    | 07/05/2022 | tested / updated | 22.08 nightly   | DGX Tesla V100 CUDA 11.5"
   ]
  },
  {
   "cell_type": "markdown",
   "metadata": {},
   "source": [
    "Clustering is the analytic method for finding the highly connected sets of vertices within a graph. It is often used to answer questions like:\n",
    "\n",
    "* What are the communities within this graph?\n",
    "* How can the graph be cut into the most cohesive partitions?\n",
    "* What is the most important group of vertices within this group?"
   ]
  },
  {
   "cell_type": "markdown",
   "metadata": {},
   "source": [
    "### Test Data\n",
    "We will be using the Zachary Karate club dataset \n",
    "*W. W. Zachary, An information flow model for conflict and fission in small groups, Journal of\n",
    "Anthropological Research 33, 452-473 (1977).*\n",
    "\n",
    "\n",
    "<img src=\"../../img/zachary_graph_clusters.png\" width=\"35%\"/>\n",
    "\n",
    "Because the test data has vertex IDs starting at 1, the auto-renumber feature of cuGraph (mentioned above) will be used so the starting vertex ID is zero for maximum efficiency. The resulting data will then be auto-unrenumbered, making the entire renumbering process transparent to users."
   ]
  },
  {
   "cell_type": "code",
   "execution_count": null,
   "metadata": {},
   "outputs": [],
   "source": [
    "#  Import the cugraph modules\n",
    "import cugraph\n",
    "import cudf"
   ]
  },
  {
   "cell_type": "code",
   "execution_count": null,
   "metadata": {},
   "outputs": [],
   "source": [
    "# import non cugraph modules\n",
    "import numpy as np"
   ]
  },
  {
   "cell_type": "code",
   "execution_count": null,
   "metadata": {},
   "outputs": [],
   "source": [
    "# Compute clusters\n",
    "# the clustering calls are very straightforward with the graph being the primary argument\n",
    "# we are specifying a few optional parameters for this dataset.\n",
    "\n",
    "def compute_clusters(_graph) :\n",
    "\n",
    "    # Compute ECG Clusters and normalize the column names\n",
    "    _e = cugraph.ecg(_graph).rename(columns={'partition': 'cluster'})\n",
    "    \n",
    "    # Compute Louvain Clusters \n",
    "    _l, modularity = cugraph.louvain(_graph)\n",
    "    # Normalize the column names\n",
    "    _l = _l.rename(columns={'partition': 'cluster'})\n",
    "\n",
    "    # Compute Spectral Balanced Clusters\n",
    "    _b = cugraph.spectralBalancedCutClustering(_graph, 4, num_eigen_vects=4)\n",
    "\n",
    "    # Call spectralModularityMaximizationClustering on the graph for 3 clusterstral \n",
    "    _m = cugraph.spectralModularityMaximizationClustering(_graph, 4, num_eigen_vects=4)\n",
    "    return _e, _l, _b, _m"
   ]
  },
  {
   "cell_type": "code",
   "execution_count": null,
   "metadata": {},
   "outputs": [],
   "source": [
    "# compare 2 cluster results\n",
    "def compare_values(algo, v1, v2):\n",
    "    return (algo.loc[algo['vertex'] == v1]['cluster'].reset_index(drop=True)).equals((algo.loc[algo['vertex'] == v2]['cluster'].reset_index(drop=True)))"
   ]
  },
  {
   "cell_type": "markdown",
   "metadata": {},
   "source": [
    "This functon builds a matrix to identify which algorithms cluster pairs of vertices together."
   ]
  },
  {
   "cell_type": "code",
   "execution_count": null,
   "metadata": {},
   "outputs": [],
   "source": [
    "def create_cluster_matrix(ecg, louvain, spec_balance, spec_mod):\n",
    "    mat_size = ecg['vertex'].max()\n",
    "    clust_matrix = np.empty((mat_size+1) * (mat_size+1), dtype='object')\n",
    "    clust_matrix = clust_matrix.reshape((mat_size+1),(mat_size+1))\n",
    "\n",
    "    type(ecg['vertex'])\n",
    "\n",
    "    for id_1 in ecg['vertex'].to_pandas():\n",
    "        for id_2 in ecg['vertex'].to_pandas():\n",
    "            clust_matrix[id_1][id_2] = \"\"\n",
    "            if id_2 > id_1:\n",
    "                if compare_values(ecg, id_1, id_2):\n",
    "                    clust_matrix[id_1][id_2] += \"e\"\n",
    "                if compare_values(louvain, id_1, id_2):\n",
    "                    clust_matrix[id_1][id_2] += \"l\"\n",
    "                if compare_values(spec_balance, id_1, id_2):\n",
    "                    clust_matrix[id_1][id_2] += \"b\"\n",
    "                if compare_values(spec_mod, id_1, id_2):\n",
    "                    clust_matrix[id_1][id_2] += \"m\"\n",
    "\n",
    "    return clust_matrix   "
   ]
  },
  {
   "cell_type": "markdown",
   "metadata": {},
   "source": [
    "Method to look at a vertex pair since only one half of the symetric matrix is calculated for efficiency and display purposes."
   ]
  },
  {
   "cell_type": "code",
   "execution_count": null,
   "metadata": {},
   "outputs": [],
   "source": [
    "def pair_clustering(comp_matrix, id1, id2):\n",
    "    if (id2 > id1):\n",
    "        return comp_matrix[id1][id2]\n",
    "    else:\n",
    "         return comp_matrix[id2][id1]"
   ]
  },
  {
   "cell_type": "markdown",
   "metadata": {},
   "source": [
    "Print the table showing which algorithms group which vertices together"
   ]
  },
  {
   "cell_type": "code",
   "execution_count": null,
   "metadata": {},
   "outputs": [],
   "source": [
    "def print_clustering_table(cluster_array):\n",
    "    import pandas as pd\n",
    "    from IPython.display import display_html\n",
    "    df = pd.DataFrame(cluster_array)\n",
    "    df_styler = df.drop(df.columns[[0]], axis=1).drop(0).style.set_table_attributes(\"style='display:inline'\")\n",
    "    display_html(df_styler._repr_html_(), raw=True)"
   ]
  },
  {
   "cell_type": "markdown",
   "metadata": {},
   "source": [
    "## Read the data"
   ]
  },
  {
   "cell_type": "code",
   "execution_count": null,
   "metadata": {},
   "outputs": [],
   "source": [
    "# Test file    \n",
    "datafile='../../data/karate-data.csv'"
   ]
  },
  {
   "cell_type": "code",
   "execution_count": null,
   "metadata": {},
   "outputs": [],
   "source": [
    "# read the data using cuDF\n",
    "gdf = cudf.read_csv(datafile, delimiter='\\t', names=['src', 'dst'], dtype=['int32', 'int32'] )"
   ]
  },
  {
   "cell_type": "code",
   "execution_count": null,
   "metadata": {},
   "outputs": [],
   "source": [
    "# The algorithms often also require that there are vertex weights.  Just use 1.0 \n",
    "gdf[\"data\"] = 1.0"
   ]
  },
  {
   "cell_type": "markdown",
   "metadata": {},
   "source": [
    "it was that easy to load data"
   ]
  },
  {
   "cell_type": "markdown",
   "metadata": {},
   "source": [
    "## Create a Graph"
   ]
  },
  {
   "cell_type": "code",
   "execution_count": null,
   "metadata": {},
   "outputs": [],
   "source": [
    "# create a Graph - since the data does not start at '0', use the auto-renumbering feature\n",
    "G = cugraph.Graph()\n",
    "G.from_cudf_edgelist(gdf, source='src', destination='dst', edge_attr='data', renumber=True)"
   ]
  },
  {
   "cell_type": "markdown",
   "metadata": {},
   "source": [
    "## Now do all the clustering"
   ]
  },
  {
   "cell_type": "code",
   "execution_count": null,
   "metadata": {},
   "outputs": [],
   "source": [
    "_e, _l, _b, _m = compute_clusters(G)"
   ]
  },
  {
   "cell_type": "markdown",
   "metadata": {},
   "source": [
    "View the clusters for a single algorithm, in this case Ensemble Graph Clustering"
   ]
  },
  {
   "cell_type": "code",
   "execution_count": null,
   "metadata": {},
   "outputs": [],
   "source": [
    "_e.to_pandas().groupby('cluster')['vertex'].apply(list)"
   ]
  },
  {
   "cell_type": "markdown",
   "metadata": {},
   "source": [
    "Generate the cluster comparison matrix to view the results of the clustering algorithms in one structure. Notice, the first row and column are index 0 which is empty since the graph has been numbered/renumbered to start with 1."
   ]
  },
  {
   "cell_type": "code",
   "execution_count": null,
   "metadata": {},
   "outputs": [],
   "source": [
    "clust_comparison = create_cluster_matrix(_e, _l, _b, _m)"
   ]
  },
  {
   "cell_type": "markdown",
   "metadata": {},
   "source": [
    "print the entire algorithm clustering comparison table.\n",
    "\n",
    "The matrix[i][j] element includes a list of the algorithms where i and j are clustered together:\n",
    "* e = Ensemble Graph Clustering has placed i and j together in a cluster\n",
    "* l = Louvain community detection has placed i and j together in a cluster\n",
    "* b = Spectral Balanced Clustering has placed i and j together in a cluster\n",
    "* m = Spectral Modularity Maximization Clustering has placed i and j together in a cluster.\n",
    "\n",
    "See how the clustering algorithims align with the structure of the graph:\n",
    "\n",
    "<img src=\"../../img/zachary_graph_clusters.png\" width=\"35%\"/>"
   ]
  },
  {
   "cell_type": "code",
   "execution_count": null,
   "metadata": {},
   "outputs": [],
   "source": [
    "print_clustering_table(clust_comparison)"
   ]
  },
  {
   "cell_type": "markdown",
   "metadata": {},
   "source": [
    "An individual point in matrix, clust_comparison(5,17) shows that ECG, Louvain and spectral balanced clustering put vertices 5 and 17 in the same cluster, but Spectral Modularity Maximization does not."
   ]
  },
  {
   "cell_type": "code",
   "execution_count": null,
   "metadata": {},
   "outputs": [],
   "source": [
    "print(pair_clustering(clust_comparison,17,5))"
   ]
  },
  {
   "cell_type": "markdown",
   "metadata": {},
   "source": [
    "Finally, to see the full clustering of a single algorithm, do the following:"
   ]
  },
  {
   "cell_type": "code",
   "execution_count": null,
   "metadata": {},
   "outputs": [],
   "source": [
    "_e.to_pandas().groupby('cluster')['vertex'].apply(list)"
   ]
  },
  {
   "cell_type": "markdown",
   "metadata": {},
   "source": [
    "___\n",
    "Copyright (c) 2022, NVIDIA CORPORATION.\n",
    "\n",
    "Licensed under the Apache License, Version 2.0 (the \"License\");  you may not use this file except in compliance with the License. You may obtain a copy of the License at http://www.apache.org/licenses/LICENSE-2.0\n",
    "\n",
    "Unless required by applicable law or agreed to in writing, software distributed under the License is distributed on an \"AS IS\" BASIS, WITHOUT WARRANTIES OR CONDITIONS OF ANY KIND, either express or implied. See the License for the specific language governing permissions and limitations under the License.\n",
    "___"
   ]
  }
 ],
 "metadata": {
  "kernelspec": {
   "display_name": "Python 3.8.13 ('cugraph_dev')",
   "language": "python",
   "name": "python3"
  },
  "language_info": {
   "codemirror_mode": {
    "name": "ipython",
    "version": 3
   },
   "file_extension": ".py",
   "mimetype": "text/x-python",
   "name": "python",
   "nbconvert_exporter": "python",
   "pygments_lexer": "ipython3",
   "version": "3.8.13"
  },
  "orig_nbformat": 4,
  "vscode": {
   "interpreter": {
    "hash": "cee8a395f2f0c5a5bcf513ae8b620111f4346eff6dc64e1ea99c951b2ec68604"
   }
  }
 },
 "nbformat": 4,
 "nbformat_minor": 2
}
