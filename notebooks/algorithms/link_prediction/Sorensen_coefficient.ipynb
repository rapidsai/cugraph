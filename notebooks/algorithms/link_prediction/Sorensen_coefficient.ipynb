{
 "cells": [
  {
   "attachments": {},
   "cell_type": "markdown",
   "metadata": {},
   "source": [
    "# Sørensen Coefficient\n",
    "----\n",
    "\n",
    "In this notebook we will explore the Sørensen Coefficient available in cuGraph:\n",
    "The Sørensen coefficient often referred to as that Sørensen-Dice coefficient is used in many fields to define the similarity between two samples\n",
    "\n",
    "\n",
    "\n",
    "\n",
    "| Author Credit |    Date    |  Update          | cuGraph Version |  Test Hardware        |\n",
    "| --------------|------------|------------------|-----------------|-----------------------|\n",
    "| Don Acosta    | 06/28/2023 | created          | 23.08 nightly   | DGX Tesla V100 CUDA 11.7  |\n"
   ]
  },
  {
   "attachments": {},
   "cell_type": "markdown",
   "metadata": {},
   "source": [
    "## Introduction - Sørensen\n",
    "\n"
   ]
  },
  {
   "attachments": {},
   "cell_type": "markdown",
   "metadata": {},
   "source": [
    "### Sørensen Coefficient"
   ]
  },
  {
   "attachments": {},
   "cell_type": "markdown",
   "metadata": {},
   "source": [
    "The Sørensen Coefficient quantifying the similarity between two samples is twice the number of elements common to both sets divided by the sum of the number of elements in each set.\n",
    "\n",
    "$S = \\frac{{2 \\cdot |A \\cap B|}}{{|A| + |B|}} $\n",
    "\n",
    "\n",
    "To compute the Sorensen between a set of pairs of vertices connected by an edge in cuGraph use: <br>\n",
    "__df = cugraph.sorenson(G, pairs)__\n",
    "\n",
    "    G: A cugraph.Graph object\n",
    "    vertex_pair:  A GPU dataframe consisting of two columns representing pairs of\n",
    "        vertices. \n",
    "\n",
    "    Note: if the vertex_pair argument is not provided, the algorithm will run comparisons on ALL pairs in the graph which can easily balloon runtimes or fail due to memory constraints.\n",
    "\n",
    "Returns:\n",
    "\n",
    "    df: cudf.DataFrame with three names columns:\n",
    "        df[\"first\"]: The first vertex id of each pair.\n",
    "        df[\"second\"]: The second vertex i of each pair.\n",
    "        df[\"sorensen_coeff\"]: The sorensen coefficient computed between the vertex pairs.\n",
    "<br>\n",
    "\n",
    "__References__ \n",
    "- https://research.nvidia.com/publication/2017-11_Parallel-Jaccard-and"
   ]
  },
  {
   "attachments": {},
   "cell_type": "markdown",
   "metadata": {},
   "source": [
    "### Additional Reading\n",
    "- [Wikipedia: Sørensen-Dice](https://en.wikipedia.org/wiki/S%C3%B8rensen%E2%80%93Dice_coefficient)\n"
   ]
  },
  {
   "attachments": {},
   "cell_type": "markdown",
   "metadata": {},
   "source": [
    "### Some notes about vertex IDs...\n",
    "* cuGraph will automatically renumber graphs to an internal format consisting of a contiguous series of integers starting from 0, and convert back to the original IDs when returning data to the caller. If the vertex IDs of the data are already a contiguous series of integers starting from 0, the auto-renumbering step can be skipped for faster graph creation times.\n",
    "  * To skip auto-renumbering, set the `renumber` boolean arg to `False` when calling the appropriate graph creation API (eg. `G.from_cudf_edgelist(gdf_r, source='src', destination='dst', renumber=False)`).\n",
    "  * For more advanced renumbering support, see the examples in `structure/renumber.ipynb` and `structure/renumber-2.ipynb`\n"
   ]
  },
  {
   "attachments": {},
   "cell_type": "markdown",
   "metadata": {},
   "source": [
    "## Test Data\n",
    "We will be using the Zachary Karate club dataset \n",
    "*W. W. Zachary, An information flow model for conflict and fission in small groups, Journal of\n",
    "Anthropological Research 33, 452-473 (1977).*\n",
    "\n",
    "<img src=\"../../img/zachary_black_lines.png\" width=\"35%\"/>\n",
    "\n",
    "This is a small graph which allows for easy visual inspection to validate results.  "
   ]
  },
  {
   "attachments": {},
   "cell_type": "markdown",
   "metadata": {},
   "source": [
    "---\n",
    "# Let's get started!"
   ]
  },
  {
   "cell_type": "code",
   "execution_count": 1,
   "metadata": {
    "scrolled": true
   },
   "outputs": [],
   "source": [
    "# Import needed libraries\n",
    "import cugraph\n",
    "import cudf\n",
    "from collections import OrderedDict"
   ]
  },
  {
   "attachments": {},
   "cell_type": "markdown",
   "metadata": {},
   "source": [
    "----\n",
    "### Define some Print functions\n",
    "(the `del` are not needed since going out of scope should free memory, just good practice)"
   ]
  },
  {
   "cell_type": "code",
   "execution_count": 2,
   "metadata": {},
   "outputs": [],
   "source": [
    "# define a function for printing the top most similar vertices\n",
    "def print_most_similar_sorensen(df):\n",
    "    \n",
    "    jmax = df['sorensen_coeff'].max()\n",
    "    dm = df.query('sorensen_coeff >= @jmax')    \n",
    "    \n",
    "    #find the best\n",
    "    for i in range(len(dm)):    \n",
    "        print(\"Vertices \" + str(dm['first'].iloc[i]) + \" and \" + \n",
    "              str(dm['second'].iloc[i]) + \" are most similar with score: \" \n",
    "              + str(dm['sorensen_coeff'].iloc[i]))\n",
    "    del jmax\n",
    "    del dm"
   ]
  },
  {
   "cell_type": "code",
   "execution_count": 3,
   "metadata": {},
   "outputs": [],
   "source": [
    "# define a function for printing Sørensen similar vertices based on a threshold\n",
    "def print_sorensen_threshold(_d, limit):\n",
    "    \n",
    "    filtered = _d.query('sorensen_coeff > @limit')\n",
    "    \n",
    "    for i in range(len(filtered)):\n",
    "        print(\"Vertices \" + str(filtered['first'].iloc[i]) + \" and \" + \n",
    "            str(filtered['second'].iloc[i]) + \" are similar with score: \" + \n",
    "            str(filtered['sorensen_coeff'].iloc[i]))"
   ]
  },
  {
   "attachments": {},
   "cell_type": "markdown",
   "metadata": {},
   "source": [
    "### Read the CSV datafile using cuDF\n",
    "data file is actually _tab_ separated, so we need to set the delimiter"
   ]
  },
  {
   "cell_type": "code",
   "execution_count": 4,
   "metadata": {},
   "outputs": [],
   "source": [
    "# Test file  \n",
    "from cugraph.experimental.datasets import karate\n",
    "gdf = karate.get_edgelist(fetch=True)"
   ]
  },
  {
   "cell_type": "code",
   "execution_count": 5,
   "metadata": {},
   "outputs": [
    {
     "data": {
      "text/plain": [
       "(156, 3)"
      ]
     },
     "execution_count": 5,
     "metadata": {},
     "output_type": "execute_result"
    }
   ],
   "source": [
    "# Let's look at the DataFrame. There should be three columns and 156 records but weight is not used.\n",
    "gdf.shape"
   ]
  },
  {
   "cell_type": "code",
   "execution_count": 6,
   "metadata": {},
   "outputs": [
    {
     "data": {
      "text/html": [
       "<div>\n",
       "<style scoped>\n",
       "    .dataframe tbody tr th:only-of-type {\n",
       "        vertical-align: middle;\n",
       "    }\n",
       "\n",
       "    .dataframe tbody tr th {\n",
       "        vertical-align: top;\n",
       "    }\n",
       "\n",
       "    .dataframe thead th {\n",
       "        text-align: right;\n",
       "    }\n",
       "</style>\n",
       "<table border=\"1\" class=\"dataframe\">\n",
       "  <thead>\n",
       "    <tr style=\"text-align: right;\">\n",
       "      <th></th>\n",
       "      <th>src</th>\n",
       "      <th>dst</th>\n",
       "      <th>wgt</th>\n",
       "    </tr>\n",
       "  </thead>\n",
       "  <tbody>\n",
       "    <tr>\n",
       "      <th>0</th>\n",
       "      <td>1</td>\n",
       "      <td>0</td>\n",
       "      <td>1.0</td>\n",
       "    </tr>\n",
       "    <tr>\n",
       "      <th>1</th>\n",
       "      <td>2</td>\n",
       "      <td>0</td>\n",
       "      <td>1.0</td>\n",
       "    </tr>\n",
       "    <tr>\n",
       "      <th>2</th>\n",
       "      <td>3</td>\n",
       "      <td>0</td>\n",
       "      <td>1.0</td>\n",
       "    </tr>\n",
       "    <tr>\n",
       "      <th>3</th>\n",
       "      <td>4</td>\n",
       "      <td>0</td>\n",
       "      <td>1.0</td>\n",
       "    </tr>\n",
       "    <tr>\n",
       "      <th>4</th>\n",
       "      <td>5</td>\n",
       "      <td>0</td>\n",
       "      <td>1.0</td>\n",
       "    </tr>\n",
       "  </tbody>\n",
       "</table>\n",
       "</div>"
      ],
      "text/plain": [
       "   src  dst  wgt\n",
       "0    1    0  1.0\n",
       "1    2    0  1.0\n",
       "2    3    0  1.0\n",
       "3    4    0  1.0\n",
       "4    5    0  1.0"
      ]
     },
     "execution_count": 6,
     "metadata": {},
     "output_type": "execute_result"
    }
   ],
   "source": [
    "# Look at the first few data records - the output should be three columns: 'src', 'dst' and wgt. The 3rd column wgt (weight) is not used.\n",
    "gdf.head()"
   ]
  },
  {
   "attachments": {},
   "cell_type": "markdown",
   "metadata": {},
   "source": [
    "### Create a Graph"
   ]
  },
  {
   "cell_type": "code",
   "execution_count": 7,
   "metadata": {},
   "outputs": [],
   "source": [
    "# create a Graph \n",
    "G = karate.get_graph()\n",
    "G = G.to_undirected()"
   ]
  },
  {
   "cell_type": "code",
   "execution_count": 8,
   "metadata": {},
   "outputs": [
    {
     "data": {
      "text/plain": [
       "34"
      ]
     },
     "execution_count": 8,
     "metadata": {},
     "output_type": "execute_result"
    }
   ],
   "source": [
    "# How many vertices are in the graph?  Remember that Graph is zero based\n",
    "G.number_of_vertices()"
   ]
  },
  {
   "attachments": {},
   "cell_type": "markdown",
   "metadata": {},
   "source": [
    "_The test graph has only 34 vertices, so why is the Graph listing 35?_\n",
    "\n",
    "As mentioned above, cuGraph vertex numbering is zero-based, meaning that the first vertex ID starts at zero.  The test dataset is 1-based.  Because of that, the Graph object adds an extra isolated vertex with an ID of zero.  Hence the difference in vertex count.  \n",
    "We could have run _renumbering_ on the data, or updated the value of each element _gdf['src'] = gdf['src'] - 1_    \n",
    "for now, we will just state that vertex 0 is not part of the dataset and can be ignored"
   ]
  },
  {
   "attachments": {},
   "cell_type": "markdown",
   "metadata": {},
   "source": [
    "--- \n",
    "# Sørensen"
   ]
  },
  {
   "cell_type": "code",
   "execution_count": 9,
   "metadata": {},
   "outputs": [],
   "source": [
    "#%%time\n",
    "# Call cugraph.sorensen\n",
    "jdf = cugraph.sorensen_coefficient(G)"
   ]
  },
  {
   "cell_type": "code",
   "execution_count": 10,
   "metadata": {},
   "outputs": [
    {
     "name": "stdout",
     "output_type": "stream",
     "text": [
      "Vertices 32 and 33 are most similar with score: 0.6896552\n",
      "Vertices 33 and 32 are most similar with score: 0.6896552\n"
     ]
    }
   ],
   "source": [
    "# Which two vertices are the most similar?\n",
    "print_most_similar_sorensen(jdf)"
   ]
  },
  {
   "attachments": {},
   "cell_type": "markdown",
   "metadata": {},
   "source": [
    "The Most similar should be 33 and 34.\n",
    "Fill in calculation example"
   ]
  },
  {
   "cell_type": "code",
   "execution_count": 11,
   "metadata": {},
   "outputs": [
    {
     "name": "stdout",
     "output_type": "stream",
     "text": [
      "Vertices 0 and 1 are similar with score: 0.56\n",
      "Vertices 1 and 0 are similar with score: 0.56\n",
      "Vertices 1 and 3 are similar with score: 0.53333336\n",
      "Vertices 3 and 1 are similar with score: 0.53333336\n",
      "Vertices 3 and 7 are similar with score: 0.59999996\n",
      "Vertices 3 and 13 are similar with score: 0.54545456\n",
      "Vertices 7 and 3 are similar with score: 0.59999996\n",
      "Vertices 13 and 3 are similar with score: 0.54545456\n",
      "Vertices 32 and 33 are similar with score: 0.6896552\n",
      "Vertices 33 and 32 are similar with score: 0.6896552\n"
     ]
    }
   ],
   "source": [
    "### let's look at all similarities over a threshold\n",
    "print_sorensen_threshold(jdf, 0.5)"
   ]
  },
  {
   "cell_type": "code",
   "execution_count": 12,
   "metadata": {},
   "outputs": [
    {
     "name": "stdout",
     "output_type": "stream",
     "text": [
      "Vertices 32 and 33 are similar with score: 0.6896552\n",
      "Vertices 3 and 7 are similar with score: 0.59999996\n",
      "Vertices 0 and 1 are similar with score: 0.56\n",
      "Vertices 3 and 13 are similar with score: 0.54545456\n",
      "Vertices 1 and 3 are similar with score: 0.53333336\n",
      "Vertices 2 and 3 are similar with score: 0.5\n",
      "Vertices 5 and 6 are similar with score: 0.5\n",
      "Vertices 1 and 7 are similar with score: 0.4615385\n",
      "Vertices 0 and 3 are similar with score: 0.45454547\n",
      "Vertices 8 and 30 are similar with score: 0.44444448\n",
      "Vertices 23 and 29 are similar with score: 0.44444448\n",
      "Vertices 1 and 13 are similar with score: 0.42857146\n",
      "Vertices 2 and 7 are similar with score: 0.42857146\n",
      "Vertices 1 and 2 are similar with score: 0.42105266\n",
      "Vertices 2 and 13 are similar with score: 0.4\n",
      "Vertices 0 and 2 are similar with score: 0.38461536\n",
      "Vertices 8 and 32 are similar with score: 0.3529412\n",
      "Vertices 4 and 10 are similar with score: 0.3333333\n",
      "Vertices 5 and 16 are similar with score: 0.3333333\n",
      "Vertices 6 and 16 are similar with score: 0.3333333\n",
      "Vertices 24 and 25 are similar with score: 0.3333333\n",
      "Vertices 26 and 29 are similar with score: 0.3333333\n",
      "Vertices 0 and 7 are similar with score: 0.29999998\n",
      "Vertices 0 and 13 are similar with score: 0.2857143\n",
      "Vertices 4 and 6 are similar with score: 0.2857143\n",
      "Vertices 5 and 10 are similar with score: 0.2857143\n",
      "Vertices 29 and 33 are similar with score: 0.2857143\n",
      "Vertices 23 and 33 are similar with score: 0.27272725\n",
      "Vertices 2 and 8 are similar with score: 0.26666668\n",
      "Vertices 3 and 12 are similar with score: 0.25\n",
      "Vertices 29 and 32 are similar with score: 0.25\n",
      "Vertices 30 and 32 are similar with score: 0.25\n",
      "Vertices 23 and 32 are similar with score: 0.23529413\n",
      "Vertices 23 and 27 are similar with score: 0.22222222\n",
      "Vertices 24 and 31 are similar with score: 0.22222222\n",
      "Vertices 25 and 31 are similar with score: 0.22222222\n",
      "Vertices 28 and 31 are similar with score: 0.22222222\n",
      "Vertices 0 and 4 are similar with score: 0.21052632\n",
      "Vertices 0 and 10 are similar with score: 0.21052632\n",
      "Vertices 0 and 5 are similar with score: 0.19999999\n",
      "Vertices 0 and 6 are similar with score: 0.19999999\n",
      "Vertices 30 and 33 are similar with score: 0.1904762\n",
      "Vertices 1 and 17 are similar with score: 0.18181819\n",
      "Vertices 1 and 21 are similar with score: 0.18181819\n",
      "Vertices 8 and 33 are similar with score: 0.18181819\n",
      "Vertices 31 and 33 are similar with score: 0.17391305\n",
      "Vertices 1 and 19 are similar with score: 0.16666667\n",
      "Vertices 14 and 32 are similar with score: 0.14285713\n",
      "Vertices 15 and 32 are similar with score: 0.14285713\n",
      "Vertices 18 and 32 are similar with score: 0.14285713\n",
      "Vertices 20 and 32 are similar with score: 0.14285713\n",
      "Vertices 22 and 32 are similar with score: 0.14285713\n",
      "Vertices 0 and 12 are similar with score: 0.111111104\n",
      "Vertices 0 and 17 are similar with score: 0.111111104\n",
      "Vertices 0 and 21 are similar with score: 0.111111104\n",
      "Vertices 31 and 32 are similar with score: 0.111111104\n",
      "Vertices 0 and 19 are similar with score: 0.10526316\n",
      "Vertices 14 and 33 are similar with score: 0.10526316\n",
      "Vertices 15 and 33 are similar with score: 0.10526316\n",
      "Vertices 18 and 33 are similar with score: 0.10526316\n",
      "Vertices 20 and 33 are similar with score: 0.10526316\n",
      "Vertices 22 and 33 are similar with score: 0.10526316\n",
      "Vertices 26 and 33 are similar with score: 0.10526316\n",
      "Vertices 28 and 33 are similar with score: 0.099999994\n",
      "Vertices 0 and 8 are similar with score: 0.095238104\n",
      "Vertices 27 and 33 are similar with score: 0.095238104\n",
      "Vertices 2 and 32 are similar with score: 0.090909086\n"
     ]
    }
   ],
   "source": [
    "# Since it is a small graph we can print all scores, notice that only vertices that are neighbors are being compared\n",
    "#\n",
    "# Before printing, let's get rid of the duplicates (x compared to y is the same as y compared to x).  We will do that\n",
    "# by performing a query.  Then let's sort the data by score\n",
    "\n",
    "jdf_s = jdf.query('first < second').sort_values(by='sorensen_coeff', ascending=False)\n",
    "\n",
    "print_sorensen_threshold(jdf_s, 0.0)"
   ]
  },
  {
   "attachments": {},
   "cell_type": "markdown",
   "metadata": {},
   "source": [
    "---\n",
    "# Expanding vertex pairs similarity scoring to 2-hop vertex pair"
   ]
  },
  {
   "cell_type": "code",
   "execution_count": 13,
   "metadata": {},
   "outputs": [],
   "source": [
    "# get all two-hop vertex pairs\n",
    "p = G.get_two_hop_neighbors()"
   ]
  },
  {
   "cell_type": "code",
   "execution_count": 14,
   "metadata": {},
   "outputs": [],
   "source": [
    "# Let's look at the  score\n",
    "j2 = cugraph.sorensen_coefficient(G, ebunch=p)"
   ]
  },
  {
   "cell_type": "code",
   "execution_count": 15,
   "metadata": {},
   "outputs": [
    {
     "name": "stdout",
     "output_type": "stream",
     "text": [
      "Vertices 32 and 33 are most similar with score: 0.6896552\n",
      "Vertices 33 and 32 are most similar with score: 0.6896552\n"
     ]
    }
   ],
   "source": [
    "print_most_similar_sorensen(j2)"
   ]
  },
  {
   "attachments": {},
   "cell_type": "markdown",
   "metadata": {},
   "source": [
    "---\n",
    "### It's that easy with cuGraph\n",
    "\n",
    "Copyright (c) 2023, NVIDIA CORPORATION.\n",
    "\n",
    "Licensed under the Apache License, Version 2.0 (the \"License\");  you may not use this file except in compliance with the License. You may obtain a copy of the License at http://www.apache.org/licenses/LICENSE-2.0\n",
    "\n",
    "Unless required by applicable law or agreed to in writing, software distributed under the License is distributed on an \"AS IS\" BASIS, WITHOUT WARRANTIES OR CONDITIONS OF ANY KIND, either express or implied. See the License for the specific language governing permissions and limitations under the License.\n",
    "___"
   ]
  }
 ],
 "metadata": {
  "kernelspec": {
   "display_name": "Python 3.9.13 ('cugraph_dev')",
   "language": "python",
   "name": "python3"
  },
  "language_info": {
   "codemirror_mode": {
    "name": "ipython",
    "version": 3
   },
   "file_extension": ".py",
   "mimetype": "text/x-python",
   "name": "python",
   "nbconvert_exporter": "python",
   "pygments_lexer": "ipython3",
   "version": "3.10.11"
  },
  "vscode": {
   "interpreter": {
    "hash": "cee8a395f2f0c5a5bcf513ae8b620111f4346eff6dc64e1ea99c951b2ec68604"
   }
  }
 },
 "nbformat": 4,
 "nbformat_minor": 4
}
