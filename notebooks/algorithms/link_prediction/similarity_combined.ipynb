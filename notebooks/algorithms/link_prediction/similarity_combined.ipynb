{
 "cells": [
  {
   "cell_type": "markdown",
   "metadata": {},
   "source": [
    "# Similarty Compared\n",
    "----\n",
    "\n",
    "In this notebook we will execute all the similarity algorithms available in cuGraph and compare the results:\n",
    "\n",
    "\n",
    "\n",
    "| Author Credit |    Date    |  Update          | cuGraph Version |  Test Hardware        |\n",
    "| --------------|------------|------------------|-----------------|-----------------------|\n",
    "| Don Acosta    | 09/18/2023 | created          | 23.10 nightly   | AMPERE A6000 CUDA 11.7 |"
   ]
  },
  {
   "cell_type": "code",
   "execution_count": null,
   "metadata": {},
   "outputs": [],
   "source": [
    "import cugraph\n",
    "from cugraph.datasets import dining_prefs\n",
    "from IPython.display import display_html "
   ]
  },
  {
   "cell_type": "code",
   "execution_count": null,
   "metadata": {},
   "outputs": [],
   "source": [
    "def compute_similarity(G,pairs=None):\n",
    "    _jdf = cugraph.jaccard(G,pairs)\n",
    "    _odf = cugraph.overlap(G,pairs)\n",
    "    _sdf = cugraph.sorensen_coefficient(G,pairs)\n",
    "    return _jdf, _odf, _sdf"
   ]
  },
  {
   "cell_type": "code",
   "execution_count": null,
   "metadata": {},
   "outputs": [],
   "source": [
    "# Print function\n",
    "def print_similarity(jdf,odf,sdf):\n",
    "\n",
    "    js_top = jdf.sort_values(by='jaccard_coeff', ascending=False).head().to_pandas()\n",
    "    os_top = odf.sort_values(by='overlap_coeff', ascending=False).head().to_pandas()\n",
    "    ss_top = sdf.sort_values(by='sorensen_coeff', ascending=False).head().to_pandas()\n",
    "    \n",
    "    df1_styler = js_top.style.set_table_attributes(\"style='display:inline'\").set_caption('Jaccard').hide(axis='index')\n",
    "    df2_styler = os_top.style.set_table_attributes(\"style='display:inline'\").set_caption('Overlap').hide(axis='index')\n",
    "    df3_styler = ss_top.style.set_table_attributes(\"style='display:inline'\").set_caption('Sørensen').hide(axis='index')\n",
    "\n",
    "    display_html(df1_styler._repr_html_()+df2_styler._repr_html_()+df3_styler._repr_html_(), raw=True)"
   ]
  },
  {
   "cell_type": "code",
   "execution_count": null,
   "metadata": {},
   "outputs": [],
   "source": [
    "import cugraph\n",
    "from cugraph.datasets import dining_prefs\n",
    "gdf = dining_prefs.get_edgelist()\n",
    "G = cugraph.Graph()\n",
    "G = cugraph.from_cudf_edgelist(gdf, source='src', destination='dst', edge_attr = 'wgt')\n",
    "jdf = cugraph.jaccard(G)\n",
    "odf = cugraph.overlap(G)\n",
    "sdf = cugraph.sorensen_coefficient(G)\n",
    "print(jdf.head())\n",
    "print(odf.head())\n",
    "print(sdf.head())"
   ]
  },
  {
   "cell_type": "markdown",
   "metadata": {},
   "source": [
    "Create the graph from the Dining preferences data set."
   ]
  },
  {
   "cell_type": "code",
   "execution_count": null,
   "metadata": {},
   "outputs": [],
   "source": [
    "import cugraph\n",
    "from cugraph.datasets import dining_prefs\n",
    "gdf = dining_prefs.get_edgelist()\n",
    "G = cugraph.Graph()\n",
    "G = cugraph.from_cudf_edgelist(gdf, source='src', destination='dst', edge_attr = 'wgt')"
   ]
  },
  {
   "cell_type": "markdown",
   "metadata": {},
   "source": [
    "Run the three similarity Algorithms and print out the five links with the highest scores."
   ]
  },
  {
   "cell_type": "code",
   "execution_count": null,
   "metadata": {},
   "outputs": [],
   "source": [
    "jdf, odf, sdf = compute_similarity(G)\n",
    "print_similarity(jdf,odf,sdf)\n"
   ]
  },
  {
   "cell_type": "markdown",
   "metadata": {},
   "source": [
    "Now find the the complete set of two-hop neigbors and compare them instead of just using the existion one-hop edges."
   ]
  },
  {
   "cell_type": "code",
   "execution_count": null,
   "metadata": {},
   "outputs": [],
   "source": [
    "two_hops_pairs = G.get_two_hop_neighbors()\n",
    "jdf_hops, odf_hops, sdf_hops = compute_similarity(G,pairs=two_hops_pairs)\n",
    "print_similarity(jdf_hops,odf_hops,sdf_hops)"
   ]
  },
  {
   "cell_type": "markdown",
   "metadata": {},
   "source": [
    "---\n",
    "### It's that easy with cuGraph\n",
    "\n",
    "Copyright (c) 2023, NVIDIA CORPORATION.\n",
    "\n",
    "Licensed under the Apache License, Version 2.0 (the \"License\");  you may not use this file except in compliance with the License. You may obtain a copy of the License at http://www.apache.org/licenses/LICENSE-2.0\n",
    "\n",
    "Unless required by applicable law or agreed to in writing, software distributed under the License is distributed on an \"AS IS\" BASIS, WITHOUT WARRANTIES OR CONDITIONS OF ANY KIND, either express or implied. See the License for the specific language governing permissions and limitations under the License.\n",
    "___"
   ]
  }
 ],
 "metadata": {
  "kernelspec": {
   "display_name": "cugraph_0802",
   "language": "python",
   "name": "python3"
  },
  "language_info": {
   "codemirror_mode": {
    "name": "ipython",
    "version": 3
   },
   "file_extension": ".py",
   "mimetype": "text/x-python",
   "name": "python",
   "nbconvert_exporter": "python",
   "pygments_lexer": "ipython3",
   "version": "3.10.12"
  },
  "orig_nbformat": 4
 },
 "nbformat": 4,
 "nbformat_minor": 2
}
