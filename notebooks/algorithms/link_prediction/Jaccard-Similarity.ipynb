{
 "cells": [
  {
   "attachments": {},
   "cell_type": "markdown",
   "metadata": {},
   "source": [
    "# Jaccard Similarity\n",
    "----\n",
    "\n",
    "In this notebook we will explore the Jaccard vertex similarity metrics available in cuGraph.\n",
    "\n",
    "cuGraph supports Jaccard similarity for both unweighted and weighted graphs, but this notebook \n",
    "will demonstrate Jaccard similarity only on unweighted graphs. A future update will include an \n",
    "example using a graph with edge weights, where the weights are used to influence the Jaccard \n",
    "similarity coefficients."
   ]
  },
  {
   "attachments": {},
   "cell_type": "markdown",
   "metadata": {},
   "source": [
    "## Introduction\n",
    "\n",
    "The Jaccard similarity between two sets is defined as the ratio of the volume of their intersection \n",
    "divided by the volume of their union, where the sets used are the sets of neighboring vertices for each \n",
    "vertex.\n",
    "\n",
    "The neighbors of a vertex, _v_, is defined as the set, _U_, of vertices connected by way of an edge to vertex v, or _N(v) = {U} where v ∈ V and ∀ u ∈ U ∃ edge(v,u)∈ E_.\n",
    "\n",
    "If we then let set __A__ be the set of neighbors for vertex _a_, and set __B__ be the set of neighbors for vertex _b_, then the Jaccard Similarity for the vertex pair _(a, b)_ can be expressed as\n",
    "\n",
    "$\\text{Jaccard similarity} = \\frac{|A \\cap B|}{|A \\cup B|}$\n",
    "\n",
    "\n",
    "cuGraph's Jaccard function will, by default, compute the Jaccard similarity coefficient for every pair of \n",
    "vertices in the two-hop neighborhood for every vertex.\n",
    "\n",
    "```df = cugraph.jaccard(G, vertex_pair=None)```\n",
    "\n",
    "Parameters:\n",
    "\n",
    "    G: A cugraph.Graph object\n",
    "\n",
    "    vertex_pair: cudf.DataFrame, optional (default=None)\n",
    "        A GPU dataframe consisting of two columns representing pairs of\n",
    "        vertices. If provided, the jaccard coefficient is computed for the\n",
    "        given vertex pairs.  If the vertex_pair is not provided then the\n",
    "        current implementation computes the jaccard coefficient for all\n",
    "        adjacent vertices in the graph.\n",
    "\n",
    "Returns:\n",
    "\n",
    "    df: cudf.DataFrame with three columns:\n",
    "        df[\"first\"]: The first vertex id of each pair.\n",
    "        df[\"second\"]: The second vertex id of each pair.\n",
    "        df[\"jaccard_coeff\"]: The jaccard coefficient computed between the vertex pairs.\n",
    "\n",
    "To limit the computation to specific vertex pairs, including those not in the same two-hop \n",
    "neighborhood, pass a `vertex_pair` value (see example below).\n",
    "\n",
    "__References__ \n",
    "- https://research.nvidia.com/publication/2017-11_Parallel-Jaccard-and \n",
    "\n",
    "__Additional Reading__ \n",
    "- [Intro to Graph Analysis using cuGraph: Similarity Algorithms](https://medium.com/rapids-ai/intro-to-graph-analysis-using-cugraph-similarity-algorithms-64fa923791ac)\n",
    "- [Wikipedia: Jaccard](https://en.wikipedia.org/wiki/Jaccard_index)\n"
   ]
  },
  {
   "attachments": {},
   "cell_type": "markdown",
   "metadata": {},
   "source": [
    "## Test Data\n",
    "We will be using the Zachary Karate club dataset.\n",
    "*W. W. Zachary, An information flow model for conflict and fission in small groups, Journal of\n",
    "Anthropological Research 33, 452-473 (1977).*\n",
    "\n",
    "<img src=\"../../img/karate_similarity.png\" width=\"50%\"/>\n",
    "\n",
    "This is a small graph which allows for easy visual inspection to validate results."
   ]
  },
  {
   "attachments": {},
   "cell_type": "markdown",
   "metadata": {},
   "source": [
    "---\n",
    "# Let's get started!"
   ]
  },
  {
   "cell_type": "code",
   "execution_count": 1,
   "metadata": {
    "scrolled": true
   },
   "outputs": [],
   "source": [
    "# Import needed libraries\n",
    "import cugraph\n",
    "import cudf\n",
    "\n",
    "# The cugraph.datasets package contains several common graph datasets useful\n",
    "# for testing and demonstrations.\n",
    "from cugraph.datasets import karate"
   ]
  },
  {
   "attachments": {},
   "cell_type": "markdown",
   "metadata": {},
   "source": [
    "### Create the Graph object"
   ]
  },
  {
   "cell_type": "code",
   "execution_count": 2,
   "metadata": {},
   "outputs": [],
   "source": [
    "# Create a cugraph.Graph object from the karate dataset. Download the karate\n",
    "# dataset if not already present on disk.\n",
    "G = karate.get_graph(download=True)"
   ]
  },
  {
   "attachments": {},
   "cell_type": "markdown",
   "metadata": {},
   "source": [
    "### Run `jaccard`"
   ]
  },
  {
   "cell_type": "code",
   "execution_count": 3,
   "metadata": {},
   "outputs": [],
   "source": [
    "# Compute Jaccard coefficients for all pairs of vertices that are part of the\n",
    "# two-hop neighborhood for each vertex.\n",
    "jaccard_coeffs = cugraph.jaccard(G)"
   ]
  },
  {
   "attachments": {},
   "cell_type": "markdown",
   "metadata": {},
   "source": [
    "### Analyze the results"
   ]
  },
  {
   "cell_type": "code",
   "execution_count": 4,
   "metadata": {},
   "outputs": [],
   "source": [
    "# Remove redundancies (remove (b, a) if (a, b) is present) and pairs consisting\n",
    "# of the same vertices (a, a) from the results, then sort from most similar to\n",
    "# least.\n",
    "jaccard_coeffs = jaccard_coeffs.query(\"first < second\")\n",
    "jaccard_coeffs = jaccard_coeffs.sort_values(\"jaccard_coeff\", ascending=False)"
   ]
  },
  {
   "cell_type": "code",
   "execution_count": 5,
   "metadata": {},
   "outputs": [
    {
     "data": {
      "text/html": [
       "<div>\n",
       "<style scoped>\n",
       "    .dataframe tbody tr th:only-of-type {\n",
       "        vertical-align: middle;\n",
       "    }\n",
       "\n",
       "    .dataframe tbody tr th {\n",
       "        vertical-align: top;\n",
       "    }\n",
       "\n",
       "    .dataframe thead th {\n",
       "        text-align: right;\n",
       "    }\n",
       "</style>\n",
       "<table border=\"1\" class=\"dataframe\">\n",
       "  <thead>\n",
       "    <tr style=\"text-align: right;\">\n",
       "      <th></th>\n",
       "      <th>first</th>\n",
       "      <th>second</th>\n",
       "      <th>jaccard_coeff</th>\n",
       "    </tr>\n",
       "  </thead>\n",
       "  <tbody>\n",
       "    <tr>\n",
       "      <th>541</th>\n",
       "      <td>14</td>\n",
       "      <td>15</td>\n",
       "      <td>1.000000</td>\n",
       "    </tr>\n",
       "    <tr>\n",
       "      <th>542</th>\n",
       "      <td>14</td>\n",
       "      <td>18</td>\n",
       "      <td>1.000000</td>\n",
       "    </tr>\n",
       "    <tr>\n",
       "      <th>543</th>\n",
       "      <td>14</td>\n",
       "      <td>20</td>\n",
       "      <td>1.000000</td>\n",
       "    </tr>\n",
       "    <tr>\n",
       "      <th>544</th>\n",
       "      <td>14</td>\n",
       "      <td>22</td>\n",
       "      <td>1.000000</td>\n",
       "    </tr>\n",
       "    <tr>\n",
       "      <th>561</th>\n",
       "      <td>15</td>\n",
       "      <td>18</td>\n",
       "      <td>1.000000</td>\n",
       "    </tr>\n",
       "    <tr>\n",
       "      <th>562</th>\n",
       "      <td>15</td>\n",
       "      <td>20</td>\n",
       "      <td>1.000000</td>\n",
       "    </tr>\n",
       "    <tr>\n",
       "      <th>563</th>\n",
       "      <td>15</td>\n",
       "      <td>22</td>\n",
       "      <td>1.000000</td>\n",
       "    </tr>\n",
       "    <tr>\n",
       "      <th>587</th>\n",
       "      <td>17</td>\n",
       "      <td>21</td>\n",
       "      <td>1.000000</td>\n",
       "    </tr>\n",
       "    <tr>\n",
       "      <th>605</th>\n",
       "      <td>18</td>\n",
       "      <td>20</td>\n",
       "      <td>1.000000</td>\n",
       "    </tr>\n",
       "    <tr>\n",
       "      <th>606</th>\n",
       "      <td>18</td>\n",
       "      <td>22</td>\n",
       "      <td>1.000000</td>\n",
       "    </tr>\n",
       "    <tr>\n",
       "      <th>625</th>\n",
       "      <td>20</td>\n",
       "      <td>22</td>\n",
       "      <td>1.000000</td>\n",
       "    </tr>\n",
       "    <tr>\n",
       "      <th>299</th>\n",
       "      <td>7</td>\n",
       "      <td>13</td>\n",
       "      <td>0.800000</td>\n",
       "    </tr>\n",
       "    <tr>\n",
       "      <th>285</th>\n",
       "      <td>6</td>\n",
       "      <td>10</td>\n",
       "      <td>0.750000</td>\n",
       "    </tr>\n",
       "    <tr>\n",
       "      <th>388</th>\n",
       "      <td>4</td>\n",
       "      <td>5</td>\n",
       "      <td>0.750000</td>\n",
       "    </tr>\n",
       "    <tr>\n",
       "      <th>443</th>\n",
       "      <td>19</td>\n",
       "      <td>21</td>\n",
       "      <td>0.666667</td>\n",
       "    </tr>\n",
       "    <tr>\n",
       "      <th>502</th>\n",
       "      <td>9</td>\n",
       "      <td>28</td>\n",
       "      <td>0.666667</td>\n",
       "    </tr>\n",
       "    <tr>\n",
       "      <th>584</th>\n",
       "      <td>17</td>\n",
       "      <td>19</td>\n",
       "      <td>0.666667</td>\n",
       "    </tr>\n",
       "    <tr>\n",
       "      <th>223</th>\n",
       "      <td>13</td>\n",
       "      <td>19</td>\n",
       "      <td>0.600000</td>\n",
       "    </tr>\n",
       "    <tr>\n",
       "      <th>45</th>\n",
       "      <td>32</td>\n",
       "      <td>33</td>\n",
       "      <td>0.526316</td>\n",
       "    </tr>\n",
       "    <tr>\n",
       "      <th>310</th>\n",
       "      <td>7</td>\n",
       "      <td>12</td>\n",
       "      <td>0.500000</td>\n",
       "    </tr>\n",
       "  </tbody>\n",
       "</table>\n",
       "</div>"
      ],
      "text/plain": [
       "     first  second  jaccard_coeff\n",
       "541     14      15       1.000000\n",
       "542     14      18       1.000000\n",
       "543     14      20       1.000000\n",
       "544     14      22       1.000000\n",
       "561     15      18       1.000000\n",
       "562     15      20       1.000000\n",
       "563     15      22       1.000000\n",
       "587     17      21       1.000000\n",
       "605     18      20       1.000000\n",
       "606     18      22       1.000000\n",
       "625     20      22       1.000000\n",
       "299      7      13       0.800000\n",
       "285      6      10       0.750000\n",
       "388      4       5       0.750000\n",
       "443     19      21       0.666667\n",
       "502      9      28       0.666667\n",
       "584     17      19       0.666667\n",
       "223     13      19       0.600000\n",
       "45      32      33       0.526316\n",
       "310      7      12       0.500000"
      ]
     },
     "execution_count": 5,
     "metadata": {},
     "output_type": "execute_result"
    }
   ],
   "source": [
    "# Show the top-20 most similar vertices.\n",
    "jaccard_coeffs.head(20)"
   ]
  },
  {
   "attachments": {},
   "cell_type": "markdown",
   "metadata": {},
   "source": [
    "We can see that several pairs have a coefficient of 1.0, meaning they have\n",
    "the same set of neighbors. This can be easily verified in the plot above."
   ]
  },
  {
   "attachments": {},
   "cell_type": "markdown",
   "metadata": {},
   "source": [
    "If we want to see the similarity of a pair of vertices that are not part of \n",
    "the same two-hop neighborhood, we have to specify them in a `cudf.DataFrame` \n",
    "to pass to the `jaccard` call."
   ]
  },
  {
   "cell_type": "code",
   "execution_count": 6,
   "metadata": {},
   "outputs": [
    {
     "data": {
      "text/html": [
       "<div>\n",
       "<style scoped>\n",
       "    .dataframe tbody tr th:only-of-type {\n",
       "        vertical-align: middle;\n",
       "    }\n",
       "\n",
       "    .dataframe tbody tr th {\n",
       "        vertical-align: top;\n",
       "    }\n",
       "\n",
       "    .dataframe thead th {\n",
       "        text-align: right;\n",
       "    }\n",
       "</style>\n",
       "<table border=\"1\" class=\"dataframe\">\n",
       "  <thead>\n",
       "    <tr style=\"text-align: right;\">\n",
       "      <th></th>\n",
       "      <th>first</th>\n",
       "      <th>second</th>\n",
       "      <th>jaccard_coeff</th>\n",
       "    </tr>\n",
       "  </thead>\n",
       "  <tbody>\n",
       "    <tr>\n",
       "      <th>0</th>\n",
       "      <td>16</td>\n",
       "      <td>33</td>\n",
       "      <td>0.0</td>\n",
       "    </tr>\n",
       "  </tbody>\n",
       "</table>\n",
       "</div>"
      ],
      "text/plain": [
       "   first  second  jaccard_coeff\n",
       "0     16      33            0.0"
      ]
     },
     "execution_count": 6,
     "metadata": {},
     "output_type": "execute_result"
    }
   ],
   "source": [
    "cugraph.jaccard(G, cudf.DataFrame([(16, 33)]))"
   ]
  },
  {
   "attachments": {},
   "cell_type": "markdown",
   "metadata": {},
   "source": [
    "As expected, the coefficient is 0.0 because vertices 16 and 33 do not share any\n",
    "neighbors."
   ]
  },
  {
   "attachments": {},
   "cell_type": "markdown",
   "metadata": {},
   "source": [
    "We can use the `cudf.DataFrame` argument to pass in any number of specific vertex pairs \n",
    "to compute the similarity for, regardless of whether or not they're included by default. \n",
    "This is useful to limit the computation and result size when only specific vertex \n",
    "similarities are needed."
   ]
  },
  {
   "cell_type": "code",
   "execution_count": 7,
   "metadata": {},
   "outputs": [
    {
     "data": {
      "text/html": [
       "<div>\n",
       "<style scoped>\n",
       "    .dataframe tbody tr th:only-of-type {\n",
       "        vertical-align: middle;\n",
       "    }\n",
       "\n",
       "    .dataframe tbody tr th {\n",
       "        vertical-align: top;\n",
       "    }\n",
       "\n",
       "    .dataframe thead th {\n",
       "        text-align: right;\n",
       "    }\n",
       "</style>\n",
       "<table border=\"1\" class=\"dataframe\">\n",
       "  <thead>\n",
       "    <tr style=\"text-align: right;\">\n",
       "      <th></th>\n",
       "      <th>first</th>\n",
       "      <th>second</th>\n",
       "      <th>jaccard_coeff</th>\n",
       "    </tr>\n",
       "  </thead>\n",
       "  <tbody>\n",
       "    <tr>\n",
       "      <th>0</th>\n",
       "      <td>16</td>\n",
       "      <td>33</td>\n",
       "      <td>0.000000</td>\n",
       "    </tr>\n",
       "    <tr>\n",
       "      <th>1</th>\n",
       "      <td>32</td>\n",
       "      <td>33</td>\n",
       "      <td>0.526316</td>\n",
       "    </tr>\n",
       "    <tr>\n",
       "      <th>2</th>\n",
       "      <td>0</td>\n",
       "      <td>23</td>\n",
       "      <td>0.000000</td>\n",
       "    </tr>\n",
       "  </tbody>\n",
       "</table>\n",
       "</div>"
      ],
      "text/plain": [
       "   first  second  jaccard_coeff\n",
       "0     16      33       0.000000\n",
       "1     32      33       0.526316\n",
       "2      0      23       0.000000"
      ]
     },
     "execution_count": 7,
     "metadata": {},
     "output_type": "execute_result"
    }
   ],
   "source": [
    "pairs = cudf.DataFrame([(16, 33), (32, 33), (0, 23)])\n",
    "cugraph.jaccard(G, pairs)"
   ]
  },
  {
   "attachments": {},
   "cell_type": "markdown",
   "metadata": {},
   "source": [
    "---\n",
    "### It's that easy with cuGraph\n",
    "\n",
    "Copyright (c) 2019-2024, NVIDIA CORPORATION.\n",
    "\n",
    "Licensed under the Apache License, Version 2.0 (the \"License\");  you may not use this file except in compliance with the License. You may obtain a copy of the License at http://www.apache.org/licenses/LICENSE-2.0\n",
    "\n",
    "Unless required by applicable law or agreed to in writing, software distributed under the License is distributed on an \"AS IS\" BASIS, WITHOUT WARRANTIES OR CONDITIONS OF ANY KIND, either express or implied. See the License for the specific language governing permissions and limitations under the License.\n",
    "___"
   ]
  },
  {
   "attachments": {},
   "cell_type": "markdown",
   "metadata": {},
   "source": [
    "#### Revision History\n",
    "\n",
    "| Author        | Date       | Update           | cuGraph Version | Test Hardware             |\n",
    "| --------------|------------|------------------|-----------------|---------------------------|\n",
    "| Brad Rees     | 10/14/2019 | created          | 0.14            | GV100 32 GB, CUDA 10.2    |\n",
    "| Don Acosta    | 07/20/2022 | tested/updated   | 22.08 nightly   | DGX Tesla V100, CUDA 11.5 |\n",
    "| Ralph Liu     | 06/29/2023 | updated          | 23.08 nightly   | DGX Tesla V100, CUDA 12.0 |\n",
    "| Rick Ratzel   | 02/23/2024 | tested/updated   | 24.04 nightly   | DGX Tesla V100, CUDA 12.0 |"
   ]
  }
 ],
 "metadata": {
  "kernelspec": {
   "display_name": "Python 3 (ipykernel)",
   "language": "python",
   "name": "python3"
  },
  "language_info": {
   "codemirror_mode": {
    "name": "ipython",
    "version": 3
   },
   "file_extension": ".py",
   "mimetype": "text/x-python",
   "name": "python",
   "nbconvert_exporter": "python",
   "pygments_lexer": "ipython3",
   "version": "3.10.13"
  },
  "vscode": {
   "interpreter": {
    "hash": "cee8a395f2f0c5a5bcf513ae8b620111f4346eff6dc64e1ea99c951b2ec68604"
   }
  }
 },
 "nbformat": 4,
 "nbformat_minor": 4
}
