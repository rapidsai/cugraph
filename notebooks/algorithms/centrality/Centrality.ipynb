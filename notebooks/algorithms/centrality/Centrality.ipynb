{
 "cells": [
  {
   "cell_type": "markdown",
   "metadata": {},
   "source": [
    "# Centrality"
   ]
  },
  {
   "cell_type": "markdown",
   "metadata": {},
   "source": [
    "In this notebook, we will compute vertex centrality scores using the various cuGraph algorithms.  We will then compare the similarities and differences.\n",
    "\n",
    "| Author Credit |    Date    |  Update          | cuGraph Version |  Test Hardware |\n",
    "| --------------|------------|------------------|-----------------|----------------|\n",
    "| Brad Rees     | 04/16/2021 | created          | 0.19            | GV100, CUDA 11.0\n",
    "| Brad Rees     | 08/05/2021 | tested / updated | 21.10 nightly   | RTX 3090 CUDA 11.4\n",
    "| Don Acosta    | 07/29/2022 | tested / updated | 22.08 nightly   | DGX Tesla V100 CUDA 11.5\n",
    " "
   ]
  },
  {
   "cell_type": "markdown",
   "metadata": {},
   "source": [
    "Centrality is measure of how important, or central, a node or edge is within a graph.  It is useful for identifying influencer in social networks, key routing nodes in communication/computer network infrastructures, \n",
    "\n",
    "The seminal paper on centrality is:  Freeman, L. C. (1978). [Centrality in social networks conceptual clarification.](https://citeseerx.ist.psu.edu/viewdoc/download?doi=10.1.1.320.5551&rep=rep1&type=pdf) Social networks, 1(3), 215-239.\n",
    "\n",
    "__Degree Centrality__ <br>\n",
    "Degree centrality is based on the notion that whoever has the most connections must be important.   \n",
    "\n",
    "<center>\n",
    "<img src=\"https://wikimedia.org/api/rest_v1/media/math/render/svg/62c50cbf5f6cbe0842fe58fca63deb0f0772a829\" />\n",
    "</center>\n",
    "\n",
    "\n",
    "___Closeness centrality – coming soon___ <br>\n",
    "Closeness is a measure of the shortest path to every other node in the graph.  A node that is close to every other node, can reach over other node in the fewest number of hops, means that it has greater influence on the network versus a node that is not close.\n",
    "\n",
    "__Betweenness Centrality__ <br>\n",
    "Betweenness is a measure of the number of shortest paths that cross through a node, or over an edge.  A node with high betweenness means that it had a greater influence on the flow of information.  \n",
    "\n",
    "Betweenness centrality of a node 𝑣 is the sum of the fraction of all-pairs shortest paths that pass through 𝑣\n",
    "\n",
    "<center>\n",
    "    <img src=\"https://latex.codecogs.com/png.latex?c_B(v)&space;=\\sum_{s,t&space;\\in&space;V}&space;\\frac{\\sigma(s,&space;t|v)}{\\sigma(s,&space;t)}\" title=\"c_B(v) =\\sum_{s,t \\in V} \\frac{\\sigma(s, t|v)}{\\sigma(s, t)}\" />\n",
    "</center>\n",
    "\n",
    "To speedup runtime of betweenness centrailty, the metric can be computed on a limited number of nodes (randomly selected) and then used to estimate the other scores.  For this example, the graphs are relatively small (under 5,000 nodes) so betweenness on every node will be computed.\n",
    "\n",
    "__Katz Centrality__ <br>\n",
    "Katz is a variant of degree centrality and of eigenvector centrality. \n",
    "Katz centrality is a measure of the relative importance of a node within the graph based on measuring the influence across the total number of walks between vertex pairs.\n",
    "\n",
    "<center>\n",
    "    <img src=\"https://latex.codecogs.com/gif.latex?C_{katz}(i)&space;=&space;\\sum_{k=1}^{\\infty}&space;\\sum_{j=1}^{n}&space;\\alpha&space;^k(A^k)_{ji}\" title=\"C_{katz}(i) = \\sum_{k=1}^{\\infty} \\sum_{j=1}^{n} \\alpha ^k(A^k)_{ji}\" />\n",
    "</center>\n",
    "\n",
    "See:\n",
    "* [Katz on Wikipedia](https://en.wikipedia.org/wiki/Katz_centrality) for more details on the algorithm.\n",
    "* [Learn more about Katz Centrality](https://www.sci.unich.it/~francesc/teaching/network/katz.html)\n",
    "\n",
    "__Eigenvector Centrality__ <br>\n",
    "Eigenvectors can be thought of as the balancing points of a graph, or center of gravity of a 3D object.  High centrality means that more of the graph is balanced around that node.\n",
    "The eigenvector centrality for node i is the\n",
    "i-th element of the vector x defined by the eigenvector equation.\n",
    "\n",
    "<center>\n",
    "<img src=\"https://wikimedia.org/api/rest_v1/media/math/render/svg/51c506ef0f23db1086b00ff6e5da847ff53cf5e9\" />\n",
    "</center>\n",
    "Where M(v) is the adjacency list for the set of vertices(v) and λ is a constant.\n",
    "\n",
    "See:\n",
    "* [Eigenvector Centrality on Wikipedia](https://en.wikipedia.org/wiki/Eigenvector_centrality) for more details on the algorithm.\n",
    "* [Learn more about EigenVector Centrality](https://www.sci.unich.it/~francesc/teaching/network/eigenvector.html)\n",
    "\n",
    "\n",
    "__PageRank__ <br>\n",
    "PageRank is classified as both a Link Analysis tool and a centrality measure.  PageRank is based on the assumption that important nodes point (directed edge) to other important nodes.  From a social network perspective, the question is who do you seek for an answer and then who does that person seek.  PageRank is good when there is implied importance in the data, for example a citation network, web page linkages, or trust networks. Pagerank also dilutes the importance of nodes which have exceedingly high outward degree which is an improvement over Katz.\n",
    "<center>\n",
    "<img src=\"https://wikimedia.org/api/rest_v1/media/math/render/svg/8a8c0a807f62331cc1740dd6c0f28ac1809926c7\"/>\n",
    "</center>\n",
    "\n",
    "See:\n",
    "* [Pagerank on Wikipedia](https://en.wikipedia.org/wiki/Pagerank) for more details on the algorithm and its commercial use.\n",
    "* [Learn more about Pagerank Centrality](https://www.sci.unich.it/~francesc/teaching/network/pagerank.html) which is a centrality measure highly related to the Pagerank algorithm."
   ]
  },
  {
   "cell_type": "markdown",
   "metadata": {},
   "source": [
    "---"
   ]
  },
  {
   "cell_type": "markdown",
   "metadata": {},
   "source": [
    "### Test Data\n",
    "We will be using the Zachary Karate club dataset \n",
    "*W. W. Zachary, An information flow model for conflict and fission in small groups, Journal of\n",
    "Anthropological Research 33, 452-473 (1977).*\n",
    "\n",
    "\n",
    "<img src=\"../../img/zachary_graph_comm.png\" width=\"35%\"/>\n",
    "\n",
    "Because the test data has vertex IDs starting at 1, the auto-renumber feature of cuGraph (mentioned above) will be used so the starting vertex ID is zero for maximum efficiency. The resulting data will then be auto-unrenumbered, making the entire renumbering process transparent to users."
   ]
  },
  {
   "cell_type": "code",
   "execution_count": null,
   "metadata": {},
   "outputs": [],
   "source": [
    "# Import the cugraph modules\n",
    "import cugraph\n",
    "import cudf\n",
    "from cugraph.experimental.datasets import karate"
   ]
  },
  {
   "cell_type": "code",
   "execution_count": null,
   "metadata": {},
   "outputs": [],
   "source": [
    "# import the non-Rapids required modules\n",
    "import numpy as np\n",
    "import pandas as pd   \n",
    "from IPython.display import display_html "
   ]
  },
  {
   "cell_type": "markdown",
   "metadata": {},
   "source": [
    "### Functions\n",
    "using underscore variable names to avoid collisions.  \n",
    "non-underscore names are expected to be global names"
   ]
  },
  {
   "cell_type": "code",
   "execution_count": null,
   "metadata": {},
   "outputs": [],
   "source": [
    "# Compute Centrality\n",
    "# the centrality calls are very straightforward with the graph being the primary argument\n",
    "# we are using the default argument values for all centrality functions\n",
    "\n",
    "def compute_centrality(_graph) :\n",
    "    # Compute Degree Centrality\n",
    "    _d = cugraph.degree_centrality(_graph)\n",
    "        \n",
    "    # Compute the Betweenness Centrality\n",
    "    _b = cugraph.betweenness_centrality(_graph)\n",
    "\n",
    "    # Compute Katz Centrality\n",
    "    _k = cugraph.katz_centrality(_graph)\n",
    "    \n",
    "    # Compute PageRank Centrality\n",
    "    _p = cugraph.pagerank(_graph)\n",
    "\n",
    "    # Compute EigenVector Centrality\n",
    "    _e = cugraph.eigenvector_centrality(_graph, max_iter=1000, tol=1.0e-3)\n",
    "    \n",
    "    return _d, _b, _k, _p, _e"
   ]
  },
  {
   "cell_type": "code",
   "execution_count": null,
   "metadata": {},
   "outputs": [],
   "source": [
    "# Print function\n",
    "def print_centrality(k,dc,bc,katz,pr, ev):\n",
    "\n",
    "    dc_top = dc.sort_values(by='degree_centrality', ascending=False).head(k).to_pandas()\n",
    "    bc_top = bc.sort_values(by='betweenness_centrality', ascending=False).head(k).to_pandas()\n",
    "    katz_top = katz.sort_values(by='katz_centrality', ascending=False).head(k).to_pandas()\n",
    "    pr_top = pr.sort_values(by='pagerank', ascending=False).head(k).to_pandas()\n",
    "    ev_top = ev.sort_values(by='eigenvector_centrality', ascending=False).head(k).to_pandas()\n",
    "    \n",
    "    df1_styler = dc_top.style.set_table_attributes(\"style='display:inline'\").set_caption('Degree').hide(axis='index')\n",
    "    df2_styler = bc_top.style.set_table_attributes(\"style='display:inline'\").set_caption('Betweenness').hide(axis='index')\n",
    "    df3_styler = katz_top.style.set_table_attributes(\"style='display:inline'\").set_caption('Katz').hide(axis='index')\n",
    "    df4_styler = pr_top.style.set_table_attributes(\"style='display:inline'\").set_caption('PageRank').hide(axis='index')\n",
    "    df5_styler = ev_top.style.set_table_attributes(\"style='display:inline'\").set_caption('EigenVector').hide(axis='index')\n",
    "\n",
    "    display_html(df1_styler._repr_html_()+df2_styler._repr_html_()+df3_styler._repr_html_()+df4_styler._repr_html_()+df5_styler._repr_html_(), raw=True)"
   ]
  },
  {
   "cell_type": "markdown",
   "metadata": {},
   "source": [
    "cuGraph does not do any data reading or writing and is dependent on other tools for that, with cuDF being the preferred solution.   \n",
    "\n",
    "The data file contains an edge list, which represents the connections between vertices.  The `source` to `destination` pairs is in what is known as Coordinate Format (COO).  In this test case, the data is just two columns.  However a third, `weight`, column is also possible"
   ]
  },
  {
   "cell_type": "markdown",
   "metadata": {},
   "source": [
    "## Create a Graph"
   ]
  },
  {
   "cell_type": "code",
   "execution_count": null,
   "metadata": {},
   "outputs": [],
   "source": [
    "# Create a graph using the imported Dataset object\n",
    "G = karate.get_graph(fetch=True)"
   ]
  },
  {
   "cell_type": "markdown",
   "metadata": {},
   "source": [
    "## Compute the Centrality measures in a single function."
   ]
  },
  {
   "cell_type": "code",
   "execution_count": null,
   "metadata": {},
   "outputs": [],
   "source": [
    "dc, bc, katz, pr, ev = compute_centrality(G)"
   ]
  },
  {
   "cell_type": "markdown",
   "metadata": {},
   "source": [
    "### Results\n",
    "Typically, analysts just look at the top 10% of results.  Basically just those vertices that are the most central or important.  \n",
    "The karate data has 32 vertices, so let's round a little and look at the top 5 vertices"
   ]
  },
  {
   "cell_type": "code",
   "execution_count": null,
   "metadata": {},
   "outputs": [],
   "source": [
    "print_centrality(5, dc, bc, katz, pr, ev)"
   ]
  },
  {
   "cell_type": "markdown",
   "metadata": {},
   "source": [
    "### A Different Dataset\n",
    "The Karate dataset is not large or complex, which makes it a perfect test dataset since it is easy to visually verify results.  Let's look at a larger dataset with a lot more edges"
   ]
  },
  {
   "cell_type": "code",
   "execution_count": null,
   "metadata": {},
   "outputs": [],
   "source": [
    "# Define the path to the test data  \n",
    "datafile='../../data/netscience.csv'\n",
    "\n",
    "gdf = cudf.read_csv(datafile, delimiter=' ', names=['src', 'dst', 'wt'], dtype=['int32', 'int32', 'float'] )"
   ]
  },
  {
   "cell_type": "code",
   "execution_count": null,
   "metadata": {},
   "outputs": [],
   "source": [
    "# create a Graph using the source (src) and destination (dst) vertex pairs from the Dataframe \n",
    "G = cugraph.Graph()\n",
    "G.from_cudf_edgelist(gdf, source='src', destination='dst')"
   ]
  },
  {
   "cell_type": "code",
   "execution_count": null,
   "metadata": {},
   "outputs": [],
   "source": [
    "(G.number_of_nodes(), G.number_of_edges())"
   ]
  },
  {
   "cell_type": "code",
   "execution_count": null,
   "metadata": {},
   "outputs": [],
   "source": [
    "dc, bc, katz, pr, ev = compute_centrality(G)"
   ]
  },
  {
   "cell_type": "code",
   "execution_count": null,
   "metadata": {},
   "outputs": [],
   "source": [
    "print_centrality(5, dc, bc, katz, pr, ev)"
   ]
  },
  {
   "cell_type": "markdown",
   "metadata": {},
   "source": [
    "We can now see a larger discrepancy between the centrality scores and which nodes rank highest.\n",
    "Which centrality measure to use is left to the analyst to decide and does require insight into the difference algorithms and graph structure."
   ]
  },
  {
   "cell_type": "markdown",
   "metadata": {},
   "source": [
    "### And One More Dataset\n",
    "Let's look at a Cyber dataset.  The vertex ID are IP addresses"
   ]
  },
  {
   "cell_type": "code",
   "execution_count": null,
   "metadata": {},
   "outputs": [],
   "source": [
    "# Define the path to the test data  \n",
    "datafile='../../data/cyber.csv'\n",
    "\n",
    "gdf = cudf.read_csv(datafile, delimiter=',', names=['idx', 'src', 'dst'], dtype=['int32', 'str', 'str'] )"
   ]
  },
  {
   "cell_type": "code",
   "execution_count": null,
   "metadata": {},
   "outputs": [],
   "source": [
    "# create a Graph using the source (src) and destination (dst) vertex pairs from the Dataframe \n",
    "G = cugraph.Graph()\n",
    "G.from_cudf_edgelist(gdf, source='src', destination='dst')"
   ]
  },
  {
   "cell_type": "code",
   "execution_count": null,
   "metadata": {},
   "outputs": [],
   "source": [
    "(G.number_of_nodes(), G.number_of_edges())"
   ]
  },
  {
   "cell_type": "code",
   "execution_count": null,
   "metadata": {},
   "outputs": [],
   "source": [
    "dc, bc, katz, pr, ev = compute_centrality(G)"
   ]
  },
  {
   "cell_type": "markdown",
   "metadata": {},
   "source": [
    "Here the results of all the measures can be seen side by side."
   ]
  },
  {
   "cell_type": "code",
   "execution_count": null,
   "metadata": {},
   "outputs": [],
   "source": [
    "print_centrality(5, dc, bc, katz, pr, ev)"
   ]
  },
  {
   "cell_type": "markdown",
   "metadata": {},
   "source": [
    "There are differences in how each centrality measure ranks the nodes. In some cases, every algorithm returns similar results, and in others, the results are different. Understanding how the centrality measure is computed and what edge represent is key to selecting the right centrality metric."
   ]
  },
  {
   "cell_type": "markdown",
   "metadata": {},
   "source": [
    "----\n",
    "Copyright (c) 2019-2022, NVIDIA CORPORATION.\n",
    "\n",
    "Licensed under the Apache License, Version 2.0 (the \"License\"); you may not use this file except in compliance with the License. You may obtain a copy of the License at http://www.apache.org/licenses/LICENSE-2.0\n",
    "\n",
    "Unless required by applicable law or agreed to in writing, software distributed under the License is distributed on an \"AS IS\" BASIS, WITHOUT WARRANTIES OR CONDITIONS OF ANY KIND, either express or implied. See the License for the specific language governing permissions and limitations under the License."
   ]
  }
 ],
 "metadata": {
  "kernelspec": {
   "display_name": "Python 3.8.13 ('cugraph_dev')",
   "language": "python",
   "name": "python3"
  },
  "language_info": {
   "codemirror_mode": {
    "name": "ipython",
    "version": 3
   },
   "file_extension": ".py",
   "mimetype": "text/x-python",
   "name": "python",
   "nbconvert_exporter": "python",
   "pygments_lexer": "ipython3",
   "version": "3.9.13"
  },
  "vscode": {
   "interpreter": {
    "hash": "cee8a395f2f0c5a5bcf513ae8b620111f4346eff6dc64e1ea99c951b2ec68604"
   }
  }
 },
 "nbformat": 4,
 "nbformat_minor": 4
}
