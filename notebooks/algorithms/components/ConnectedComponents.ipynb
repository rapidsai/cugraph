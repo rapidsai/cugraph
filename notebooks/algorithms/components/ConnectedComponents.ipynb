{
 "cells": [
  {
   "cell_type": "markdown",
   "metadata": {},
   "source": [
    "# Connected Components\n",
    "\n",
    "In this notebook, we will use cuGraph to compute weakly and strongly connected components of a graph and display some useful information about the resulting components.\n",
    "\n",
    "_Weakly connected component_ (WCC) is often a necessary pre-processing step for many graph algorithms. A dataset may contact several disconnected (sub-) graphs.  Quite often, running a graph algorithm only on one component of a disconnected graph can lead to bugs which are not easy to trace.\n",
    "\n",
    "_Strongly connected components_ (SCC) is used in the early stages of graph analysis to get an idea of a graph's structure.\n",
    "\n",
    "\n",
    "\n",
    "_Notebook Credits_\n",
    "\n",
    "| Author Credit |    Date    |  Update          | cuGraph Version |  Test Hardware     |\n",
    "| --------------|------------|------------------|-----------------|--------------------|\n",
    "| Kumar Aatish  | 08/13/2019 | created          | 0.15            | GV100, CUDA 10.2   |\n",
    "| Brad Rees     | 10/18/2021 | updated          | 21.12 nightly   | GV100, CUDA 11.4   |\n",
    "| Ralph Liu     | 06/22/2022 | updated/tested   | 22.08           | TV100, CUDA 11.5   |\n",
    "| Don Acosta    | 07/22/2021 | updated          | 22.08 nightly   | DGX Tesla V100, CUDA 11.5   |\n",
    "\n",
    "\n",
    "\n",
    "\n",
    "## Introduction\n",
    "\n",
    "### Additional Information:\n",
    "* Strong component - directed graph - needs to have a directed path from every vertex to every other vertex\n",
    "* Weak component - undirected - vertices need to be reachable from every other vertex\n",
    "* Strong components are a subset of weak components \n",
    "\n",
    "\n",
    "### Weakly Connected Components\n",
    "To compute WCC for a graph in cuGraph we use:\n",
    "\n",
    "**cugraph.weakly_connected_components(G)**\n",
    "\n",
    "   Generate the weakly connected components and attach a component label to each vertex.\n",
    "\n",
    "    Parameters\n",
    "    ----------\n",
    "    G : cugraph.Graph\n",
    "        cuGraph graph descriptor, should contain the connectivity information\n",
    "        as an edge list (edge weights are not used for this algorithm).\n",
    "        Currently, the graph should be undirected where an undirected edge is\n",
    "        represented by a directed edge in both directions. The adjacency list\n",
    "        will be computed if not already present.\n",
    "\n",
    "    Returns\n",
    "    -------\n",
    "    df : cudf.DataFrame\n",
    "      df['labels'][i] gives the label id of the i'th vertex\n",
    "      df['vertex'][i] gives the vertex id of the i'th vertex\n",
    "\n",
    "\n",
    "\n",
    "\n",
    "### Strongly Connected Components\n",
    "To compute SCC for a graph in cuGraph we use:\n",
    "\n",
    "**cugraph.strongly_connected_components(G)**\n",
    "\n",
    "\n",
    "    Generate the stronlgly connected components and attach a component label to each vertex.\n",
    "\n",
    "    Parameters\n",
    "    ----------\n",
    "    G : cugraph.Graph\n",
    "      cuGraph graph descriptor, should contain the connectivity information as\n",
    "      an edge list (edge weights are not used for this algorithm). The graph\n",
    "      can be either directed or undirected where an undirected edge is\n",
    "      represented by a directed edge in both directions.\n",
    "      The adjacency list will be computed if not already present.\n",
    "      The number of vertices should fit into a 32b int.\n",
    "\n",
    "    Returns\n",
    "    -------\n",
    "    df : cudf.DataFrame\n",
    "      df['labels'][i] gives the label id of the i'th vertex\n",
    "      df['vertex'][i] gives the vertex id of the i'th vertex\n",
    "\n",
    "\n",
    "\n",
    "\n",
    "\n"
   ]
  },
  {
   "cell_type": "markdown",
   "metadata": {},
   "source": [
    "### Some notes about vertex IDs...\n",
    "* cuGraph will automatically renumber graphs to an internal format consisting of a contiguous series of integers starting from 0, and convert back to the original IDs when returning data to the caller. If the vertex IDs of the data are already a contiguous series of integers starting from 0, the auto-renumbering step can be skipped for faster graph creation times.\n",
    "  * To skip auto-renumbering, set the `renumber` boolean arg to `False` when calling the appropriate graph creation API (eg. `G.from_cudf_edgelist(gdf_r, source='src', destination='dst', renumber=False)`).\n",
    "  * For more advanced renumbering support, see the examples in `structure/renumber.ipynb` and `structure/renumber-2.ipynb`\n"
   ]
  },
  {
   "cell_type": "markdown",
   "metadata": {},
   "source": [
    "### Test Data\n",
    "We will be using the Netscience dataset :  \n",
    "*M. E. J. Newman, Finding community structure in networks using the eigenvectors of matrices, Preprint physics/0605087 (2006)*\n",
    "\n",
    "The graph netscience contains a co-authorship network of scientists working on network theory and experiments. The version given here contains all components of the network, for a total of 1589 scientists, with the the largest component of 379 scientists.\n",
    "\n",
    "Netscience Adjacency Matrix               |NetScience Strongly Connected Components\n",
    ":---------------------------------------------|------------------------------------------------------------:\n",
    "![](../../img/netscience.png \"Credit : https://www.cise.ufl.edu/research/sparse/matrices/Newman/netscience\") | ![](../../img/netscience_scc.png \"Credit : https://www.cise.ufl.edu/research/sparse/matrices/Newman/netscience\")\n",
    "  \n",
    "Matrix plots above by Yifan Hu, AT&T Labs Visualization Group."
   ]
  },
  {
   "cell_type": "code",
   "execution_count": null,
   "metadata": {},
   "outputs": [],
   "source": [
    "# Import needed libraries\n",
    "import cugraph\n",
    "import cudf\n",
    "import numpy as np"
   ]
  },
  {
   "cell_type": "markdown",
   "metadata": {},
   "source": [
    "### 1. Import a Built-In Dataset"
   ]
  },
  {
   "cell_type": "code",
   "execution_count": null,
   "metadata": {},
   "outputs": [],
   "source": [
    "from cugraph.experimental.datasets import netscience"
   ]
  },
  {
   "cell_type": "markdown",
   "metadata": {},
   "source": [
    "### 2. Create a Graph from an edge list"
   ]
  },
  {
   "cell_type": "code",
   "execution_count": null,
   "metadata": {},
   "outputs": [],
   "source": [
    "G = netscience.get_graph(fetch=True)"
   ]
  },
  {
   "cell_type": "markdown",
   "metadata": {},
   "source": [
    "### 3a. Call Weakly Connected Components"
   ]
  },
  {
   "cell_type": "code",
   "execution_count": null,
   "metadata": {},
   "outputs": [],
   "source": [
    "# Call cugraph.weakly_connected_components on the dataframe\n",
    "df = cugraph.weakly_connected_components(G)\n",
    "df.head(5)"
   ]
  },
  {
   "cell_type": "markdown",
   "metadata": {},
   "source": [
    "#### Get total number of weakly connected components"
   ]
  },
  {
   "cell_type": "code",
   "execution_count": null,
   "metadata": {},
   "outputs": [],
   "source": [
    "# Use groupby on the 'labels' column of the WCC output to get the counts of each connected component label\n",
    "label_gby = df.groupby('labels')\n",
    "label_count = label_gby.count()\n",
    "\n",
    "print(\"Total number of components found : \", len(label_count))"
   ]
  },
  {
   "cell_type": "markdown",
   "metadata": {},
   "source": [
    "#### Output the sizes of the top 10 largest weakly connected component"
   ]
  },
  {
   "cell_type": "code",
   "execution_count": null,
   "metadata": {},
   "outputs": [],
   "source": [
    "# Call nlargest on the groupby result to get the row where the component count is the largest\n",
    "# NOTE: this will change the value of \"vertex\" to be the count and \"labels\" to be an index\n",
    "largest_component = label_count.nlargest(n = 10, columns = 'vertex')\n",
    "\n",
    "print(\"Size of the top 10 largest components are: \")\n",
    "print(largest_component)"
   ]
  },
  {
   "cell_type": "markdown",
   "metadata": {},
   "source": [
    "#### Output vertex ids belonging to a weakly connected component label"
   ]
  },
  {
   "cell_type": "code",
   "execution_count": null,
   "metadata": {},
   "outputs": [],
   "source": [
    "# Query the connected component output to display vertex ids that belong to a component of interest\n",
    "# picking label 106 from above to reduce amount of data printed\n",
    "\n",
    "expr = \"labels == 106\"\n",
    "component = df.query(expr)\n",
    "\n",
    "print(\"Vertex Ids that belong to component label 106 : \")\n",
    "print(component)"
   ]
  },
  {
   "cell_type": "markdown",
   "metadata": {},
   "source": [
    "### 3b. Call Strongly Connected Components"
   ]
  },
  {
   "cell_type": "code",
   "execution_count": null,
   "metadata": {},
   "outputs": [],
   "source": [
    "# Call cugraph.strongly_connected_components on the dataframe\n",
    "df = cugraph.strongly_connected_components(G)\n",
    "df.head(5)"
   ]
  },
  {
   "cell_type": "markdown",
   "metadata": {},
   "source": [
    "#### Get total number of strongly connected components"
   ]
  },
  {
   "cell_type": "code",
   "execution_count": null,
   "metadata": {},
   "outputs": [],
   "source": [
    "# Use groupby on the 'labels' column of the SCC output to get the counts of each connected component label\n",
    "label_gby = df.groupby('labels')\n",
    "label_count = label_gby.count()\n",
    "print(\"Total number of components found : \", len(label_count))"
   ]
  },
  {
   "cell_type": "markdown",
   "metadata": {},
   "source": [
    "#### Get the top 10 largest strongly connected component"
   ]
  },
  {
   "cell_type": "code",
   "execution_count": null,
   "metadata": {},
   "outputs": [],
   "source": [
    "# Call nlargest on the groupby result to get the row where the component count is the largest\n",
    "largest_component = label_count.nlargest(n = 10, columns = 'vertex')\n",
    "\n",
    "print(\"Size of the top 10 largest components are: \")\n",
    "print(largest_component)"
   ]
  },
  {
   "cell_type": "markdown",
   "metadata": {},
   "source": [
    "#### Output vertex ids belonging to a strongly connected component label"
   ]
  },
  {
   "cell_type": "code",
   "execution_count": null,
   "metadata": {
    "scrolled": true
   },
   "outputs": [],
   "source": [
    "# Query the connected component output to display vertex ids that belong to a component of interest\n",
    "expr = \"labels == 66\"\n",
    "component = df.query(expr)\n",
    "\n",
    "print(\"Vertex Ids that belong to component label 66 : \")\n",
    "print(component)"
   ]
  },
  {
   "cell_type": "markdown",
   "metadata": {},
   "source": [
    "### Conclusion\n",
    "\n",
    "The number of components found by **cugraph.weakly_connected_components(G)** and **cugraph.strongly_connected_components(G)** are equal to the results from  M. E. J. Newman,\n",
    "Phys. Rev. E 64, 016132 (2001)."
   ]
  },
  {
   "cell_type": "markdown",
   "metadata": {},
   "source": [
    "___\n",
    "Copyright (c) 2019-2022, NVIDIA CORPORATION.\n",
    "\n",
    "Licensed under the Apache License, Version 2.0 (the \"License\");  you may not use this file except in compliance with the License. You may obtain a copy of the License at http://www.apache.org/licenses/LICENSE-2.0\n",
    "\n",
    "Unless required by applicable law or agreed to in writing, software distributed under the License is distributed on an \"AS IS\" BASIS, WITHOUT WARRANTIES OR CONDITIONS OF ANY KIND, either express or implied. See the License for the specific language governing permissions and limitations under the License.\n",
    "___"
   ]
  }
 ],
 "metadata": {
  "kernelspec": {
   "display_name": "Python 3.9.7 ('base')",
   "language": "python",
   "name": "python3"
  },
  "language_info": {
   "codemirror_mode": {
    "name": "ipython",
    "version": 3
   },
   "file_extension": ".py",
   "mimetype": "text/x-python",
   "name": "python",
   "nbconvert_exporter": "python",
   "pygments_lexer": "ipython3",
   "version": "3.9.7"
  },
  "vscode": {
   "interpreter": {
    "hash": "f708a36acfaef0acf74ccd43dfb58100269bf08fb79032a1e0a6f35bd9856f51"
   }
  }
 },
 "nbformat": 4,
 "nbformat_minor": 4
}
