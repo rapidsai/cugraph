{
 "cells": [
  {
   "attachments": {},
   "cell_type": "markdown",
   "metadata": {},
   "source": [
    "# Force Atlas 2\n",
    "# Skip notebook test\n"
   ]
  },
  {
   "attachments": {},
   "cell_type": "markdown",
   "metadata": {},
   "source": [
    "In this notebook, we will see how large graph visualization can be achieved with cuGraph. "
   ]
  },
  {
   "attachments": {},
   "cell_type": "markdown",
   "metadata": {},
   "source": [
    "### This notebook will not currently run because there is a conflict between the version of CuPy required by cugraph (11.0) and the version supported in cuxfilter (7.8 to 10.0). Notebook will be updated when cuxfilter supports CuPy 11."
   ]
  },
  {
   "attachments": {},
   "cell_type": "markdown",
   "metadata": {},
   "source": [
    "# Introduction:\n",
    "\n",
    "\n",
    "Force Atlas 2 is a force directed layout algorithm where nodes behave as particules and edges as springs. An iterative process will compute attractive and repulsive forces between these entities to converge in an equilibrium state where the drawing is visually interpretable by the user.\n",
    "\n",
    "\n",
    "See https://journals.plos.org/plosone/article?id=10.1371/journal.pone.0098679 for more details.\n",
    "\n",
    "\n",
    "Please refer to the [documentation](https://docs.rapids.ai/api/cugraph/stable/api_docs/api/cugraph.force_atlas2.html)  on how to use the different parameters.\n"
   ]
  },
  {
   "cell_type": "code",
   "execution_count": 1,
   "metadata": {},
   "outputs": [],
   "source": [
    "# Import RAPIDS libraries\n",
    "import cugraph\n",
    "import time"
   ]
  },
  {
   "cell_type": "code",
   "execution_count": 2,
   "metadata": {},
   "outputs": [],
   "source": [
    "# Define the parameters \n",
    "ITERATIONS=500\n",
    "THETA=1.0\n",
    "OPTIMIZE=True"
   ]
  },
  {
   "cell_type": "code",
   "execution_count": 3,
   "metadata": {},
   "outputs": [],
   "source": [
    "# Import a built-in dataset\n",
    "from cugraph.datasets import netscience"
   ]
  },
  {
   "cell_type": "code",
   "execution_count": 4,
   "metadata": {},
   "outputs": [],
   "source": [
    "from dask.distributed import Client"
   ]
  },
  {
   "cell_type": "code",
   "execution_count": null,
   "metadata": {},
   "outputs": [
    {
     "name": "stdout",
     "output_type": "stream",
     "text": [
      "Visualization package is not available.\n"
     ]
    },
    {
     "ename": "NameError",
     "evalue": "name 'hv' is not defined",
     "output_type": "error",
     "traceback": [
      "\u001b[31m---------------------------------------------------------------------------\u001b[39m",
      "\u001b[31mNameError\u001b[39m                                 Traceback (most recent call last)",
      "\u001b[36mCell\u001b[39m\u001b[36m \u001b[39m\u001b[32mIn[6]\u001b[39m\u001b[32m, line 25\u001b[39m\n\u001b[32m     22\u001b[39m     OPTIMIZE=\u001b[38;5;28;01mTrue\u001b[39;00m\n\u001b[32m     24\u001b[39m client = Client()\n\u001b[32m---> \u001b[39m\u001b[32m25\u001b[39m \u001b[43mhv\u001b[49m.notebook_extension(\u001b[33m'\u001b[39m\u001b[33mbokeh\u001b[39m\u001b[33m'\u001b[39m,\u001b[33m'\u001b[39m\u001b[33mmatplotlib\u001b[39m\u001b[33m'\u001b[39m)\n\u001b[32m     26\u001b[39m decimate.max_samples=\u001b[32m20000\u001b[39m\n\u001b[32m     27\u001b[39m dynspread.threshold=\u001b[32m0.01\u001b[39m\n",
      "\u001b[31mNameError\u001b[39m: name 'hv' is not defined"
     ]
    }
   ],
   "source": [
    "# Setup Viz\n",
    "client = Client()\n",
    "hv.notebook_extension('bokeh','matplotlib')\n",
    "decimate.max_samples=20000\n",
    "dynspread.threshold=0.01\n",
    "datashade.cmap=fire[40:]\n",
    "sz = dict(width=150,height=150)\n",
    "%opts RGB [xaxis=None yaxis=None show_grid=False bgcolor=\"black\"]"
   ]
  },
  {
   "attachments": {},
   "cell_type": "markdown",
   "metadata": {},
   "source": [
    "# cuGraph"
   ]
  },
  {
   "cell_type": "code",
   "execution_count": null,
   "metadata": {},
   "outputs": [],
   "source": [
    "G = netscience.get_graph(download=True)\n",
    "G.number_of_nodes(), G.number_of_edges()"
   ]
  },
  {
   "attachments": {},
   "cell_type": "markdown",
   "metadata": {},
   "source": [
    "### Force Atlas 2 call"
   ]
  },
  {
   "cell_type": "code",
   "execution_count": null,
   "metadata": {},
   "outputs": [],
   "source": [
    "start = time.time()\n",
    "pos_gdf = cugraph.layout.force_atlas2(G,\n",
    "                                  max_iter=ITERATIONS,\n",
    "                                  pos_list=None,\n",
    "                                  outbound_attraction_distribution=True,\n",
    "                                  lin_log_mode=False,\n",
    "                                  edge_weight_influence=1.0,\n",
    "                                  jitter_tolerance=1.0,\n",
    "                                  barnes_hut_optimize=OPTIMIZE,\n",
    "                                  barnes_hut_theta=THETA,\n",
    "                                  scaling_ratio=2.0,\n",
    "                                  strong_gravity_mode=False,\n",
    "                                  gravity=1.0,\n",
    "                                  verbose=False,\n",
    "                                  callback=None)\n",
    "elapsed = time.time() - start\n",
    "print(\"Cugraph time : \" + str(elapsed))\n",
    "pos_gdf.head(5)"
   ]
  },
  {
   "cell_type": "markdown",
   "metadata": {},
   "source": [
    "## Visualize the graph\n",
    "\n",
    "The following section creates a visualization of the network using the locations generated by the Force Atlas algorithms.  However, the following section is dependent on having the **cuxfilter** package installed.  \n",
    "\n",
    "See the cuxfilter GitHub page for installation: https://github.com/rapidsai/cuxfilter.   \n",
    "\n",
    "Alternatively, the package comes installed in the RAPIDS development Docker container. \n",
    "See:  https://hub.docker.com/r/rapidsai/rapidsai-dev/ \n",
    "\n",
    "<hr>"
   ]
  },
  {
   "attachments": {},
   "cell_type": "markdown",
   "metadata": {},
   "source": [
    "Set up the visualization"
   ]
  },
  {
   "cell_type": "code",
   "execution_count": null,
   "metadata": {},
   "outputs": [],
   "source": [
    "import importlib.util\n",
    "cux_spec = importlib.util.find_spec(\"cuxfilter\")\n",
    "if cux_spec is None:\n",
    "    print(\"Visualization package is not available.\")\n",
    "else:\n",
    "    from cuxfilter.charts.datashader.custom_extensions.graph_assets import calc_connected_edges\n",
    "    # Viz libraries\n",
    "    import holoviews as hv\n",
    "\n",
    "    from colorcet import fire\n",
    "    from datashader.bundling import directly_connect_edges, hammer_bundle\n",
    "\n",
    "    from holoviews.operation.datashader import datashade, dynspread\n",
    "    from holoviews.operation import decimate\n",
    "\n",
    "    from dask.distributed import Client\n",
    "\n",
    "    # Define the parameters \n",
    "    ITERATIONS=500\n",
    "    THETA=1.0\n",
    "    OPTIMIZE=True\n",
    "\n",
    "    # Import a built-in dataset\n",
    "    from cugraph.datasets import netscience\n",
    "\n",
    "    # Setup Viz\n",
    "    hv.notebook_extension('bokeh','matplotlib')\n",
    "    decimate.max_samples=20000\n",
    "    dynspread.threshold=0.01\n",
    "    datashade.cmap=fire[40:]\n",
    "    sz = dict(width=150,height=150)\n",
    "    %opts RGB [xaxis=None yaxis=None show_grid=False bgcolor=\"black\"]\n",
    "\n",
    "    edges_gdf = netscience.get_edgelist()\n",
    "\n",
    "    connected = calc_connected_edges(pos_gdf,\n",
    "                                    edges_gdf,\n",
    "                                    node_x=\"x\",\n",
    "                                    node_y=\"y\",\n",
    "                                    node_x_dtype=\"float32\",\n",
    "                                    node_y_dtype=\"float32\",\n",
    "                                    node_id=\"vertex\",\n",
    "                                    edge_source=\"src\",\n",
    "                                    edge_target=\"dst\",\n",
    "                                    edge_aggregate_col=None,\n",
    "                                    edge_render_type=\"direct\",\n",
    "                                    )\n"
   ]
  },
  {
   "attachments": {},
   "cell_type": "markdown",
   "metadata": {},
   "source": [
    "### Output"
   ]
  },
  {
   "cell_type": "code",
   "execution_count": null,
   "metadata": {},
   "outputs": [],
   "source": []
  },
  {
   "cell_type": "code",
   "execution_count": null,
   "metadata": {},
   "outputs": [],
   "source": [
    "r_direct = None\n",
    "if cux_spec is not None:\n",
    "    %opts RGB [tools=[\"hover\"] width=800 height=800]\n",
    "    r_direct = hv.Curve(connected, label=\"Direct\")\n",
    "    \n",
    "r_direct"
   ]
  },
  {
   "attachments": {},
   "cell_type": "markdown",
   "metadata": {},
   "source": [
    "Copyright (c) 2020 - 2025, NVIDIA CORPORATION.\n",
    "\n",
    "Licensed under the Apache License, Version 2.0 (the \"License\"); you may not use this file except in compliance with the License. You may obtain a copy of the License at http://www.apache.org/licenses/LICENSE-2.0\n",
    "\n",
    "Unless required by applicable law or agreed to in writing, software distributed under the License is distributed on an \"AS IS\" BASIS, WITHOUT WARRANTIES OR CONDITIONS OF ANY KIND, either express or implied. See the License for the specific language governing permissions and limitations under the License."
   ]
  }
 ],
 "metadata": {
  "kernelspec": {
   "display_name": "nb_2510_0731",
   "language": "python",
   "name": "python3"
  },
  "language_info": {
   "codemirror_mode": {
    "name": "ipython",
    "version": 3
   },
   "file_extension": ".py",
   "mimetype": "text/x-python",
   "name": "python",
   "nbconvert_exporter": "python",
   "pygments_lexer": "ipython3",
   "version": "3.13.5"
  }
 },
 "nbformat": 4,
 "nbformat_minor": 4
}
