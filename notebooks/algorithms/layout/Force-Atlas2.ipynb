{
 "cells": [
  {
   "cell_type": "markdown",
   "metadata": {},
   "source": [
    "# Force Atlas 2\n",
    "# Skip notebook test\n"
   ]
  },
  {
   "cell_type": "markdown",
   "metadata": {},
   "source": [
    "**Author: Hugo Linsenmaier**\n",
    "    \n",
    "In this notebook, we will see how large graph visualization can be achieved with cuGraph. \n",
    "\n",
    "| Author Credit    |    Date    |  Update          | cuGraph Version |  Test Hardware |\n",
    "| -----------------|------------|------------------|-----------------|----------------|\n",
    "| Hugo Linsenmaier | 11/16/2020 | created          | 0.17            | GV100, CUDA 11.0\n",
    "| Brad Rees        | 01/11/2022 | tested / updated | 22.02 nightly   | RTX A6000 CUDA 11.5\n",
    "| Ralph Liu        | 06/22/2022 | updated/tested   | 22.08           | TV100, CUDA 11.5\n",
    "| Don Acosta       | 08/01/2022 | tested / updated | 22.08 nightly   | DGX Tesla A100 CUDA 11.5 "
   ]
  },
  {
   "cell_type": "markdown",
   "metadata": {},
   "source": [
    "### This notebook will not currently run because there is a conflict between the version of CuPy required by cugraph (11.0) and the version supported in cuxfilter (7.8 to 10.0). Notebook will be updated when cuxfilter supports CuPy 11."
   ]
  },
  {
   "cell_type": "markdown",
   "metadata": {},
   "source": [
    "# Introduction:\n",
    "\n",
    "\n",
    "Force Atlas 2 is a force directed layout algorithm where nodes behave as particules and edges as springs. An iterative process will compute attractive and repulsive forces between these entities to converge in an equilibrium state where the drawing is visually interpretable by the user.\n",
    "\n",
    "\n",
    "See https://journals.plos.org/plosone/article?id=10.1371/journal.pone.0098679 for more details.\n",
    "\n",
    "\n",
    "Please refer to the [documentation](https://docs.rapids.ai/api/cugraph/stable/api_docs/api/cugraph.force_atlas2.html)  on how to use the different parameters.\n",
    "\n",
    "This library has some additional dependencies that need to be installed prior to running:\n",
    "* Holoviews - provides "
   ]
  },
  {
   "cell_type": "code",
   "execution_count": 1,
   "metadata": {},
   "outputs": [],
   "source": [
    "# Import RAPIDS libraries\n",
    "import cudf\n",
    "import cugraph\n",
    "import time"
   ]
  },
  {
   "cell_type": "code",
   "execution_count": null,
   "metadata": {},
   "outputs": [],
   "source": [
    "# Viz libraries\n",
    "\n",
    "from cuxfilter.charts.datashader.custom_extensions.graph_assets import calc_connected_edges\n",
    "\n",
    "import holoviews as hv\n",
    "\n",
    "from colorcet import fire\n",
    "from datashader.bundling import directly_connect_edges, hammer_bundle\n",
    "\n",
    "from holoviews.operation.datashader import datashade, dynspread\n",
    "from holoviews.operation import decimate\n",
    "\n",
    "from dask.distributed import Client"
   ]
  },
  {
   "cell_type": "code",
   "execution_count": null,
   "metadata": {},
   "outputs": [],
   "source": [
    "# Define the parameters \n",
    "ITERATIONS=500\n",
    "THETA=1.0\n",
    "OPTIMIZE=True"
   ]
  },
  {
   "cell_type": "code",
   "execution_count": null,
   "metadata": {},
   "outputs": [],
   "source": [
    "# Import a built-in dataset\n",
    "from cugraph.experimental.datasets import netscience"
   ]
  },
  {
   "cell_type": "code",
   "execution_count": null,
   "metadata": {},
   "outputs": [],
   "source": [
    "# Setup Viz\n",
    "client = Client()\n",
    "hv.notebook_extension('bokeh','matplotlib')\n",
    "decimate.max_samples=20000\n",
    "dynspread.threshold=0.01\n",
    "datashade.cmap=fire[40:]\n",
    "sz = dict(width=150,height=150)\n",
    "%opts RGB [xaxis=None yaxis=None show_grid=False bgcolor=\"black\"]"
   ]
  },
  {
   "cell_type": "markdown",
   "metadata": {},
   "source": [
    "# cuGraph"
   ]
  },
  {
   "cell_type": "code",
   "execution_count": null,
   "metadata": {},
   "outputs": [],
   "source": [
    "G = netscience.get_graph()\n",
    "G.number_of_nodes(), G.number_of_edges()"
   ]
  },
  {
   "cell_type": "markdown",
   "metadata": {},
   "source": [
    "### Force Atlas 2 call"
   ]
  },
  {
   "cell_type": "code",
   "execution_count": null,
   "metadata": {},
   "outputs": [],
   "source": [
    "start = time.time()\n",
    "pos_gdf = cugraph.layout.force_atlas2(G,\n",
    "                                  max_iter=ITERATIONS,\n",
    "                                  pos_list=None,\n",
    "                                  outbound_attraction_distribution=True,\n",
    "                                  lin_log_mode=False,\n",
    "                                  edge_weight_influence=1.0,\n",
    "                                  jitter_tolerance=1.0,\n",
    "                                  barnes_hut_optimize=OPTIMIZE,\n",
    "                                  barnes_hut_theta=THETA,\n",
    "                                  scaling_ratio=2.0,\n",
    "                                  strong_gravity_mode=False,\n",
    "                                  gravity=1.0,\n",
    "                                  verbose=False,\n",
    "                                  callback=None)\n",
    "elapsed = time.time() - start\n",
    "print(\"Cugraph time : \" + str(elapsed))"
   ]
  },
  {
   "cell_type": "markdown",
   "metadata": {},
   "source": [
    "###  Convert a graph into paths suitable for datashading"
   ]
  },
  {
   "cell_type": "code",
   "execution_count": null,
   "metadata": {},
   "outputs": [],
   "source": [
    "edges_gdf = netscience.get_edgelist()\n",
    "\n",
    "connected = calc_connected_edges(pos_gdf,\n",
    "                                 edges_gdf,\n",
    "                                 node_x=\"x\",\n",
    "                                 node_y=\"y\",\n",
    "                                 node_x_dtype=\"float32\",\n",
    "                                 node_y_dtype=\"float32\",\n",
    "                                 node_id=\"vertex\",\n",
    "                                 edge_source=\"src\",\n",
    "                                 edge_target=\"dst\",\n",
    "                                 edge_aggregate_col=None,\n",
    "                                 edge_render_type=\"direct\",\n",
    "                                )"
   ]
  },
  {
   "cell_type": "markdown",
   "metadata": {},
   "source": [
    "### Output"
   ]
  },
  {
   "cell_type": "code",
   "execution_count": null,
   "metadata": {},
   "outputs": [],
   "source": [
    "%%opts RGB [tools=[\"hover\"] width=800 height=800]\n",
    "\n",
    "r_direct = hv.Curve(connected, label=\"Direct\")\n",
    "datashade(r_direct)"
   ]
  },
  {
   "cell_type": "markdown",
   "metadata": {},
   "source": [
    "Copyright (c) 2020 - 2022, NVIDIA CORPORATION.\n",
    "\n",
    "Licensed under the Apache License, Version 2.0 (the \"License\"); you may not use this file except in compliance with the License. You may obtain a copy of the License at http://www.apache.org/licenses/LICENSE-2.0\n",
    "\n",
    "Unless required by applicable law or agreed to in writing, software distributed under the License is distributed on an \"AS IS\" BASIS, WITHOUT WARRANTIES OR CONDITIONS OF ANY KIND, either express or implied. See the License for the specific language governing permissions and limitations under the License."
   ]
  }
 ],
 "metadata": {
  "kernelspec": {
   "display_name": "Python 3.9.13 ('cugraph_dev')",
   "language": "python",
   "name": "python3"
  },
  "language_info": {
   "codemirror_mode": {
    "name": "ipython",
    "version": 3
   },
   "file_extension": ".py",
   "mimetype": "text/x-python",
   "name": "python",
   "nbconvert_exporter": "python",
   "pygments_lexer": "ipython3",
   "version": "3.9.13"
  },
  "vscode": {
   "interpreter": {
    "hash": "cee8a395f2f0c5a5bcf513ae8b620111f4346eff6dc64e1ea99c951b2ec68604"
   }
  }
 },
 "nbformat": 4,
 "nbformat_minor": 4
}
