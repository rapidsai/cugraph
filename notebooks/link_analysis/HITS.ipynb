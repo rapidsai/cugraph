{
 "cells": [
  {
   "cell_type": "markdown",
   "metadata": {},
   "source": [
    "# HITS\n",
    "\n",
    "In this notebook, we will use both NetworkX and cuGraph to compute HITS.  \n",
    "The NetworkX and cuGraph processes will be interleaved so that each step can be compared.\n",
    "\n",
    "Notebook Credits\n",
    "* Original Authors: Bradley Rees and James Wyles\n",
    "* Created:   06/09/2020\n",
    "* Updated:   06/22/2022\n",
    "\n",
    "RAPIDS Versions: 0.15  \n",
    "\n",
    "Test Hardware\n",
    "\n",
    "* Tesla V100 32G, CUDA 11.5\n",
    "\n",
    "\n",
    "## Introduction\n",
    "HITS, also known as hubs and authorities, computes the relative importance of vertices.   \n",
    "\n",
    "See [Wikipedia](https://en.wikipedia.org/wiki/HITS_algorithm) for more details on the algorithm.\n",
    "\n",
    "HITS can be thought of as similar to PageRank, it is an iterative algorithm that propagates scores until a tolerance is reached, or max number of iterations is processed.  \n",
    "\n",
    "---\n",
    "From Wikepedia:\n",
    "\n",
    "The algorithm performs a series of iterations, each consisting of two basic steps:\n",
    "\n",
    "__Authority__ update: Update each node's authority score to be equal to the sum of the hub scores of each node that points to it. That is, a node is given a high authority score by being linked from pages that are recognized as Hubs for information.\n",
    "\n",
    "__Hub__ update: Update each node's hub score to be equal to the sum of the authority scores of each node that it points to. That is, a node is given a high hub score by linking to nodes that are considered to be authorities on the subject.\n",
    "\n",
    "---\n"
   ]
  },
  {
   "cell_type": "markdown",
   "metadata": {},
   "source": [
    "To compute the HITS scores for a graph in cuGraph we use:<br>\n",
    "\n",
    "**cugraph.hits(G,max_iter=100,\n",
    "         tol=1.0e-5,\n",
    "         nstart=None,\n",
    "         normalized=True)**\n",
    "* __G__: cugraph.Graph object\n",
    "* __max_iter__: int, The maximum number of iterations before an answer is returned. \n",
    "* __tol__: float, Set the tolerance the approximation, this parameter should be a small magnitude value. \n",
    "* __nstart__: cudf.DataFrame - Not currently supported\n",
    "* __normalized_ : bool - Not currently supported, always used as True\n",
    "\n",
    "Returns:\n",
    "* __df__: a cudf.DataFrame object with two columns:\n",
    "  * df['vertex'] : cudf.Series\n",
    "        Contains the vertex identifiers\n",
    "  * df['hubs'] : cudf.Series\n",
    "        Contains the hubs score\n",
    "  * df['authorities'] : cudf.Series\n",
    "        Contains the authorities score\n",
    "\n",
    "\n",
    "### Some notes about vertex IDs...\n",
    "* The current version of cuGraph requires that vertex IDs be representable as 32-bit integers, meaning graphs currently can contain at most 2^32 unique vertex IDs. However, this limitation is being actively addressed and a version of cuGraph that accommodates more than 2^32 vertices will be available in the near future.\n",
    "* cuGraph will automatically renumber graphs to an internal format consisting of a contiguous series of integers starting from 0, and convert back to the original IDs when returning data to the caller. If the vertex IDs of the data are already a contiguous series of integers starting from 0, the auto-renumbering step can be skipped for faster graph creation times.\n",
    "  * To skip auto-renumbering, set the `renumber` boolean arg to `False` when calling the appropriate graph creation API (eg. `G.from_cudf_edgelist(gdf_r, source='src', destination='dst', renumber=False)`).\n",
    "  * For more advanced renumbering support, see the examples in `structure/renumber.ipynb` and `structure/renumber-2.ipynb`\n"
   ]
  },
  {
   "cell_type": "markdown",
   "metadata": {},
   "source": [
    "### Test Data\n",
    "We will be using the Zachary Karate club dataset \n",
    "*W. W. Zachary, An information flow model for conflict and fission in small groups, Journal of\n",
    "Anthropological Research 33, 452-473 (1977).*\n",
    "\n",
    "\n",
    "![Karate Club](../img/zachary_black_lines.png)\n"
   ]
  },
  {
   "cell_type": "markdown",
   "metadata": {},
   "source": [
    "### Prep"
   ]
  },
  {
   "cell_type": "code",
   "execution_count": null,
   "metadata": {},
   "outputs": [],
   "source": [
    "# The notebook compares cuGraph to NetworkX,  \n",
    "# therefore there some additional non-RAPIDS python libraries need to be installed. \n",
    "# Please run this cell if you need the additional libraries\n",
    "!pip install networkx"
   ]
  },
  {
   "cell_type": "code",
   "execution_count": 1,
   "metadata": {},
   "outputs": [],
   "source": [
    "# Import needed libraries\n",
    "import cugraph\n",
    "import cudf"
   ]
  },
  {
   "cell_type": "code",
   "execution_count": 2,
   "metadata": {},
   "outputs": [],
   "source": [
    "# NetworkX libraries\n",
    "import networkx as nx"
   ]
  },
  {
   "cell_type": "markdown",
   "metadata": {},
   "source": [
    "### Some Prep"
   ]
  },
  {
   "cell_type": "code",
   "execution_count": 3,
   "metadata": {},
   "outputs": [],
   "source": [
    "# Import a built-in dataset\n",
    "from cugraph.experimental.datasets import karate"
   ]
  },
  {
   "cell_type": "markdown",
   "metadata": {},
   "source": [
    "---\n",
    "# NetworkX"
   ]
  },
  {
   "cell_type": "code",
   "execution_count": 4,
   "metadata": {},
   "outputs": [],
   "source": [
    "# Read the data, this also created a NetworkX Graph \n",
    "datafile = \"../data/karate-data.csv\"\n",
    "file = open(datafile, 'rb')\n",
    "Gnx = nx.read_edgelist(file)"
   ]
  },
  {
   "cell_type": "code",
   "execution_count": 5,
   "metadata": {},
   "outputs": [],
   "source": [
    "hits_nx = nx.hits(Gnx)"
   ]
  },
  {
   "cell_type": "code",
   "execution_count": 6,
   "metadata": {},
   "outputs": [
    {
     "data": {
      "text/plain": [
       "({'1': 0.07141272880825199,\n",
       "  '2': 0.05342723123553,\n",
       "  '3': 0.06371906455637479,\n",
       "  '4': 0.042422737124709,\n",
       "  '5': 0.015260959706207484,\n",
       "  '6': 0.015966913503059645,\n",
       "  '7': 0.01596691350305965,\n",
       "  '8': 0.03434316721905365,\n",
       "  '9': 0.0456819251197503,\n",
       "  '11': 0.015260959706207488,\n",
       "  '12': 0.010617891511071221,\n",
       "  '13': 0.016925450792306864,\n",
       "  '14': 0.045494864068056355,\n",
       "  '18': 0.018561637037432084,\n",
       "  '20': 0.02971333388643479,\n",
       "  '22': 0.018561637037432084,\n",
       "  '32': 0.03837574186295603,\n",
       "  '31': 0.035106237976714375,\n",
       "  '10': 0.020625667749388635,\n",
       "  '28': 0.026813494117104764,\n",
       "  '29': 0.026331505777953887,\n",
       "  '33': 0.06200184647383096,\n",
       "  '17': 0.004748031847301575,\n",
       "  '34': 0.07500294215657549,\n",
       "  '15': 0.020370345825614266,\n",
       "  '16': 0.020370345825614266,\n",
       "  '19': 0.020370345825614266,\n",
       "  '21': 0.020370345825614266,\n",
       "  '23': 0.020370345825614266,\n",
       "  '24': 0.03015649750935638,\n",
       "  '26': 0.011893664396281384,\n",
       "  '30': 0.027111539628217662,\n",
       "  '25': 0.011460952230971702,\n",
       "  '27': 0.015182734330338381},\n",
       " {'1': 0.07141272880825196,\n",
       "  '2': 0.05342723123552997,\n",
       "  '3': 0.06371906455637477,\n",
       "  '4': 0.04242273712470899,\n",
       "  '5': 0.015260959706207488,\n",
       "  '6': 0.01596691350305965,\n",
       "  '7': 0.01596691350305965,\n",
       "  '8': 0.03434316721905365,\n",
       "  '9': 0.0456819251197503,\n",
       "  '11': 0.015260959706207484,\n",
       "  '12': 0.010617891511071221,\n",
       "  '13': 0.01692545079230686,\n",
       "  '14': 0.04549486406805636,\n",
       "  '18': 0.018561637037432088,\n",
       "  '20': 0.0297133338864348,\n",
       "  '22': 0.018561637037432088,\n",
       "  '32': 0.038375741862956045,\n",
       "  '31': 0.03510623797671439,\n",
       "  '10': 0.020625667749388635,\n",
       "  '28': 0.026813494117104764,\n",
       "  '29': 0.026331505777953887,\n",
       "  '33': 0.06200184647383094,\n",
       "  '17': 0.0047480318473015785,\n",
       "  '34': 0.07500294215657544,\n",
       "  '15': 0.020370345825614276,\n",
       "  '16': 0.020370345825614276,\n",
       "  '19': 0.020370345825614276,\n",
       "  '21': 0.020370345825614276,\n",
       "  '23': 0.020370345825614276,\n",
       "  '24': 0.03015649750935639,\n",
       "  '26': 0.011893664396281381,\n",
       "  '30': 0.02711153962821767,\n",
       "  '25': 0.011460952230971695,\n",
       "  '27': 0.01518273433033838})"
      ]
     },
     "execution_count": 6,
     "metadata": {},
     "output_type": "execute_result"
    }
   ],
   "source": [
    "hits_nx"
   ]
  },
  {
   "cell_type": "markdown",
   "metadata": {},
   "source": [
    "Running NetworkX is that easy.  \n",
    "Let's see how that compares to cuGraph\n",
    "\n",
    "----"
   ]
  },
  {
   "cell_type": "markdown",
   "metadata": {},
   "source": [
    "# cuGraph"
   ]
  },
  {
   "cell_type": "markdown",
   "metadata": {},
   "source": [
    "### Create a Graph "
   ]
  },
  {
   "cell_type": "code",
   "execution_count": 7,
   "metadata": {},
   "outputs": [],
   "source": [
    "G = karate.get_graph()"
   ]
  },
  {
   "cell_type": "markdown",
   "metadata": {},
   "source": [
    "### Call the HITS algorithm"
   ]
  },
  {
   "cell_type": "code",
   "execution_count": 8,
   "metadata": {},
   "outputs": [],
   "source": [
    "# Call cugraph.hits to get the hits scores\n",
    "gdf_hits = cugraph.hits(G)"
   ]
  },
  {
   "cell_type": "markdown",
   "metadata": {},
   "source": [
    "_It was that easy!_  \n",
    "Compared to NetworkX, the cuGraph data loading might have been more steps, but using cuDF allows for a wider range of data to be loaded. \n",
    "\n",
    "\n",
    "----\n",
    "\n",
    "Let's now look at the results"
   ]
  },
  {
   "cell_type": "code",
   "execution_count": 9,
   "metadata": {},
   "outputs": [],
   "source": [
    "def print_hub_threshold(_df, t=0) :\n",
    "    filtered = _df.query('hubs >= @t')\n",
    "    \n",
    "    for i in range(len(filtered)):\n",
    "        print(\"Best vertex is \" + str(filtered['vertex'].iloc[i]) + \n",
    "            \" with HUB score of \" + str(filtered['hubs'].iloc[i]))  "
   ]
  },
  {
   "cell_type": "code",
   "execution_count": 10,
   "metadata": {},
   "outputs": [],
   "source": [
    "def print_authorities_threshold(_df, t=0) :\n",
    "    filtered = _df.query('authorities >= @t')\n",
    "    \n",
    "    for i in range(len(filtered)):\n",
    "        print(\"Best vertex is \" + str(filtered['vertex'].iloc[i]) + \n",
    "            \" with Authorities score of \" + str(filtered['authorities'].iloc[i]))  "
   ]
  },
  {
   "cell_type": "code",
   "execution_count": 11,
   "metadata": {},
   "outputs": [
    {
     "name": "stdout",
     "output_type": "stream",
     "text": [
      "Best vertex is 34 with HUB score of 0.07500292228699207\n"
     ]
    }
   ],
   "source": [
    "print_hub_threshold(gdf_hits, gdf_hits['hubs'].max())"
   ]
  },
  {
   "cell_type": "code",
   "execution_count": 12,
   "metadata": {},
   "outputs": [
    {
     "name": "stdout",
     "output_type": "stream",
     "text": [
      "Best vertex is 34 with Authorities score of 0.07500298081637535\n"
     ]
    }
   ],
   "source": [
    "print_authorities_threshold(gdf_hits, gdf_hits['authorities'].max())"
   ]
  },
  {
   "cell_type": "markdown",
   "metadata": {},
   "source": [
    "----\n",
    "\n",
    "Since this is a very small graph, let's just sort and get the first three records"
   ]
  },
  {
   "cell_type": "code",
   "execution_count": 13,
   "metadata": {},
   "outputs": [],
   "source": [
    "sort_a = gdf_hits.sort_values('authorities', ascending=False)"
   ]
  },
  {
   "cell_type": "code",
   "execution_count": 14,
   "metadata": {},
   "outputs": [
    {
     "data": {
      "text/html": [
       "<div>\n",
       "<style scoped>\n",
       "    .dataframe tbody tr th:only-of-type {\n",
       "        vertical-align: middle;\n",
       "    }\n",
       "\n",
       "    .dataframe tbody tr th {\n",
       "        vertical-align: top;\n",
       "    }\n",
       "\n",
       "    .dataframe thead th {\n",
       "        text-align: right;\n",
       "    }\n",
       "</style>\n",
       "<table border=\"1\" class=\"dataframe\">\n",
       "  <thead>\n",
       "    <tr style=\"text-align: right;\">\n",
       "      <th></th>\n",
       "      <th>hubs</th>\n",
       "      <th>authorities</th>\n",
       "      <th>vertex</th>\n",
       "    </tr>\n",
       "  </thead>\n",
       "  <tbody>\n",
       "    <tr>\n",
       "      <th>16</th>\n",
       "      <td>0.075003</td>\n",
       "      <td>0.075003</td>\n",
       "      <td>34</td>\n",
       "    </tr>\n",
       "    <tr>\n",
       "      <th>17</th>\n",
       "      <td>0.071413</td>\n",
       "      <td>0.071413</td>\n",
       "      <td>1</td>\n",
       "    </tr>\n",
       "    <tr>\n",
       "      <th>19</th>\n",
       "      <td>0.063719</td>\n",
       "      <td>0.063719</td>\n",
       "      <td>3</td>\n",
       "    </tr>\n",
       "  </tbody>\n",
       "</table>\n",
       "</div>"
      ],
      "text/plain": [
       "        hubs  authorities  vertex\n",
       "16  0.075003     0.075003      34\n",
       "17  0.071413     0.071413       1\n",
       "19  0.063719     0.063719       3"
      ]
     },
     "execution_count": 14,
     "metadata": {},
     "output_type": "execute_result"
    }
   ],
   "source": [
    "sort_a.head(3)"
   ]
  },
  {
   "cell_type": "markdown",
   "metadata": {},
   "source": [
    "<img src=\"../img/zachary_graph_hits.png\" width=\"600\">"
   ]
  },
  {
   "cell_type": "code",
   "execution_count": 15,
   "metadata": {},
   "outputs": [],
   "source": [
    "sort_h = gdf_hits.sort_values('hubs', ascending=False)"
   ]
  },
  {
   "cell_type": "code",
   "execution_count": 16,
   "metadata": {},
   "outputs": [
    {
     "data": {
      "text/html": [
       "<div>\n",
       "<style scoped>\n",
       "    .dataframe tbody tr th:only-of-type {\n",
       "        vertical-align: middle;\n",
       "    }\n",
       "\n",
       "    .dataframe tbody tr th {\n",
       "        vertical-align: top;\n",
       "    }\n",
       "\n",
       "    .dataframe thead th {\n",
       "        text-align: right;\n",
       "    }\n",
       "</style>\n",
       "<table border=\"1\" class=\"dataframe\">\n",
       "  <thead>\n",
       "    <tr style=\"text-align: right;\">\n",
       "      <th></th>\n",
       "      <th>hubs</th>\n",
       "      <th>authorities</th>\n",
       "      <th>vertex</th>\n",
       "    </tr>\n",
       "  </thead>\n",
       "  <tbody>\n",
       "    <tr>\n",
       "      <th>16</th>\n",
       "      <td>0.075003</td>\n",
       "      <td>0.075003</td>\n",
       "      <td>34</td>\n",
       "    </tr>\n",
       "    <tr>\n",
       "      <th>17</th>\n",
       "      <td>0.071413</td>\n",
       "      <td>0.071413</td>\n",
       "      <td>1</td>\n",
       "    </tr>\n",
       "    <tr>\n",
       "      <th>19</th>\n",
       "      <td>0.063719</td>\n",
       "      <td>0.063719</td>\n",
       "      <td>3</td>\n",
       "    </tr>\n",
       "    <tr>\n",
       "      <th>18</th>\n",
       "      <td>0.062002</td>\n",
       "      <td>0.062002</td>\n",
       "      <td>33</td>\n",
       "    </tr>\n",
       "    <tr>\n",
       "      <th>20</th>\n",
       "      <td>0.053427</td>\n",
       "      <td>0.053427</td>\n",
       "      <td>2</td>\n",
       "    </tr>\n",
       "    <tr>\n",
       "      <th>23</th>\n",
       "      <td>0.045682</td>\n",
       "      <td>0.045682</td>\n",
       "      <td>9</td>\n",
       "    </tr>\n",
       "    <tr>\n",
       "      <th>24</th>\n",
       "      <td>0.045495</td>\n",
       "      <td>0.045495</td>\n",
       "      <td>14</td>\n",
       "    </tr>\n",
       "    <tr>\n",
       "      <th>21</th>\n",
       "      <td>0.042423</td>\n",
       "      <td>0.042423</td>\n",
       "      <td>4</td>\n",
       "    </tr>\n",
       "    <tr>\n",
       "      <th>22</th>\n",
       "      <td>0.038376</td>\n",
       "      <td>0.038376</td>\n",
       "      <td>32</td>\n",
       "    </tr>\n",
       "    <tr>\n",
       "      <th>30</th>\n",
       "      <td>0.035106</td>\n",
       "      <td>0.035106</td>\n",
       "      <td>31</td>\n",
       "    </tr>\n",
       "    <tr>\n",
       "      <th>28</th>\n",
       "      <td>0.034343</td>\n",
       "      <td>0.034343</td>\n",
       "      <td>8</td>\n",
       "    </tr>\n",
       "    <tr>\n",
       "      <th>25</th>\n",
       "      <td>0.030157</td>\n",
       "      <td>0.030156</td>\n",
       "      <td>24</td>\n",
       "    </tr>\n",
       "    <tr>\n",
       "      <th>2</th>\n",
       "      <td>0.029713</td>\n",
       "      <td>0.029713</td>\n",
       "      <td>20</td>\n",
       "    </tr>\n",
       "    <tr>\n",
       "      <th>29</th>\n",
       "      <td>0.027112</td>\n",
       "      <td>0.027112</td>\n",
       "      <td>30</td>\n",
       "    </tr>\n",
       "    <tr>\n",
       "      <th>31</th>\n",
       "      <td>0.026813</td>\n",
       "      <td>0.026813</td>\n",
       "      <td>28</td>\n",
       "    </tr>\n",
       "    <tr>\n",
       "      <th>5</th>\n",
       "      <td>0.026332</td>\n",
       "      <td>0.026332</td>\n",
       "      <td>29</td>\n",
       "    </tr>\n",
       "    <tr>\n",
       "      <th>6</th>\n",
       "      <td>0.020626</td>\n",
       "      <td>0.020626</td>\n",
       "      <td>10</td>\n",
       "    </tr>\n",
       "    <tr>\n",
       "      <th>8</th>\n",
       "      <td>0.020370</td>\n",
       "      <td>0.020370</td>\n",
       "      <td>15</td>\n",
       "    </tr>\n",
       "    <tr>\n",
       "      <th>9</th>\n",
       "      <td>0.020370</td>\n",
       "      <td>0.020370</td>\n",
       "      <td>16</td>\n",
       "    </tr>\n",
       "    <tr>\n",
       "      <th>12</th>\n",
       "      <td>0.020370</td>\n",
       "      <td>0.020370</td>\n",
       "      <td>19</td>\n",
       "    </tr>\n",
       "    <tr>\n",
       "      <th>13</th>\n",
       "      <td>0.020370</td>\n",
       "      <td>0.020370</td>\n",
       "      <td>21</td>\n",
       "    </tr>\n",
       "    <tr>\n",
       "      <th>15</th>\n",
       "      <td>0.020370</td>\n",
       "      <td>0.020370</td>\n",
       "      <td>23</td>\n",
       "    </tr>\n",
       "    <tr>\n",
       "      <th>11</th>\n",
       "      <td>0.018562</td>\n",
       "      <td>0.018562</td>\n",
       "      <td>18</td>\n",
       "    </tr>\n",
       "    <tr>\n",
       "      <th>14</th>\n",
       "      <td>0.018562</td>\n",
       "      <td>0.018562</td>\n",
       "      <td>22</td>\n",
       "    </tr>\n",
       "    <tr>\n",
       "      <th>7</th>\n",
       "      <td>0.016925</td>\n",
       "      <td>0.016925</td>\n",
       "      <td>13</td>\n",
       "    </tr>\n",
       "    <tr>\n",
       "      <th>26</th>\n",
       "      <td>0.015967</td>\n",
       "      <td>0.015967</td>\n",
       "      <td>6</td>\n",
       "    </tr>\n",
       "    <tr>\n",
       "      <th>27</th>\n",
       "      <td>0.015967</td>\n",
       "      <td>0.015967</td>\n",
       "      <td>7</td>\n",
       "    </tr>\n",
       "    <tr>\n",
       "      <th>0</th>\n",
       "      <td>0.015261</td>\n",
       "      <td>0.015261</td>\n",
       "      <td>5</td>\n",
       "    </tr>\n",
       "    <tr>\n",
       "      <th>1</th>\n",
       "      <td>0.015261</td>\n",
       "      <td>0.015261</td>\n",
       "      <td>11</td>\n",
       "    </tr>\n",
       "    <tr>\n",
       "      <th>32</th>\n",
       "      <td>0.015183</td>\n",
       "      <td>0.015183</td>\n",
       "      <td>27</td>\n",
       "    </tr>\n",
       "    <tr>\n",
       "      <th>4</th>\n",
       "      <td>0.011894</td>\n",
       "      <td>0.011894</td>\n",
       "      <td>26</td>\n",
       "    </tr>\n",
       "    <tr>\n",
       "      <th>3</th>\n",
       "      <td>0.011461</td>\n",
       "      <td>0.011461</td>\n",
       "      <td>25</td>\n",
       "    </tr>\n",
       "  </tbody>\n",
       "</table>\n",
       "</div>"
      ],
      "text/plain": [
       "        hubs  authorities  vertex\n",
       "16  0.075003     0.075003      34\n",
       "17  0.071413     0.071413       1\n",
       "19  0.063719     0.063719       3\n",
       "18  0.062002     0.062002      33\n",
       "20  0.053427     0.053427       2\n",
       "23  0.045682     0.045682       9\n",
       "24  0.045495     0.045495      14\n",
       "21  0.042423     0.042423       4\n",
       "22  0.038376     0.038376      32\n",
       "30  0.035106     0.035106      31\n",
       "28  0.034343     0.034343       8\n",
       "25  0.030157     0.030156      24\n",
       "2   0.029713     0.029713      20\n",
       "29  0.027112     0.027112      30\n",
       "31  0.026813     0.026813      28\n",
       "5   0.026332     0.026332      29\n",
       "6   0.020626     0.020626      10\n",
       "8   0.020370     0.020370      15\n",
       "9   0.020370     0.020370      16\n",
       "12  0.020370     0.020370      19\n",
       "13  0.020370     0.020370      21\n",
       "15  0.020370     0.020370      23\n",
       "11  0.018562     0.018562      18\n",
       "14  0.018562     0.018562      22\n",
       "7   0.016925     0.016925      13\n",
       "26  0.015967     0.015967       6\n",
       "27  0.015967     0.015967       7\n",
       "0   0.015261     0.015261       5\n",
       "1   0.015261     0.015261      11\n",
       "32  0.015183     0.015183      27\n",
       "4   0.011894     0.011894      26\n",
       "3   0.011461     0.011461      25"
      ]
     },
     "execution_count": 16,
     "metadata": {},
     "output_type": "execute_result"
    }
   ],
   "source": [
    "sort_h.head(32)"
   ]
  },
  {
   "cell_type": "markdown",
   "metadata": {},
   "source": [
    "___\n",
    "Copyright (c) 2019-2020, NVIDIA CORPORATION.\n",
    "\n",
    "Licensed under the Apache License, Version 2.0 (the \"License\");  you may not use this file except in compliance with the License. You may obtain a copy of the License at http://www.apache.org/licenses/LICENSE-2.0\n",
    "\n",
    "Unless required by applicable law or agreed to in writing, software distributed under the License is distributed on an \"AS IS\" BASIS, WITHOUT WARRANTIES OR CONDITIONS OF ANY KIND, either express or implied. See the License for the specific language governing permissions and limitations under the License.\n",
    "___"
   ]
  }
 ],
 "metadata": {
  "kernelspec": {
   "display_name": "Python 3.9.7 ('base')",
   "language": "python",
   "name": "python3"
  },
  "language_info": {
   "codemirror_mode": {
    "name": "ipython",
    "version": 3
   },
   "file_extension": ".py",
   "mimetype": "text/x-python",
   "name": "python",
   "nbconvert_exporter": "python",
   "pygments_lexer": "ipython3",
   "version": "3.9.7"
  },
  "vscode": {
   "interpreter": {
    "hash": "f708a36acfaef0acf74ccd43dfb58100269bf08fb79032a1e0a6f35bd9856f51"
   }
  }
 },
 "nbformat": 4,
 "nbformat_minor": 4
}
