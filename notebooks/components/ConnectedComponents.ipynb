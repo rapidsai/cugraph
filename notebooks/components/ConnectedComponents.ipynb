{
 "cells": [
  {
   "cell_type": "markdown",
   "metadata": {},
   "source": [
    "# Connected Components\n",
    "\n",
    "In this notebook, we will use cuGraph to compute weakly and strongly connected components of a graph and display some useful information about the resulting components.\n",
    "\n",
    "_Weakly connected component_ (WCC) is often a necessary pre-processing step for many graph algorithms. A dataset may contact several disconnected (sub-) graphs.  Quite often, running a graph algorithm only on one component of a disconnected graph can lead to bugs which are not easy to trace.\n",
    "\n",
    "_Strongly connected components_ (SCC) is used in the early stages of graph analysis to get an idea of a graph's structure.\n",
    "\n",
    "\n",
    "\n",
    "_Notebook Credits_\n",
    "\n",
    "| Author Credit |    Date    |  Update          | cuGraph Version |  Test Hardware     |\n",
    "| --------------|------------|------------------|-----------------|--------------------|\n",
    "| Kumar Aatish  | 08/13/2019 | created          | 0.15            | GV100, CUDA 10.2   |\n",
    "| Brad Rees     | 10/18/2021 | updated          | 21.12 nightly   | GV100, CUDA 11.4   |\n",
    "| Ralph Liu     | 06/22/2022 | updated/tested   | 22.08           | TV100, CUDA 11.5   |\n",
    "\n",
    "\n",
    "\n",
    "\n",
    "## Introduction\n",
    "\n",
    "### Weakly Connected Components\n",
    "To compute WCC for a graph in cuGraph we use:\n",
    "\n",
    "**cugraph.weakly_connected_components(G)**\n",
    "\n",
    "   Generate the weakly connected components and attach a component label to each vertex.\n",
    "\n",
    "    Parameters\n",
    "    ----------\n",
    "    G : cugraph.Graph\n",
    "        cuGraph graph descriptor, should contain the connectivity information\n",
    "        as an edge list (edge weights are not used for this algorithm).\n",
    "        Currently, the graph should be undirected where an undirected edge is\n",
    "        represented by a directed edge in both directions. The adjacency list\n",
    "        will be computed if not already present. The number of vertices should\n",
    "        fit into a 32b int.\n",
    "\n",
    "    Returns\n",
    "    -------\n",
    "    df : cudf.DataFrame\n",
    "      df['labels'][i] gives the label id of the i'th vertex\n",
    "      df['vertex'][i] gives the vertex id of the i'th vertex\n",
    "\n",
    "\n",
    "\n",
    "\n",
    "### Strongly Connected Components\n",
    "To compute SCC for a graph in cuGraph we use:\n",
    "\n",
    "**cugraph.strongly_connected_components(G)**\n",
    "\n",
    "\n",
    "    Generate the stronlgly connected components and attach a component label to each vertex.\n",
    "\n",
    "    Parameters\n",
    "    ----------\n",
    "    G : cugraph.Graph\n",
    "      cuGraph graph descriptor, should contain the connectivity information as\n",
    "      an edge list (edge weights are not used for this algorithm). The graph\n",
    "      can be either directed or undirected where an undirected edge is\n",
    "      represented by a directed edge in both directions.\n",
    "      The adjacency list will be computed if not already present.\n",
    "      The number of vertices should fit into a 32b int.\n",
    "\n",
    "    Returns\n",
    "    -------\n",
    "    df : cudf.DataFrame\n",
    "      df['labels'][i] gives the label id of the i'th vertex\n",
    "      df['vertex'][i] gives the vertex id of the i'th vertex\n",
    "\n",
    "\n",
    "\n",
    "\n",
    "\n"
   ]
  },
  {
   "cell_type": "markdown",
   "metadata": {},
   "source": [
    "### Some notes about vertex IDs...\n",
    "* The current version of cuGraph requires that vertex IDs be representable as 32-bit integers, meaning graphs currently can contain at most 2^32 unique vertex IDs. However, this limitation is being actively addressed and a version of cuGraph that accommodates more than 2^32 vertices will be available in the near future.\n",
    "* cuGraph will automatically renumber graphs to an internal format consisting of a contiguous series of integers starting from 0, and convert back to the original IDs when returning data to the caller. If the vertex IDs of the data are already a contiguous series of integers starting from 0, the auto-renumbering step can be skipped for faster graph creation times.\n",
    "  * To skip auto-renumbering, set the `renumber` boolean arg to `False` when calling the appropriate graph creation API (eg. `G.from_cudf_edgelist(gdf_r, source='src', destination='dst', renumber=False)`).\n",
    "  * For more advanced renumbering support, see the examples in `structure/renumber.ipynb` and `structure/renumber-2.ipynb`\n"
   ]
  },
  {
   "cell_type": "markdown",
   "metadata": {},
   "source": [
    "### Test Data\n",
    "We will be using the Netscience dataset :  \n",
    "*M. E. J. Newman, Finding community structure in networks using the eigenvectors of matrices, Preprint physics/0605087 (2006)*\n",
    "\n",
    "The graph netscience contains a coauthorship network of scientists working on network theory and experiment. The version given here contains all components of the network, for a total of 1589 scientists, with the the largest component of 379 scientists.\n",
    "\n",
    "Netscience Adjacency Matrix               |NetScience Strongly Connected Components\n",
    ":---------------------------------------------|------------------------------------------------------------:\n",
    "![](../img/netscience.png \"Credit : https://www.cise.ufl.edu/research/sparse/matrices/Newman/netscience\") | ![](../img/netscience_scc.png \"Credit : https://www.cise.ufl.edu/research/sparse/matrices/Newman/netscience\")\n",
    "  \n",
    "Matrix plots above by Yifan Hu, AT&T Labs Visualization Group."
   ]
  },
  {
   "cell_type": "code",
   "execution_count": 1,
   "metadata": {},
   "outputs": [],
   "source": [
    "# Import needed libraries\n",
    "import cugraph\n",
    "import cudf\n",
    "import numpy as np"
   ]
  },
  {
   "cell_type": "markdown",
   "metadata": {},
   "source": [
    "### 1. Import a Built-In Dataset"
   ]
  },
  {
   "cell_type": "code",
   "execution_count": 2,
   "metadata": {},
   "outputs": [],
   "source": [
    "from cugraph.experimental.datasets import netscience"
   ]
  },
  {
   "cell_type": "markdown",
   "metadata": {},
   "source": [
    "### 2. Create a Graph from an edge list"
   ]
  },
  {
   "cell_type": "code",
   "execution_count": 3,
   "metadata": {},
   "outputs": [],
   "source": [
    "G = netscience.get_graph()"
   ]
  },
  {
   "cell_type": "markdown",
   "metadata": {},
   "source": [
    "### 3a. Call Weakly Connected Components"
   ]
  },
  {
   "cell_type": "code",
   "execution_count": 4,
   "metadata": {},
   "outputs": [
    {
     "data": {
      "text/html": [
       "<div>\n",
       "<style scoped>\n",
       "    .dataframe tbody tr th:only-of-type {\n",
       "        vertical-align: middle;\n",
       "    }\n",
       "\n",
       "    .dataframe tbody tr th {\n",
       "        vertical-align: top;\n",
       "    }\n",
       "\n",
       "    .dataframe thead th {\n",
       "        text-align: right;\n",
       "    }\n",
       "</style>\n",
       "<table border=\"1\" class=\"dataframe\">\n",
       "  <thead>\n",
       "    <tr style=\"text-align: right;\">\n",
       "      <th></th>\n",
       "      <th>labels</th>\n",
       "      <th>vertex</th>\n",
       "    </tr>\n",
       "  </thead>\n",
       "  <tbody>\n",
       "    <tr>\n",
       "      <th>0</th>\n",
       "      <td>1232</td>\n",
       "      <td>529</td>\n",
       "    </tr>\n",
       "    <tr>\n",
       "      <th>1</th>\n",
       "      <td>1233</td>\n",
       "      <td>534</td>\n",
       "    </tr>\n",
       "    <tr>\n",
       "      <th>2</th>\n",
       "      <td>1233</td>\n",
       "      <td>535</td>\n",
       "    </tr>\n",
       "    <tr>\n",
       "      <th>3</th>\n",
       "      <td>1235</td>\n",
       "      <td>544</td>\n",
       "    </tr>\n",
       "    <tr>\n",
       "      <th>4</th>\n",
       "      <td>1235</td>\n",
       "      <td>545</td>\n",
       "    </tr>\n",
       "  </tbody>\n",
       "</table>\n",
       "</div>"
      ],
      "text/plain": [
       "   labels  vertex\n",
       "0    1232     529\n",
       "1    1233     534\n",
       "2    1233     535\n",
       "3    1235     544\n",
       "4    1235     545"
      ]
     },
     "execution_count": 4,
     "metadata": {},
     "output_type": "execute_result"
    }
   ],
   "source": [
    "# Call cugraph.weakly_connected_components on the dataframe\n",
    "df = cugraph.weakly_connected_components(G)\n",
    "df.head(5)"
   ]
  },
  {
   "cell_type": "markdown",
   "metadata": {},
   "source": [
    "#### Get total number of weakly connected components"
   ]
  },
  {
   "cell_type": "code",
   "execution_count": 5,
   "metadata": {},
   "outputs": [
    {
     "name": "stdout",
     "output_type": "stream",
     "text": [
      "Total number of components found :  268\n"
     ]
    }
   ],
   "source": [
    "# Use groupby on the 'labels' column of the WCC output to get the counts of each connected component label\n",
    "label_gby = df.groupby('labels')\n",
    "label_count = label_gby.count()\n",
    "\n",
    "print(\"Total number of components found : \", len(label_count))"
   ]
  },
  {
   "cell_type": "markdown",
   "metadata": {},
   "source": [
    "#### Output the sizes of the top 10 largest weakly connected component"
   ]
  },
  {
   "cell_type": "code",
   "execution_count": 6,
   "metadata": {},
   "outputs": [
    {
     "name": "stdout",
     "output_type": "stream",
     "text": [
      "Size of the top 10 largest components are: \n",
      "        vertex\n",
      "labels        \n",
      "1126       379\n",
      "785         57\n",
      "112         31\n",
      "349         28\n",
      "26          21\n",
      "384         14\n",
      "489         14\n",
      "651         13\n",
      "580         12\n",
      "106         11\n"
     ]
    }
   ],
   "source": [
    "# Call nlargest on the groupby result to get the row where the component count is the largest\n",
    "# NOTE: this will change the value of \"vertex\" to be the count and \"labels\" to be an index\n",
    "largest_component = label_count.nlargest(n = 10, columns = 'vertex')\n",
    "\n",
    "print(\"Size of the top 10 largest components are: \")\n",
    "print(largest_component)"
   ]
  },
  {
   "cell_type": "markdown",
   "metadata": {},
   "source": [
    "#### Output vertex ids belonging to a weakly connected component label"
   ]
  },
  {
   "cell_type": "code",
   "execution_count": 7,
   "metadata": {},
   "outputs": [
    {
     "name": "stdout",
     "output_type": "stream",
     "text": [
      "Vertex Ids that belong to component label 106 : \n",
      "     labels  vertex\n",
      "31      106    1412\n",
      "114     106    1060\n",
      "732     106    1061\n",
      "733     106    1062\n",
      "734     106    1063\n",
      "735     106    1064\n",
      "736     106    1065\n",
      "737     106    1066\n",
      "738     106    1067\n",
      "739     106    1068\n",
      "740     106    1069\n"
     ]
    }
   ],
   "source": [
    "# Query the connected component output to display vertex ids that belong to a component of interest\n",
    "# picking label 106 from above to reduce amount of data printed\n",
    "\n",
    "expr = \"labels == 106\"\n",
    "component = df.query(expr)\n",
    "\n",
    "print(\"Vertex Ids that belong to component label 106 : \")\n",
    "print(component)"
   ]
  },
  {
   "cell_type": "markdown",
   "metadata": {},
   "source": [
    "### 3b. Call Strongly Connected Components"
   ]
  },
  {
   "cell_type": "code",
   "execution_count": 8,
   "metadata": {},
   "outputs": [
    {
     "data": {
      "text/html": [
       "<div>\n",
       "<style scoped>\n",
       "    .dataframe tbody tr th:only-of-type {\n",
       "        vertical-align: middle;\n",
       "    }\n",
       "\n",
       "    .dataframe tbody tr th {\n",
       "        vertical-align: top;\n",
       "    }\n",
       "\n",
       "    .dataframe thead th {\n",
       "        text-align: right;\n",
       "    }\n",
       "</style>\n",
       "<table border=\"1\" class=\"dataframe\">\n",
       "  <thead>\n",
       "    <tr style=\"text-align: right;\">\n",
       "      <th></th>\n",
       "      <th>labels</th>\n",
       "      <th>vertex</th>\n",
       "    </tr>\n",
       "  </thead>\n",
       "  <tbody>\n",
       "    <tr>\n",
       "      <th>0</th>\n",
       "      <td>0</td>\n",
       "      <td>1341</td>\n",
       "    </tr>\n",
       "    <tr>\n",
       "      <th>1</th>\n",
       "      <td>743</td>\n",
       "      <td>1345</td>\n",
       "    </tr>\n",
       "    <tr>\n",
       "      <th>2</th>\n",
       "      <td>676</td>\n",
       "      <td>1346</td>\n",
       "    </tr>\n",
       "    <tr>\n",
       "      <th>3</th>\n",
       "      <td>1411</td>\n",
       "      <td>1354</td>\n",
       "    </tr>\n",
       "    <tr>\n",
       "      <th>4</th>\n",
       "      <td>1411</td>\n",
       "      <td>1355</td>\n",
       "    </tr>\n",
       "  </tbody>\n",
       "</table>\n",
       "</div>"
      ],
      "text/plain": [
       "   labels  vertex\n",
       "0       0    1341\n",
       "1     743    1345\n",
       "2     676    1346\n",
       "3    1411    1354\n",
       "4    1411    1355"
      ]
     },
     "execution_count": 8,
     "metadata": {},
     "output_type": "execute_result"
    }
   ],
   "source": [
    "# Call cugraph.strongly_connected_components on the dataframe\n",
    "df = cugraph.strongly_connected_components(G)\n",
    "df.head(5)"
   ]
  },
  {
   "cell_type": "markdown",
   "metadata": {},
   "source": [
    "#### Get total number of strongly connected components"
   ]
  },
  {
   "cell_type": "code",
   "execution_count": 9,
   "metadata": {},
   "outputs": [
    {
     "name": "stdout",
     "output_type": "stream",
     "text": [
      "Total number of components found :  268\n"
     ]
    }
   ],
   "source": [
    "# Use groupby on the 'labels' column of the SCC output to get the counts of each connected component label\n",
    "label_gby = df.groupby('labels')\n",
    "label_count = label_gby.count()\n",
    "print(\"Total number of components found : \", len(label_count))"
   ]
  },
  {
   "cell_type": "markdown",
   "metadata": {},
   "source": [
    "#### Get the top 10 largest strongly connected component"
   ]
  },
  {
   "cell_type": "code",
   "execution_count": 10,
   "metadata": {},
   "outputs": [
    {
     "name": "stdout",
     "output_type": "stream",
     "text": [
      "Size of the top 10 largest components are: \n",
      "        vertex\n",
      "labels        \n",
      "0          379\n",
      "4           57\n",
      "8           31\n",
      "30          28\n",
      "5           21\n",
      "87          14\n",
      "167         14\n",
      "55          13\n",
      "254         12\n",
      "66          11\n"
     ]
    }
   ],
   "source": [
    "# Call nlargest on the groupby result to get the row where the component count is the largest\n",
    "largest_component = label_count.nlargest(n = 10, columns = 'vertex')\n",
    "\n",
    "print(\"Size of the top 10 largest components are: \")\n",
    "print(largest_component)"
   ]
  },
  {
   "cell_type": "markdown",
   "metadata": {},
   "source": [
    "#### Output vertex ids belonging to a strongly connected component label"
   ]
  },
  {
   "cell_type": "code",
   "execution_count": 11,
   "metadata": {
    "scrolled": true
   },
   "outputs": [
    {
     "name": "stdout",
     "output_type": "stream",
     "text": [
      "Vertex Ids that belong to component label 66 : \n",
      "     labels  vertex\n",
      "15       66    1412\n",
      "130      66    1060\n",
      "716      66    1061\n",
      "717      66    1062\n",
      "718      66    1063\n",
      "719      66    1064\n",
      "720      66    1065\n",
      "721      66    1066\n",
      "722      66    1067\n",
      "723      66    1068\n",
      "724      66    1069\n"
     ]
    }
   ],
   "source": [
    "# Query the connected component output to display vertex ids that belong to a component of interest\n",
    "expr = \"labels == 66\"\n",
    "component = df.query(expr)\n",
    "\n",
    "print(\"Vertex Ids that belong to component label 66 : \")\n",
    "print(component)"
   ]
  },
  {
   "cell_type": "markdown",
   "metadata": {},
   "source": [
    "### Conclusion\n",
    "\n",
    "The number of components found by **cugraph.weakly_connected_components(G)** and **cugraph.strongly_connected_components(G)** are equal to the results from  M. E. J. Newman,\n",
    "Phys. Rev. E 64, 016132 (2001)."
   ]
  },
  {
   "cell_type": "markdown",
   "metadata": {},
   "source": [
    "___\n",
    "Copyright (c) 2019-2020, NVIDIA CORPORATION.\n",
    "\n",
    "Licensed under the Apache License, Version 2.0 (the \"License\");  you may not use this file except in compliance with the License. You may obtain a copy of the License at http://www.apache.org/licenses/LICENSE-2.0\n",
    "\n",
    "Unless required by applicable law or agreed to in writing, software distributed under the License is distributed on an \"AS IS\" BASIS, WITHOUT WARRANTIES OR CONDITIONS OF ANY KIND, either express or implied. See the License for the specific language governing permissions and limitations under the License.\n",
    "___"
   ]
  }
 ],
 "metadata": {
  "kernelspec": {
   "display_name": "Python 3.9.7 ('base')",
   "language": "python",
   "name": "python3"
  },
  "language_info": {
   "codemirror_mode": {
    "name": "ipython",
    "version": 3
   },
   "file_extension": ".py",
   "mimetype": "text/x-python",
   "name": "python",
   "nbconvert_exporter": "python",
   "pygments_lexer": "ipython3",
   "version": "3.9.7"
  },
  "vscode": {
   "interpreter": {
    "hash": "f708a36acfaef0acf74ccd43dfb58100269bf08fb79032a1e0a6f35bd9856f51"
   }
  }
 },
 "nbformat": 4,
 "nbformat_minor": 4
}
