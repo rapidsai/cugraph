{
 "cells": [
  {
   "cell_type": "markdown",
   "metadata": {},
   "source": [
    "# Louvain and Leiden Community Detection\n",
    "\n",
    "\n",
    "In this notebook, we will use cuGraph to identify the cluster in a test graph using both the Louvain and Leiden algorithms  \n",
    "\n",
    "| Author Credit |    Date    |  Update          | cuGraph Version |  Test Hardware        |\n",
    "| --------------|------------|------------------|-----------------|-----------------------|\n",
    "| Brad Rees     | 08/01/2019 | created          | 0.6             |                       |\n",
    "|               | 08/16/2020 | updated          | 0.14            | GV100, CUDA 10.2      |\n",
    "|               | 08/05/2021 | tested / updated | 21.10 nightly   | RTX 3090 CUDA 11.4    |\n",
    "\n",
    "\n",
    "RAPIDS release 21.06 does not support Pascal, release 21.08 solved the issue and Pascal is supported again \n",
    "\n",
    "\n",
    "\n",
    "## Louvain Introduction\n",
    "\n",
    "The Louvain method of community detection is a greedy hierarchical clustering algorithm which seeks to optimize Modularity as it progresses. Louvain starts with each vertex in its own clusters and iteratively merges groups using graph contraction.  \n",
    "\n",
    "For a detailed description of the algorithm see: https://en.wikipedia.org/wiki/Louvain_Modularity\n",
    "\n",
    "It takes as input a cugraph.Graph object and returns as output a \n",
    "cudf.Dataframe object with the id and assigned partition for each \n",
    "vertex as well as the final modularity score\n",
    "\n",
    "To compute the Louvain cluster in cuGraph use: <br>\n",
    "   __df, mod  = cugraph.louvain(G, max_iter = 100)__\n",
    "   \n",
    "  \n",
    "    Parameters\n",
    "    ----------\n",
    "    input_graph : cugraph.Graph\n",
    "        cuGraph graph descriptor, should contain the connectivity information\n",
    "        as an edge list. The adjacency list will be computed if not already present.\n",
    "        The graph should be undirected where an undirected edge is represented by a\n",
    "        directed edge in both direction.\n",
    "\n",
    "    max_iter : integer\n",
    "        This controls the maximum number of levels/iterations of the Louvain\n",
    "        algorithm. When specified the algorithm will terminate after no more\n",
    "        than the specified number of iterations. No error occurs when the\n",
    "        algorithm terminates early in this manner.\n",
    "\n",
    "    Returns\n",
    "    -------\n",
    "    parts : cudf.DataFrame\n",
    "        A GPU data frame of size V containing two columns the vertex id and the\n",
    "        partition id it is assigned to.\n",
    "        \n",
    "            df[‘vertex’] cudf.Series\n",
    "                Contains the vertex identifiers\n",
    "            df[‘partition’] cudf.Series\n",
    "                Contains the partition assigned to the vertices\n",
    "        \n",
    "        \n",
    "    modularity_score : float\n",
    "        a floating point number containing the modularity score of the\n",
    "        partitioning.\n",
    "        \n",
    "    All vertices with the same partition ID are in the same cluster\n",
    "        \n",
    "\n",
    "\n",
    "#### Note\n",
    "Parallel Louvain produces different modularity scores that serial Louvain.\n",
    "\n",
    "Serial Louvain is a greedy method that iterates over the vertices in numerical order and\n",
    "evaluates whether to move a vertex into a different cluster and then moves it if\n",
    "modularity is increased.  After considering all vertices in serial it computes a new\n",
    "modularity score and if better than the last clustering it will repeat.  If vertex i is\n",
    "moved to a new cluster, and vertex j is a neighbor of vertex i and is processed after\n",
    "vertex i, then vertex j will compute its delta modularity based on the vertex i's new\n",
    "cluster assignment.\n",
    "\n",
    "Parallel Louvain computes delta modularity for all vertex/cluster combinations and chooses\n",
    "the best change for ALL vertices in parallel.  This means that vertex i and vertex j being\n",
    "neighbors (as above), both will see the old cluster assignment for that vertex.  This will result\n",
    "in different decisions being made between the parallel and serial versions.  Because Louvain\n",
    "is a greedy method, those decisions might lead the algorithms to converge on different local\n",
    "maximums.\n",
    "\n",
    "A complete technical write-up is being produced and will be linked here when available.  \n",
    "\n",
    "### References\n",
    "* Blondel, V. D., Guillaume, J.-L., Lambiotte, R., and Lefebvre, E. Fast unfolding of communities in large networks. Journal of statistical mechanics: theory and experiment 2008, 10 (2008), P10008.\n",
    "\n",
    "## Leiden Introduction\n",
    "Leiden tries to improve upon Louvain by only moving vertices that result in higher quality clusters.  \n",
    "\n",
    "Leiden has the same set of arguments and return type as Louvain\n",
    "\n",
    "### References\n",
    "* Traag, V. A., Waltman, L., & van Eck, N. J. (2019). From Louvain to Leiden: guaranteeing well-connected communities. Scientific reports, 9(1), 5233.\n",
    "  doi: 10.1038/s41598-019-41695-z"
   ]
  },
  {
   "cell_type": "markdown",
   "metadata": {},
   "source": [
    "#### Some notes about vertex IDs...\n",
    "* The current version of cuGraph requires that vertex IDs be representable as 32-bit integers, meaning graphs currently can contain at most 2^32 unique vertex IDs. However, this limitation is being actively addressed and a version of cuGraph that accommodates more than 2^32 vertices will be available in the near future.\n",
    "* cuGraph will automatically renumber graphs to an internal format consisting of a contiguous series of integers starting from 0, and convert back to the original IDs when returning data to the caller. If the vertex IDs of the data are already a contiguous series of integers starting from 0, the auto-renumbering step can be skipped for faster graph creation times.\n",
    "  * To skip auto-renumbering, set the `renumber` boolean arg to `False` when calling the appropriate graph creation API (eg. `G.from_cudf_edgelist(gdf_r, source='src', destination='dst', renumber=False)`).\n",
    "  * For more advanced renumbering support, see the examples in `structure/renumber.ipynb` and `structure/renumber-2.ipynb`\n"
   ]
  },
  {
   "cell_type": "markdown",
   "metadata": {},
   "source": [
    "### Test Data\n",
    "We will be using the Zachary Karate club dataset \n",
    "*W. W. Zachary, An information flow model for conflict and fission in small groups, Journal of\n",
    "Anthropological Research 33, 452-473 (1977).*\n",
    "\n",
    "\n",
    "![Karate Club](../img/zachary_black_lines.png)\n",
    "\n",
    "Because the test data has vertex IDs starting at 1, the auto-renumber feature of cuGraph (mentioned above) will be used so the starting vertex ID is zero for maximum efficiency. The resulting data will then be auto-unrenumbered, making the entire renumbering process transparent to users.\n"
   ]
  },
  {
   "cell_type": "markdown",
   "metadata": {},
   "source": [
    "### Prep"
   ]
  },
  {
   "cell_type": "code",
   "execution_count": 1,
   "metadata": {},
   "outputs": [],
   "source": [
    "# Import needed libraries\n",
    "import cugraph\n",
    "import cudf"
   ]
  },
  {
   "cell_type": "markdown",
   "metadata": {},
   "source": [
    "## Read data using cuDF"
   ]
  },
  {
   "cell_type": "code",
   "execution_count": 2,
   "metadata": {},
   "outputs": [],
   "source": [
    "# Test file    \n",
    "datafile='../data//karate-data.csv'"
   ]
  },
  {
   "cell_type": "code",
   "execution_count": 3,
   "metadata": {},
   "outputs": [],
   "source": [
    "# read the data using cuDF\n",
    "gdf = cudf.read_csv(datafile, delimiter='\\t', names=['src', 'dst'], dtype=['int32', 'int32'] )"
   ]
  },
  {
   "cell_type": "code",
   "execution_count": 4,
   "metadata": {},
   "outputs": [],
   "source": [
    "# The algorithm also requires that there are vertex weights.  Just use 1.0 \n",
    "gdf[\"data\"] = 1.0"
   ]
  },
  {
   "cell_type": "code",
   "execution_count": 5,
   "metadata": {},
   "outputs": [
    {
     "data": {
      "text/plain": [
       "src       int32\n",
       "dst       int32\n",
       "data    float64\n",
       "dtype: object"
      ]
     },
     "execution_count": 5,
     "metadata": {},
     "output_type": "execute_result"
    }
   ],
   "source": [
    "# just for fun, let's look at the data types in the dataframe\n",
    "gdf.dtypes"
   ]
  },
  {
   "cell_type": "code",
   "execution_count": 6,
   "metadata": {},
   "outputs": [],
   "source": [
    "# create a Graph - since the data does not start at '0', use the auto-renumbering feature\n",
    "G = cugraph.Graph()\n",
    "G.from_cudf_edgelist(gdf, source='src', destination='dst', edge_attr='data', renumber=True)"
   ]
  },
  {
   "cell_type": "code",
   "execution_count": 7,
   "metadata": {},
   "outputs": [],
   "source": [
    "# Call Louvain on the graph\n",
    "df, mod = cugraph.louvain(G) "
   ]
  },
  {
   "cell_type": "code",
   "execution_count": 8,
   "metadata": {},
   "outputs": [],
   "source": [
    "# Call Leiden on the graph\n",
    "df_l, mod_l = cugraph.leiden(G) "
   ]
  },
  {
   "cell_type": "code",
   "execution_count": 9,
   "metadata": {
    "scrolled": true
   },
   "outputs": [
    {
     "name": "stdout",
     "output_type": "stream",
     "text": [
      "Louvain Modularity was 0.4155982905982907\n",
      "\n"
     ]
    }
   ],
   "source": [
    "# Print the modularity score\n",
    "print('Louvain Modularity was {}'.format(mod))\n",
    "print()"
   ]
  },
  {
   "cell_type": "code",
   "execution_count": 10,
   "metadata": {},
   "outputs": [
    {
     "name": "stdout",
     "output_type": "stream",
     "text": [
      "Leiden Modularity was 0.4155982905982907\n",
      "\n"
     ]
    }
   ],
   "source": [
    "# Print the modularity score\n",
    "print('Leiden Modularity was {}'.format(mod_l))\n",
    "print()"
   ]
  },
  {
   "cell_type": "code",
   "execution_count": 11,
   "metadata": {},
   "outputs": [],
   "source": [
    "# How many Louvain partitions where found\n",
    "part_ids = df[\"partition\"].unique()"
   ]
  },
  {
   "cell_type": "code",
   "execution_count": 12,
   "metadata": {},
   "outputs": [
    {
     "name": "stdout",
     "output_type": "stream",
     "text": [
      "Louvain found 4 partitions\n"
     ]
    }
   ],
   "source": [
    "print(\"Louvain found \" + str(len(part_ids)) + \" partitions\")"
   ]
  },
  {
   "cell_type": "code",
   "execution_count": 13,
   "metadata": {},
   "outputs": [
    {
     "name": "stdout",
     "output_type": "stream",
     "text": [
      "Partition 0:\n",
      "[32, 25, 26, 29]\n",
      "Partition 1:\n",
      "[27, 34, 33, 9, 24, 28, 30, 31, 15, 16, 19, 21, 23]\n",
      "Partition 2:\n",
      "[6, 7, 5, 11, 17]\n",
      "Partition 3:\n",
      "[12, 1, 3, 2, 4, 14, 8, 20, 10, 13, 18, 22]\n"
     ]
    }
   ],
   "source": [
    "# print the clusters.  \n",
    "for p in range(len(part_ids)):\n",
    "    part = []\n",
    "    for i in range(len(df)):\n",
    "        if (df['partition'].iloc[i] == p):\n",
    "            part.append(df['vertex'].iloc[i] )\n",
    "    print(\"Partition \" + str(p) + \":\")\n",
    "    print(part)\n"
   ]
  },
  {
   "cell_type": "code",
   "execution_count": 14,
   "metadata": {},
   "outputs": [
    {
     "name": "stdout",
     "output_type": "stream",
     "text": [
      "Leiden found 4 partitions\n"
     ]
    }
   ],
   "source": [
    "# How many Lieden partitions where found\n",
    "part_ids_l = df_l[\"partition\"].unique()\n",
    "print(\"Leiden found \" + str(len(part_ids_l)) + \" partitions\")"
   ]
  },
  {
   "cell_type": "code",
   "execution_count": 15,
   "metadata": {},
   "outputs": [
    {
     "name": "stdout",
     "output_type": "stream",
     "text": [
      "Partition 0:\n",
      "[32, 25, 26, 29]\n",
      "Partition 1:\n",
      "[27, 34, 33, 9, 24, 28, 30, 31, 15, 16, 19, 21, 23]\n",
      "Partition 2:\n",
      "[6, 7, 5, 11, 17]\n",
      "Partition 3:\n",
      "[12, 1, 3, 2, 4, 14, 8, 20, 10, 13, 18, 22]\n"
     ]
    }
   ],
   "source": [
    "# print the clusters.  \n",
    "for p in range(len(part_ids_l)):\n",
    "    part = []\n",
    "    for i in range(len(df)):\n",
    "        if (df['partition'].iloc[i] == p):\n",
    "            part.append(df['vertex'].iloc[i] )\n",
    "    print(\"Partition \" + str(p) + \":\")\n",
    "    print(part)"
   ]
  },
  {
   "cell_type": "markdown",
   "metadata": {},
   "source": [
    "___\n",
    "Copyright (c) 2019-2020, NVIDIA CORPORATION.\n",
    "\n",
    "Licensed under the Apache License, Version 2.0 (the \"License\");  you may not use this file except in compliance with the License. You may obtain a copy of the License at http://www.apache.org/licenses/LICENSE-2.0\n",
    "\n",
    "Unless required by applicable law or agreed to in writing, software distributed under the License is distributed on an \"AS IS\" BASIS, WITHOUT WARRANTIES OR CONDITIONS OF ANY KIND, either express or implied. See the License for the specific language governing permissions and limitations under the License.\n",
    "___"
   ]
  }
 ],
 "metadata": {
  "kernelspec": {
   "display_name": "cugraph_dev",
   "language": "python",
   "name": "cugraph_dev"
  },
  "language_info": {
   "codemirror_mode": {
    "name": "ipython",
    "version": 3
   },
   "file_extension": ".py",
   "mimetype": "text/x-python",
   "name": "python",
   "nbconvert_exporter": "python",
   "pygments_lexer": "ipython3",
   "version": "3.8.10"
  }
 },
 "nbformat": 4,
 "nbformat_minor": 4
}
