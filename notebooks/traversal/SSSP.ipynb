{
 "cells": [
  {
   "cell_type": "markdown",
   "metadata": {},
   "source": [
    "# Single Source Shortest Path (SSSP)\n",
    "\n",
    "In this notebook, we will use cuGraph to compute the shortest path from a starting vertex to every other vertex in our training dataset.\n",
    "\n",
    "Notebook Credits\n",
    "* Original Authors: Bradley Rees and James Wyles\n",
    "* available since release 0.6\n",
    "* Last Edit: 06/22/2022\n",
    "\n",
    "\n",
    "RAPIDS Versions: 22.08  \n",
    "\n",
    "Test Hardware\n",
    "\n",
    "* Tesla V100 32G, CUDA 11.5\n",
    "\n",
    "\n",
    "\n",
    "\n",
    "## Introduction\n",
    "\n",
    "Single source shortest path computes the shortest paths from the given starting vertex to all other reachable vertices. \n",
    "\n",
    "To compute SSSP for a graph in cuGraph we use:\n",
    "**cugraph.sssp(G, source)**\n",
    "\n",
    "Input\n",
    "* __G__: cugraph.Graph object\n",
    "* __source__: int, Index of the source vertex\n",
    "\n",
    "Returns \n",
    "* __df__:  a cudf.DataFrame object with two columns:\n",
    "    * df['vertex']: The vertex identifier for the vertex\n",
    "    * df['distance']: The computed distance from the source vertex to this vertex\n",
    "    * df['predecessor']: The predecessor vertex along this paths.  Allows paths to be recreated\n",
    "\n",
    "\n",
    "### Some notes about vertex IDs...\n",
    "* The current version of cuGraph requires that vertex IDs be representable as 32-bit integers, meaning graphs currently can contain at most 2^32 unique vertex IDs. However, this limitation is being actively addressed and a version of cuGraph that accommodates more than 2^32 vertices will be available in the near future.\n",
    "* cuGraph will automatically renumber graphs to an internal format consisting of a contiguous series of integers starting from 0, and convert back to the original IDs when returning data to the caller. If the vertex IDs of the data are already a contiguous series of integers starting from 0, the auto-renumbering step can be skipped for faster graph creation times.\n",
    "  * To skip auto-renumbering, set the `renumber` boolean arg to `False` when calling the appropriate graph creation API (eg. `G.from_cudf_edgelist(gdf_r, source='src', destination='dst', renumber=False)`).\n",
    "  * For more advanced renumbering support, see the examples in `structure/renumber.ipynb` and `structure/renumber-2.ipynb`\n"
   ]
  },
  {
   "cell_type": "markdown",
   "metadata": {},
   "source": [
    "### Test Data\n",
    "We will be using the Zachary Karate club dataset \n",
    "*W. W. Zachary, An information flow model for conflict and fission in small groups, Journal of\n",
    "Anthropological Research 33, 452-473 (1977).*\n",
    "\n",
    "\n",
    "![Karate Club](../img/zachary_black_lines.png)\n",
    "\n",
    "This is a small graph which allows for easy visual inspection to validate results.  \n",
    "__Note__: The Karate dataset starts with vertex ID 1 which the cuGraph analytics assume a zero-based starting ID.  "
   ]
  },
  {
   "cell_type": "code",
   "execution_count": 1,
   "metadata": {},
   "outputs": [],
   "source": [
    "# Import needed libraries\n",
    "import cudf\n",
    "import cugraph"
   ]
  },
  {
   "cell_type": "markdown",
   "metadata": {},
   "source": [
    "### Create an Edgelist"
   ]
  },
  {
   "cell_type": "code",
   "execution_count": 5,
   "metadata": {},
   "outputs": [],
   "source": [
    "# Import a built-in dataset\n",
    "from cugraph.experimental.datasets import karate\n",
    "\n",
    "gdf = karate.get_edgelist()"
   ]
  },
  {
   "cell_type": "code",
   "execution_count": 6,
   "metadata": {},
   "outputs": [],
   "source": [
    "# The SSSP algorithm requires that there are weights.  Just use 1.0 here (equivalent to BFS)\n",
    "gdf[\"data\"] = 1.0"
   ]
  },
  {
   "cell_type": "code",
   "execution_count": 7,
   "metadata": {},
   "outputs": [
    {
     "data": {
      "text/html": [
       "<div>\n",
       "<style scoped>\n",
       "    .dataframe tbody tr th:only-of-type {\n",
       "        vertical-align: middle;\n",
       "    }\n",
       "\n",
       "    .dataframe tbody tr th {\n",
       "        vertical-align: top;\n",
       "    }\n",
       "\n",
       "    .dataframe thead th {\n",
       "        text-align: right;\n",
       "    }\n",
       "</style>\n",
       "<table border=\"1\" class=\"dataframe\">\n",
       "  <thead>\n",
       "    <tr style=\"text-align: right;\">\n",
       "      <th></th>\n",
       "      <th>src</th>\n",
       "      <th>dst</th>\n",
       "      <th>data</th>\n",
       "    </tr>\n",
       "  </thead>\n",
       "  <tbody>\n",
       "    <tr>\n",
       "      <th>0</th>\n",
       "      <td>1</td>\n",
       "      <td>2</td>\n",
       "      <td>1.0</td>\n",
       "    </tr>\n",
       "    <tr>\n",
       "      <th>1</th>\n",
       "      <td>1</td>\n",
       "      <td>3</td>\n",
       "      <td>1.0</td>\n",
       "    </tr>\n",
       "    <tr>\n",
       "      <th>2</th>\n",
       "      <td>1</td>\n",
       "      <td>4</td>\n",
       "      <td>1.0</td>\n",
       "    </tr>\n",
       "    <tr>\n",
       "      <th>3</th>\n",
       "      <td>1</td>\n",
       "      <td>5</td>\n",
       "      <td>1.0</td>\n",
       "    </tr>\n",
       "    <tr>\n",
       "      <th>4</th>\n",
       "      <td>1</td>\n",
       "      <td>6</td>\n",
       "      <td>1.0</td>\n",
       "    </tr>\n",
       "  </tbody>\n",
       "</table>\n",
       "</div>"
      ],
      "text/plain": [
       "   src  dst  data\n",
       "0    1    2   1.0\n",
       "1    1    3   1.0\n",
       "2    1    4   1.0\n",
       "3    1    5   1.0\n",
       "4    1    6   1.0"
      ]
     },
     "execution_count": 7,
     "metadata": {},
     "output_type": "execute_result"
    }
   ],
   "source": [
    "gdf.head()"
   ]
  },
  {
   "cell_type": "markdown",
   "metadata": {},
   "source": [
    "### Create a Graph and call SSSP"
   ]
  },
  {
   "cell_type": "code",
   "execution_count": 8,
   "metadata": {},
   "outputs": [],
   "source": [
    "# create a Graph \n",
    "G = cugraph.Graph()\n",
    "G.from_cudf_edgelist(gdf, source='src', destination='dst', edge_attr='data')"
   ]
  },
  {
   "cell_type": "code",
   "execution_count": 9,
   "metadata": {},
   "outputs": [],
   "source": [
    "# Call cugraph.sssp to get the distances from vertex 1:\n",
    "df = cugraph.sssp(G, 1)"
   ]
  },
  {
   "cell_type": "code",
   "execution_count": 10,
   "metadata": {},
   "outputs": [
    {
     "name": "stdout",
     "output_type": "stream",
     "text": [
      "5 :  [5, 1]\n",
      "11 :  [11, 1]\n",
      "20 :  [20, 1]\n",
      "25 :  [25, 32, 1]\n",
      "26 :  [26, 32, 1]\n",
      "29 :  [29, 3, 1]\n",
      "10 :  [10, 3, 1]\n",
      "13 :  [13, 1]\n",
      "15 :  [15, 34, 32, 1]\n",
      "16 :  [16, 34, 32, 1]\n",
      "17 :  [17, 6, 1]\n",
      "18 :  [18, 1]\n",
      "19 :  [19, 34, 32, 1]\n",
      "21 :  [21, 34, 32, 1]\n",
      "22 :  [22, 1]\n",
      "23 :  [23, 34, 32, 1]\n",
      "34 :  [34, 32, 1]\n",
      "33 :  [33, 3, 1]\n",
      "3 :  [3, 1]\n",
      "2 :  [2, 1]\n",
      "4 :  [4, 1]\n",
      "32 :  [32, 1]\n",
      "9 :  [9, 1]\n",
      "14 :  [14, 1]\n",
      "24 :  [24, 34, 32, 1]\n",
      "6 :  [6, 1]\n",
      "7 :  [7, 1]\n",
      "8 :  [8, 1]\n",
      "30 :  [30, 34, 32, 1]\n",
      "31 :  [31, 2, 1]\n",
      "28 :  [28, 3, 1]\n",
      "1 :  [1]\n",
      "27 :  [27, 34, 32, 1]\n",
      "12 :  [12, 1]\n"
     ]
    }
   ],
   "source": [
    "# Print the paths\n",
    "for index, row in df.to_pandas().iterrows():\n",
    "    v = int(row['vertex'])\n",
    "    p = cugraph.utils.get_traversed_path_list(df, v)\n",
    "    print(v, ': ', p)\n"
   ]
  },
  {
   "cell_type": "markdown",
   "metadata": {},
   "source": [
    "There are a number of vertices with the same distance of 3"
   ]
  },
  {
   "cell_type": "markdown",
   "metadata": {},
   "source": [
    "___\n",
    "Copyright (c) 2019-2022, NVIDIA CORPORATION.\n",
    "\n",
    "Licensed under the Apache License, Version 2.0 (the \"License\");  you may not use this file except in compliance with the License. You may obtain a copy of the License at http://www.apache.org/licenses/LICENSE-2.0\n",
    "\n",
    "Unless required by applicable law or agreed to in writing, software distributed under the License is distributed on an \"AS IS\" BASIS, WITHOUT WARRANTIES OR CONDITIONS OF ANY KIND, either express or implied. See the License for the specific language governing permissions and limitations under the License.\n",
    "___"
   ]
  }
 ],
 "metadata": {
  "kernelspec": {
   "display_name": "Python 3.9.7 ('base')",
   "language": "python",
   "name": "python3"
  },
  "language_info": {
   "codemirror_mode": {
    "name": "ipython",
    "version": 3
   },
   "file_extension": ".py",
   "mimetype": "text/x-python",
   "name": "python",
   "nbconvert_exporter": "python",
   "pygments_lexer": "ipython3",
   "version": "3.9.7"
  },
  "vscode": {
   "interpreter": {
    "hash": "f708a36acfaef0acf74ccd43dfb58100269bf08fb79032a1e0a6f35bd9856f51"
   }
  }
 },
 "nbformat": 4,
 "nbformat_minor": 4
}
