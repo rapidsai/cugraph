{
 "cells": [
  {
   "cell_type": "markdown",
   "metadata": {},
   "source": [
    "# Jaccard Similarity\n",
    "----\n",
    "\n",
    "In this notebook we will explore the Jaccard vertex similarity metrics available in cuGraph. cuGraph supports:\n",
    "- Jaccard Similarity (also called the Jaccard Index)\n",
    "- Weight Jaccard\n",
    "\n",
    "Similarity can be between neighboring vertices (default) or second hop neighbors\n",
    "\n",
    "Notebook Credits\n",
    "\n",
    "    Original Authors: Brad Rees\n",
    "    Created:   10/14/2019\n",
    "    Last Edit: 06/22/2022\n",
    "\n",
    "RAPIDS Versions: 22.08\n",
    "\n",
    "Test Hardware\n",
    "* Tesla V100 32G, CUDA 11.5\n"
   ]
  },
  {
   "cell_type": "markdown",
   "metadata": {},
   "source": [
    "## Introduction - Common Neighbor Similarity \n",
    "\n",
    "One of the most common types of vertex similarity is to evaluate the neighborhood of vertex pairs and looks at the number of common neighbors.  TThat type of similar comes from statistics and is based on set comparison.  Both Jaccard and the Overlap Coefficient operate on sets, and in a graph setting, those sets are the list of neighboring vertices. <br>\n",
    "For those that like math:  The neighbors of a vertex, _v_, is defined as the set, _U_, of vertices connected by way of an edge to vertex v, or _N(v) = {U} where v ∈ V and ∀ u ∈ U ∃ edge(v,u)∈ E_.\n",
    "\n",
    "For the rest of this introduction, set __A__ will equate to _A = N(i)_ and set __B__ will quate to _B = N(j)_.  That just make the rest of the text more readable."
   ]
  },
  {
   "cell_type": "markdown",
   "metadata": {},
   "source": [
    "### Jaccard Similarity"
   ]
  },
  {
   "cell_type": "markdown",
   "metadata": {},
   "source": [
    "The Jaccard similarity between two sets is defined as the ratio of the volume of their intersection divided by the volume of their union. \n",
    "\n",
    "The Jaccard Similarity can then be defined as\n",
    "\n",
    "<a href=\"https://www.codecogs.com/eqnedit.php?latex=js(A,B)&space;=&space;\\frac{|A&space;\\cap&space;B|}{|A&space;\\cup&space;B&space;|&space;}&space;=&space;\\frac{|A&space;\\cap&space;B|}{&space;|A|&space;&plus;&space;|B|&space;-&space;|A&space;\\cup&space;B&space;|&space;}\" target=\"_blank\"><img src=\"https://latex.codecogs.com/gif.latex?js(A,B)&space;=&space;\\frac{|A&space;\\cap&space;B|}{|A&space;\\cup&space;B&space;|&space;}&space;=&space;\\frac{|A&space;\\cap&space;B|}{&space;|A|&space;&plus;&space;|B|&space;-&space;|A&space;\\cup&space;B&space;|&space;}\" title=\"js(A,B) = \\frac{|A \\cap B|}{|A \\cup B | } = \\frac{|A \\cap B|}{ |A| + |B| - |A \\cup B | }\" /></a>\n",
    "\n",
    "\n",
    "To compute the Jaccard similarity between all pairs of vertices connected by an edge in cuGraph use: <br>\n",
    "__df = cugraph.jaccard(G)__\n",
    "\n",
    "    G: A cugraph.Graph object\n",
    "\n",
    "Returns:\n",
    "\n",
    "    df: cudf.DataFrame with three names columns:\n",
    "        df[\"source\"]: The source vertex id.\n",
    "        df[\"destination\"]: The destination vertex id.\n",
    "        df[\"jaccard_coeff\"]: The jaccard coefficient computed between the source and destination vertex.\n",
    "<br>\n",
    "\n",
    "__References__ \n",
    "- https://research.nvidia.com/publication/2017-11_Parallel-Jaccard-and"
   ]
  },
  {
   "cell_type": "markdown",
   "metadata": {},
   "source": [
    "\n",
    "### Weighted Jaccard"
   ]
  },
  {
   "cell_type": "markdown",
   "metadata": {},
   "source": [
    "Weighted Jaccard is similar to the Jaccard Similarity but takes into account vertex weights placed.  \n",
    "\n",
    "given:\n",
    "The neighbors of a vertex, v, is defined as the set, U, of vertices connected by way of an edge to vertex v, or N(v) = {U} where v ∈V and ∀ u∈U ∃ edge(v,u)∈E.\n",
    "and\n",
    "wt(i) is the weight on vertex i\n",
    "   \n",
    "we can now define weight summing function as<br>\n",
    "$WT(U) = \\sum_{v \\in U} {wt(v)}$\n",
    "\n",
    "$WtJaccard(i, j) = \\frac{WT(N(i) \\cap N(j))}{WT(N(i) \\cup N(j))}$\n",
    "\n",
    "To compute the weighted Jaccard similarity between each pair of vertices connected by an edge in cuGraph use:<br>\n",
    "\n",
    "__df = cugraph.jaccard_w(input_graph, vect_weights_ptr)__\n",
    "\n",
    "    input_graph: A cugraph.Graph object\n",
    "    vect_weights_ptr: An array of vertex weights\n",
    "\n",
    "Returns: \n",
    "\n",
    "    df: cudf.DataFrame with three names columns:\n",
    "        df['source']: The source vertex id.\n",
    "        df['destination']: The destination vertex id.\n",
    "        df['jaccard_coeff']: The weighted jaccard coefficient computed between the source and destination vertex.\n",
    " \n",
    "\n",
    "__Note:__ For this example we will be using PageRank as the edge weights.  Please review the PageRank notebook if you have any questions about running PageRank\n"
   ]
  },
  {
   "cell_type": "markdown",
   "metadata": {},
   "source": [
    "### Additional Reading\n",
    "- [Wikipedia: Jaccard](https://en.wikipedia.org/wiki/Jaccard_index)\n"
   ]
  },
  {
   "cell_type": "markdown",
   "metadata": {},
   "source": [
    "### Some notes about vertex IDs...\n",
    "* The current version of cuGraph requires that vertex IDs be representable as 32-bit integers, meaning graphs currently can contain at most 2^32 unique vertex IDs. However, this limitation is being actively addressed and a version of cuGraph that accommodates more than 2^32 vertices will be available in the near future.\n",
    "* cuGraph will automatically renumber graphs to an internal format consisting of a contiguous series of integers starting from 0, and convert back to the original IDs when returning data to the caller. If the vertex IDs of the data are already a contiguous series of integers starting from 0, the auto-renumbering step can be skipped for faster graph creation times.\n",
    "  * To skip auto-renumbering, set the `renumber` boolean arg to `False` when calling the appropriate graph creation API (eg. `G.from_cudf_edgelist(gdf_r, source='src', destination='dst', renumber=False)`).\n",
    "  * For more advanced renumbering support, see the examples in `structure/renumber.ipynb` and `structure/renumber-2.ipynb`\n"
   ]
  },
  {
   "cell_type": "markdown",
   "metadata": {},
   "source": [
    "## Test Data\n",
    "We will be using the Zachary Karate club dataset \n",
    "*W. W. Zachary, An information flow model for conflict and fission in small groups, Journal of\n",
    "Anthropological Research 33, 452-473 (1977).*\n",
    "\n",
    "\n",
    "![Karate Club](../img/zachary_black_lines.png)\n",
    "\n",
    "This is a small graph which allows for easy visual inspection to validate results.  "
   ]
  },
  {
   "cell_type": "markdown",
   "metadata": {},
   "source": [
    "---\n",
    "# Let's get started!"
   ]
  },
  {
   "cell_type": "code",
   "execution_count": 1,
   "metadata": {
    "scrolled": true
   },
   "outputs": [],
   "source": [
    "# Import needed libraries\n",
    "import cugraph\n",
    "import cudf\n",
    "from collections import OrderedDict"
   ]
  },
  {
   "cell_type": "markdown",
   "metadata": {},
   "source": [
    "----\n",
    "### Define some Print functions\n",
    "(the `del` are not needed since going out of scope should free memory, just good practice)"
   ]
  },
  {
   "cell_type": "code",
   "execution_count": 2,
   "metadata": {},
   "outputs": [],
   "source": [
    "# define a function for printing the top most similar vertices\n",
    "def print_most_similar_jaccard(df):\n",
    "    \n",
    "    jmax = df['jaccard_coeff'].max()\n",
    "    dm = df.query('jaccard_coeff >= @jmax')    \n",
    "    \n",
    "    #find the best\n",
    "    for i in range(len(dm)):    \n",
    "        print(\"Vertices \" + str(dm['source'].iloc[i]) + \" and \" + \n",
    "              str(dm['destination'].iloc[i]) + \" are most similar with score: \" \n",
    "              + str(dm['jaccard_coeff'].iloc[i]))\n",
    "    del jmax\n",
    "    del dm"
   ]
  },
  {
   "cell_type": "code",
   "execution_count": 3,
   "metadata": {},
   "outputs": [],
   "source": [
    "# define a function for printing jaccard similar vertices based on a threshold\n",
    "def print_jaccard_threshold(_d, limit):\n",
    "    \n",
    "    filtered = _d.query('jaccard_coeff > @limit')\n",
    "    \n",
    "    for i in range(len(filtered)):\n",
    "        print(\"Vertices \" + str(filtered['source'].iloc[i]) + \" and \" + \n",
    "            str(filtered['destination'].iloc[i]) + \" are similar with score: \" + \n",
    "            str(filtered['jaccard_coeff'].iloc[i]))"
   ]
  },
  {
   "cell_type": "markdown",
   "metadata": {},
   "source": [
    "### Create an Edgelist"
   ]
  },
  {
   "cell_type": "code",
   "execution_count": 4,
   "metadata": {},
   "outputs": [],
   "source": [
    "from cugraph.experimental.datasets import karate\n",
    "gdf = karate.get_edgelist()"
   ]
  },
  {
   "cell_type": "code",
   "execution_count": 5,
   "metadata": {},
   "outputs": [
    {
     "data": {
      "text/plain": [
       "(156, 2)"
      ]
     },
     "execution_count": 5,
     "metadata": {},
     "output_type": "execute_result"
    }
   ],
   "source": [
    "# Let's look at the DataFrame. There should be two columns and 156 records\n",
    "gdf.shape"
   ]
  },
  {
   "cell_type": "code",
   "execution_count": 6,
   "metadata": {},
   "outputs": [
    {
     "data": {
      "text/html": [
       "<div>\n",
       "<style scoped>\n",
       "    .dataframe tbody tr th:only-of-type {\n",
       "        vertical-align: middle;\n",
       "    }\n",
       "\n",
       "    .dataframe tbody tr th {\n",
       "        vertical-align: top;\n",
       "    }\n",
       "\n",
       "    .dataframe thead th {\n",
       "        text-align: right;\n",
       "    }\n",
       "</style>\n",
       "<table border=\"1\" class=\"dataframe\">\n",
       "  <thead>\n",
       "    <tr style=\"text-align: right;\">\n",
       "      <th></th>\n",
       "      <th>src</th>\n",
       "      <th>dst</th>\n",
       "    </tr>\n",
       "  </thead>\n",
       "  <tbody>\n",
       "    <tr>\n",
       "      <th>0</th>\n",
       "      <td>1</td>\n",
       "      <td>2</td>\n",
       "    </tr>\n",
       "    <tr>\n",
       "      <th>1</th>\n",
       "      <td>1</td>\n",
       "      <td>3</td>\n",
       "    </tr>\n",
       "    <tr>\n",
       "      <th>2</th>\n",
       "      <td>1</td>\n",
       "      <td>4</td>\n",
       "    </tr>\n",
       "    <tr>\n",
       "      <th>3</th>\n",
       "      <td>1</td>\n",
       "      <td>5</td>\n",
       "    </tr>\n",
       "    <tr>\n",
       "      <th>4</th>\n",
       "      <td>1</td>\n",
       "      <td>6</td>\n",
       "    </tr>\n",
       "  </tbody>\n",
       "</table>\n",
       "</div>"
      ],
      "text/plain": [
       "   src  dst\n",
       "0    1    2\n",
       "1    1    3\n",
       "2    1    4\n",
       "3    1    5\n",
       "4    1    6"
      ]
     },
     "execution_count": 6,
     "metadata": {},
     "output_type": "execute_result"
    }
   ],
   "source": [
    "# Look at the first few data records - the output should be two columns: 'src' and 'dst'\n",
    "gdf.head()"
   ]
  },
  {
   "cell_type": "markdown",
   "metadata": {},
   "source": [
    "### Create a Graph"
   ]
  },
  {
   "cell_type": "code",
   "execution_count": 7,
   "metadata": {},
   "outputs": [],
   "source": [
    "# create a Graph \n",
    "G = cugraph.Graph()\n",
    "G.from_cudf_edgelist(gdf, source='src', destination='dst')"
   ]
  },
  {
   "cell_type": "code",
   "execution_count": 8,
   "metadata": {},
   "outputs": [
    {
     "data": {
      "text/plain": [
       "34"
      ]
     },
     "execution_count": 8,
     "metadata": {},
     "output_type": "execute_result"
    }
   ],
   "source": [
    "# How many vertices are in the graph?  Remember that Graph is zero based\n",
    "G.number_of_vertices()"
   ]
  },
  {
   "cell_type": "markdown",
   "metadata": {},
   "source": [
    "_The test graph has only 34 vertices, so why is the Graph listing 35?_\n",
    "\n",
    "As mentioned above, cuGraph vertex numbering is zero-based, meaning that the first vertex ID starts at zero.  The test dataset is 1-based.  Because of that, the Graph object adds an extra isolated vertex with an ID of zero.  Hence the difference in vertex count.  \n",
    "We could have run _renumbering_ on the data, or updated the value of each element _gdf['src'] = gdf['src'] - 1_    \n",
    "for now, we will just state that vertex 0 is not part of the dataset and can be ignored"
   ]
  },
  {
   "cell_type": "markdown",
   "metadata": {},
   "source": [
    "--- \n",
    "# Jaccard "
   ]
  },
  {
   "cell_type": "code",
   "execution_count": 9,
   "metadata": {},
   "outputs": [],
   "source": [
    "#%%time\n",
    "# Call cugraph.nvJaccard\n",
    "jdf = cugraph.jaccard(G)"
   ]
  },
  {
   "cell_type": "code",
   "execution_count": 10,
   "metadata": {},
   "outputs": [
    {
     "name": "stdout",
     "output_type": "stream",
     "text": [
      "Vertices 34 and 33 are most similar with score: 0.5263158\n",
      "Vertices 33 and 34 are most similar with score: 0.5263158\n"
     ]
    }
   ],
   "source": [
    "# Which two vertices are the most similar?\n",
    "print_most_similar_jaccard(jdf)"
   ]
  },
  {
   "cell_type": "markdown",
   "metadata": {},
   "source": [
    "The Most similar shoul be 33 and 34.\n",
    "Vertex 33 has 12 neighbors, vertex 34 has 17 neighbors.  They share 10 neighbors in common:\n",
    "$jaccard = 10 / (10 + (12 -10) + (17-10)) = 10 / 19 = 0.526$"
   ]
  },
  {
   "cell_type": "code",
   "execution_count": 11,
   "metadata": {},
   "outputs": [
    {
     "name": "stdout",
     "output_type": "stream",
     "text": [
      "Vertices 4 and 8 are similar with score: 0.42857143\n",
      "Vertices 8 and 4 are similar with score: 0.42857143\n",
      "Vertices 34 and 33 are similar with score: 0.5263158\n",
      "Vertices 33 and 34 are similar with score: 0.5263158\n"
     ]
    }
   ],
   "source": [
    "### let's look at all similarities over a threshold\n",
    "print_jaccard_threshold(jdf, 0.4)"
   ]
  },
  {
   "cell_type": "code",
   "execution_count": 12,
   "metadata": {},
   "outputs": [
    {
     "name": "stdout",
     "output_type": "stream",
     "text": [
      "Vertices 33 and 34 are similar with score: 0.5263158\n",
      "Vertices 4 and 8 are similar with score: 0.42857143\n",
      "Vertices 1 and 2 are similar with score: 0.3888889\n",
      "Vertices 4 and 14 are similar with score: 0.375\n",
      "Vertices 2 and 4 are similar with score: 0.36363637\n",
      "Vertices 3 and 4 are similar with score: 0.33333334\n",
      "Vertices 6 and 7 are similar with score: 0.33333334\n",
      "Vertices 2 and 8 are similar with score: 0.3\n",
      "Vertices 1 and 4 are similar with score: 0.29411766\n",
      "Vertices 9 and 31 are similar with score: 0.2857143\n",
      "Vertices 24 and 30 are similar with score: 0.2857143\n",
      "Vertices 3 and 8 are similar with score: 0.27272728\n",
      "Vertices 2 and 14 are similar with score: 0.27272728\n",
      "Vertices 2 and 3 are similar with score: 0.26666668\n",
      "Vertices 3 and 14 are similar with score: 0.25\n",
      "Vertices 1 and 3 are similar with score: 0.23809524\n",
      "Vertices 9 and 33 are similar with score: 0.21428572\n",
      "Vertices 7 and 17 are similar with score: 0.2\n",
      "Vertices 5 and 11 are similar with score: 0.2\n",
      "Vertices 25 and 26 are similar with score: 0.2\n",
      "Vertices 6 and 17 are similar with score: 0.2\n",
      "Vertices 27 and 30 are similar with score: 0.2\n",
      "Vertices 1 and 8 are similar with score: 0.1764706\n",
      "Vertices 1 and 14 are similar with score: 0.16666667\n",
      "Vertices 30 and 34 are similar with score: 0.16666667\n",
      "Vertices 5 and 7 are similar with score: 0.16666667\n",
      "Vertices 6 and 11 are similar with score: 0.16666667\n",
      "Vertices 24 and 34 are similar with score: 0.15789473\n",
      "Vertices 3 and 9 are similar with score: 0.15384616\n",
      "Vertices 4 and 13 are similar with score: 0.14285715\n",
      "Vertices 30 and 33 are similar with score: 0.14285715\n",
      "Vertices 31 and 33 are similar with score: 0.14285715\n",
      "Vertices 24 and 33 are similar with score: 0.13333334\n",
      "Vertices 29 and 32 are similar with score: 0.125\n",
      "Vertices 25 and 32 are similar with score: 0.125\n",
      "Vertices 26 and 32 are similar with score: 0.125\n",
      "Vertices 24 and 28 are similar with score: 0.125\n",
      "Vertices 1 and 5 are similar with score: 0.11764706\n",
      "Vertices 1 and 11 are similar with score: 0.11764706\n",
      "Vertices 1 and 6 are similar with score: 0.11111111\n",
      "Vertices 1 and 7 are similar with score: 0.11111111\n",
      "Vertices 31 and 34 are similar with score: 0.10526316\n",
      "Vertices 9 and 34 are similar with score: 0.1\n",
      "Vertices 2 and 18 are similar with score: 0.1\n",
      "Vertices 2 and 22 are similar with score: 0.1\n",
      "Vertices 32 and 34 are similar with score: 0.0952381\n",
      "Vertices 2 and 20 are similar with score: 0.09090909\n",
      "Vertices 15 and 33 are similar with score: 0.07692308\n",
      "Vertices 16 and 33 are similar with score: 0.07692308\n",
      "Vertices 19 and 33 are similar with score: 0.07692308\n",
      "Vertices 21 and 33 are similar with score: 0.07692308\n",
      "Vertices 23 and 33 are similar with score: 0.07692308\n",
      "Vertices 32 and 33 are similar with score: 0.05882353\n",
      "Vertices 1 and 13 are similar with score: 0.05882353\n",
      "Vertices 1 and 18 are similar with score: 0.05882353\n",
      "Vertices 1 and 22 are similar with score: 0.05882353\n",
      "Vertices 15 and 34 are similar with score: 0.055555556\n",
      "Vertices 16 and 34 are similar with score: 0.055555556\n",
      "Vertices 1 and 20 are similar with score: 0.055555556\n",
      "Vertices 19 and 34 are similar with score: 0.055555556\n",
      "Vertices 21 and 34 are similar with score: 0.055555556\n",
      "Vertices 23 and 34 are similar with score: 0.055555556\n",
      "Vertices 27 and 34 are similar with score: 0.055555556\n",
      "Vertices 29 and 34 are similar with score: 0.05263158\n",
      "Vertices 1 and 9 are similar with score: 0.05\n",
      "Vertices 28 and 34 are similar with score: 0.05\n",
      "Vertices 3 and 33 are similar with score: 0.04761905\n"
     ]
    }
   ],
   "source": [
    "# Since it is a small graph we can print all scores, notice that only vertices that are neighbors are being compared\n",
    "#\n",
    "# Before printing, let's get rid of the duplicates (x compared to y is the same as y compared to x).  We will do that\n",
    "# by performing a query.  Then let's sort the data by score\n",
    "\n",
    "jdf_s = jdf.query('source < destination').sort_values(by='jaccard_coeff', ascending=False)\n",
    "\n",
    "print_jaccard_threshold(jdf_s, 0.0)"
   ]
  },
  {
   "cell_type": "markdown",
   "metadata": {},
   "source": [
    "---\n",
    "# Expanding vertex pairs similarity scoring to 2-hop vertex pair"
   ]
  },
  {
   "cell_type": "code",
   "execution_count": 13,
   "metadata": {},
   "outputs": [],
   "source": [
    "# get all two-hop vertex pairs\n",
    "p = G.get_two_hop_neighbors()"
   ]
  },
  {
   "cell_type": "code",
   "execution_count": 14,
   "metadata": {},
   "outputs": [],
   "source": [
    "# Let's look at the Jaccard score\n",
    "j2 = cugraph.jaccard(G, vertex_pair=p)"
   ]
  },
  {
   "cell_type": "code",
   "execution_count": 15,
   "metadata": {},
   "outputs": [
    {
     "name": "stdout",
     "output_type": "stream",
     "text": [
      "Vertices 15 and 16 are most similar with score: 1.0\n",
      "Vertices 15 and 19 are most similar with score: 1.0\n",
      "Vertices 15 and 21 are most similar with score: 1.0\n",
      "Vertices 15 and 23 are most similar with score: 1.0\n",
      "Vertices 21 and 15 are most similar with score: 1.0\n",
      "Vertices 21 and 16 are most similar with score: 1.0\n",
      "Vertices 21 and 19 are most similar with score: 1.0\n",
      "Vertices 21 and 23 are most similar with score: 1.0\n",
      "Vertices 18 and 22 are most similar with score: 1.0\n",
      "Vertices 23 and 15 are most similar with score: 1.0\n",
      "Vertices 23 and 16 are most similar with score: 1.0\n",
      "Vertices 23 and 19 are most similar with score: 1.0\n",
      "Vertices 23 and 21 are most similar with score: 1.0\n",
      "Vertices 19 and 15 are most similar with score: 1.0\n",
      "Vertices 19 and 16 are most similar with score: 1.0\n",
      "Vertices 19 and 21 are most similar with score: 1.0\n",
      "Vertices 19 and 23 are most similar with score: 1.0\n",
      "Vertices 16 and 15 are most similar with score: 1.0\n",
      "Vertices 16 and 19 are most similar with score: 1.0\n",
      "Vertices 16 and 21 are most similar with score: 1.0\n",
      "Vertices 16 and 23 are most similar with score: 1.0\n",
      "Vertices 22 and 18 are most similar with score: 1.0\n"
     ]
    }
   ],
   "source": [
    "print_most_similar_jaccard(j2)"
   ]
  },
  {
   "cell_type": "markdown",
   "metadata": {},
   "source": [
    "---"
   ]
  },
  {
   "cell_type": "markdown",
   "metadata": {},
   "source": [
    "# Weighted Jaccard"
   ]
  },
  {
   "cell_type": "markdown",
   "metadata": {},
   "source": [
    "For graph weights, we are going to use the PageRank scores.  If you are unfamillar with PageRank please see the notebook on PageRank"
   ]
  },
  {
   "cell_type": "code",
   "execution_count": 16,
   "metadata": {},
   "outputs": [],
   "source": [
    "# Call PageRank on the graph to get weights to use:\n",
    "pr_df = cugraph.pagerank(G)"
   ]
  },
  {
   "cell_type": "code",
   "execution_count": 17,
   "metadata": {},
   "outputs": [
    {
     "data": {
      "text/html": [
       "<div>\n",
       "<style scoped>\n",
       "    .dataframe tbody tr th:only-of-type {\n",
       "        vertical-align: middle;\n",
       "    }\n",
       "\n",
       "    .dataframe tbody tr th {\n",
       "        vertical-align: top;\n",
       "    }\n",
       "\n",
       "    .dataframe thead th {\n",
       "        text-align: right;\n",
       "    }\n",
       "</style>\n",
       "<table border=\"1\" class=\"dataframe\">\n",
       "  <thead>\n",
       "    <tr style=\"text-align: right;\">\n",
       "      <th></th>\n",
       "      <th>pagerank</th>\n",
       "      <th>vertex</th>\n",
       "    </tr>\n",
       "  </thead>\n",
       "  <tbody>\n",
       "    <tr>\n",
       "      <th>0</th>\n",
       "      <td>0.021979</td>\n",
       "      <td>5</td>\n",
       "    </tr>\n",
       "    <tr>\n",
       "      <th>1</th>\n",
       "      <td>0.021979</td>\n",
       "      <td>11</td>\n",
       "    </tr>\n",
       "    <tr>\n",
       "      <th>2</th>\n",
       "      <td>0.019605</td>\n",
       "      <td>20</td>\n",
       "    </tr>\n",
       "    <tr>\n",
       "      <th>3</th>\n",
       "      <td>0.021076</td>\n",
       "      <td>25</td>\n",
       "    </tr>\n",
       "    <tr>\n",
       "      <th>4</th>\n",
       "      <td>0.021006</td>\n",
       "      <td>26</td>\n",
       "    </tr>\n",
       "  </tbody>\n",
       "</table>\n",
       "</div>"
      ],
      "text/plain": [
       "   pagerank  vertex\n",
       "0  0.021979       5\n",
       "1  0.021979      11\n",
       "2  0.019605      20\n",
       "3  0.021076      25\n",
       "4  0.021006      26"
      ]
     },
     "execution_count": 17,
     "metadata": {},
     "output_type": "execute_result"
    }
   ],
   "source": [
    "# take a peek at the PageRank values\n",
    "pr_df.head()"
   ]
  },
  {
   "cell_type": "markdown",
   "metadata": {},
   "source": [
    "### Now compute the Weighted Jaccard "
   ]
  },
  {
   "cell_type": "code",
   "execution_count": 18,
   "metadata": {},
   "outputs": [],
   "source": [
    "pr_df.rename(columns={'pagerank': 'weight'}, inplace=True)\n",
    "# Call weighted Jaccard using the PageRank scores as weights:\n",
    "wdf = cugraph.jaccard_w(G, pr_df)"
   ]
  },
  {
   "cell_type": "code",
   "execution_count": 19,
   "metadata": {},
   "outputs": [
    {
     "name": "stdout",
     "output_type": "stream",
     "text": [
      "Vertices 1 and 2 are most similar with score: 0.5324633\n",
      "Vertices 2 and 1 are most similar with score: 0.5324633\n"
     ]
    }
   ],
   "source": [
    "print_most_similar_jaccard(wdf)"
   ]
  },
  {
   "cell_type": "markdown",
   "metadata": {},
   "source": [
    "---\n",
    "### It's that easy with cuGraph\n",
    "\n",
    "Copyright (c) 2019-2022, NVIDIA CORPORATION.\n",
    "\n",
    "Licensed under the Apache License, Version 2.0 (the \"License\");  you may not use this file except in compliance with the License. You may obtain a copy of the License at http://www.apache.org/licenses/LICENSE-2.0\n",
    "\n",
    "Unless required by applicable law or agreed to in writing, software distributed under the License is distributed on an \"AS IS\" BASIS, WITHOUT WARRANTIES OR CONDITIONS OF ANY KIND, either express or implied. See the License for the specific language governing permissions and limitations under the License.\n",
    "___"
   ]
  },
  {
   "cell_type": "markdown",
   "metadata": {},
   "source": []
  }
 ],
 "metadata": {
  "kernelspec": {
   "display_name": "Python 3.9.7 ('base')",
   "language": "python",
   "name": "python3"
  },
  "language_info": {
   "codemirror_mode": {
    "name": "ipython",
    "version": 3
   },
   "file_extension": ".py",
   "mimetype": "text/x-python",
   "name": "python",
   "nbconvert_exporter": "python",
   "pygments_lexer": "ipython3",
   "version": "3.9.7"
  },
  "vscode": {
   "interpreter": {
    "hash": "f708a36acfaef0acf74ccd43dfb58100269bf08fb79032a1e0a6f35bd9856f51"
   }
  }
 },
 "nbformat": 4,
 "nbformat_minor": 4
}
