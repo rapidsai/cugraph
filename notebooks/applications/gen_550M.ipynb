{
 "cells": [
  {
   "attachments": {},
   "cell_type": "markdown",
   "metadata": {},
   "source": [
    "# Creating a financial transaction dataset using RMAT\n",
    "The following are configurable:\n",
    "* Range of the random transaction amounts\n",
    "* Date range of the transactions\n",
    "* Total number of transactions"
   ]
  },
  {
   "attachments": {},
   "cell_type": "markdown",
   "metadata": {},
   "source": [
    "### Notebook Revisions\n",
    "\n",
    "| Author Credit |    Date    |  Update                     | cuGraph Version |  Test Hardware |\n",
    "| --------------|------------|-----------------------------|-----------------|----------------|\n",
    "| Don Acosta    | 01/27/2023 | created                     | 23.02 nightly   | V100 w 32 GB, CUDA 11.5\n",
    "| Don Acosta    | 05/10/2023 | modified and tested         | 23.06 nightly   | A6000 w 48 GB, CUDA 11.7"
   ]
  },
  {
   "attachments": {},
   "cell_type": "markdown",
   "metadata": {},
   "source": [
    "Basic imports needed for RMAT"
   ]
  },
  {
   "cell_type": "code",
   "execution_count": 1,
   "metadata": {},
   "outputs": [],
   "source": [
    "import gc\n",
    "import os\n",
    "from time import perf_counter\n",
    "import numpy as np\n",
    "import random\n",
    "import math\n",
    "\n",
    "# rapids\n",
    "import cugraph\n",
    "import cudf\n",
    "\n",
    "# NetworkX libraries\n",
    "import networkx as nx\n",
    "\n",
    "# RMAT data generator\n",
    "from cugraph.generators import rmat\n",
    "from datetime import datetime"
   ]
  },
  {
   "attachments": {},
   "cell_type": "markdown",
   "metadata": {},
   "source": [
    "Method to wrap the rmat code allowing scale and edgefactor configuration"
   ]
  },
  {
   "cell_type": "code",
   "execution_count": 2,
   "metadata": {},
   "outputs": [],
   "source": [
    "def generate_data(scale, edgefactor=16):\n",
    "    _gdf = rmat(\n",
    "        scale,\n",
    "        (2 ** scale) * edgefactor,\n",
    "        0.57,\n",
    "        0.19,\n",
    "        0.19,\n",
    "        42,\n",
    "        clip_and_flip=False,\n",
    "        scramble_vertex_ids=True,\n",
    "        create_using=None,  # return edgelist instead of Graph instance\n",
    "        mg=False\n",
    "        )\n",
    "    print('Generating a dataframe of ' + str(len(_gdf)) + ' edges')\n",
    "    return _gdf"
   ]
  },
  {
   "attachments": {},
   "cell_type": "markdown",
   "metadata": {},
   "source": [
    "Generate column for the date time of each transaction inside the specified range"
   ]
  },
  {
   "cell_type": "code",
   "execution_count": 3,
   "metadata": {},
   "outputs": [],
   "source": [
    "def gen_times(count, start_date, end_date):\n",
    "    range_start = start_date.timestamp()\n",
    "    range_end =  int(end_date.timestamp())\n",
    "    random_list = []\n",
    "    for i in range(count):\n",
    "        random_list.append(random.randint(range_start,range_end))\n",
    "    return cudf.Series(random_list,name='Date', dtype=int)\n",
    "#    return [datetime.fromtimestamp(i) for i in random_list]"
   ]
  },
  {
   "attachments": {},
   "cell_type": "markdown",
   "metadata": {},
   "source": [
    "Create the dollar amount column for transactions."
   ]
  },
  {
   "cell_type": "code",
   "execution_count": 4,
   "metadata": {},
   "outputs": [],
   "source": [
    "def gen_amounts(count,value_range):\n",
    "    random_list = []\n",
    "    for i in range(count):\n",
    "        random_list.append(random.randint(0,value_range*100))\n",
    "    return cudf.Series(random_list,name='amount', dtype=float).divide(100)"
   ]
  },
  {
   "attachments": {},
   "cell_type": "markdown",
   "metadata": {},
   "source": [
    "Create and write out the csv data file.\n",
    "\n",
    "Verified to generate a file containing 33554432 edges (scale 21) on a single GPU. Takes roughly 90 seconds to do that."
   ]
  },
  {
   "cell_type": "code",
   "execution_count": 5,
   "metadata": {},
   "outputs": [
    {
     "name": "stdout",
     "output_type": "stream",
     "text": [
      "Generating a dataframe of 524288 ...\n",
      "524288\n"
     ]
    },
    {
     "data": {
      "text/html": [
       "<div>\n",
       "<style scoped>\n",
       "    .dataframe tbody tr th:only-of-type {\n",
       "        vertical-align: middle;\n",
       "    }\n",
       "\n",
       "    .dataframe tbody tr th {\n",
       "        vertical-align: top;\n",
       "    }\n",
       "\n",
       "    .dataframe thead th {\n",
       "        text-align: right;\n",
       "    }\n",
       "</style>\n",
       "<table border=\"1\" class=\"dataframe\">\n",
       "  <thead>\n",
       "    <tr style=\"text-align: right;\">\n",
       "      <th></th>\n",
       "      <th>src</th>\n",
       "      <th>dst</th>\n",
       "      <th>amounts</th>\n",
       "      <th>date</th>\n",
       "    </tr>\n",
       "  </thead>\n",
       "  <tbody>\n",
       "    <tr>\n",
       "      <th>0</th>\n",
       "      <td>31441</td>\n",
       "      <td>20910</td>\n",
       "      <td>14272.12</td>\n",
       "      <td>1648638850</td>\n",
       "    </tr>\n",
       "    <tr>\n",
       "      <th>1</th>\n",
       "      <td>761</td>\n",
       "      <td>24470</td>\n",
       "      <td>1358.57</td>\n",
       "      <td>1652541986</td>\n",
       "    </tr>\n",
       "    <tr>\n",
       "      <th>2</th>\n",
       "      <td>22887</td>\n",
       "      <td>8805</td>\n",
       "      <td>21196.26</td>\n",
       "      <td>1643694965</td>\n",
       "    </tr>\n",
       "    <tr>\n",
       "      <th>3</th>\n",
       "      <td>22486</td>\n",
       "      <td>25893</td>\n",
       "      <td>9165.10</td>\n",
       "      <td>1645863442</td>\n",
       "    </tr>\n",
       "    <tr>\n",
       "      <th>4</th>\n",
       "      <td>4335</td>\n",
       "      <td>16185</td>\n",
       "      <td>11241.70</td>\n",
       "      <td>1646718089</td>\n",
       "    </tr>\n",
       "  </tbody>\n",
       "</table>\n",
       "</div>"
      ],
      "text/plain": [
       "     src    dst   amounts        date\n",
       "0  31441  20910  14272.12  1648638850\n",
       "1    761  24470   1358.57  1652541986\n",
       "2  22887   8805  21196.26  1643694965\n",
       "3  22486  25893   9165.10  1645863442\n",
       "4   4335  16185  11241.70  1646718089"
      ]
     },
     "execution_count": 5,
     "metadata": {},
     "output_type": "execute_result"
    }
   ],
   "source": [
    "start_time = '1/1/2022 01:00:00 AM'\n",
    "end_time =   '7/1/2022 01:00:00 AM'\n",
    "amount_range = 25000\n",
    "d1 = datetime.strptime(start_time, '%m/%d/%Y %I:%M:%S %p')\n",
    "d2 = datetime.strptime(end_time, '%m/%d/%Y %I:%M:%S %p')\n",
    "scale = 15\n",
    "df = generate_data(scale)\n",
    "\n",
    "dates = gen_times(len(df),d1, d2)\n",
    "amounts = gen_amounts(len(df),amount_range)\n",
    "df['amounts'] = amounts\n",
    "df['date'] = dates\n",
    "filename = \"transaction_data_scale\"+str(scale)+\".csv\"\n",
    "df.to_csv('../data/'+filename) #append mode\n",
    "print (len(df))\n",
    "df.head(5)"
   ]
  }
 ],
 "metadata": {
  "kernelspec": {
   "display_name": "cudfdev",
   "language": "python",
   "name": "python3"
  },
  "language_info": {
   "codemirror_mode": {
    "name": "ipython",
    "version": 3
   },
   "file_extension": ".py",
   "mimetype": "text/x-python",
   "name": "python",
   "nbconvert_exporter": "python",
   "pygments_lexer": "ipython3",
   "version": "3.10.10"
  },
  "orig_nbformat": 4,
  "vscode": {
   "interpreter": {
    "hash": "587ff963ecd34554a9da41c94362e2baa062d9a57502e220f049e10816826984"
   }
  }
 },
 "nbformat": 4,
 "nbformat_minor": 2
}
