{
 "cells": [
  {
   "cell_type": "markdown",
   "metadata": {},
   "source": [
    "# PyG+cuGraph Heterogeneous MAG Example with cuGraph-Service\n",
    "# Skip notebook test\n",
    "\n",
    "### Requires installation of PyG & cuGraph-Service\n",
    "#### A cuGraph-Service Server must be running"
   ]
  },
  {
   "cell_type": "markdown",
   "metadata": {},
   "source": [
    "## Setup"
   ]
  },
  {
   "cell_type": "code",
   "execution_count": null,
   "metadata": {},
   "outputs": [],
   "source": [
    "import pathlib\n",
    "import os\n",
    "from cugraph_service_client.client import CugraphServiceClient\n",
    "# Create a new client instance\n",
    "client = CugraphServiceClient()\n",
    "\n",
    "# Set up the creation extensions\n",
    "ext_path = os.path.join(\n",
    "    pathlib.Path('__file__').parent.resolve(),\n",
    "    'cgs_creation_extensions'\n",
    ")\n",
    "print(f'loading extensions from {ext_path}')\n",
    "client.load_graph_creation_extensions(str(ext_path))"
   ]
  },
  {
   "cell_type": "code",
   "execution_count": null,
   "metadata": {},
   "outputs": [],
   "source": [
    "from cugraph_service_client.client import RemoteGraph\n",
    "\n",
    "# This line may take a while if the data has not yet been downloaded.\n",
    "graph_id = client.call_graph_creation_extension('create_mag')\n",
    "\n",
    "pG = RemoteGraph(client, graph_id)"
   ]
  },
  {
   "cell_type": "markdown",
   "metadata": {},
   "source": [
    "### Construct a Graph Store, Feature Store, and Loaders"
   ]
  },
  {
   "cell_type": "code",
   "execution_count": null,
   "metadata": {},
   "outputs": [],
   "source": [
    "from cugraph.experimental.pyg_extensions import to_pyg\n",
    "\n",
    "feature_store, graph_store = to_pyg(pG)"
   ]
  },
  {
   "cell_type": "code",
   "execution_count": null,
   "metadata": {},
   "outputs": [],
   "source": [
    "from cugraph.experimental.pyg_extensions import CuGraphSampler\n",
    "sampler = CuGraphSampler(\n",
    "    data=(feature_store, graph_store),\n",
    "    shuffle=True,\n",
    "    num_neighbors=[10,25],\n",
    "    batch_size=50,\n",
    ")"
   ]
  },
  {
   "cell_type": "code",
   "execution_count": null,
   "metadata": {},
   "outputs": [],
   "source": [
    "from torch_geometric.loader import NodeLoader\n",
    "loader = NodeLoader(\n",
    "    data=(feature_store, graph_store),\n",
    "    shuffle=True,\n",
    "    batch_size=50,\n",
    "    node_sampler=sampler,\n",
    "    input_nodes=('author', graph_store.get_vertex_index('author'))\n",
    ")\n",
    "\n",
    "test_loader = NodeLoader(\n",
    "    data=(feature_store, graph_store),\n",
    "    shuffle=True,\n",
    "    batch_size=50,\n",
    "    node_sampler=sampler,\n",
    "    input_nodes=('author', graph_store.get_vertex_index('author'))\n",
    ")\n"
   ]
  },
  {
   "cell_type": "markdown",
   "metadata": {},
   "source": [
    "### Create the Network"
   ]
  },
  {
   "cell_type": "code",
   "execution_count": null,
   "metadata": {},
   "outputs": [],
   "source": [
    "edge_types = [attr.edge_type for attr in graph_store.get_all_edge_attrs()]\n",
    "edge_types"
   ]
  },
  {
   "cell_type": "code",
   "execution_count": null,
   "metadata": {},
   "outputs": [],
   "source": [
    "num_classes = pG.get_vertex_data(columns=['y'])['y'].max() + 1\n",
    "num_classes"
   ]
  },
  {
   "cell_type": "code",
   "execution_count": null,
   "metadata": {},
   "outputs": [],
   "source": [
    "import torch\n",
    "import torch.nn.functional as F\n",
    "\n",
    "from torch_geometric.nn import HeteroConv, Linear, SAGEConv\n",
    "\n",
    "class HeteroGNN(torch.nn.Module):\n",
    "    def __init__(self, edge_types, hidden_channels, out_channels, num_layers):\n",
    "        super().__init__()\n",
    "\n",
    "        self.convs = torch.nn.ModuleList()\n",
    "        for _ in range(num_layers):\n",
    "            conv = HeteroConv({\n",
    "                edge_type: SAGEConv((-1, -1), hidden_channels)\n",
    "                for edge_type in edge_types\n",
    "            })\n",
    "            self.convs.append(conv)\n",
    "\n",
    "        self.lin = Linear(hidden_channels, out_channels)\n",
    "\n",
    "    def forward(self, x_dict, edge_index_dict):\n",
    "        for conv in self.convs:\n",
    "            x_dict = conv(x_dict, edge_index_dict)\n",
    "            x_dict = {key: F.leaky_relu(x) for key, x in x_dict.items()}\n",
    "        print(x_dict, edge_index_dict)\n",
    "        return self.lin(x_dict['paper'])\n",
    "\n",
    "\n",
    "model = HeteroGNN(edge_types, hidden_channels=64, out_channels=num_classes,\n",
    "                  num_layers=2).cuda()\n",
    "\n",
    "with torch.no_grad():  # Initialize lazy modules.\n",
    "    data = next(iter(loader))\n",
    "    out = model(data.x_dict, data.edge_index_dict)\n",
    "\n",
    "optimizer = torch.optim.Adam(model.parameters(), lr=0.005, weight_decay=0.001)\n",
    "\n",
    "num_batches = 5\n",
    "def train():\n",
    "    model.train()\n",
    "    optimizer.zero_grad()\n",
    "    for b_i, data in enumerate(loader):\n",
    "        if b_i == num_batches:\n",
    "            break\n",
    "\n",
    "        out = model(data.x_dict, data.edge_index_dict)\n",
    "        loss = F.cross_entropy(out, data.y_dict['paper'])\n",
    "        loss.backward()\n",
    "        optimizer.step()\n",
    "    \n",
    "    return float(loss) / num_batches\n",
    "\n",
    "\n",
    "@torch.no_grad()\n",
    "def test():\n",
    "    model.eval()\n",
    "    test_iter = iter(test_loader)\n",
    "\n",
    "    acc = 0.0\n",
    "    for _ in range(2*num_batches):\n",
    "        data = next(test_iter)\n",
    "        pred = model(data.x_dict, data.edge_index_dict).argmax(dim=-1)\n",
    "\n",
    "        \n",
    "        acc += (pred == data['paper'].y).sum() / len(data['paper'])\n",
    "    return acc / (2*num_batches)\n",
    "\n",
    "\n",
    "for epoch in range(1, 101):\n",
    "    loss = train()\n",
    "    train_acc = test()\n",
    "    print(f'Epoch: {epoch:03d}, Loss: {loss:.4f}, Train: {train_acc:.4f}')\n"
   ]
  },
  {
   "cell_type": "markdown",
   "metadata": {},
   "source": [
    "### Train the Network"
   ]
  },
  {
   "cell_type": "code",
   "execution_count": null,
   "metadata": {},
   "outputs": [],
   "source": [
    "for epoch in range(1, 101):\n",
    "    loss = train()\n",
    "    train_acc = test()\n",
    "    print(f'Epoch: {epoch:03d}, Loss: {loss:.4f}, Train: {train_acc:.4f}')"
   ]
  },
  {
   "cell_type": "code",
   "execution_count": null,
   "metadata": {},
   "outputs": [],
   "source": []
  }
 ],
 "metadata": {
  "kernelspec": {
   "display_name": "Python 3.9.7 ('base')",
   "language": "python",
   "name": "python3"
  },
  "language_info": {
   "codemirror_mode": {
    "name": "ipython",
    "version": 3
   },
   "file_extension": ".py",
   "mimetype": "text/x-python",
   "name": "python",
   "nbconvert_exporter": "python",
   "pygments_lexer": "ipython3",
   "version": "3.9.13"
  },
  "orig_nbformat": 4,
  "vscode": {
   "interpreter": {
    "hash": "f708a36acfaef0acf74ccd43dfb58100269bf08fb79032a1e0a6f35bd9856f51"
   }
  }
 },
 "nbformat": 4,
 "nbformat_minor": 2
}
