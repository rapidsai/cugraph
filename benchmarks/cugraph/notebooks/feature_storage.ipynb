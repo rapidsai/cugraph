{
 "cells": [
  {
   "cell_type": "markdown",
   "id": "0e89dc09-ee78-4dae-8be0-3cf824e33079",
   "metadata": {},
   "source": [
    "# FeatureStore Benchmarks"
   ]
  },
  {
   "cell_type": "code",
   "execution_count": 1,
   "id": "fdcc7186-cdbc-4673-91d1-211049e22072",
   "metadata": {},
   "outputs": [
    {
     "name": "stderr",
     "output_type": "stream",
     "text": [
      "/datasets/vjawa/miniconda3/envs/all_cuda-115_arch-x86_64/lib/python3.9/site-packages/tqdm/auto.py:22: TqdmWarning: IProgress not found. Please update jupyter and ipywidgets. See https://ipywidgets.readthedocs.io/en/stable/user_install.html\n",
      "  from .autonotebook import tqdm as notebook_tqdm\n"
     ]
    }
   ],
   "source": [
    "import cudf\n",
    "import cupy as cp\n",
    "import numpy as np\n",
    "import torch\n",
    "\n",
    "# Import FeatureStore class\n",
    "from cugraph.gnn import FeatureStore"
   ]
  },
  {
   "cell_type": "markdown",
   "id": "cfcf3cc5-dd77-4a88-810e-0bcd2c7becd4",
   "metadata": {},
   "source": [
    "# Feature to Load"
   ]
  },
  {
   "cell_type": "code",
   "execution_count": 2,
   "id": "439f1de5-16fa-432a-9a17-7b00e1d6f63b",
   "metadata": {},
   "outputs": [],
   "source": [
    "numpy_path = '/raid/gnn/'\n",
    "paper_feat_path = numpy_path + 'paper/node_feat.npy'\n",
    "paper_ar = np.load(paper_feat_path, mmap_mode='r') "
   ]
  },
  {
   "cell_type": "markdown",
   "id": "759c4870-fb65-4428-bef5-25d004635bca",
   "metadata": {},
   "source": [
    "# Numpy Based"
   ]
  },
  {
   "cell_type": "code",
   "execution_count": 3,
   "id": "53f7567d-f28d-4e79-9c69-90a88b66c9f6",
   "metadata": {},
   "outputs": [],
   "source": [
    "fs = FeatureStore(backend='numpy')\n",
    "fs.add_data(paper_ar, 'paper', 'feat')\n"
   ]
  },
  {
   "cell_type": "code",
   "execution_count": 4,
   "id": "81b529ed-1a6c-427e-8a21-ae06a0d431c5",
   "metadata": {},
   "outputs": [
    {
     "name": "stdout",
     "output_type": "stream",
     "text": [
      "9.66 ms ± 94 µs per loop (mean ± std. dev. of 7 runs, 100 loops each)\n"
     ]
    }
   ],
   "source": [
    "batch_size = 1024*20\n",
    "range_max = len(paper_ar)\n",
    "indices = np.random.randint(low=0,high=range_max, size=batch_size, dtype=np.int32)\n",
    "%timeit fetched_feat = fs.get_data(indices=indices,type_name='paper', feat_name='feat')\n",
    "fetched_feat = fs.get_data(indices=indices,type_name='paper', feat_name='feat')\n",
    "assert isinstance(fetched_feat, np.ndarray)"
   ]
  },
  {
   "cell_type": "markdown",
   "id": "23cb56b6-d3b3-4a7a-b260-ebec36846f9a",
   "metadata": {},
   "source": [
    "# Torch Based"
   ]
  },
  {
   "cell_type": "code",
   "execution_count": 5,
   "id": "3dac4d18-37b2-4b3d-bc0f-e12e6dd96055",
   "metadata": {},
   "outputs": [
    {
     "name": "stderr",
     "output_type": "stream",
     "text": [
      "/datasets/vjawa/miniconda3/envs/all_cuda-115_arch-x86_64/lib/python3.9/site-packages/cugraph/gnn/feature_storage/feat_storage.py:104: UserWarning: The given NumPy array is not writable, and PyTorch does not support non-writable tensors. This means writing to this tensor will result in undefined behavior. You may want to copy the array to protect its data or make it writable before converting it to a tensor. This type of warning will be suppressed for the rest of this program. (Triggered internally at  /home/conda/feedstock_root/build_artifacts/pytorch-recipe_1664405705473/work/torch/csrc/utils/tensor_numpy.cpp:172.)\n",
      "  ar = torch.from_numpy(ar)\n"
     ]
    }
   ],
   "source": [
    "fs = FeatureStore(backend='torch')\n",
    "fs.add_data(paper_ar, 'paper', 'feat')"
   ]
  },
  {
   "cell_type": "code",
   "execution_count": 6,
   "id": "0ec97967-abef-4d7a-a6ca-6a1301bad22a",
   "metadata": {},
   "outputs": [
    {
     "name": "stdout",
     "output_type": "stream",
     "text": [
      "1.11 ms ± 27.8 µs per loop (mean ± std. dev. of 7 runs, 1,000 loops each)\n"
     ]
    }
   ],
   "source": [
    "batch_size = 1024*20\n",
    "range_max = len(paper_ar)\n",
    "indices = np.random.randint(low=0,high=range_max, size=batch_size, dtype=np.int32)\n",
    "%timeit fetched_feat = fs.get_data(indices=indices,type_name='paper', feat_name='feat')\n",
    "fetched_feat = fs.get_data(indices=indices,type_name='paper', feat_name='feat')\n",
    "assert isinstance(fetched_feat, torch.Tensor)"
   ]
  }
 ],
 "metadata": {
  "kernelspec": {
   "display_name": "Python 3 (ipykernel)",
   "language": "python",
   "name": "python3"
  },
  "language_info": {
   "codemirror_mode": {
    "name": "ipython",
    "version": 3
   },
   "file_extension": ".py",
   "mimetype": "text/x-python",
   "name": "python",
   "nbconvert_exporter": "python",
   "pygments_lexer": "ipython3",
   "version": "3.9.15"
  }
 },
 "nbformat": 4,
 "nbformat_minor": 5
}
