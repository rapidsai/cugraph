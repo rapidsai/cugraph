{
 "cells": [
  {
   "cell_type": "markdown",
   "id": "0e89dc09-ee78-4dae-8be0-3cf824e33079",
   "metadata": {},
   "source": [
    "# FeatureStore Benchmarks"
   ]
  },
  {
   "cell_type": "code",
   "execution_count": 1,
   "id": "fdcc7186-cdbc-4673-91d1-211049e22072",
   "metadata": {},
   "outputs": [
    {
     "name": "stderr",
     "output_type": "stream",
     "text": [
      "/datasets/vjawa/miniconda3/envs/all_cuda-115_arch-x86_64/lib/python3.9/site-packages/tqdm/auto.py:22: TqdmWarning: IProgress not found. Please update jupyter and ipywidgets. See https://ipywidgets.readthedocs.io/en/stable/user_install.html\n",
      "  from .autonotebook import tqdm as notebook_tqdm\n"
     ]
    }
   ],
   "source": [
    "import cudf\n",
    "import cupy as cp\n",
    "import numpy as np\n",
    "from collections import defaultdict\n",
    "import dask_cudf\n",
    "from dask import dataframe as dd\n",
    "from dask_cuda import LocalCUDACluster\n",
    "from distributed import Client\n",
    "import dask\n",
    "import pandas as pd\n",
    "import time\n",
    "import torch"
   ]
  },
  {
   "cell_type": "markdown",
   "id": "15be9980-deeb-4c95-bf3e-2877e4bad246",
   "metadata": {},
   "source": [
    "# Create Dask Server"
   ]
  },
  {
   "cell_type": "code",
   "execution_count": 2,
   "id": "6e191646-cd7f-4f58-a459-be8dc5ea6b06",
   "metadata": {},
   "outputs": [
    {
     "name": "stderr",
     "output_type": "stream",
     "text": [
      "2023-01-12 19:35:23,832 - distributed.preloading - INFO - Creating preload: dask_cuda.initialize\n"
     ]
    }
   ],
   "source": [
    "def setup_cluster():\n",
    "    cluster = LocalCUDACluster(protocol='tcp',\n",
    "                               CUDA_VISIBLE_DEVICES='0,1,2,3,4,5,6',\n",
    "                               rmm_pool_size='20gb',\n",
    "                               local_directory='/raid/vjawa/dask-dir',\n",
    "                              )\n",
    "    client = Client(cluster)\n",
    "    return cluster,client\n",
    "\n",
    "cluster,client = setup_cluster()"
   ]
  },
  {
   "cell_type": "markdown",
   "id": "29c61488-0829-46ce-931a-5468086bf15c",
   "metadata": {},
   "source": [
    "# Feature Storage Class"
   ]
  },
  {
   "cell_type": "code",
   "execution_count": 4,
   "id": "45f5ff99-c54e-470a-a450-f42c6362b50a",
   "metadata": {},
   "outputs": [],
   "source": [
    "from cugraph.gnn import FeatureStore"
   ]
  },
  {
   "cell_type": "code",
   "execution_count": 5,
   "id": "19abb12d-1cf7-4103-9620-a3a6325612c8",
   "metadata": {},
   "outputs": [],
   "source": [
    "path = '/datasets/MAG240m/MAG240M_gp_etl/node_data/'\n",
    "path_d = {name: path+f'{name}_feat.parquet' for name in ['author', 'institution', 'paper']}"
   ]
  },
  {
   "cell_type": "markdown",
   "id": "15cc2724-1660-4635-9350-132ac2647711",
   "metadata": {},
   "source": [
    "# Dask Cupy based benchmarks"
   ]
  },
  {
   "cell_type": "code",
   "execution_count": 5,
   "id": "765479c8-fe6e-4b64-910c-f9a2c82deb3b",
   "metadata": {},
   "outputs": [],
   "source": [
    "n_parts = 10\n",
    "# author_df = dask_cudf.read_parquet(path_d['author']).partitions[0:n_parts]\n",
    "# institution_df = dask_cudf.read_parquet(path_d['institution']).partitions[0:n_parts]\n",
    "paper_df = dask_cudf.read_parquet(path_d['paper']).partitions[0:n_parts]\n",
    "fs = FeatureStore(backend='dask_cupy', client=client)\n",
    "# fs.add_feat_from_df(author_df, 'author', 'feat')\n",
    "# fs.add_feat_from_df(institution_df, 'institution', 'feat')\n",
    "fs.add_feat_from_df(paper_df, 'paper', 'feat')\n",
    "## Persist feat_data\n",
    "fs.persist_feat_data()"
   ]
  },
  {
   "cell_type": "code",
   "execution_count": 6,
   "id": "e7277688-1abb-48ea-afee-17777eb0ebe8",
   "metadata": {},
   "outputs": [
    {
     "name": "stdout",
     "output_type": "stream",
     "text": [
      "244 ms ± 5.94 ms per loop (mean ± std. dev. of 7 runs, 1 loop each)\n"
     ]
    }
   ],
   "source": [
    "batch_size = 1024*20\n",
    "range_max = len(paper_df)\n",
    "\n",
    "indices = cp.random.randint(low=0,high=range_max, size=batch_size, dtype=cp.int32)\n",
    "%timeit fetched_feat = fs.get_data(indices=indices,type_name='paper', feat_name='feat')\n",
    "fetched_feat = fs.get_data(indices=indices,type_name='paper', feat_name='feat')\n",
    "assert isinstance(fetched_feat, cp.ndarray)"
   ]
  },
  {
   "cell_type": "code",
   "execution_count": 7,
   "id": "d3d346e7-2bf6-444f-9c46-706d814b2dbf",
   "metadata": {},
   "outputs": [
    {
     "data": {
      "text/html": [
       "<table>\n",
       "    <tr>\n",
       "        <th>Worker</th>\n",
       "        <th>Key count</th>\n",
       "        <th>Key list</th>\n",
       "    </tr>\n",
       "\n",
       "    \n",
       "    <tr>\n",
       "        <td>tcp://127.0.0.1:33441</td>\n",
       "        <td>0</td>\n",
       "        <td>\n",
       "            <details>\n",
       "            <summary style='display:list-item'>Expand</summary>\n",
       "            <table>\n",
       "            \n",
       "            </table>\n",
       "            </details>\n",
       "        </td>\n",
       "    </tr>\n",
       "    \n",
       "    <tr>\n",
       "        <td>tcp://127.0.0.1:39221</td>\n",
       "        <td>0</td>\n",
       "        <td>\n",
       "            <details>\n",
       "            <summary style='display:list-item'>Expand</summary>\n",
       "            <table>\n",
       "            \n",
       "            </table>\n",
       "            </details>\n",
       "        </td>\n",
       "    </tr>\n",
       "    \n",
       "    <tr>\n",
       "        <td>tcp://127.0.0.1:40423</td>\n",
       "        <td>0</td>\n",
       "        <td>\n",
       "            <details>\n",
       "            <summary style='display:list-item'>Expand</summary>\n",
       "            <table>\n",
       "            \n",
       "            </table>\n",
       "            </details>\n",
       "        </td>\n",
       "    </tr>\n",
       "    \n",
       "    <tr>\n",
       "        <td>tcp://127.0.0.1:40549</td>\n",
       "        <td>0</td>\n",
       "        <td>\n",
       "            <details>\n",
       "            <summary style='display:list-item'>Expand</summary>\n",
       "            <table>\n",
       "            \n",
       "            </table>\n",
       "            </details>\n",
       "        </td>\n",
       "    </tr>\n",
       "    \n",
       "    <tr>\n",
       "        <td>tcp://127.0.0.1:40773</td>\n",
       "        <td>0</td>\n",
       "        <td>\n",
       "            <details>\n",
       "            <summary style='display:list-item'>Expand</summary>\n",
       "            <table>\n",
       "            \n",
       "            </table>\n",
       "            </details>\n",
       "        </td>\n",
       "    </tr>\n",
       "    \n",
       "    <tr>\n",
       "        <td>tcp://127.0.0.1:42559</td>\n",
       "        <td>0</td>\n",
       "        <td>\n",
       "            <details>\n",
       "            <summary style='display:list-item'>Expand</summary>\n",
       "            <table>\n",
       "            \n",
       "            </table>\n",
       "            </details>\n",
       "        </td>\n",
       "    </tr>\n",
       "    \n",
       "    <tr>\n",
       "        <td>tcp://127.0.0.1:44079</td>\n",
       "        <td>0</td>\n",
       "        <td>\n",
       "            <details>\n",
       "            <summary style='display:list-item'>Expand</summary>\n",
       "            <table>\n",
       "            \n",
       "            </table>\n",
       "            </details>\n",
       "        </td>\n",
       "    </tr>\n",
       "    \n",
       "</table>"
      ],
      "text/plain": [
       "{'tcp://127.0.0.1:33441': (),\n",
       " 'tcp://127.0.0.1:39221': (),\n",
       " 'tcp://127.0.0.1:40423': (),\n",
       " 'tcp://127.0.0.1:40549': (),\n",
       " 'tcp://127.0.0.1:40773': (),\n",
       " 'tcp://127.0.0.1:42559': (),\n",
       " 'tcp://127.0.0.1:44079': ()}"
      ]
     },
     "execution_count": 7,
     "metadata": {},
     "output_type": "execute_result"
    }
   ],
   "source": [
    "if 'fs' in globals():\n",
    "    del fs\n",
    "time.sleep(2)\n",
    "client.has_what()"
   ]
  },
  {
   "cell_type": "markdown",
   "id": "50f5b94a-b686-4237-8c38-fbbf9c13ae1e",
   "metadata": {},
   "source": [
    "# Dask Numpy based"
   ]
  },
  {
   "cell_type": "code",
   "execution_count": 8,
   "id": "db1eb593-c456-4e97-82c1-c02122b3c8bc",
   "metadata": {},
   "outputs": [],
   "source": [
    "n_parts = 15\n",
    "# author_df = dask_cudf.read_parquet(path_d['author']).partitions[0:n_parts]\n",
    "# institution_df = dask_cudf.read_parquet(path_d['institution']).partitions[0:n_parts]\n",
    "paper_df = dask_cudf.read_parquet(path_d['paper']).partitions[0:n_parts]\n",
    "fs = FeatureStore(backend='dask_numpy', client=client)\n",
    "# fs.add_feat_from_df(author_df, 'author', 'feat')\n",
    "# fs.add_feat_from_df(institution_df, 'institution', 'feat')\n",
    "fs.add_feat_from_df(paper_df, 'paper', 'feat')\n",
    "# Persist feat_data\n",
    "fs.persist_feat_data()"
   ]
  },
  {
   "cell_type": "code",
   "execution_count": 9,
   "id": "8395fce3-8710-4a62-9654-05c3537e6ca7",
   "metadata": {},
   "outputs": [
    {
     "name": "stdout",
     "output_type": "stream",
     "text": [
      "321 ms ± 3.18 ms per loop (mean ± std. dev. of 7 runs, 1 loop each)\n"
     ]
    }
   ],
   "source": [
    "batch_size = 1024*20\n",
    "range_max = len(paper_df)\n",
    "\n",
    "indices = np.random.randint(low=0,high=range_max, size=batch_size, dtype=np.int32)\n",
    "%timeit fetched_feat = fs.get_data(indices=indices,type_name='paper', feat_name='feat')\n",
    "fetched_feat = fs.get_data(indices=indices,type_name='paper', feat_name='feat')\n",
    "assert isinstance(fetched_feat, np.ndarray)"
   ]
  },
  {
   "cell_type": "code",
   "execution_count": 10,
   "id": "2e9179b7-faee-4ae3-986e-3cf4ecea122e",
   "metadata": {},
   "outputs": [
    {
     "data": {
      "text/html": [
       "<table>\n",
       "    <tr>\n",
       "        <th>Worker</th>\n",
       "        <th>Key count</th>\n",
       "        <th>Key list</th>\n",
       "    </tr>\n",
       "\n",
       "    \n",
       "    <tr>\n",
       "        <td>tcp://127.0.0.1:33441</td>\n",
       "        <td>0</td>\n",
       "        <td>\n",
       "            <details>\n",
       "            <summary style='display:list-item'>Expand</summary>\n",
       "            <table>\n",
       "            \n",
       "            </table>\n",
       "            </details>\n",
       "        </td>\n",
       "    </tr>\n",
       "    \n",
       "    <tr>\n",
       "        <td>tcp://127.0.0.1:39221</td>\n",
       "        <td>0</td>\n",
       "        <td>\n",
       "            <details>\n",
       "            <summary style='display:list-item'>Expand</summary>\n",
       "            <table>\n",
       "            \n",
       "            </table>\n",
       "            </details>\n",
       "        </td>\n",
       "    </tr>\n",
       "    \n",
       "    <tr>\n",
       "        <td>tcp://127.0.0.1:40423</td>\n",
       "        <td>0</td>\n",
       "        <td>\n",
       "            <details>\n",
       "            <summary style='display:list-item'>Expand</summary>\n",
       "            <table>\n",
       "            \n",
       "            </table>\n",
       "            </details>\n",
       "        </td>\n",
       "    </tr>\n",
       "    \n",
       "    <tr>\n",
       "        <td>tcp://127.0.0.1:40549</td>\n",
       "        <td>0</td>\n",
       "        <td>\n",
       "            <details>\n",
       "            <summary style='display:list-item'>Expand</summary>\n",
       "            <table>\n",
       "            \n",
       "            </table>\n",
       "            </details>\n",
       "        </td>\n",
       "    </tr>\n",
       "    \n",
       "    <tr>\n",
       "        <td>tcp://127.0.0.1:40773</td>\n",
       "        <td>0</td>\n",
       "        <td>\n",
       "            <details>\n",
       "            <summary style='display:list-item'>Expand</summary>\n",
       "            <table>\n",
       "            \n",
       "            </table>\n",
       "            </details>\n",
       "        </td>\n",
       "    </tr>\n",
       "    \n",
       "    <tr>\n",
       "        <td>tcp://127.0.0.1:42559</td>\n",
       "        <td>0</td>\n",
       "        <td>\n",
       "            <details>\n",
       "            <summary style='display:list-item'>Expand</summary>\n",
       "            <table>\n",
       "            \n",
       "            </table>\n",
       "            </details>\n",
       "        </td>\n",
       "    </tr>\n",
       "    \n",
       "    <tr>\n",
       "        <td>tcp://127.0.0.1:44079</td>\n",
       "        <td>0</td>\n",
       "        <td>\n",
       "            <details>\n",
       "            <summary style='display:list-item'>Expand</summary>\n",
       "            <table>\n",
       "            \n",
       "            </table>\n",
       "            </details>\n",
       "        </td>\n",
       "    </tr>\n",
       "    \n",
       "</table>"
      ],
      "text/plain": [
       "{'tcp://127.0.0.1:33441': (),\n",
       " 'tcp://127.0.0.1:39221': (),\n",
       " 'tcp://127.0.0.1:40423': (),\n",
       " 'tcp://127.0.0.1:40549': (),\n",
       " 'tcp://127.0.0.1:40773': (),\n",
       " 'tcp://127.0.0.1:42559': (),\n",
       " 'tcp://127.0.0.1:44079': ()}"
      ]
     },
     "execution_count": 10,
     "metadata": {},
     "output_type": "execute_result"
    }
   ],
   "source": [
    "if 'fs' in globals():\n",
    "    del fs\n",
    "time.sleep(2)\n",
    "client.has_what()"
   ]
  },
  {
   "cell_type": "markdown",
   "id": "759c4870-fb65-4428-bef5-25d004635bca",
   "metadata": {},
   "source": [
    "# Numpy Based"
   ]
  },
  {
   "cell_type": "code",
   "execution_count": 2,
   "id": "425f28b9-fd0a-4478-84f7-49b0d1475c89",
   "metadata": {},
   "outputs": [],
   "source": [
    "numpy_path = '/raid/gnn/'\n",
    "paper_feat_path = numpy_path + 'paper/node_feat.npy'\n",
    "paper_ar = np.load(paper_feat_path, mmap_mode='r') "
   ]
  },
  {
   "cell_type": "code",
   "execution_count": 6,
   "id": "53f7567d-f28d-4e79-9c69-90a88b66c9f6",
   "metadata": {},
   "outputs": [],
   "source": [
    "fs = FeatureStore(backend='numpy')\n",
    "fs.add_feat_from_df(paper_ar, 'paper', 'feat')"
   ]
  },
  {
   "cell_type": "code",
   "execution_count": 8,
   "id": "81b529ed-1a6c-427e-8a21-ae06a0d431c5",
   "metadata": {},
   "outputs": [
    {
     "name": "stdout",
     "output_type": "stream",
     "text": [
      "9.76 ms ± 27.9 µs per loop (mean ± std. dev. of 7 runs, 100 loops each)\n"
     ]
    }
   ],
   "source": [
    "batch_size = 1024*20\n",
    "range_max = len(paper_ar)\n",
    "indices = np.random.randint(low=0,high=range_max, size=batch_size, dtype=np.int32)\n",
    "%timeit fetched_feat = fs.get_data(indices=indices,type_name='paper', feat_name='feat')\n",
    "fetched_feat = fs.get_data(indices=indices,type_name='paper', feat_name='feat')\n",
    "assert isinstance(fetched_feat, np.ndarray)"
   ]
  },
  {
   "cell_type": "markdown",
   "id": "23cb56b6-d3b3-4a7a-b260-ebec36846f9a",
   "metadata": {},
   "source": [
    "# Torch Based"
   ]
  },
  {
   "cell_type": "code",
   "execution_count": 9,
   "id": "7e867cfa-457e-48ac-970d-3ed63ef73414",
   "metadata": {},
   "outputs": [
    {
     "name": "stdout",
     "output_type": "stream",
     "text": [
      "CPU times: user 0 ns, sys: 2.63 ms, total: 2.63 ms\n",
      "Wall time: 2.17 ms\n"
     ]
    }
   ],
   "source": [
    "%%time\n",
    "numpy_path = '/raid/gnn/'\n",
    "paper_feat_path = numpy_path + 'paper/node_feat.npy'\n",
    "paper_ar = np.load(paper_feat_path,  mmap_mode='r') "
   ]
  },
  {
   "cell_type": "code",
   "execution_count": 10,
   "id": "3dac4d18-37b2-4b3d-bc0f-e12e6dd96055",
   "metadata": {},
   "outputs": [
    {
     "name": "stderr",
     "output_type": "stream",
     "text": [
      "/datasets/vjawa/miniconda3/envs/all_cuda-115_arch-x86_64/lib/python3.9/site-packages/cugraph/gnn/feature_storage/feat_storage.py:62: UserWarning: The given NumPy array is not writable, and PyTorch does not support non-writable tensors. This means writing to this tensor will result in undefined behavior. You may want to copy the array to protect its data or make it writable before converting it to a tensor. This type of warning will be suppressed for the rest of this program. (Triggered internally at  /home/conda/feedstock_root/build_artifacts/pytorch-recipe_1664405705473/work/torch/csrc/utils/tensor_numpy.cpp:172.)\n",
      "  return torch.from_numpy(feat_obj)\n"
     ]
    }
   ],
   "source": [
    "fs = FeatureStore(backend='torch')\n",
    "fs.add_feat_from_df(paper_ar, 'paper', 'feat')"
   ]
  },
  {
   "cell_type": "code",
   "execution_count": 11,
   "id": "0ec97967-abef-4d7a-a6ca-6a1301bad22a",
   "metadata": {},
   "outputs": [
    {
     "name": "stdout",
     "output_type": "stream",
     "text": [
      "719 µs ± 40 µs per loop (mean ± std. dev. of 7 runs, 1,000 loops each)\n"
     ]
    }
   ],
   "source": [
    "batch_size = 1024*20\n",
    "range_max = len(paper_ar)\n",
    "indices = np.random.randint(low=0,high=range_max, size=batch_size, dtype=np.int32)\n",
    "%timeit fetched_feat = fs.get_data(indices=indices,type_name='paper', feat_name='feat')\n",
    "fetched_feat = fs.get_data(indices=indices,type_name='paper', feat_name='feat')\n",
    "assert torch.is_tensor(fetched_feat)"
   ]
  }
 ],
 "metadata": {
  "kernelspec": {
   "display_name": "Python 3 (ipykernel)",
   "language": "python",
   "name": "python3"
  },
  "language_info": {
   "codemirror_mode": {
    "name": "ipython",
    "version": 3
   },
   "file_extension": ".py",
   "mimetype": "text/x-python",
   "name": "python",
   "nbconvert_exporter": "python",
   "pygments_lexer": "ipython3",
   "version": "3.9.15"
  }
 },
 "nbformat": 4,
 "nbformat_minor": 5
}
