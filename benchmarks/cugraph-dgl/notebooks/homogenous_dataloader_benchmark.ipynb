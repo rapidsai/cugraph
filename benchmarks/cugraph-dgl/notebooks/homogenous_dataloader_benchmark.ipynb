{
 "cells": [
  {
   "cell_type": "markdown",
   "id": "7656142d-e24f-4c74-99da-96b89a791a90",
   "metadata": {},
   "source": [
    "## Benchmark cuGraph vs DGL on DataLoading on homogenous datasets"
   ]
  },
  {
   "cell_type": "markdown",
   "id": "4c1e4b10-c295-4b17-adff-c1d2a7c56367",
   "metadata": {},
   "source": [
    "### Imports"
   ]
  },
  {
   "cell_type": "code",
   "execution_count": 1,
   "id": "d98e0ec7-32b5-4421-8004-ee8e23207a2f",
   "metadata": {},
   "outputs": [
    {
     "name": "stderr",
     "output_type": "stream",
     "text": [
      "/datasets/vjawa/miniconda3/envs/all_cuda-115_arch-x86_64/lib/python3.9/site-packages/tqdm/auto.py:22: TqdmWarning: IProgress not found. Please update jupyter and ipywidgets. See https://ipywidgets.readthedocs.io/en/stable/user_install.html\n",
      "  from .autonotebook import tqdm as notebook_tqdm\n"
     ]
    }
   ],
   "source": [
    "import gc\n",
    "import rmm                                                                                                                                                                                                 \n",
    "import torch\n",
    "import dgl\n",
    "import numpy as np\n",
    "\n",
    "#TODO: Enable in torch nightly\n",
    "# torch.cuda.memory.change_current_allocator(rmm.rmm_torch_allocator)\n",
    "        \n",
    "import cugraph_dgl\n",
    "from dgl.data import AsNodePredDataset\n",
    "from dgl.dataloading import DataLoader, NeighborSampler, MultiLayerFullNeighborSampler\n",
    "from ogb.nodeproppred import DglNodePropPredDataset"
   ]
  },
  {
   "cell_type": "markdown",
   "id": "537b4743-bc69-464d-8874-3b682f5f94fc",
   "metadata": {},
   "source": [
    "### Configure if single_gpu"
   ]
  },
  {
   "cell_type": "code",
   "execution_count": 2,
   "id": "ffc62e41-a730-4149-889f-c625504fea46",
   "metadata": {},
   "outputs": [],
   "source": [
    "single_gpu = False"
   ]
  },
  {
   "cell_type": "code",
   "execution_count": 3,
   "id": "81932e75-fb52-42d7-8c29-ea78376e04a9",
   "metadata": {},
   "outputs": [
    {
     "name": "stderr",
     "output_type": "stream",
     "text": [
      "2023-01-17 11:40:18,889 - distributed.preloading - INFO - Creating preload: dask_cuda.initialize\n"
     ]
    }
   ],
   "source": [
    "def enable_cudf_spilling():\n",
    "    import cudf\n",
    "    SPILL_FLAG = True\n",
    "    cudf.set_option(\"spill\", SPILL_FLAG)\n",
    "\n",
    "if not single_gpu:\n",
    "    from dask_cuda import LocalCUDACluster\n",
    "    from dask.distributed import Client\n",
    "    import cugraph.dask.comms.comms as Comms\n",
    "    cluster = LocalCUDACluster(protocol='tcp',rmm_pool_size='25GB', CUDA_VISIBLE_DEVICES='1,2,3,4,5,6,7', jit_unspill=False)\n",
    "    client = Client(cluster)\n",
    "    client.run(enable_cudf_spilling)\n",
    "    Comms.initialize(p2p=True)\n",
    "    enable_cudf_spilling()\n",
    "else:\n",
    "    enable_cudf_spilling()\n",
    "    rmm.reinitialize(pool_allocator=True, initial_pool_size=5e9, maximum_pool_size=20e9)\n",
    "    #torch.cuda.memory.change_current_allocator(rmm.rmm_torch_allocator)"
   ]
  },
  {
   "cell_type": "markdown",
   "id": "a242d8ef-2d5f-417e-b881-e699609687b2",
   "metadata": {},
   "source": [
    "## Create  DGL Graph"
   ]
  },
  {
   "cell_type": "code",
   "execution_count": 4,
   "id": "936a1782-604e-4f2e-a063-b182deaa70cf",
   "metadata": {},
   "outputs": [],
   "source": [
    "dataset_name='ogbn-products'\n",
    "dataset_root = '/raid/vjawa/gnn/'\n",
    "dataset =  DglNodePropPredDataset(name = dataset_name, root=dataset_root)\n",
    "split_idx = dataset.get_idx_split()\n",
    "train_idx, valid_idx, test_idx = split_idx[\"train\"], split_idx[\"valid\"], split_idx[\"test\"]\n",
    "g, label = dataset[0]\n",
    "g.ndata['label'] = label\n",
    "\n",
    "## Adding Self loops to make testing easier\n",
    "## As we fail with isolated edges\n",
    "## in cuGraph\n",
    "## See comment: https://github.com/rapidsai/cugraph/pull/2997\n",
    "g = dgl.add_self_loop(g)"
   ]
  },
  {
   "cell_type": "markdown",
   "id": "2aa10458-53d0-4cf3-9879-f098bac352dc",
   "metadata": {},
   "source": [
    "## Create DataLoader"
   ]
  },
  {
   "cell_type": "code",
   "execution_count": 5,
   "id": "b5d8e4b9-6a4a-4a13-a63b-f816405d1628",
   "metadata": {},
   "outputs": [],
   "source": [
    "def create_dataloader(train_idx, g, device='cuda'):\n",
    "    if isinstance(train_idx, torch.Tensor):\n",
    "        train_idx = train_idx.to(device).to(g.idtype)\n",
    "    else:\n",
    "        train_idx={k:v.to(device).to(g.idtype) for k,v in train_idx.items()}\n",
    "    sampler = NeighborSampler(\n",
    "        [20,20,20],# Multiple Fanout\n",
    "        prefetch_node_feats=[\"feat\"],\n",
    "        prefetch_labels=[\"label\"],\n",
    "    )\n",
    "    batch_size = 1024*20\n",
    "    train_dataloader = DataLoader(\n",
    "        g,\n",
    "        train_idx,\n",
    "        sampler,\n",
    "        device=device,\n",
    "        batch_size=batch_size,\n",
    "        shuffle=False,\n",
    "        drop_last=False,\n",
    "        num_workers=0,\n",
    "        use_uva=False,\n",
    "    )\n",
    "    return train_dataloader"
   ]
  },
  {
   "cell_type": "markdown",
   "id": "b7c35a1e-b2bb-47df-b7ad-e740bae032d7",
   "metadata": {},
   "source": [
    "## DGL CPU Benchmark"
   ]
  },
  {
   "cell_type": "code",
   "execution_count": 6,
   "id": "98d6b058-632b-4917-8a27-738aa70394bd",
   "metadata": {},
   "outputs": [
    {
     "name": "stderr",
     "output_type": "stream",
     "text": [
      "/datasets/vjawa/miniconda3/envs/all_cuda-115_arch-x86_64/lib/python3.9/site-packages/dgl/dataloading/dataloader.py:859: DGLWarning: Dataloader CPU affinity opt is not enabled, consider switching it on (see enable_cpu_affinity() or CPU best practices for DGL [https://docs.dgl.ai/tutorials/cpu/cpu_best_practises.html])\n",
      "  dgl_warning(f'Dataloader CPU affinity opt is not enabled, consider switching it on '\n"
     ]
    },
    {
     "name": "stdout",
     "output_type": "stream",
     "text": [
      "3.71 s ± 0 ns per loop (mean ± std. dev. of 1 run, 5 loops each)\n"
     ]
    },
    {
     "data": {
      "text/plain": [
       "41"
      ]
     },
     "execution_count": 6,
     "metadata": {},
     "output_type": "execute_result"
    }
   ],
   "source": [
    "dataloader = create_dataloader(train_idx, g, device='cpu')\n",
    "dataloader_it = iter(dataloader)\n",
    "# warm up\n",
    "input_nodes, output_nodes, blocks = next(dataloader_it) \n",
    "%timeit -n 5 -r 1 input_nodes, output_nodes, blocks = next(dataloader_it) \n",
    "del dataloader\n",
    "del dataloader_it\n",
    "torch.cuda.empty_cache()\n",
    "gc.collect()"
   ]
  },
  {
   "cell_type": "markdown",
   "id": "e7ad2714-9d86-4384-9e0a-219040b17b87",
   "metadata": {},
   "source": [
    "## DGL GPU Benchmark "
   ]
  },
  {
   "cell_type": "code",
   "execution_count": 7,
   "id": "f701baf8-c96d-452e-81cc-4e4dac410b2f",
   "metadata": {},
   "outputs": [],
   "source": [
    "# dataloader = create_dataloader(train_idx, dataset[0].to('cuda'), device='cuda')\n",
    "# dataloader_it = iter(dataloader)\n",
    "# # warmup\n",
    "# input_nodes, output_nodes, blocks = next(dataloader_it) \n",
    "# %timeit -n 5 -r 1 input_nodes, output_nodes, blocks = next(dataloader_it) \n",
    "\n",
    "# del dataloader\n",
    "# del dataloader_it\n",
    "# del input_nodes, output_nodes, blocks\n",
    "# torch.cuda.empty_cache()\n",
    "# gc.collect()"
   ]
  },
  {
   "cell_type": "markdown",
   "id": "a69e7e5e-2505-4055-8297-2ae79506351e",
   "metadata": {},
   "source": [
    "## cuGraph Benchmark  (features on host)"
   ]
  },
  {
   "cell_type": "code",
   "execution_count": 8,
   "id": "d6a3dab8-92f7-4bb9-9fbf-a1a4170ac16c",
   "metadata": {},
   "outputs": [
    {
     "name": "stdout",
     "output_type": "stream",
     "text": [
      "CPU times: user 11.9 s, sys: 7.23 s, total: 19.2 s\n",
      "Wall time: 18.3 s\n"
     ]
    },
    {
     "name": "stderr",
     "output_type": "stream",
     "text": [
      "/datasets/vjawa/miniconda3/envs/all_cuda-115_arch-x86_64/lib/python3.9/site-packages/distributed/worker.py:2988: UserWarning: Large object of size 1.42 MiB detected in task graph: \n",
      "  [b'\\xad\\xd1\\xe3\\x9c\\x96\\x83O\\xb3\\xba1\\x86\\x94\\xb6\\ ... =int32), False]\n",
      "Consider scattering large objects ahead of time\n",
      "with client.scatter to reduce scheduler burden and \n",
      "keep data on workers\n",
      "\n",
      "    future = client.submit(func, big_data)    # bad\n",
      "\n",
      "    big_future = client.scatter(big_data)     # good\n",
      "    future = client.submit(func, big_future)  # good\n",
      "  warnings.warn(\n"
     ]
    },
    {
     "name": "stdout",
     "output_type": "stream",
     "text": [
      "2.42 s ± 0 ns per loop (mean ± std. dev. of 1 run, 5 loops each)\n"
     ]
    },
    {
     "data": {
      "text/plain": [
       "417"
      ]
     },
     "execution_count": 8,
     "metadata": {},
     "output_type": "execute_result"
    }
   ],
   "source": [
    "%time cugraph_g = cugraph_dgl.cugraph_storage_from_heterograph(g, single_gpu=single_gpu)\n",
    "assert cugraph_g.ndata['feat']['_N'].device.type=='cpu'\n",
    "\n",
    "dataloader = create_dataloader(train_idx, cugraph_g, device='cuda')\n",
    "dataloader_it = iter(dataloader)\n",
    "input_nodes, output_nodes, blocks = next(dataloader_it) \n",
    "%timeit -n 5 -r 1 input_nodes, output_nodes, blocks = next(dataloader_it) \n",
    "\n",
    "# del dataloader\n",
    "# del dataloader_it\n",
    "# del input_nodes, output_nodes, blocks\n",
    "torch.cuda.empty_cache()\n",
    "gc.collect()"
   ]
  },
  {
   "cell_type": "markdown",
   "id": "f5657f18-2615-4b61-91c2-e67ca795e344",
   "metadata": {},
   "source": [
    "## cuGraph Benchmark  (features on device)"
   ]
  },
  {
   "cell_type": "code",
   "execution_count": 9,
   "id": "bb47386c-0256-4f1a-ad11-6e7ed1e17229",
   "metadata": {},
   "outputs": [],
   "source": [
    "# cugraph_g = cugraph_dgl.cugraph_storage_from_heterograph(g.to('cuda'), single_gpu=single_gpu)\n",
    "# dataloader = create_dataloader(train_idx, cugraph_g, device='cuda')\n",
    "# dataloader_it = iter(dataloader)\n",
    "# # warmup\n",
    "# input_nodes, output_nodes, blocks = next(dataloader_it) \n",
    "# %timeit -n 5 -r 1 input_nodes, output_nodes, blocks = next(dataloader_it) \n",
    "\n",
    "# del dataloader\n",
    "# del dataloader_it\n",
    "# del input_nodes, output_nodes, blocks\n",
    "# torch.cuda.empty_cache()\n",
    "# gc.collect()"
   ]
  }
 ],
 "metadata": {
  "kernelspec": {
   "display_name": "Python 3 (ipykernel)",
   "language": "python",
   "name": "python3"
  },
  "language_info": {
   "codemirror_mode": {
    "name": "ipython",
    "version": 3
   },
   "file_extension": ".py",
   "mimetype": "text/x-python",
   "name": "python",
   "nbconvert_exporter": "python",
   "pygments_lexer": "ipython3",
   "version": "3.9.15"
  }
 },
 "nbformat": 4,
 "nbformat_minor": 5
}
