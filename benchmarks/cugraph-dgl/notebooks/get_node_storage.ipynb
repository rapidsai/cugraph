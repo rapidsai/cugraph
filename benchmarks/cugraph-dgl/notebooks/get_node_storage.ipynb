{
 "cells": [
  {
   "cell_type": "markdown",
   "id": "fb3a34f1-eb91-4aaa-aea5-5b06b4f74242",
   "metadata": {},
   "source": [
    "# Fetching Feature Benchmarks"
   ]
  },
  {
   "cell_type": "code",
   "execution_count": 1,
   "id": "311e8060-cd1d-44f1-a1a8-cb1774b918f4",
   "metadata": {},
   "outputs": [
    {
     "name": "stderr",
     "output_type": "stream",
     "text": [
      "/datasets/vjawa/miniconda3/envs/all_cuda-115_arch-x86_64/lib/python3.9/site-packages/tqdm/auto.py:22: TqdmWarning: IProgress not found. Please update jupyter and ipywidgets. See https://ipywidgets.readthedocs.io/en/stable/user_install.html\n",
      "  from .autonotebook import tqdm as notebook_tqdm\n"
     ]
    }
   ],
   "source": [
    "import gc\n",
    "import rmm                                                                                                                                                                                                 \n",
    "import torch\n",
    "import dgl\n",
    "import numpy as np\n",
    "import cupy as cp\n",
    "\n",
    "#TODO: Enable in torch nightly\n",
    "# torch.cuda.memory.change_current_allocator(rmm.rmm_torch_allocator)\n",
    "        \n",
    "import cugraph_dgl\n",
    "from dgl.data import AsNodePredDataset\n",
    "from dgl.dataloading import DataLoader, NeighborSampler, MultiLayerFullNeighborSampler\n",
    "from ogb.nodeproppred import DglNodePropPredDataset"
   ]
  },
  {
   "cell_type": "markdown",
   "id": "1f1520d0-e437-4597-9737-9b229a9f7e8c",
   "metadata": {},
   "source": [
    "### Create Cluter"
   ]
  },
  {
   "cell_type": "code",
   "execution_count": 2,
   "id": "41d02741-b672-420a-afba-b325cdefa620",
   "metadata": {},
   "outputs": [],
   "source": [
    "single_gpu = False"
   ]
  },
  {
   "cell_type": "code",
   "execution_count": 3,
   "id": "ca851c2e-757a-4dd6-a37c-ca50ac00ced1",
   "metadata": {},
   "outputs": [
    {
     "name": "stderr",
     "output_type": "stream",
     "text": [
      "2023-01-16 18:55:16,010 - distributed.preloading - INFO - Creating preload: dask_cuda.initialize\n",
      "2023-01-16 18:55:16,011 - distributed.preloading - INFO - Import preload module: dask_cuda.initialize\n",
      "2023-01-16 18:55:16,095 - distributed.preloading - INFO - Creating preload: dask_cuda.initialize\n",
      "2023-01-16 18:55:16,095 - distributed.preloading - INFO - Import preload module: dask_cuda.initialize\n",
      "libibverbs: Warning: no userspace device-specific driver found for /sys/class/infiniband_verbs/uverbs1\n",
      "libibverbs: Warning: no userspace device-specific driver found for /sys/class/infiniband_verbs/uverbs1\n",
      "libibverbs: Warning: no userspace device-specific driver found for /sys/class/infiniband_verbs/uverbs3\n",
      "libibverbs: Warning: no userspace device-specific driver found for /sys/class/infiniband_verbs/uverbs3\n",
      "libibverbs: Warning: no userspace device-specific driver found for /sys/class/infiniband_verbs/uverbs0\n",
      "libibverbs: Warning: no userspace device-specific driver found for /sys/class/infiniband_verbs/uverbs0\n",
      "libibverbs: Warning: no userspace device-specific driver found for /sys/class/infiniband_verbs/uverbs2\n",
      "libibverbs: Warning: no userspace device-specific driver found for /sys/class/infiniband_verbs/uverbs2\n"
     ]
    }
   ],
   "source": [
    "if not single_gpu:\n",
    "    from dask_cuda import LocalCUDACluster\n",
    "    from dask.distributed import Client\n",
    "    import cugraph.dask.comms.comms as Comms\n",
    "    cluster = LocalCUDACluster(protocol='tcp',rmm_pool_size='25GB', CUDA_VISIBLE_DEVICES='1,2')\n",
    "    client = Client(cluster)\n",
    "    Comms.initialize(p2p=True)\n",
    "else:\n",
    "    rmm.reinitialize(pool_allocator=True, initial_pool_size=5e9, maximum_pool_size=20e9)\n",
    "    torch.cuda.memory.change_current_allocator(rmm.rmm_torch_allocator)"
   ]
  },
  {
   "cell_type": "code",
   "execution_count": 4,
   "id": "dbb0342e-44d6-4b03-a29b-606128e28609",
   "metadata": {},
   "outputs": [],
   "source": [
    "dataset = AsNodePredDataset(DglNodePropPredDataset(\"ogbn-products\",root='/datasets/vjawa/gnn'))\n",
    "## Adding Self loops to make testing easier\n",
    "## As we fail with isolated edges\n",
    "## in cuGraph\n",
    "## See comment: https://github.com/rapidsai/cugraph/pull/2997\n",
    "g = dgl.add_self_loop(dataset[0])"
   ]
  },
  {
   "cell_type": "markdown",
   "id": "6d2ee56b-cc54-4f33-b03d-5cb73b357319",
   "metadata": {},
   "source": [
    "## Create   cugraph_dgl.cugraph_storage"
   ]
  },
  {
   "cell_type": "code",
   "execution_count": 5,
   "id": "67eab08c-a9b8-4b19-a109-ccba9d9e5776",
   "metadata": {},
   "outputs": [
    {
     "name": "stdout",
     "output_type": "stream",
     "text": [
      "CPU times: user 6.79 s, sys: 2.39 s, total: 9.18 s\n",
      "Wall time: 11.9 s\n"
     ]
    }
   ],
   "source": [
    "%time cugraph_g = cugraph_dgl.cugraph_storage_from_heterograph(g, single_gpu=single_gpu)"
   ]
  },
  {
   "cell_type": "code",
   "execution_count": 6,
   "id": "20e1632e-8bcf-4532-9591-45fc6e234d43",
   "metadata": {},
   "outputs": [
    {
     "name": "stdout",
     "output_type": "stream",
     "text": [
      "CPU times: user 132 ms, sys: 263 ms, total: 395 ms\n",
      "Wall time: 14 ms\n"
     ]
    }
   ],
   "source": [
    "indices=np.random.randint(0,cugraph_g.num_nodes(),size=20_000)\n",
    "%time output = cugraph_g.get_node_storage(key='feat',ntype='_N').fetch(indices)"
   ]
  }
 ],
 "metadata": {
  "kernelspec": {
   "display_name": "Python 3 (ipykernel)",
   "language": "python",
   "name": "python3"
  },
  "language_info": {
   "codemirror_mode": {
    "name": "ipython",
    "version": 3
   },
   "file_extension": ".py",
   "mimetype": "text/x-python",
   "name": "python",
   "nbconvert_exporter": "python",
   "pygments_lexer": "ipython3",
   "version": "3.9.15"
  }
 },
 "nbformat": 4,
 "nbformat_minor": 5
}
