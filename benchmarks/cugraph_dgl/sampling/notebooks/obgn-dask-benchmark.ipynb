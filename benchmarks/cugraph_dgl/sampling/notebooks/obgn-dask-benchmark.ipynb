{
 "cells": [
  {
   "cell_type": "markdown",
   "id": "070faf27-4f77-49c2-9a4f-0a3931e69c29",
   "metadata": {},
   "source": [
    "# ogbn-papers100M benchmarks"
   ]
  },
  {
   "cell_type": "code",
   "execution_count": 1,
   "id": "d2c9e93d-d680-410e-b1fe-a8fefa6c699a",
   "metadata": {},
   "outputs": [],
   "source": [
    "single_gpu = False\n",
    "use_cugraph = True"
   ]
  },
  {
   "cell_type": "code",
   "execution_count": 2,
   "id": "c8c0c0d5-6b23-47bf-9b83-1c6ad6aeaf5d",
   "metadata": {},
   "outputs": [],
   "source": [
    "if single_gpu:\n",
    "    import os\n",
    "    import warnings\n",
    "    os.environ[\"CUDA_VISIBLE_DEVICES\"]=\"1\"\n",
    "    if use_cugraph:\n",
    "        warnings.warn(\"Error on 1 GPU even with managed memory, Switch on MULTI-GPU\")\n",
    "        import rmm\n",
    "        rmm.reinitialize(managed_memory=True)"
   ]
  },
  {
   "cell_type": "code",
   "execution_count": 3,
   "id": "dfa2d1ce-5d31-4850-b4ec-8c0f4987bbff",
   "metadata": {},
   "outputs": [],
   "source": [
    "if not single_gpu:\n",
    "    from dask_cuda import LocalCUDACluster\n",
    "    from dask.distributed import Client\n",
    "    import time\n",
    "    import cugraph.dask.comms.comms as Comms"
   ]
  },
  {
   "cell_type": "markdown",
   "id": "5d5b78fd-9388-4231-930c-7592cb3a6ad7",
   "metadata": {},
   "source": [
    "## Start Dask Cluster"
   ]
  },
  {
   "cell_type": "code",
   "execution_count": 4,
   "id": "f9d3b4a3-53f8-4b2f-bd70-e7b835509db8",
   "metadata": {},
   "outputs": [
    {
     "name": "stderr",
     "output_type": "stream",
     "text": [
      "2022-12-04 11:01:24,596 - distributed.preloading - INFO - Creating preload: dask_cuda.initialize\n"
     ]
    }
   ],
   "source": [
    "if not single_gpu:\n",
    "    cluster = LocalCUDACluster(CUDA_VISIBLE_DEVICES='1,2,3,4,5,6,7',rmm_managed_memory=True, enable_tcp_over_ucx=False, pre_import=['cugraph','torch'])\n",
    "    client = Client(cluster)\n",
    "    Comms.initialize(p2p=True)"
   ]
  },
  {
   "cell_type": "markdown",
   "id": "5a048887-b998-4ed5-9715-b803665cf8c1",
   "metadata": {},
   "source": [
    "# Import DGL Specific libraries"
   ]
  },
  {
   "cell_type": "code",
   "execution_count": 5,
   "id": "430a2887-993c-423d-b102-b6f164b12f81",
   "metadata": {},
   "outputs": [
    {
     "name": "stderr",
     "output_type": "stream",
     "text": [
      "/datasets/vjawa/miniconda3/envs/cugraph_dgl_dev/lib/python3.9/site-packages/tqdm/auto.py:22: TqdmWarning: IProgress not found. Please update jupyter and ipywidgets. See https://ipywidgets.readthedocs.io/en/stable/user_install.html\n",
      "  from .autonotebook import tqdm as notebook_tqdm\n"
     ]
    }
   ],
   "source": [
    "from ogb.nodeproppred import DglNodePropPredDataset\n",
    "from cugraph_dgl.convert import cugraph_storage_from_heterograph\n",
    "import cudf\n",
    "\n",
    "from dgl.data import AsNodePredDataset\n",
    "import dgl.backend as F\n",
    "from dgl.dataloading import DataLoader, NeighborSampler\n",
    "import torch"
   ]
  },
  {
   "cell_type": "markdown",
   "id": "c976fd76-632a-4c7c-95cd-212f4f24bdad",
   "metadata": {},
   "source": [
    "# Create cugraph_dgl GraphStorage"
   ]
  },
  {
   "cell_type": "code",
   "execution_count": 6,
   "id": "54861b1a-fabd-445c-ae84-fb32ecab7111",
   "metadata": {},
   "outputs": [
    {
     "name": "stdout",
     "output_type": "stream",
     "text": [
      "CPU times: user 2.69 s, sys: 45.2 s, total: 47.9 s\n",
      "Wall time: 45 s\n"
     ]
    }
   ],
   "source": [
    "%%time \n",
    "dataset = DglNodePropPredDataset(\"ogbn-papers100M\", root='/datasets/vjawa/gnn/')"
   ]
  },
  {
   "cell_type": "code",
   "execution_count": 7,
   "id": "0fffc84b-c740-49e9-b450-80a2073d1639",
   "metadata": {},
   "outputs": [
    {
     "name": "stdout",
     "output_type": "stream",
     "text": [
      "CPU times: user 4.59 s, sys: 5.35 s, total: 9.94 s\n",
      "Wall time: 9.07 s\n"
     ]
    }
   ],
   "source": [
    "%%time \n",
    "\n",
    "gs,labels = dataset[0]\n",
    "gs = gs.int()\n",
    "## Clear Data to allow scale testing \n",
    "## Check how to not do this\n",
    "gs.ndata.clear()\n",
    "gs.edata.clear()"
   ]
  },
  {
   "cell_type": "code",
   "execution_count": 8,
   "id": "7d965bb3-9a5c-4e2c-8d0e-8465ef14fffe",
   "metadata": {},
   "outputs": [],
   "source": [
    "if use_cugraph:\n",
    "    gs = cugraph_storage_from_heterograph(gs, single_gpu=single_gpu)"
   ]
  },
  {
   "cell_type": "code",
   "execution_count": 9,
   "id": "bfcd4b02-8c44-43eb-927e-ec727a80fccf",
   "metadata": {},
   "outputs": [],
   "source": [
    "### Get Train IDS\n",
    "# Created like below:\n",
    "# train_ids = gs.graphstore.gdata.get_edge_data()['_DST_'].unique()\n",
    "# if hasattr(train_ids, 'compute'):\n",
    "#     train_ids=train_ids.compute()\n",
    "# train_ids.to_frame().to_parquet('ogbn_papers100M_train_nids/train_nids.parquet')\n",
    "train_ids = cudf.read_parquet('ogbn_papers100M_train_nids/train_nids.parquet')['_DST_']\n",
    "train_ids = torch.as_tensor(train_ids.values).to(gs.device)"
   ]
  },
  {
   "cell_type": "markdown",
   "id": "f1deeca7-7243-4537-bd4f-13247e62e5d1",
   "metadata": {},
   "source": [
    "## Benchmark Sampling"
   ]
  },
  {
   "cell_type": "code",
   "execution_count": 10,
   "id": "0d9391e4-4936-4caa-b245-4c05e24cc5a9",
   "metadata": {},
   "outputs": [],
   "source": [
    "def setup_loader(dataloader):\n",
    "    for it,(input_nodes, output_nodes, blocks) in enumerate(dataloader):\n",
    "        break\n",
    "    return\n",
    "\n",
    "def benchmark_dataloader(g,train_ids,batch_size):\n",
    "    batch_size = batch_size\n",
    "    sampler = NeighborSampler(\n",
    "            [10, 10],  # fanout for [layer-0, layer-1]\n",
    "            #prefetch_node_feats=[\"feat\"],\n",
    "            #prefetch_labels=[\"label\"],\n",
    "        )\n",
    "    dataloader = DataLoader(\n",
    "        g,\n",
    "        train_ids[:2_000_000],\n",
    "        sampler,\n",
    "        device='cuda',\n",
    "        batch_size=batch_size,\n",
    "        shuffle=False,\n",
    "        drop_last=False,\n",
    "        num_workers=0,\n",
    "    )\n",
    "    \n",
    "    setup_loader(dataloader)\n",
    "    n_nodes = len(dataloader.indices)\n",
    "    st = time.time()\n",
    "    for it,(input_nodes, output_nodes, blocks) in enumerate(dataloader):\n",
    "        input_nodes\n",
    "    et = time.time()\n",
    "    print(f\"Completed sampling {n_nodes}  nodes with {batch_size} in  {et-st} s time on graph type {type(gs)}\")\n",
    "    return "
   ]
  },
  {
   "cell_type": "code",
   "execution_count": 11,
   "id": "4fc75994-61b8-4bdd-b677-32d4878672d3",
   "metadata": {},
   "outputs": [
    {
     "name": "stdout",
     "output_type": "stream",
     "text": [
      "Completed sampling 2000000  nodes with 10000 in  100.52753567695618 s time on graph type <class 'cugraph_dgl.cugraph_storage.CuGraphStorage'>\n",
      "Completed sampling 2000000  nodes with 20000 in  51.80714750289917 s time on graph type <class 'cugraph_dgl.cugraph_storage.CuGraphStorage'>\n",
      "Completed sampling 2000000  nodes with 40000 in  31.575586080551147 s time on graph type <class 'cugraph_dgl.cugraph_storage.CuGraphStorage'>\n",
      "Completed sampling 2000000  nodes with 80000 in  21.818739652633667 s time on graph type <class 'cugraph_dgl.cugraph_storage.CuGraphStorage'>\n",
      "Completed sampling 2000000  nodes with 160000 in  13.731544017791748 s time on graph type <class 'cugraph_dgl.cugraph_storage.CuGraphStorage'>\n"
     ]
    },
    {
     "name": "stderr",
     "output_type": "stream",
     "text": [
      "/datasets/vjawa/miniconda3/envs/cugraph_dgl_dev/lib/python3.9/site-packages/distributed/worker.py:2957: UserWarning: Large object of size 1.02 MiB detected in task graph: \n",
      "  [b'\\xf5&|\\xad\\xf2\\xd1C\\x8b\\xb8r\\x0fWtu/N', '_make_ ... =int32), False]\n",
      "Consider scattering large objects ahead of time\n",
      "with client.scatter to reduce scheduler burden and \n",
      "keep data on workers\n",
      "\n",
      "    future = client.submit(func, big_data)    # bad\n",
      "\n",
      "    big_future = client.scatter(big_data)     # good\n",
      "    future = client.submit(func, big_future)  # good\n",
      "  warnings.warn(\n"
     ]
    },
    {
     "name": "stdout",
     "output_type": "stream",
     "text": [
      "Completed sampling 2000000  nodes with 320000 in  9.879771947860718 s time on graph type <class 'cugraph_dgl.cugraph_storage.CuGraphStorage'>\n"
     ]
    }
   ],
   "source": [
    "for batch_size in [10_000,20_000,40_000,80_000,160_000,320_000]:\n",
    "    benchmark_dataloader(gs, train_ids, batch_size=batch_size)"
   ]
  },
  {
   "cell_type": "code",
   "execution_count": 6,
   "id": "e68d14ca-2d18-48c8-ab4d-9c190851c61b",
   "metadata": {},
   "outputs": [],
   "source": [
    "# CPU\n",
    "# Completed sampling 2000000  nodes with 10000 in  12.739480972290039 s time on graph type <class 'dgl.heterograph.DGLHeteroGraph'>\n",
    "# Completed sampling 2000000  nodes with 20000 in  11.33974838256836 s time on graph type <class 'dgl.heterograph.DGLHeteroGraph'>\n",
    "# Completed sampling 2000000  nodes with 40000 in  11.867838621139526 s time on graph type <class 'dgl.heterograph.DGLHeteroGraph'>\n",
    "# Completed sampling 2000000  nodes with 80000 in  11.385798215866089 s time on graph type <class 'dgl.heterograph.DGLHeteroGraph'>\n",
    "# Completed sampling 2000000  nodes with 160000 in  12.451390027999878 s time on graph type <class 'dgl.heterograph.DGLHeteroGraph'>\n",
    "# Completed sampling 2000000  nodes with 320000 in  13.918638706207275 s time on graph type <class 'dgl.heterograph.DGLHeteroGraph'>\n",
    "\n",
    "\n",
    "# DGL GPU Fails \n",
    "\n",
    "# GPU (7 GPU and 1 training client)\n",
    "# Completed sampling 2000000  nodes with 10000 in  101.24437046051025 s time on graph type <class 'cugraph_dgl.cugraph_storage.CuGraphStorage'>\n",
    "# Completed sampling 2000000  nodes with 20000 in  58.943265199661255 s time on graph type <class 'cugraph_dgl.cugraph_storage.CuGraphStorage'>\n",
    "# Completed sampling 2000000  nodes with 40000 in  44.02875232696533 s time on graph type <class 'cugraph_dgl.cugraph_storage.CuGraphStorage'>\n",
    "# Completed sampling 2000000  nodes with 80000 in  25.86843991279602 s time on graph type <class 'cugraph_dgl.cugraph_storage.CuGraphStorage'>\n",
    "# Completed sampling 2000000  nodes with 160000 in  16.176891326904297 s time on graph type <class 'cugraph_dgl.cugraph_storage.CuGraphStorage'>\n",
    "# Completed sampling 2000000  nodes with 320000 in  11.451149225234985 s time on graph type <class 'cugraph_dgl.cugraph_storage.CuGraphStorage'>"
   ]
  },
  {
   "cell_type": "code",
   "execution_count": 12,
   "id": "c6aee1e2-96f0-4beb-8095-cd59ec24bdea",
   "metadata": {},
   "outputs": [
    {
     "name": "stdout",
     "output_type": "stream",
     "text": [
      "/datasets/vjawa/gnn\n"
     ]
    }
   ],
   "source": [
    "!pwd"
   ]
  },
  {
   "cell_type": "code",
   "execution_count": null,
   "id": "1fc277f0-5706-4cb7-9689-be307f029041",
   "metadata": {},
   "outputs": [],
   "source": []
  }
 ],
 "metadata": {
  "kernelspec": {
   "display_name": "Python 3 (ipykernel)",
   "language": "python",
   "name": "python3"
  },
  "language_info": {
   "codemirror_mode": {
    "name": "ipython",
    "version": 3
   },
   "file_extension": ".py",
   "mimetype": "text/x-python",
   "name": "python",
   "nbconvert_exporter": "python",
   "pygments_lexer": "ipython3",
   "version": "3.9.15"
  }
 },
 "nbformat": 4,
 "nbformat_minor": 5
}
