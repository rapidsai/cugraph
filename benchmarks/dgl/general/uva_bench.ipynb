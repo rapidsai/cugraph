{
 "cells": [
  {
   "cell_type": "code",
   "execution_count": 1,
   "id": "d8ced4b5-7ac4-4195-88ad-09f82e7eb093",
   "metadata": {},
   "outputs": [
    {
     "name": "stderr",
     "output_type": "stream",
     "text": [
      "/datasets/vjawa/miniconda3/envs/cugraph-23.02/lib/python3.9/site-packages/tqdm/auto.py:22: TqdmWarning: IProgress not found. Please update jupyter and ipywidgets. See https://ipywidgets.readthedocs.io/en/stable/user_install.html\n",
      "  from .autonotebook import tqdm as notebook_tqdm\n"
     ]
    }
   ],
   "source": [
    "import pandas as pd\n",
    "import os\n",
    "import torch\n",
    "import dgl"
   ]
  },
  {
   "cell_type": "code",
   "execution_count": 2,
   "id": "7c5b836b-9c52-406f-ad70-78a2aa2b8d6f",
   "metadata": {},
   "outputs": [],
   "source": [
    "def get_edgelist(scale, edgefactor, dataset_dir = 'datasets'):\n",
    "    fp = os.path.join(dataset_dir, f'rmat_scale_{scale}_edgefactor_{edgefactor}.parquet')\n",
    "    return pd.read_parquet(fp)\n",
    "                      \n",
    "def create_dgl_graph_from_df(df):\n",
    "    src_tensor = torch.as_tensor(df['src'].values)\n",
    "    dst_tensor = torch.as_tensor(df['dst'].values)\n",
    "    # Reverse edges to match cuGraph behavior\n",
    "    g = dgl.graph(data = (dst_tensor, src_tensor))\n",
    "    return g\n",
    "\n",
    "def create_dataloader(g, seed_nodes, batch_size):\n",
    "    dataloader = dgl.dataloading.DataLoader(\n",
    "        g,                                # The graph must be on GPU.\n",
    "        seed_nodes,                        # train_nid must be on GPU.\n",
    "        sampler,\n",
    "        device=torch.device('cuda:0'),    # The device argument must be GPU.\n",
    "        num_workers=0,                    # Number of workers must be 0.\n",
    "        use_uva=True,\n",
    "        batch_size=batch_size,\n",
    "        drop_last=False,\n",
    "        shuffle=False)\n",
    "    return dataloader"
   ]
  },
  {
   "cell_type": "code",
   "execution_count": 3,
   "id": "69ae44b1-7f05-4b8a-bfcd-2381a15401c6",
   "metadata": {},
   "outputs": [],
   "source": [
    "df = get_edgelist(26, 16, '../datasets/')\n",
    "g = create_dgl_graph_from_df(df)\n",
    "seed_nodes = torch.as_tensor(df['dst'][:30_000_000])"
   ]
  },
  {
   "cell_type": "markdown",
   "id": "f75277f9-a497-4225-8658-949d2fc11a6e",
   "metadata": {},
   "source": [
    "### Benchmark UCA"
   ]
  },
  {
   "cell_type": "code",
   "execution_count": 4,
   "id": "a8397dcd-fb2b-4999-848a-3862353e0f33",
   "metadata": {},
   "outputs": [
    {
     "name": "stdout",
     "output_type": "stream",
     "text": [
      "Batch Size = 100\n",
      "23.9 ms ± 712 µs per loop (mean ± std. dev. of 7 runs, 1 loop each)\n",
      "------------------------------------------------------------\n",
      "Batch Size = 500\n",
      "25.4 ms ± 300 µs per loop (mean ± std. dev. of 7 runs, 10 loops each)\n",
      "------------------------------------------------------------\n",
      "Batch Size = 1000\n",
      "26.4 ms ± 93.1 µs per loop (mean ± std. dev. of 7 runs, 10 loops each)\n",
      "------------------------------------------------------------\n",
      "Batch Size = 2500\n",
      "31.7 ms ± 275 µs per loop (mean ± std. dev. of 7 runs, 10 loops each)\n",
      "------------------------------------------------------------\n",
      "Batch Size = 5000\n",
      "39.3 ms ± 466 µs per loop (mean ± std. dev. of 7 runs, 10 loops each)\n",
      "------------------------------------------------------------\n",
      "Batch Size = 10000\n",
      "52 ms ± 485 µs per loop (mean ± std. dev. of 7 runs, 10 loops each)\n",
      "------------------------------------------------------------\n",
      "Batch Size = 20000\n",
      "81.4 ms ± 899 µs per loop (mean ± std. dev. of 7 runs, 10 loops each)\n",
      "------------------------------------------------------------\n",
      "Batch Size = 30000\n",
      "91.5 ms ± 1.61 ms per loop (mean ± std. dev. of 7 runs, 10 loops each)\n",
      "------------------------------------------------------------\n",
      "Batch Size = 40000\n",
      "111 ms ± 2.25 ms per loop (mean ± std. dev. of 7 runs, 10 loops each)\n",
      "------------------------------------------------------------\n",
      "Batch Size = 50000\n",
      "121 ms ± 840 µs per loop (mean ± std. dev. of 7 runs, 10 loops each)\n",
      "------------------------------------------------------------\n",
      "Batch Size = 60000\n",
      "136 ms ± 1.23 ms per loop (mean ± std. dev. of 7 runs, 10 loops each)\n",
      "------------------------------------------------------------\n",
      "Batch Size = 70000\n",
      "149 ms ± 948 µs per loop (mean ± std. dev. of 7 runs, 10 loops each)\n",
      "------------------------------------------------------------\n",
      "Batch Size = 80000\n",
      "162 ms ± 2.43 ms per loop (mean ± std. dev. of 7 runs, 10 loops each)\n",
      "------------------------------------------------------------\n",
      "Batch Size = 90000\n",
      "173 ms ± 295 µs per loop (mean ± std. dev. of 7 runs, 10 loops each)\n",
      "------------------------------------------------------------\n",
      "Batch Size = 100000\n",
      "183 ms ± 905 µs per loop (mean ± std. dev. of 7 runs, 10 loops each)\n",
      "------------------------------------------------------------\n"
     ]
    }
   ],
   "source": [
    "for batch_size in [100, 500, 1_000, 2_500, 5_000, 10_000, 20_000, 30_000, 40_000, 50_000, 60_000, 70_000, 80_000, 90_000, 100_000]:\n",
    "    fanout = [10, 25]\n",
    "    ### Reverse because dgl sampler samples from destination to source\n",
    "    fanout.reverse()\n",
    "    sampler = dgl.dataloading.MultiLayerNeighborSampler(fanout)\n",
    "    dataloader = create_dataloader(g, seed_nodes, batch_size)\n",
    "    print(f\"Batch Size = {batch_size}\", flush=True)\n",
    "    %timeit input_nodes, output_nodes, blocks = next(iter(dataloader))\n",
    "    input_nodes, output_nodes, blocks = next(iter(dataloader))\n",
    "    assert len(output_nodes)==batch_size\n",
    "    print(\"---\"*20)"
   ]
  }
 ],
 "metadata": {
  "kernelspec": {
   "display_name": "Python 3 (ipykernel)",
   "language": "python",
   "name": "python3"
  },
  "language_info": {
   "codemirror_mode": {
    "name": "ipython",
    "version": 3
   },
   "file_extension": ".py",
   "mimetype": "text/x-python",
   "name": "python",
   "nbconvert_exporter": "python",
   "pygments_lexer": "ipython3",
   "version": "3.9.15"
  }
 },
 "nbformat": 4,
 "nbformat_minor": 5
}
