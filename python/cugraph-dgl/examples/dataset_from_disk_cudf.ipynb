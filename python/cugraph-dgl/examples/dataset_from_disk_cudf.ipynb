{
 "cells": [
  {
   "cell_type": "markdown",
   "id": "bc952178-34c0-4f13-9003-478d4aa8cd4d",
   "metadata": {},
   "source": [
    "# Testing Notebook for cugraph DGL vs DGL Upstream"
   ]
  },
  {
   "cell_type": "code",
   "execution_count": null,
   "id": "d92a81b3-50ac-42ff-97e0-d636945f1f80",
   "metadata": {},
   "outputs": [],
   "source": [
    "import os\n",
    "os.environ[\"CUDA_VISIBLE_DEVICES\"]=\"1\"\n",
    "import cudf\n",
    "import rmm      \n",
    "rmm.reinitialize(pool_allocator = True, initial_pool_size = 15e9, maximum_pool_size=24e9)\n",
    "import torch\n",
    "torch.cuda.memory.change_current_allocator(rmm.rmm_torch_allocator)"
   ]
  },
  {
   "cell_type": "code",
   "execution_count": null,
   "id": "f304a5dd-1465-4054-846f-2308a19153fa",
   "metadata": {},
   "outputs": [],
   "source": [
    "single_gpu = False\n",
    "if not single_gpu:\n",
    "    from dask_cuda import LocalCUDACluster\n",
    "    from dask.distributed import Client\n",
    "    import cugraph.dask.comms.comms as Comms\n",
    "    cluster = LocalCUDACluster(protocol='tcp',rmm_pool_size='25GB', CUDA_VISIBLE_DEVICES='2,3,4')\n",
    "    client = Client(cluster)\n",
    "    Comms.initialize(p2p=True)"
   ]
  },
  {
   "cell_type": "markdown",
   "id": "fdd59d3a-0c1d-425f-a337-34b09c675622",
   "metadata": {},
   "source": [
    "# cuGraph DGL DataLoader"
   ]
  },
  {
   "cell_type": "code",
   "execution_count": 2,
   "id": "e1e84844-634e-451e-be74-939f9477562f",
   "metadata": {},
   "outputs": [],
   "source": [
    "from cugraph_dgl.dataloading import HomogenousBulkSamplerDataset \n",
    "import dgl\n",
    "import cudf"
   ]
  },
  {
   "cell_type": "code",
   "execution_count": 5,
   "id": "3e7366fa-fed7-46bc-b9f0-2d382559adaa",
   "metadata": {},
   "outputs": [],
   "source": [
    "#!ls /raid/vjawa/gnn_sampling/bulksampling_new/rank=0/"
   ]
  },
  {
   "cell_type": "code",
   "execution_count": 6,
   "id": "94003c30-756f-4cdb-856a-dec16a5fb4dc",
   "metadata": {},
   "outputs": [
    {
     "name": "stdout",
     "output_type": "stream",
     "text": [
      "CPU times: user 4.2 s, sys: 2.22 s, total: 6.42 s\n",
      "Wall time: 6.44 s\n"
     ]
    }
   ],
   "source": [
    "%%time\n",
    "sampled_file_dir = '/raid/vjawa/gnn_sampling/bulksampling_new/rank=0/'\n",
    "cugraph_dgl_dataset = HomogenousBulkSamplerDataset(\n",
    "                         num_batches=192,\n",
    "                         total_number_of_nodes=2_449_029,\n",
    "                         edge_dir='in',\n",
    "                        )\n",
    "\n",
    "cugraph_dgl_dataset.set_input_directory(sampled_file_dir)\n",
    "bs_dataloader = torch.utils.data.DataLoader(cugraph_dgl_dataset, batch_size=None, num_workers=0)\n",
    "batch_stats = {}\n",
    "for batch_id,(input_nodes, output_nodes, blocks) in enumerate(bs_dataloader):\n",
    "    l = len(output_nodes)\n",
    "    batch_stats[batch_id]={'input_nodes':len(input_nodes),'output_nodes':len(output_nodes)}\n",
    "    if batch_id==0:\n",
    "        input_nodes_0, output_nodes_0, blocks_0 = input_nodes, output_nodes, blocks"
   ]
  },
  {
   "cell_type": "code",
   "execution_count": 9,
   "id": "e508505c-1bf4-43b7-b519-74ce31b160f8",
   "metadata": {},
   "outputs": [
    {
     "data": {
      "text/plain": [
       "tensor([   0,    1,    2,  ..., 1021, 1022, 1023], device='cuda:0')"
      ]
     },
     "execution_count": 9,
     "metadata": {},
     "output_type": "execute_result"
    }
   ],
   "source": [
    "output_nodes_0"
   ]
  },
  {
   "cell_type": "markdown",
   "id": "b0a17523-53e9-4780-a9e1-eac4edd464e5",
   "metadata": {},
   "source": [
    "# Pure DGL DataLoader"
   ]
  },
  {
   "cell_type": "code",
   "execution_count": 8,
   "id": "0d147756-6410-4b71-aac1-9ef1e3df8fff",
   "metadata": {},
   "outputs": [],
   "source": [
    "from dgl.dataloading import DataLoader, NeighborSampler, MultiLayerFullNeighborSampler\n",
    "from ogb.nodeproppred import DglNodePropPredDataset\n",
    "import dgl\n",
    "\n",
    "def load_dgl_dataset(dataset_name='ogbn-products'):\n",
    "    dataset_root = '/raid/vjawa/gnn/'\n",
    "    dataset =  DglNodePropPredDataset(name = dataset_name, root=dataset_root)\n",
    "    split_idx = dataset.get_idx_split()\n",
    "    train_idx, valid_idx, test_idx = split_idx[\"train\"], split_idx[\"valid\"], split_idx[\"test\"]\n",
    "    g, label = dataset[0]\n",
    "    g.ndata['label'] = label\n",
    "    return g, train_idx"
   ]
  },
  {
   "cell_type": "code",
   "execution_count": 9,
   "id": "7cb2cc68-b4ff-43f2-8b12-b2808510b3f2",
   "metadata": {},
   "outputs": [],
   "source": [
    "g, train_idx = load_dgl_dataset()\n",
    "g = g.to('cuda')\n",
    "batch_size = 1024\n",
    "#DGL->cugraph are reverse of fanout as src,dst is reversed\n",
    "fanout_vals=[25, 25]\n",
    "fanout_vals_reverse = fanout_vals.copy()\n",
    "fanout_vals_reverse.reverse()\n",
    "sampler = dgl.dataloading.MultiLayerNeighborSampler(fanout_vals_reverse)\n",
    "dataloader = dgl.dataloading.DataLoader(\n",
    "    g,                               \n",
    "    train_idx.to('cuda'),                        # train_nid must be on GPU.\n",
    "    sampler,\n",
    "    device=torch.device('cuda'),    # The device argument must be GPU.\n",
    "    num_workers=0,                    # Number of workers must be 0.\n",
    "    use_uva=False,\n",
    "    batch_size=batch_size,\n",
    "    drop_last=False,\n",
    "    shuffle=False)"
   ]
  },
  {
   "cell_type": "code",
   "execution_count": 10,
   "id": "7988aca2-7bfb-4200-ac87-008e30c670fb",
   "metadata": {},
   "outputs": [
    {
     "name": "stdout",
     "output_type": "stream",
     "text": [
      "CPU times: user 7.15 s, sys: 1.29 s, total: 8.43 s\n",
      "Wall time: 1.5 s\n"
     ]
    }
   ],
   "source": [
    "%%time\n",
    "dgl_batch_stats = {}\n",
    "for batch_id,(input_nodes, output_nodes, blocks) in enumerate(dataloader):\n",
    "    l = len(output_nodes)\n",
    "    dgl_batch_stats[batch_id]={'input_nodes':len(input_nodes),'output_nodes':len(output_nodes)}\n",
    "    if batch_id==0:\n",
    "        dgl_input_nodes_0, dgl_output_nodes_0, dgl_blocks_0 = input_nodes, output_nodes, blocks"
   ]
  },
  {
   "cell_type": "code",
   "execution_count": 11,
   "id": "a0ba9ed1-4817-4073-a2ac-b4636da68321",
   "metadata": {},
   "outputs": [
    {
     "data": {
      "text/plain": [
       "[Block(num_src_nodes=319848, num_dst_nodes=22272, num_edges=665600),\n",
       " Block(num_src_nodes=22272, num_dst_nodes=1024, num_edges=25600)]"
      ]
     },
     "execution_count": 11,
     "metadata": {},
     "output_type": "execute_result"
    }
   ],
   "source": [
    "blocks_0"
   ]
  },
  {
   "cell_type": "code",
   "execution_count": null,
   "id": "4e635da9-87cc-4e86-887a-3cafd8dbbd80",
   "metadata": {},
   "outputs": [],
   "source": []
  }
 ],
 "metadata": {
  "kernelspec": {
   "display_name": "Python 3 (ipykernel)",
   "language": "python",
   "name": "python3"
  },
  "language_info": {
   "codemirror_mode": {
    "name": "ipython",
    "version": 3
   },
   "file_extension": ".py",
   "mimetype": "text/x-python",
   "name": "python",
   "nbconvert_exporter": "python",
   "pygments_lexer": "ipython3",
   "version": "3.9.15"
  }
 },
 "nbformat": 4,
 "nbformat_minor": 5
}
