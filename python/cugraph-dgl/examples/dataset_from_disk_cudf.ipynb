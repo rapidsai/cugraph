{
 "cells": [
  {
   "cell_type": "markdown",
   "id": "bc952178-34c0-4f13-9003-478d4aa8cd4d",
   "metadata": {},
   "source": [
    "# Testing Notebook for cugraph DGL vs DGL Upstream"
   ]
  },
  {
   "cell_type": "code",
   "execution_count": 1,
   "id": "d92a81b3-50ac-42ff-97e0-d636945f1f80",
   "metadata": {
    "tags": []
   },
   "outputs": [],
   "source": [
    "import os\n",
    "os.environ[\"CUDA_VISIBLE_DEVICES\"]=\"4\"\n",
    "import rmm  \n",
    "import torch\n",
    "#rmm.reinitialize(pool_allocator = True, initial_pool_size = 15e9, maximum_pool_size=25e9)\n",
    "#torch.cuda.memory.change_current_allocator(rmm.rmm_torch_allocator)\n",
    "import cudf"
   ]
  },
  {
   "cell_type": "code",
   "execution_count": 2,
   "id": "f304a5dd-1465-4054-846f-2308a19153fa",
   "metadata": {
    "tags": []
   },
   "outputs": [],
   "source": [
    "single_gpu = True"
   ]
  },
  {
   "cell_type": "code",
   "execution_count": 3,
   "id": "b6f899ee",
   "metadata": {
    "tags": []
   },
   "outputs": [],
   "source": [
    "def load_dgl_dataset(dataset_name='ogbn-products'):\n",
    "    from ogb.nodeproppred import DglNodePropPredDataset\n",
    "\n",
    "    dataset_root = '/raid/vjawa/gnn/'\n",
    "    dataset =  DglNodePropPredDataset(name = dataset_name, root=dataset_root)\n",
    "    split_idx = dataset.get_idx_split()\n",
    "    train_idx, valid_idx, test_idx = split_idx[\"train\"], split_idx[\"valid\"], split_idx[\"test\"]\n",
    "    g, label = dataset[0]\n",
    "    g.ndata['label'] = label\n",
    "    g = g.add_self_loop()\n",
    "    g = g.to('cpu')\n",
    "    return g, train_idx"
   ]
  },
  {
   "cell_type": "markdown",
   "id": "fdd59d3a-0c1d-425f-a337-34b09c675622",
   "metadata": {},
   "source": [
    "# cuGraph DGL DataLoader"
   ]
  },
  {
   "cell_type": "code",
   "execution_count": 4,
   "id": "e1e84844-634e-451e-be74-939f9477562f",
   "metadata": {
    "tags": []
   },
   "outputs": [],
   "source": [
    "import cugraph_dgl\n",
    "import tempfile"
   ]
  },
  {
   "cell_type": "code",
   "execution_count": 5,
   "id": "eff3d77b",
   "metadata": {
    "tags": []
   },
   "outputs": [],
   "source": [
    "g, train_idx = load_dgl_dataset()\n",
    "g = cugraph_dgl.cugraph_storage_from_heterograph(g, single_gpu=single_gpu)\n",
    "\n",
    "temp_dir = tempfile.TemporaryDirectory()\n",
    "batch_size = 1024\n",
    "fanout_vals=[25, 25]\n",
    "sampler = cugraph_dgl.dataloading.NeighborSampler(fanout_vals)\n",
    "dataloader = cugraph_dgl.dataloading.DataLoader(\n",
    "    g,                               \n",
    "    train_idx.to('cuda'),                        # train_nid must be on GPU.\n",
    "    sampler,\n",
    "    sampling_output_dir=temp_dir.name, # Path to save sampling results to\n",
    "    device=torch.device('cuda'),    # The device argument must be GPU.\n",
    "    num_workers=0,                 # Number of workers must be 0.\n",
    "    batch_size=batch_size,\n",
    "    batches_per_partition=20,\n",
    "    seeds_per_call=50_000,\n",
    "    drop_last=False,\n",
    "    shuffle=False)"
   ]
  },
  {
   "cell_type": "code",
   "execution_count": 6,
   "id": "94003c30-756f-4cdb-856a-dec16a5fb4dc",
   "metadata": {
    "tags": []
   },
   "outputs": [
    {
     "name": "stdout",
     "output_type": "stream",
     "text": [
      "CPU times: user 7.97 s, sys: 8.78 s, total: 16.8 s\n",
      "Wall time: 18.3 s\n"
     ]
    }
   ],
   "source": [
    "%%time\n",
    "\n",
    "batch_stats = {}\n",
    "for batch_id,(input_nodes, output_nodes, blocks) in enumerate(dataloader):\n",
    "    batch_stats[batch_id]={'input_nodes':len(input_nodes),'output_nodes':len(output_nodes)}"
   ]
  },
  {
   "cell_type": "code",
   "execution_count": 7,
   "id": "d8488e64-ba92-40c6-8e76-3898b1ca4317",
   "metadata": {
    "tags": []
   },
   "outputs": [],
   "source": [
    "del dataloader\n",
    "del g"
   ]
  },
  {
   "cell_type": "markdown",
   "id": "b0a17523-53e9-4780-a9e1-eac4edd464e5",
   "metadata": {},
   "source": [
    "# Pure DGL DataLoader"
   ]
  },
  {
   "cell_type": "code",
   "execution_count": 10,
   "id": "0d147756-6410-4b71-aac1-9ef1e3df8fff",
   "metadata": {
    "tags": []
   },
   "outputs": [],
   "source": [
    "from dgl.dataloading import DataLoader, NeighborSampler\n",
    "import dgl"
   ]
  },
  {
   "cell_type": "code",
   "execution_count": 11,
   "id": "7cb2cc68-b4ff-43f2-8b12-b2808510b3f2",
   "metadata": {
    "tags": []
   },
   "outputs": [],
   "source": [
    "g, train_idx = load_dgl_dataset()\n",
    "batch_size = 1024\n",
    "fanout_vals=[25, 25]\n",
    "sampler = dgl.dataloading.MultiLayerNeighborSampler(fanout_vals)\n",
    "dataloader = dgl.dataloading.DataLoader(\n",
    "    g,                               \n",
    "    train_idx.to(g.device),                        # train_nid must be on GPU.\n",
    "    sampler,\n",
    "    device=torch.device('cuda'),    # The device argument must be GPU.\n",
    "    num_workers=0,                    # Number of workers must be 0.\n",
    "    use_uva=False,\n",
    "    batch_size=batch_size,\n",
    "    drop_last=False,\n",
    "    shuffle=False)"
   ]
  },
  {
   "cell_type": "code",
   "execution_count": 12,
   "id": "7988aca2-7bfb-4200-ac87-008e30c670fb",
   "metadata": {
    "tags": []
   },
   "outputs": [
    {
     "name": "stdout",
     "output_type": "stream",
     "text": [
      "CPU times: user 10min 7s, sys: 1min 18s, total: 11min 26s\n",
      "Wall time: 16.6 s\n"
     ]
    }
   ],
   "source": [
    "%%time\n",
    "dgl_batch_stats = {}\n",
    "for batch_id,(input_nodes, output_nodes, blocks) in enumerate(dataloader):\n",
    "    dgl_batch_stats[batch_id]={'input_nodes':len(input_nodes),'output_nodes':len(output_nodes)}"
   ]
  }
 ],
 "metadata": {
  "kernelspec": {
   "display_name": "Python 3 (ipykernel)",
   "language": "python",
   "name": "python3"
  },
  "language_info": {
   "codemirror_mode": {
    "name": "ipython",
    "version": 3
   },
   "file_extension": ".py",
   "mimetype": "text/x-python",
   "name": "python",
   "nbconvert_exporter": "python",
   "pygments_lexer": "ipython3",
   "version": "3.10.9"
  },
  "vscode": {
   "interpreter": {
    "hash": "a1325b9b48ed9084674a30242e696fec2a1a44bbc4c0ef7ed1d4392854f3d402"
   }
  }
 },
 "nbformat": 4,
 "nbformat_minor": 5
}
