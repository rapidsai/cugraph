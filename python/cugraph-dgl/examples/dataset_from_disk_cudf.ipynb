{
 "cells": [
  {
   "cell_type": "markdown",
   "id": "bc952178-34c0-4f13-9003-478d4aa8cd4d",
   "metadata": {},
   "source": [
    "# Testing Notebook for cugraph DGL vs DGL Upstream"
   ]
  },
  {
   "cell_type": "code",
   "execution_count": 1,
   "id": "d92a81b3-50ac-42ff-97e0-d636945f1f80",
   "metadata": {},
   "outputs": [],
   "source": [
    "import os\n",
    "os.environ[\"CUDA_VISIBLE_DEVICES\"]=\"1\"\n",
    "import cudf\n",
    "import rmm      \n",
    "rmm.reinitialize(pool_allocator = True, initial_pool_size = 15e9)\n",
    "import torch\n",
    "torch.cuda.memory.change_current_allocator(rmm.rmm_torch_allocator)"
   ]
  },
  {
   "cell_type": "code",
   "execution_count": 2,
   "id": "f304a5dd-1465-4054-846f-2308a19153fa",
   "metadata": {},
   "outputs": [],
   "source": [
    "single_gpu = True"
   ]
  },
  {
   "cell_type": "code",
   "execution_count": 3,
   "id": "b6f899ee",
   "metadata": {},
   "outputs": [],
   "source": [
    "def load_dgl_dataset(dataset_name='ogbn-products'):\n",
    "    from ogb.nodeproppred import DglNodePropPredDataset\n",
    "\n",
    "    dataset_root = '/raid/vjawa/gnn/'\n",
    "    dataset =  DglNodePropPredDataset(name = dataset_name, root=dataset_root)\n",
    "    split_idx = dataset.get_idx_split()\n",
    "    train_idx, valid_idx, test_idx = split_idx[\"train\"], split_idx[\"valid\"], split_idx[\"test\"]\n",
    "    g, label = dataset[0]\n",
    "    g.ndata['label'] = label\n",
    "    g = g.add_self_loop()\n",
    "    return g, train_idx"
   ]
  },
  {
   "cell_type": "markdown",
   "id": "fdd59d3a-0c1d-425f-a337-34b09c675622",
   "metadata": {},
   "source": [
    "# cuGraph DGL DataLoader"
   ]
  },
  {
   "cell_type": "code",
   "execution_count": 4,
   "id": "e1e84844-634e-451e-be74-939f9477562f",
   "metadata": {},
   "outputs": [],
   "source": [
    "import cugraph_dgl\n",
    "import tempfile"
   ]
  },
  {
   "cell_type": "code",
   "execution_count": 5,
   "id": "eff3d77b",
   "metadata": {},
   "outputs": [],
   "source": [
    "g, train_idx = load_dgl_dataset()\n",
    "g = cugraph_dgl.cugraph_storage_from_heterograph(g, single_gpu=single_gpu)\n",
    "\n",
    "temp_dir = tempfile.TemporaryDirectory()\n",
    "\n",
    "batch_size = 1024\n",
    "fanout_vals=[25, 25]\n",
    "sampler = cugraph_dgl.dataloading.NeighborSampler(fanout_vals)\n",
    "dataloader = cugraph_dgl.dataloading.DataLoader(\n",
    "    g,                               \n",
    "    train_idx.to('cuda'),                        # train_nid must be on GPU.\n",
    "    sampler,\n",
    "    sampling_output_dir=temp_dir.name, # Path to save sampling results to\n",
    "    device=torch.device('cuda'),    # The device argument must be GPU.\n",
    "    num_workers=0,                 # Number of workers must be 0.\n",
    "    batch_size=batch_size,\n",
    "    batches_per_partition=50,\n",
    "    drop_last=False,\n",
    "    shuffle=False)\n"
   ]
  },
  {
   "cell_type": "code",
   "execution_count": 6,
   "id": "94003c30-756f-4cdb-856a-dec16a5fb4dc",
   "metadata": {},
   "outputs": [
    {
     "ename": "DGLError",
     "evalue": "[16:06:25] /opt/dgl/src/runtime/cuda/cuda_device_api.cc:116: Check failed: e == cudaSuccess || e == cudaErrorCudartUnloading: CUDA: out of memory\nStack trace:\n  [bt] (0) /datasets/vjawa/miniconda3/envs/cugraph_dev_feb_17/lib/python3.10/site-packages/dgl/libdgl.so(dmlc::LogMessageFatal::~LogMessageFatal()+0x4f) [0x7f935624f1ef]\n  [bt] (1) /datasets/vjawa/miniconda3/envs/cugraph_dev_feb_17/lib/python3.10/site-packages/dgl/libdgl.so(dgl::runtime::CUDADeviceAPI::AllocDataSpace(DGLContext, unsigned long, unsigned long, DGLDataType)+0x260) [0x7f9356712710]\n  [bt] (2) /datasets/vjawa/miniconda3/envs/cugraph_dev_feb_17/lib/python3.10/site-packages/dgl/libdgl.so(dgl::runtime::NDArray::Empty(std::vector<long, std::allocator<long> >, DGLDataType, DGLContext)+0x177) [0x7f9356580587]\n  [bt] (3) /datasets/vjawa/miniconda3/envs/cugraph_dev_feb_17/lib/python3.10/site-packages/dgl/libdgl.so(dgl::aten::NewIdArray(long, DGLContext, unsigned char)+0x6d) [0x7f9356216d9d]\n  [bt] (4) /datasets/vjawa/miniconda3/envs/cugraph_dev_feb_17/lib/python3.10/site-packages/dgl/libdgl.so(std::tuple<std::vector<dgl::runtime::NDArray, std::allocator<dgl::runtime::NDArray> >, std::vector<dgl::runtime::NDArray, std::allocator<dgl::runtime::NDArray> > > dgl::transform::cuda::MapEdges<long>(std::shared_ptr<dgl::BaseHeteroGraph>, std::vector<dgl::EdgeArray, std::allocator<dgl::EdgeArray> > const&, dgl::transform::cuda::DeviceNodeMap<long> const&, CUstream_st*)+0x1bd) [0x7f93573c1f9d]\n  [bt] (5) /datasets/vjawa/miniconda3/envs/cugraph_dev_feb_17/lib/python3.10/site-packages/dgl/libdgl.so(std::tuple<std::shared_ptr<dgl::BaseHeteroGraph>, std::vector<dgl::runtime::NDArray, std::allocator<dgl::runtime::NDArray> > > dgl::transform::(anonymous namespace)::ToBlockGPU<long>(std::shared_ptr<dgl::BaseHeteroGraph>, std::vector<dgl::runtime::NDArray, std::allocator<dgl::runtime::NDArray> > const&, bool, std::vector<dgl::runtime::NDArray, std::allocator<dgl::runtime::NDArray> >*)+0x13be) [0x7f93573c972e]\n  [bt] (6) /datasets/vjawa/miniconda3/envs/cugraph_dev_feb_17/lib/python3.10/site-packages/dgl/libdgl.so(dgl::transform::ToBlockGPU64(std::shared_ptr<dgl::BaseHeteroGraph>, std::vector<dgl::runtime::NDArray, std::allocator<dgl::runtime::NDArray> > const&, bool, std::vector<dgl::runtime::NDArray, std::allocator<dgl::runtime::NDArray> >*)+0x3b) [0x7f93573c508b]\n  [bt] (7) /datasets/vjawa/miniconda3/envs/cugraph_dev_feb_17/lib/python3.10/site-packages/dgl/libdgl.so(std::tuple<std::shared_ptr<dgl::BaseHeteroGraph>, std::vector<dgl::runtime::NDArray, std::allocator<dgl::runtime::NDArray> > > dgl::transform::ToBlock<(DGLDeviceType)2, long>(std::shared_ptr<dgl::BaseHeteroGraph>, std::vector<dgl::runtime::NDArray, std::allocator<dgl::runtime::NDArray> > const&, bool, std::vector<dgl::runtime::NDArray, std::allocator<dgl::runtime::NDArray> >*)+0x3a) [0x7f93566b0d6a]\n  [bt] (8) /datasets/vjawa/miniconda3/envs/cugraph_dev_feb_17/lib/python3.10/site-packages/dgl/libdgl.so(+0x80d602) [0x7f93566b5602]\n\n",
     "output_type": "error",
     "traceback": [
      "\u001b[0;31m---------------------------------------------------------------------------\u001b[0m",
      "\u001b[0;31mDGLError\u001b[0m                                  Traceback (most recent call last)",
      "File \u001b[0;32m<timed exec>:2\u001b[0m\n",
      "File \u001b[0;32m/datasets/vjawa/miniconda3/envs/cugraph_dev_feb_17/lib/python3.10/site-packages/torch/utils/data/dataloader.py:634\u001b[0m, in \u001b[0;36m_BaseDataLoaderIter.__next__\u001b[0;34m(self)\u001b[0m\n\u001b[1;32m    631\u001b[0m \u001b[39mif\u001b[39;00m \u001b[39mself\u001b[39m\u001b[39m.\u001b[39m_sampler_iter \u001b[39mis\u001b[39;00m \u001b[39mNone\u001b[39;00m:\n\u001b[1;32m    632\u001b[0m     \u001b[39m# TODO(https://github.com/pytorch/pytorch/issues/76750)\u001b[39;00m\n\u001b[1;32m    633\u001b[0m     \u001b[39mself\u001b[39m\u001b[39m.\u001b[39m_reset()  \u001b[39m# type: ignore[call-arg]\u001b[39;00m\n\u001b[0;32m--> 634\u001b[0m data \u001b[39m=\u001b[39m \u001b[39mself\u001b[39;49m\u001b[39m.\u001b[39;49m_next_data()\n\u001b[1;32m    635\u001b[0m \u001b[39mself\u001b[39m\u001b[39m.\u001b[39m_num_yielded \u001b[39m+\u001b[39m\u001b[39m=\u001b[39m \u001b[39m1\u001b[39m\n\u001b[1;32m    636\u001b[0m \u001b[39mif\u001b[39;00m \u001b[39mself\u001b[39m\u001b[39m.\u001b[39m_dataset_kind \u001b[39m==\u001b[39m _DatasetKind\u001b[39m.\u001b[39mIterable \u001b[39mand\u001b[39;00m \\\n\u001b[1;32m    637\u001b[0m         \u001b[39mself\u001b[39m\u001b[39m.\u001b[39m_IterableDataset_len_called \u001b[39mis\u001b[39;00m \u001b[39mnot\u001b[39;00m \u001b[39mNone\u001b[39;00m \u001b[39mand\u001b[39;00m \\\n\u001b[1;32m    638\u001b[0m         \u001b[39mself\u001b[39m\u001b[39m.\u001b[39m_num_yielded \u001b[39m>\u001b[39m \u001b[39mself\u001b[39m\u001b[39m.\u001b[39m_IterableDataset_len_called:\n",
      "File \u001b[0;32m/datasets/vjawa/miniconda3/envs/cugraph_dev_feb_17/lib/python3.10/site-packages/torch/utils/data/dataloader.py:678\u001b[0m, in \u001b[0;36m_SingleProcessDataLoaderIter._next_data\u001b[0;34m(self)\u001b[0m\n\u001b[1;32m    676\u001b[0m \u001b[39mdef\u001b[39;00m \u001b[39m_next_data\u001b[39m(\u001b[39mself\u001b[39m):\n\u001b[1;32m    677\u001b[0m     index \u001b[39m=\u001b[39m \u001b[39mself\u001b[39m\u001b[39m.\u001b[39m_next_index()  \u001b[39m# may raise StopIteration\u001b[39;00m\n\u001b[0;32m--> 678\u001b[0m     data \u001b[39m=\u001b[39m \u001b[39mself\u001b[39;49m\u001b[39m.\u001b[39;49m_dataset_fetcher\u001b[39m.\u001b[39;49mfetch(index)  \u001b[39m# may raise StopIteration\u001b[39;00m\n\u001b[1;32m    679\u001b[0m     \u001b[39mif\u001b[39;00m \u001b[39mself\u001b[39m\u001b[39m.\u001b[39m_pin_memory:\n\u001b[1;32m    680\u001b[0m         data \u001b[39m=\u001b[39m _utils\u001b[39m.\u001b[39mpin_memory\u001b[39m.\u001b[39mpin_memory(data, \u001b[39mself\u001b[39m\u001b[39m.\u001b[39m_pin_memory_device)\n",
      "File \u001b[0;32m/datasets/vjawa/miniconda3/envs/cugraph_dev_feb_17/lib/python3.10/site-packages/torch/utils/data/_utils/fetch.py:53\u001b[0m, in \u001b[0;36m_MapDatasetFetcher.fetch\u001b[0;34m(self, possibly_batched_index)\u001b[0m\n\u001b[1;32m     51\u001b[0m         data \u001b[39m=\u001b[39m [\u001b[39mself\u001b[39m\u001b[39m.\u001b[39mdataset[idx] \u001b[39mfor\u001b[39;00m idx \u001b[39min\u001b[39;00m possibly_batched_index]\n\u001b[1;32m     52\u001b[0m \u001b[39melse\u001b[39;00m:\n\u001b[0;32m---> 53\u001b[0m     data \u001b[39m=\u001b[39m \u001b[39mself\u001b[39;49m\u001b[39m.\u001b[39;49mdataset[possibly_batched_index]\n\u001b[1;32m     54\u001b[0m \u001b[39mreturn\u001b[39;00m \u001b[39mself\u001b[39m\u001b[39m.\u001b[39mcollate_fn(data)\n",
      "File \u001b[0;32m/datasets/vjawa/miniconda3/envs/cugraph_dev_feb_17/lib/python3.10/site-packages/cugraph_dgl/dataloading/dataset.py:53\u001b[0m, in \u001b[0;36mHomogenousBulkSamplerDataset.__getitem__\u001b[0;34m(self, idx)\u001b[0m\n\u001b[1;32m     51\u001b[0m \u001b[39mif\u001b[39;00m fn \u001b[39m!=\u001b[39m \u001b[39mself\u001b[39m\u001b[39m.\u001b[39m_current_batch_fn:\n\u001b[1;32m     52\u001b[0m     df \u001b[39m=\u001b[39m _load_sampled_file(dataset_obj\u001b[39m=\u001b[39m\u001b[39mself\u001b[39m, fn\u001b[39m=\u001b[39mfn)\n\u001b[0;32m---> 53\u001b[0m     \u001b[39mself\u001b[39m\u001b[39m.\u001b[39m_current_batches \u001b[39m=\u001b[39m create_homogeneous_sampled_graphs_from_dataframe(\n\u001b[1;32m     54\u001b[0m         df, \u001b[39mself\u001b[39;49m\u001b[39m.\u001b[39;49mtotal_number_of_nodes, \u001b[39mself\u001b[39;49m\u001b[39m.\u001b[39;49medge_dir\n\u001b[1;32m     55\u001b[0m     )\n\u001b[1;32m     56\u001b[0m current_offset \u001b[39m=\u001b[39m idx \u001b[39m-\u001b[39m batch_offset\n\u001b[1;32m     57\u001b[0m \u001b[39mreturn\u001b[39;00m \u001b[39mself\u001b[39m\u001b[39m.\u001b[39m_current_batches[current_offset]\n",
      "File \u001b[0;32m/datasets/vjawa/miniconda3/envs/cugraph_dev_feb_17/lib/python3.10/site-packages/cugraph_dgl/dataloading/utils/sampling_helpers.py:61\u001b[0m, in \u001b[0;36mcreate_homogeneous_sampled_graphs_from_dataframe\u001b[0;34m(***failed resolving arguments***)\u001b[0m\n\u001b[1;32m     49\u001b[0m result_tensor_ls \u001b[39m=\u001b[39m [\n\u001b[1;32m     50\u001b[0m     [\n\u001b[1;32m     51\u001b[0m         (\n\u001b[0;32m   (...)\u001b[0m\n\u001b[1;32m     58\u001b[0m     \u001b[39mfor\u001b[39;00m per_batch_ls \u001b[39min\u001b[39;00m result_df_ls\n\u001b[1;32m     59\u001b[0m ]\n\u001b[1;32m     60\u001b[0m \u001b[39mdel\u001b[39;00m result_df_ls\n\u001b[0;32m---> 61\u001b[0m result_mfgs \u001b[39m=\u001b[39m [\n\u001b[1;32m     62\u001b[0m     _create_homogeneous_sampled_graphs_from_tensors_perhop(\n\u001b[1;32m     63\u001b[0m         tensors_perhop_ls, total_number_of_nodes, edge_dir\n\u001b[1;32m     64\u001b[0m     )\n\u001b[1;32m     65\u001b[0m     \u001b[39mfor\u001b[39;00m tensors_perhop_ls \u001b[39min\u001b[39;00m result_tensor_ls\n\u001b[1;32m     66\u001b[0m ]\n\u001b[1;32m     67\u001b[0m \u001b[39mdel\u001b[39;00m result_tensor_ls\n\u001b[1;32m     68\u001b[0m \u001b[39mreturn\u001b[39;00m result_mfgs\n",
      "File \u001b[0;32m/datasets/vjawa/miniconda3/envs/cugraph_dev_feb_17/lib/python3.10/site-packages/cugraph_dgl/dataloading/utils/sampling_helpers.py:62\u001b[0m, in \u001b[0;36m<listcomp>\u001b[0;34m(.0)\u001b[0m\n\u001b[1;32m     49\u001b[0m result_tensor_ls \u001b[39m=\u001b[39m [\n\u001b[1;32m     50\u001b[0m     [\n\u001b[1;32m     51\u001b[0m         (\n\u001b[0;32m   (...)\u001b[0m\n\u001b[1;32m     58\u001b[0m     \u001b[39mfor\u001b[39;00m per_batch_ls \u001b[39min\u001b[39;00m result_df_ls\n\u001b[1;32m     59\u001b[0m ]\n\u001b[1;32m     60\u001b[0m \u001b[39mdel\u001b[39;00m result_df_ls\n\u001b[1;32m     61\u001b[0m result_mfgs \u001b[39m=\u001b[39m [\n\u001b[0;32m---> 62\u001b[0m     _create_homogeneous_sampled_graphs_from_tensors_perhop(\n\u001b[1;32m     63\u001b[0m         tensors_perhop_ls, total_number_of_nodes, edge_dir\n\u001b[1;32m     64\u001b[0m     )\n\u001b[1;32m     65\u001b[0m     \u001b[39mfor\u001b[39;00m tensors_perhop_ls \u001b[39min\u001b[39;00m result_tensor_ls\n\u001b[1;32m     66\u001b[0m ]\n\u001b[1;32m     67\u001b[0m \u001b[39mdel\u001b[39;00m result_tensor_ls\n\u001b[1;32m     68\u001b[0m \u001b[39mreturn\u001b[39;00m result_mfgs\n",
      "File \u001b[0;32m/datasets/vjawa/miniconda3/envs/cugraph_dev_feb_17/lib/python3.10/site-packages/cugraph_dgl/dataloading/utils/sampling_helpers.py:83\u001b[0m, in \u001b[0;36m_create_homogeneous_sampled_graphs_from_tensors_perhop\u001b[0;34m(tensors_perhop_ls, total_number_of_nodes, edge_dir)\u001b[0m\n\u001b[1;32m     80\u001b[0m seed_nodes \u001b[39m=\u001b[39m \u001b[39mNone\u001b[39;00m\n\u001b[1;32m     81\u001b[0m \u001b[39mfor\u001b[39;00m src_ids, dst_ids, edge_ids \u001b[39min\u001b[39;00m tensors_perhop_ls:\n\u001b[1;32m     82\u001b[0m     \u001b[39m# print(\"Creating block\", flush=True)\u001b[39;00m\n\u001b[0;32m---> 83\u001b[0m     block \u001b[39m=\u001b[39m create_homogeneous_dgl_block_from_tensors_ls(\n\u001b[1;32m     84\u001b[0m         src_ids\u001b[39m=\u001b[39;49msrc_ids,\n\u001b[1;32m     85\u001b[0m         dst_ids\u001b[39m=\u001b[39;49mdst_ids,\n\u001b[1;32m     86\u001b[0m         edge_ids\u001b[39m=\u001b[39;49medge_ids,\n\u001b[1;32m     87\u001b[0m         seed_nodes\u001b[39m=\u001b[39;49mseed_nodes,\n\u001b[1;32m     88\u001b[0m         total_number_of_nodes\u001b[39m=\u001b[39;49mtotal_number_of_nodes,\n\u001b[1;32m     89\u001b[0m     )\n\u001b[1;32m     90\u001b[0m     seed_nodes \u001b[39m=\u001b[39m block\u001b[39m.\u001b[39msrcdata[dgl\u001b[39m.\u001b[39mNID]\n\u001b[1;32m     91\u001b[0m     \u001b[39mif\u001b[39;00m output_nodes \u001b[39mis\u001b[39;00m \u001b[39mNone\u001b[39;00m:\n",
      "File \u001b[0;32m/datasets/vjawa/miniconda3/envs/cugraph_dev_feb_17/lib/python3.10/site-packages/cugraph_dgl/dataloading/utils/sampling_helpers.py:117\u001b[0m, in \u001b[0;36mcreate_homogeneous_dgl_block_from_tensors_ls\u001b[0;34m(src_ids, dst_ids, edge_ids, seed_nodes, total_number_of_nodes)\u001b[0m\n\u001b[1;32m    114\u001b[0m \u001b[39mif\u001b[39;00m seed_nodes \u001b[39mis\u001b[39;00m \u001b[39mNone\u001b[39;00m:\n\u001b[1;32m    115\u001b[0m     seed_nodes \u001b[39m=\u001b[39m dst_ids\u001b[39m.\u001b[39munique()\n\u001b[0;32m--> 117\u001b[0m block \u001b[39m=\u001b[39m dgl\u001b[39m.\u001b[39;49mto_block(\n\u001b[1;32m    118\u001b[0m     sampled_graph,\n\u001b[1;32m    119\u001b[0m     dst_nodes\u001b[39m=\u001b[39;49mseed_nodes,\n\u001b[1;32m    120\u001b[0m     src_nodes\u001b[39m=\u001b[39;49msrc_ids\u001b[39m.\u001b[39;49munique(),\n\u001b[1;32m    121\u001b[0m     include_dst_in_src\u001b[39m=\u001b[39;49m\u001b[39mTrue\u001b[39;49;00m,\n\u001b[1;32m    122\u001b[0m )\n\u001b[1;32m    123\u001b[0m block\u001b[39m.\u001b[39medata[dgl\u001b[39m.\u001b[39mEID] \u001b[39m=\u001b[39m sampled_graph\u001b[39m.\u001b[39medata[dgl\u001b[39m.\u001b[39mEID]\n\u001b[1;32m    124\u001b[0m \u001b[39mreturn\u001b[39;00m block\n",
      "File \u001b[0;32m/datasets/vjawa/miniconda3/envs/cugraph_dev_feb_17/lib/python3.10/site-packages/dgl/transforms/functional.py:2342\u001b[0m, in \u001b[0;36mto_block\u001b[0;34m(g, dst_nodes, include_dst_in_src, src_nodes)\u001b[0m\n\u001b[1;32m   2338\u001b[0m \u001b[39melse\u001b[39;00m:\n\u001b[1;32m   2339\u001b[0m     \u001b[39m# use an empty list to signal we need to generate it\u001b[39;00m\n\u001b[1;32m   2340\u001b[0m     src_node_ids_nd \u001b[39m=\u001b[39m []\n\u001b[0;32m-> 2342\u001b[0m new_graph_index, src_nodes_ids_nd, induced_edges_nd \u001b[39m=\u001b[39m _CAPI_DGLToBlock(\n\u001b[1;32m   2343\u001b[0m     g\u001b[39m.\u001b[39;49m_graph, dst_node_ids_nd, include_dst_in_src, src_node_ids_nd)\n\u001b[1;32m   2345\u001b[0m \u001b[39m# The new graph duplicates the original node types to SRC and DST sets.\u001b[39;00m\n\u001b[1;32m   2346\u001b[0m new_ntypes \u001b[39m=\u001b[39m (g\u001b[39m.\u001b[39mntypes, g\u001b[39m.\u001b[39mntypes)\n",
      "File \u001b[0;32mdgl/_ffi/_cython/./function.pxi:295\u001b[0m, in \u001b[0;36mdgl._ffi._cy3.core.FunctionBase.__call__\u001b[0;34m()\u001b[0m\n",
      "File \u001b[0;32mdgl/_ffi/_cython/./function.pxi:241\u001b[0m, in \u001b[0;36mdgl._ffi._cy3.core.FuncCall\u001b[0;34m()\u001b[0m\n",
      "\u001b[0;31mDGLError\u001b[0m: [16:06:25] /opt/dgl/src/runtime/cuda/cuda_device_api.cc:116: Check failed: e == cudaSuccess || e == cudaErrorCudartUnloading: CUDA: out of memory\nStack trace:\n  [bt] (0) /datasets/vjawa/miniconda3/envs/cugraph_dev_feb_17/lib/python3.10/site-packages/dgl/libdgl.so(dmlc::LogMessageFatal::~LogMessageFatal()+0x4f) [0x7f935624f1ef]\n  [bt] (1) /datasets/vjawa/miniconda3/envs/cugraph_dev_feb_17/lib/python3.10/site-packages/dgl/libdgl.so(dgl::runtime::CUDADeviceAPI::AllocDataSpace(DGLContext, unsigned long, unsigned long, DGLDataType)+0x260) [0x7f9356712710]\n  [bt] (2) /datasets/vjawa/miniconda3/envs/cugraph_dev_feb_17/lib/python3.10/site-packages/dgl/libdgl.so(dgl::runtime::NDArray::Empty(std::vector<long, std::allocator<long> >, DGLDataType, DGLContext)+0x177) [0x7f9356580587]\n  [bt] (3) /datasets/vjawa/miniconda3/envs/cugraph_dev_feb_17/lib/python3.10/site-packages/dgl/libdgl.so(dgl::aten::NewIdArray(long, DGLContext, unsigned char)+0x6d) [0x7f9356216d9d]\n  [bt] (4) /datasets/vjawa/miniconda3/envs/cugraph_dev_feb_17/lib/python3.10/site-packages/dgl/libdgl.so(std::tuple<std::vector<dgl::runtime::NDArray, std::allocator<dgl::runtime::NDArray> >, std::vector<dgl::runtime::NDArray, std::allocator<dgl::runtime::NDArray> > > dgl::transform::cuda::MapEdges<long>(std::shared_ptr<dgl::BaseHeteroGraph>, std::vector<dgl::EdgeArray, std::allocator<dgl::EdgeArray> > const&, dgl::transform::cuda::DeviceNodeMap<long> const&, CUstream_st*)+0x1bd) [0x7f93573c1f9d]\n  [bt] (5) /datasets/vjawa/miniconda3/envs/cugraph_dev_feb_17/lib/python3.10/site-packages/dgl/libdgl.so(std::tuple<std::shared_ptr<dgl::BaseHeteroGraph>, std::vector<dgl::runtime::NDArray, std::allocator<dgl::runtime::NDArray> > > dgl::transform::(anonymous namespace)::ToBlockGPU<long>(std::shared_ptr<dgl::BaseHeteroGraph>, std::vector<dgl::runtime::NDArray, std::allocator<dgl::runtime::NDArray> > const&, bool, std::vector<dgl::runtime::NDArray, std::allocator<dgl::runtime::NDArray> >*)+0x13be) [0x7f93573c972e]\n  [bt] (6) /datasets/vjawa/miniconda3/envs/cugraph_dev_feb_17/lib/python3.10/site-packages/dgl/libdgl.so(dgl::transform::ToBlockGPU64(std::shared_ptr<dgl::BaseHeteroGraph>, std::vector<dgl::runtime::NDArray, std::allocator<dgl::runtime::NDArray> > const&, bool, std::vector<dgl::runtime::NDArray, std::allocator<dgl::runtime::NDArray> >*)+0x3b) [0x7f93573c508b]\n  [bt] (7) /datasets/vjawa/miniconda3/envs/cugraph_dev_feb_17/lib/python3.10/site-packages/dgl/libdgl.so(std::tuple<std::shared_ptr<dgl::BaseHeteroGraph>, std::vector<dgl::runtime::NDArray, std::allocator<dgl::runtime::NDArray> > > dgl::transform::ToBlock<(DGLDeviceType)2, long>(std::shared_ptr<dgl::BaseHeteroGraph>, std::vector<dgl::runtime::NDArray, std::allocator<dgl::runtime::NDArray> > const&, bool, std::vector<dgl::runtime::NDArray, std::allocator<dgl::runtime::NDArray> >*)+0x3a) [0x7f93566b0d6a]\n  [bt] (8) /datasets/vjawa/miniconda3/envs/cugraph_dev_feb_17/lib/python3.10/site-packages/dgl/libdgl.so(+0x80d602) [0x7f93566b5602]\n\n"
     ]
    }
   ],
   "source": [
    "%%time\n",
    "\n",
    "batch_stats = {}\n",
    "for batch_id,(input_nodes, output_nodes, blocks) in enumerate(dataloader):\n",
    "    l = len(output_nodes)\n",
    "    batch_stats[batch_id]={'input_nodes':len(input_nodes),'output_nodes':len(output_nodes)}\n",
    "    if batch_id==0:\n",
    "        input_nodes_0, output_nodes_0, blocks_0 = input_nodes, output_nodes, blocks"
   ]
  },
  {
   "cell_type": "code",
   "execution_count": 10,
   "id": "e508505c-1bf4-43b7-b519-74ce31b160f8",
   "metadata": {},
   "outputs": [],
   "source": [
    "#output_nodes_0"
   ]
  },
  {
   "cell_type": "markdown",
   "id": "b0a17523-53e9-4780-a9e1-eac4edd464e5",
   "metadata": {},
   "source": [
    "# Pure DGL DataLoader"
   ]
  },
  {
   "cell_type": "code",
   "execution_count": 8,
   "id": "0d147756-6410-4b71-aac1-9ef1e3df8fff",
   "metadata": {},
   "outputs": [],
   "source": [
    "from dgl.dataloading import DataLoader, NeighborSampler\n",
    "import dgl"
   ]
  },
  {
   "cell_type": "code",
   "execution_count": 9,
   "id": "7cb2cc68-b4ff-43f2-8b12-b2808510b3f2",
   "metadata": {},
   "outputs": [],
   "source": [
    "g, train_idx = load_dgl_dataset()\n",
    "batch_size = 1024\n",
    "fanout_vals=[25, 25]\n",
    "sampler = dgl.dataloading.MultiLayerNeighborSampler(fanout_vals_reverse)\n",
    "dataloader = dgl.dataloading.DataLoader(\n",
    "    g,                               \n",
    "    train_idx.to('cuda'),                        # train_nid must be on GPU.\n",
    "    sampler,\n",
    "    device=torch.device('cuda'),    # The device argument must be GPU.\n",
    "    num_workers=0,                    # Number of workers must be 0.\n",
    "    use_uva=False,\n",
    "    batch_size=batch_size,\n",
    "    drop_last=False,\n",
    "    shuffle=False)"
   ]
  },
  {
   "cell_type": "code",
   "execution_count": 10,
   "id": "7988aca2-7bfb-4200-ac87-008e30c670fb",
   "metadata": {},
   "outputs": [
    {
     "name": "stdout",
     "output_type": "stream",
     "text": [
      "CPU times: user 7.15 s, sys: 1.29 s, total: 8.43 s\n",
      "Wall time: 1.5 s\n"
     ]
    }
   ],
   "source": [
    "%%time\n",
    "dgl_batch_stats = {}\n",
    "for batch_id,(input_nodes, output_nodes, blocks) in enumerate(dataloader):\n",
    "    l = len(output_nodes)\n",
    "    dgl_batch_stats[batch_id]={'input_nodes':len(input_nodes),'output_nodes':len(output_nodes)}\n",
    "    if batch_id==0:\n",
    "        dgl_input_nodes_0, dgl_output_nodes_0, dgl_blocks_0 = input_nodes, output_nodes, blocks"
   ]
  },
  {
   "cell_type": "code",
   "execution_count": 11,
   "id": "a0ba9ed1-4817-4073-a2ac-b4636da68321",
   "metadata": {},
   "outputs": [
    {
     "data": {
      "text/plain": [
       "[Block(num_src_nodes=319848, num_dst_nodes=22272, num_edges=665600),\n",
       " Block(num_src_nodes=22272, num_dst_nodes=1024, num_edges=25600)]"
      ]
     },
     "execution_count": 11,
     "metadata": {},
     "output_type": "execute_result"
    }
   ],
   "source": [
    "blocks_0"
   ]
  },
  {
   "cell_type": "code",
   "execution_count": null,
   "id": "4e635da9-87cc-4e86-887a-3cafd8dbbd80",
   "metadata": {},
   "outputs": [],
   "source": []
  }
 ],
 "metadata": {
  "kernelspec": {
   "display_name": "Python 3.10.9 ('cugraph_dev_feb_17')",
   "language": "python",
   "name": "python3"
  },
  "language_info": {
   "codemirror_mode": {
    "name": "ipython",
    "version": 3
   },
   "file_extension": ".py",
   "mimetype": "text/x-python",
   "name": "python",
   "nbconvert_exporter": "python",
   "pygments_lexer": "ipython3",
   "version": "3.10.9"
  },
  "vscode": {
   "interpreter": {
    "hash": "a1325b9b48ed9084674a30242e696fec2a1a44bbc4c0ef7ed1d4392854f3d402"
   }
  }
 },
 "nbformat": 4,
 "nbformat_minor": 5
}
